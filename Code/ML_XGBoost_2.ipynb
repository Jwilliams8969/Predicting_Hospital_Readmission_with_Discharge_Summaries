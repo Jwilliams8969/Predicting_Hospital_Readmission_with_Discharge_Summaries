{
 "cells": [
  {
   "cell_type": "code",
   "execution_count": 1,
   "metadata": {
    "colab": {},
    "colab_type": "code",
    "id": "3iijKXN2Mhux"
   },
   "outputs": [],
   "source": [
    "# load cleaned data file (adm_ds2.csv) which is obtained after preprocessing"
   ]
  },
  {
   "cell_type": "code",
   "execution_count": 2,
   "metadata": {
    "colab": {
     "base_uri": "https://localhost:8080/",
     "height": 72
    },
    "colab_type": "code",
    "executionInfo": {
     "elapsed": 1415,
     "status": "ok",
     "timestamp": 1596291038578,
     "user": {
      "displayName": "Tanisha Bhayani",
      "photoUrl": "",
      "userId": "03093037226242090836"
     },
     "user_tz": -330
    },
    "id": "VwzsDUVBMM9q",
    "outputId": "80d3b830-636e-4c68-d8c2-b8d4b2b29369"
   },
   "outputs": [],
   "source": [
    "import pandas as pd\n",
    "import numpy as np\n",
    "\n",
    "import os, sys, math, csv, datetime, pickle, json, time\n",
    "import matplotlib.pyplot as plt\n",
    "import seaborn as sns"
   ]
  },
  {
   "cell_type": "code",
   "execution_count": 3,
   "metadata": {
    "colab": {},
    "colab_type": "code",
    "id": "UOYZzBbyMgrS"
   },
   "outputs": [],
   "source": [
    "# load the libraries used for Machine Learning Analysis and training\n",
    "import gc\n",
    "from xgboost import XGBClassifier\n",
    "from sklearn.feature_extraction.text import TfidfVectorizer"
   ]
  },
  {
   "cell_type": "code",
   "execution_count": 4,
   "metadata": {
    "colab": {},
    "colab_type": "code",
    "id": "wyU-pv-JMmJv"
   },
   "outputs": [],
   "source": [
    "from sklearn.decomposition import TruncatedSVD"
   ]
  },
  {
   "cell_type": "code",
   "execution_count": 5,
   "metadata": {
    "colab": {},
    "colab_type": "code",
    "id": "XGwjalz3MoJC"
   },
   "outputs": [],
   "source": [
    "from sklearn.preprocessing import OneHotEncoder"
   ]
  },
  {
   "cell_type": "code",
   "execution_count": 6,
   "metadata": {
    "colab": {},
    "colab_type": "code",
    "id": "OPRtZYT9Mp6C"
   },
   "outputs": [],
   "source": [
    "from sklearn.model_selection import train_test_split"
   ]
  },
  {
   "cell_type": "code",
   "execution_count": 7,
   "metadata": {
    "colab": {},
    "colab_type": "code",
    "id": "0NhBDO8aMvBR"
   },
   "outputs": [],
   "source": [
    "# load csv into a dataframe\n",
    "df = pd.read_csv('adm_ds2.csv')"
   ]
  },
  {
   "cell_type": "code",
   "execution_count": 8,
   "metadata": {
    "colab": {},
    "colab_type": "code",
    "id": "0Y6o8vrcMz0n"
   },
   "outputs": [],
   "source": [
    "# separate features and TARGET columns\n",
    "feature_df = df[df.columns[~df.columns.isin(['TARGET'])]]\n",
    "target_df = df.TARGET"
   ]
  },
  {
   "cell_type": "code",
   "execution_count": 9,
   "metadata": {
    "colab": {},
    "colab_type": "code",
    "id": "j-ccZaX7NH19"
   },
   "outputs": [],
   "source": [
    "# get 20% of total data into test dataset (train test split)\n",
    "train_features, test_features, train_target, test_target = train_test_split(feature_df, target_df, random_state=42, test_size=0.2)"
   ]
  },
  {
   "cell_type": "code",
   "execution_count": 10,
   "metadata": {
    "colab": {},
    "colab_type": "code",
    "id": "rgQ0kvOhNJyF"
   },
   "outputs": [],
   "source": [
    "del feature_df, target_df, df"
   ]
  },
  {
   "cell_type": "code",
   "execution_count": 11,
   "metadata": {
    "colab": {
     "base_uri": "https://localhost:8080/",
     "height": 34
    },
    "colab_type": "code",
    "executionInfo": {
     "elapsed": 24248,
     "status": "ok",
     "timestamp": 1596291077329,
     "user": {
      "displayName": "Tanisha Bhayani",
      "photoUrl": "",
      "userId": "03093037226242090836"
     },
     "user_tz": -330
    },
    "id": "3aAwLCfoNMH2",
    "outputId": "8f36959d-a902-4617-d482-e641b686a63d"
   },
   "outputs": [
    {
     "data": {
      "text/plain": [
       "91"
      ]
     },
     "execution_count": 11,
     "metadata": {},
     "output_type": "execute_result"
    }
   ],
   "source": [
    "gc.collect()"
   ]
  },
  {
   "cell_type": "code",
   "execution_count": 12,
   "metadata": {
    "colab": {},
    "colab_type": "code",
    "id": "NmvM1owRNNfH"
   },
   "outputs": [],
   "source": [
    "# use 5000 max tfidf features for the summary text\n",
    "tfidf_summary = TfidfVectorizer(max_features=5000)"
   ]
  },
  {
   "cell_type": "code",
   "execution_count": 13,
   "metadata": {
    "colab": {},
    "colab_type": "code",
    "id": "BwbwIEvwNQGf"
   },
   "outputs": [],
   "source": [
    "# use all the service tfidf feature\n",
    "tfidf_service = TfidfVectorizer()"
   ]
  },
  {
   "cell_type": "code",
   "execution_count": 14,
   "metadata": {
    "colab": {},
    "colab_type": "code",
    "id": "1U_OmqSB-Lws"
   },
   "outputs": [],
   "source": [
    "# get tfidf features of processed cleaned summary and service"
   ]
  },
  {
   "cell_type": "code",
   "execution_count": 15,
   "metadata": {
    "colab": {},
    "colab_type": "code",
    "id": "zAJCrZWXNRx6"
   },
   "outputs": [],
   "source": [
    "summary_features = tfidf_summary.fit_transform(train_features['cleaned_text1'].fillna('')).toarray()"
   ]
  },
  {
   "cell_type": "code",
   "execution_count": 16,
   "metadata": {
    "colab": {},
    "colab_type": "code",
    "id": "Dkp-WOUhNUNP"
   },
   "outputs": [],
   "source": [
    "service_features = tfidf_service.fit_transform(train_features['service1']).toarray()"
   ]
  },
  {
   "cell_type": "code",
   "execution_count": 17,
   "metadata": {
    "colab": {},
    "colab_type": "code",
    "id": "JLfyfNRwNWKV"
   },
   "outputs": [],
   "source": [
    "import pickle"
   ]
  },
  {
   "cell_type": "code",
   "execution_count": 19,
   "metadata": {
    "colab": {},
    "colab_type": "code",
    "id": "Xk00Boj1NZcb"
   },
   "outputs": [],
   "source": [
    "# load train vectors for summary features (train_vectors_cleaned_text1_cbow.pkl)"
   ]
  },
  {
   "cell_type": "code",
   "execution_count": 21,
   "metadata": {
    "colab": {},
    "colab_type": "code",
    "id": "HpXX4_ZfN0dt"
   },
   "outputs": [],
   "source": [
    "# load train vectors from pickled file\n",
    "with open('train_vectors_cleaned_text1_cbow.pkl', 'rb') as fin:\n",
    "  train_feature_vectors = pickle.load(fin)"
   ]
  },
  {
   "cell_type": "code",
   "execution_count": 22,
   "metadata": {
    "colab": {
     "base_uri": "https://localhost:8080/",
     "height": 173
    },
    "colab_type": "code",
    "executionInfo": {
     "elapsed": 1834,
     "status": "ok",
     "timestamp": 1596291138914,
     "user": {
      "displayName": "Tanisha Bhayani",
      "photoUrl": "",
      "userId": "03093037226242090836"
     },
     "user_tz": -330
    },
    "id": "ej0Oik0ON-gf",
    "outputId": "2046cd3e-864e-48be-f977-05619ad8ad58"
   },
   "outputs": [
    {
     "name": "stdout",
     "output_type": "stream",
     "text": [
      "(42180, 4)\n",
      "(42180, 9)\n",
      "(42180, 16)\n",
      "(42180, 5)\n",
      "(42180, 69)\n",
      "(42180, 19)\n",
      "(42180, 7)\n",
      "(42180, 41)\n",
      "(42180, 2)\n"
     ]
    }
   ],
   "source": [
    "ohe_cols = [\n",
    "    'ADMISSION_TYPE', 'ADMISSION_LOCATION', 'DISCHARGE_LOCATION',\n",
    "    'INSURANCE', 'LANGUAGE', 'RELIGION', 'MARITAL_STATUS', 'ETHNICITY', 'DESCRIPTION'\n",
    "]\n",
    "ohe_objects = {}\n",
    "ohe_features = {}\n",
    "\n",
    "# get one hot feature representation of above columns\n",
    "\n",
    "for each_col in ohe_cols:\n",
    "  ohe_objects[each_col] = OneHotEncoder(handle_unknown='ignore')\n",
    "  ohe_features[each_col] = ohe_objects[each_col].fit_transform(train_features[each_col].values.reshape((-1, 1))).toarray()\n",
    "  print(ohe_features[each_col].shape)"
   ]
  },
  {
   "cell_type": "code",
   "execution_count": 23,
   "metadata": {
    "colab": {},
    "colab_type": "code",
    "id": "Nvf8Blw2OA-y"
   },
   "outputs": [],
   "source": [
    "# use the combined one hot representation with other features obtained below\n",
    "ohe_features_array = np.concatenate(list(ohe_features.values()), axis=1)"
   ]
  },
  {
   "cell_type": "code",
   "execution_count": 24,
   "metadata": {
    "colab": {},
    "colab_type": "code",
    "id": "ZDjJOtqXODHW"
   },
   "outputs": [],
   "source": [
    "del ohe_features"
   ]
  },
  {
   "cell_type": "code",
   "execution_count": 25,
   "metadata": {
    "colab": {},
    "colab_type": "code",
    "id": "OlyrsuHAOEzM"
   },
   "outputs": [],
   "source": [
    "# combine the float / numeric columns\n",
    "float_cols = [\n",
    "    'TIME_IN_EMERGENCY_WARD', 'in_failure', 'FOLLOW_UP', 'sentiment', 'subjectivty',\n",
    "    'HOSPITAL_EXPIRE_FLAG', 'DAYS_IN_HOSPITAL'\n",
    "]\n",
    "\n",
    "float_features = train_features[float_cols].values"
   ]
  },
  {
   "cell_type": "code",
   "execution_count": 26,
   "metadata": {
    "colab": {},
    "colab_type": "code",
    "id": "0wBUeXDZOHTB"
   },
   "outputs": [],
   "source": [
    "del train_features"
   ]
  },
  {
   "cell_type": "code",
   "execution_count": 27,
   "metadata": {
    "colab": {},
    "colab_type": "code",
    "id": "ehyJWkgHOKd5"
   },
   "outputs": [],
   "source": [
    "# combine all the feature columns here to get complete training features\n",
    "all_train_features = np.concatenate(\n",
    "    [\n",
    "     summary_features,\n",
    "     service_features,\n",
    "    #  diagnosis_features,\n",
    "     ohe_features_array,\n",
    "     float_features,\n",
    "     train_feature_vectors\n",
    "    ],\n",
    "    axis=1\n",
    ")"
   ]
  },
  {
   "cell_type": "code",
   "execution_count": 28,
   "metadata": {
    "colab": {
     "base_uri": "https://localhost:8080/",
     "height": 34
    },
    "colab_type": "code",
    "executionInfo": {
     "elapsed": 874,
     "status": "ok",
     "timestamp": 1596291147486,
     "user": {
      "displayName": "Tanisha Bhayani",
      "photoUrl": "",
      "userId": "03093037226242090836"
     },
     "user_tz": -330
    },
    "id": "Mlx5C7YYON7O",
    "outputId": "a488c8fb-c646-4e9c-e292-a223d369429a"
   },
   "outputs": [
    {
     "data": {
      "text/plain": [
       "(42180, 5566)"
      ]
     },
     "execution_count": 28,
     "metadata": {},
     "output_type": "execute_result"
    }
   ],
   "source": [
    "all_train_features.shape"
   ]
  },
  {
   "cell_type": "markdown",
   "metadata": {
    "colab_type": "text",
    "id": "TL19v_UciS0a"
   },
   "source": [
    "Create an XGBoost Classifier for training the features obtained above (combination of different features)"
   ]
  },
  {
   "cell_type": "code",
   "execution_count": 29,
   "metadata": {
    "colab": {},
    "colab_type": "code",
    "id": "v6zveNn5OQIz"
   },
   "outputs": [],
   "source": [
    "# create the xgboost classifier for training\n",
    "xgb = XGBClassifier()"
   ]
  },
  {
   "cell_type": "code",
   "execution_count": 30,
   "metadata": {
    "colab": {
     "base_uri": "https://localhost:8080/",
     "height": 139
    },
    "colab_type": "code",
    "executionInfo": {
     "elapsed": 551417,
     "status": "ok",
     "timestamp": 1596291700887,
     "user": {
      "displayName": "Tanisha Bhayani",
      "photoUrl": "",
      "userId": "03093037226242090836"
     },
     "user_tz": -330
    },
    "id": "isp1YC0XOTZ7",
    "outputId": "072aa8d7-10e7-455e-87fd-325904d27674"
   },
   "outputs": [
    {
     "data": {
      "text/plain": [
       "XGBClassifier()"
      ]
     },
     "execution_count": 30,
     "metadata": {},
     "output_type": "execute_result"
    }
   ],
   "source": [
    "# train the XGBOost classifier on train dataset\n",
    "xgb.fit(all_train_features, train_target)"
   ]
  },
  {
   "cell_type": "code",
   "execution_count": 31,
   "metadata": {
    "colab": {},
    "colab_type": "code",
    "id": "uv4bEi3kOVpr"
   },
   "outputs": [],
   "source": [
    "del all_train_features, train_target"
   ]
  },
  {
   "cell_type": "code",
   "execution_count": 32,
   "metadata": {
    "colab": {
     "base_uri": "https://localhost:8080/",
     "height": 34
    },
    "colab_type": "code",
    "executionInfo": {
     "elapsed": 1761,
     "status": "ok",
     "timestamp": 1596291998320,
     "user": {
      "displayName": "Tanisha Bhayani",
      "photoUrl": "",
      "userId": "03093037226242090836"
     },
     "user_tz": -330
    },
    "id": "WmIZbQZTQcxZ",
    "outputId": "04324282-5540-4201-a4e2-dbfecfa467aa"
   },
   "outputs": [
    {
     "data": {
      "text/plain": [
       "40"
      ]
     },
     "execution_count": 32,
     "metadata": {},
     "output_type": "execute_result"
    }
   ],
   "source": [
    "gc.collect()"
   ]
  },
  {
   "cell_type": "code",
   "execution_count": 33,
   "metadata": {
    "colab": {},
    "colab_type": "code",
    "id": "_nM_PDcw-mtm"
   },
   "outputs": [],
   "source": [
    "# transform test data to correct features - test data feature engineering"
   ]
  },
  {
   "cell_type": "code",
   "execution_count": 34,
   "metadata": {
    "colab": {},
    "colab_type": "code",
    "id": "Es2Gwq3WQfJw"
   },
   "outputs": [],
   "source": [
    "# get test data summaries features\n",
    "test_summary_features = tfidf_summary.transform(test_features['cleaned_text1'].fillna('')).toarray()"
   ]
  },
  {
   "cell_type": "code",
   "execution_count": 35,
   "metadata": {
    "colab": {},
    "colab_type": "code",
    "id": "OVyFq_gyQgrQ"
   },
   "outputs": [],
   "source": [
    "del tfidf_summary"
   ]
  },
  {
   "cell_type": "code",
   "execution_count": 36,
   "metadata": {
    "colab": {},
    "colab_type": "code",
    "id": "rFC-z5i2QiY8"
   },
   "outputs": [],
   "source": [
    "# get test data service features\n",
    "test_service_features = tfidf_service.transform(test_features['service1']).toarray()"
   ]
  },
  {
   "cell_type": "code",
   "execution_count": 37,
   "metadata": {
    "colab": {},
    "colab_type": "code",
    "id": "uVYqmL47QkO0"
   },
   "outputs": [],
   "source": [
    "del tfidf_service"
   ]
  },
  {
   "cell_type": "code",
   "execution_count": 38,
   "metadata": {
    "colab": {
     "base_uri": "https://localhost:8080/",
     "height": 173
    },
    "colab_type": "code",
    "executionInfo": {
     "elapsed": 1568,
     "status": "ok",
     "timestamp": 1596292028442,
     "user": {
      "displayName": "Tanisha Bhayani",
      "photoUrl": "",
      "userId": "03093037226242090836"
     },
     "user_tz": -330
    },
    "id": "AHldacJJQl_o",
    "outputId": "6aaf7e2c-f379-47dd-837a-4b832bbb3c9c"
   },
   "outputs": [
    {
     "name": "stdout",
     "output_type": "stream",
     "text": [
      "(10546, 4)\n",
      "(10546, 9)\n",
      "(10546, 16)\n",
      "(10546, 5)\n",
      "(10546, 69)\n",
      "(10546, 19)\n",
      "(10546, 7)\n",
      "(10546, 41)\n",
      "(10546, 2)\n"
     ]
    }
   ],
   "source": [
    "# ohe_cols = [\n",
    "#     'ADMISSION_TYPE', 'ADMISSION_LOCATION', 'DISCHARGE_LOCATION',\n",
    "#     'INSURANCE', 'LANGUAGE', 'RELIGION', 'MARITAL_STATUS', 'ETHNICITY', 'DESCRIPTION'\n",
    "# ]\n",
    "\n",
    "test_ohe_features = {}\n",
    "\n",
    "# get the test data one hot feature vectors\n",
    "\n",
    "for each_col in ohe_cols:\n",
    "  test_ohe_features[each_col] = ohe_objects[each_col].transform(test_features[each_col].values.reshape((-1, 1))).toarray()\n",
    "  print(test_ohe_features[each_col].shape)"
   ]
  },
  {
   "cell_type": "code",
   "execution_count": 39,
   "metadata": {
    "colab": {},
    "colab_type": "code",
    "id": "XcWaeuKhQn2p"
   },
   "outputs": [],
   "source": [
    "# combine the test data one hot feature representations\n",
    "test_ohe_features_array = np.concatenate(list(test_ohe_features.values()), axis=1)"
   ]
  },
  {
   "cell_type": "code",
   "execution_count": 40,
   "metadata": {
    "colab": {},
    "colab_type": "code",
    "id": "-Ww9sijwQp2f"
   },
   "outputs": [],
   "source": [
    "del test_ohe_features, ohe_objects"
   ]
  },
  {
   "cell_type": "code",
   "execution_count": 41,
   "metadata": {
    "colab": {
     "base_uri": "https://localhost:8080/",
     "height": 34
    },
    "colab_type": "code",
    "executionInfo": {
     "elapsed": 1126,
     "status": "ok",
     "timestamp": 1596292033813,
     "user": {
      "displayName": "Tanisha Bhayani",
      "photoUrl": "",
      "userId": "03093037226242090836"
     },
     "user_tz": -330
    },
    "id": "DGsHvxXIQrar",
    "outputId": "4bf570af-d431-4511-dd04-7cebd90aeee2"
   },
   "outputs": [
    {
     "data": {
      "text/plain": [
       "180"
      ]
     },
     "execution_count": 41,
     "metadata": {},
     "output_type": "execute_result"
    }
   ],
   "source": [
    "gc.collect()"
   ]
  },
  {
   "cell_type": "code",
   "execution_count": 42,
   "metadata": {
    "colab": {},
    "colab_type": "code",
    "id": "hU4-pvuDQtS8"
   },
   "outputs": [],
   "source": [
    "# float_cols = [\n",
    "#     'TIME_IN_EMERGENCY_WARD', 'in_failure', 'FOLLOW_UP', 'sentiment', 'subjectivty',\n",
    "#     'HOSPITAL_EXPIRE_FLAG', 'DAYS_IN_HOSPITAL'\n",
    "# ]\n",
    "\n",
    "# get the numerics test data and combine them\n",
    "\n",
    "test_float_features = test_features[float_cols].values"
   ]
  },
  {
   "cell_type": "code",
   "execution_count": 43,
   "metadata": {
    "colab": {},
    "colab_type": "code",
    "id": "_Vn_clzYQvan"
   },
   "outputs": [],
   "source": [
    "# load the test data feature vectors (test_vectors_cleaned_text1_cbow.pkl)"
   ]
  },
  {
   "cell_type": "code",
   "execution_count": 44,
   "metadata": {
    "colab": {},
    "colab_type": "code",
    "id": "Ou_boWR7Q0RE"
   },
   "outputs": [],
   "source": [
    "# load the test data feature vectors from its pickled file\n",
    "with open('test_vectors_cleaned_text1_cbow.pkl', 'rb') as fin:\n",
    "  test_feature_vectors = pickle.load(fin)"
   ]
  },
  {
   "cell_type": "code",
   "execution_count": 45,
   "metadata": {
    "colab": {},
    "colab_type": "code",
    "id": "qeOBAuzMQ4qP"
   },
   "outputs": [],
   "source": [
    "del test_features"
   ]
  },
  {
   "cell_type": "code",
   "execution_count": 46,
   "metadata": {
    "colab": {},
    "colab_type": "code",
    "id": "_L2_LnAUQ6gc"
   },
   "outputs": [],
   "source": [
    "# combine all the above test data feature vectors to prepare final test data features\n",
    "all_test_features = np.concatenate(\n",
    "    [\n",
    "     test_summary_features,\n",
    "     test_service_features,\n",
    "    #  diagnosis_features,\n",
    "     test_ohe_features_array,\n",
    "     test_float_features,\n",
    "     test_feature_vectors\n",
    "    ],\n",
    "    axis=1\n",
    ")"
   ]
  },
  {
   "cell_type": "code",
   "execution_count": 47,
   "metadata": {
    "colab": {},
    "colab_type": "code",
    "id": "5-q27jLh-wVs"
   },
   "outputs": [],
   "source": [
    "# get predictions on test data"
   ]
  },
  {
   "cell_type": "code",
   "execution_count": 48,
   "metadata": {
    "colab": {},
    "colab_type": "code",
    "id": "OInN_e3zQ8al"
   },
   "outputs": [],
   "source": [
    "# get the probability scores of the test data features\n",
    "test_pred_values = xgb.predict_proba(all_test_features)"
   ]
  },
  {
   "cell_type": "code",
   "execution_count": 49,
   "metadata": {
    "colab": {},
    "colab_type": "code",
    "id": "0t5uAFD-Q-T0"
   },
   "outputs": [],
   "source": [
    "from sklearn.metrics import roc_auc_score"
   ]
  },
  {
   "cell_type": "code",
   "execution_count": 50,
   "metadata": {
    "colab": {},
    "colab_type": "code",
    "id": "ZvjJFgYH-0N6"
   },
   "outputs": [],
   "source": [
    "# calculate AUROC score for the test dataset"
   ]
  },
  {
   "cell_type": "code",
   "execution_count": 51,
   "metadata": {
    "colab": {
     "base_uri": "https://localhost:8080/",
     "height": 34
    },
    "colab_type": "code",
    "executionInfo": {
     "elapsed": 1524,
     "status": "ok",
     "timestamp": 1596292048786,
     "user": {
      "displayName": "Tanisha Bhayani",
      "photoUrl": "",
      "userId": "03093037226242090836"
     },
     "user_tz": -330
    },
    "id": "vDoQdGCWRAFH",
    "outputId": "01b9243d-05d1-44c5-a449-5c130935a8c8"
   },
   "outputs": [
    {
     "data": {
      "text/plain": [
       "0.7310730318380335"
      ]
     },
     "execution_count": 51,
     "metadata": {},
     "output_type": "execute_result"
    }
   ],
   "source": [
    "roc_auc_score(test_target, test_pred_values[:, 1])"
   ]
  },
  {
   "cell_type": "markdown",
   "metadata": {
    "colab_type": "text",
    "id": "nJ50hk84jE4u"
   },
   "source": [
    "Thus we obtain **0.7310730318380335** AUROC score which is 0.02 less than that of the State of the Art score.\n"
   ]
  }
 ],
 "metadata": {
  "colab": {
   "authorship_tag": "ABX9TyMQN6P+WK0nYIdMPSjm2wK6",
   "collapsed_sections": [],
   "mount_file_id": "1Bk2Qk5oANIpVhLSRxBUH42RJNmwd5MC5",
   "name": "ML2",
   "provenance": []
  },
  "kernelspec": {
   "display_name": "Python 3",
   "language": "python",
   "name": "python3"
  },
  "language_info": {
   "codemirror_mode": {
    "name": "ipython",
    "version": 3
   },
   "file_extension": ".py",
   "mimetype": "text/x-python",
   "name": "python",
   "nbconvert_exporter": "python",
   "pygments_lexer": "ipython3",
   "version": "3.7.4"
  }
 },
 "nbformat": 4,
 "nbformat_minor": 1
}
