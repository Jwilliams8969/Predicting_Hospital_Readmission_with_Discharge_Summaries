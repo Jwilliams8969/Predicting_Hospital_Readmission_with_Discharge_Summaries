{
 "cells": [
  {
   "cell_type": "markdown",
   "metadata": {
    "colab_type": "text",
    "id": "hlZxoYr6PXdR"
   },
   "source": [
    "In this file we train an LSTM based Deep Learning model using the Document Embeddings obtained from the training of the Summary Text using FastText API."
   ]
  },
  {
   "cell_type": "code",
   "execution_count": null,
   "metadata": {
    "colab": {},
    "colab_type": "code",
    "id": "ciLY49_dBQIt"
   },
   "outputs": [],
   "source": [
    "# load cleaned data file (adm_ds2.csv) which is obtained after preprocessing"
   ]
  },
  {
   "cell_type": "code",
   "execution_count": null,
   "metadata": {
    "colab": {
     "base_uri": "https://localhost:8080/",
     "height": 72
    },
    "colab_type": "code",
    "executionInfo": {
     "elapsed": 27121,
     "status": "ok",
     "timestamp": 1596331344222,
     "user": {
      "displayName": "Tanisha Bhayani",
      "photoUrl": "",
      "userId": "03093037226242090836"
     },
     "user_tz": -330
    },
    "id": "IeNJqXQNBV6y",
    "outputId": "cdfb4ac7-32a3-46f6-cf63-099f58c2e464"
   },
   "outputs": [
    {
     "name": "stderr",
     "output_type": "stream",
     "text": [
      "/usr/local/lib/python3.6/dist-packages/statsmodels/tools/_testing.py:19: FutureWarning: pandas.util.testing is deprecated. Use the functions in the public API at pandas.testing instead.\n",
      "  import pandas.util.testing as tm\n"
     ]
    }
   ],
   "source": [
    "import os, sys, math, csv, datetime, time, pickle, json\n",
    "import numpy as np\n",
    "import pandas as pd\n",
    "\n",
    "import matplotlib.pyplot as plt\n",
    "import seaborn as sns\n",
    "import gc"
   ]
  },
  {
   "cell_type": "code",
   "execution_count": null,
   "metadata": {
    "colab": {},
    "colab_type": "code",
    "id": "qtSe1aCjBiPW"
   },
   "outputs": [],
   "source": [
    "from sklearn.model_selection import train_test_split"
   ]
  },
  {
   "cell_type": "code",
   "execution_count": null,
   "metadata": {
    "colab": {},
    "colab_type": "code",
    "id": "bLKaHLMD0mAw"
   },
   "outputs": [],
   "source": [
    "from sklearn.metrics import roc_auc_score"
   ]
  },
  {
   "cell_type": "code",
   "execution_count": null,
   "metadata": {
    "colab": {},
    "colab_type": "code",
    "id": "zP5CFT2aBY5a"
   },
   "outputs": [],
   "source": [
    "## load csv into a dataframe\n",
    "df = pd.read_csv('adm_ds2.csv')"
   ]
  },
  {
   "cell_type": "code",
   "execution_count": null,
   "metadata": {
    "colab": {},
    "colab_type": "code",
    "id": "0HFFHQ1DCY0G"
   },
   "outputs": [],
   "source": [
    "# split the dataset into train and test as 80-20 % respectively\n",
    "train_x, test_x, train_y, test_y = train_test_split(df.cleaned_text, df.TARGET, random_state=42, test_size=0.2)"
   ]
  },
  {
   "cell_type": "code",
   "execution_count": null,
   "metadata": {
    "colab": {
     "base_uri": "https://localhost:8080/",
     "height": 34
    },
    "colab_type": "code",
    "executionInfo": {
     "elapsed": 1235,
     "status": "ok",
     "timestamp": 1596331989478,
     "user": {
      "displayName": "Tanisha Bhayani",
      "photoUrl": "",
      "userId": "03093037226242090836"
     },
     "user_tz": -330
    },
    "id": "y_xErffYCg1z",
    "outputId": "2c8569a8-92ca-43c2-d332-95f37ae1c434"
   },
   "outputs": [
    {
     "data": {
      "text/plain": [
       "((42180,), (10546,), (42180,), (10546,))"
      ]
     },
     "execution_count": 39,
     "metadata": {
      "tags": []
     },
     "output_type": "execute_result"
    }
   ],
   "source": [
    "train_x.shape, test_x.shape, train_y.shape, test_y.shape"
   ]
  },
  {
   "cell_type": "code",
   "execution_count": null,
   "metadata": {
    "colab": {},
    "colab_type": "code",
    "id": "siZZtynTxKvh"
   },
   "outputs": [],
   "source": [
    "del df"
   ]
  },
  {
   "cell_type": "code",
   "execution_count": null,
   "metadata": {
    "colab": {
     "base_uri": "https://localhost:8080/",
     "height": 34
    },
    "colab_type": "code",
    "executionInfo": {
     "elapsed": 936,
     "status": "ok",
     "timestamp": 1596331994247,
     "user": {
      "displayName": "Tanisha Bhayani",
      "photoUrl": "",
      "userId": "03093037226242090836"
     },
     "user_tz": -330
    },
    "id": "JvJO1u03oDNU",
    "outputId": "9fa385f8-33db-433f-e0b1-114c974123b5"
   },
   "outputs": [
    {
     "data": {
      "text/plain": [
       "(array([0, 1]), array([40353,  1827]))"
      ]
     },
     "execution_count": 41,
     "metadata": {
      "tags": []
     },
     "output_type": "execute_result"
    }
   ],
   "source": [
    "np.unique(train_y, return_counts=True)"
   ]
  },
  {
   "cell_type": "code",
   "execution_count": null,
   "metadata": {
    "colab": {},
    "colab_type": "code",
    "id": "RPx2OTK4QJpY"
   },
   "outputs": [],
   "source": [
    "# from here the downsampling process starts"
   ]
  },
  {
   "cell_type": "code",
   "execution_count": null,
   "metadata": {
    "colab": {},
    "colab_type": "code",
    "id": "7XHASTQky-uV"
   },
   "outputs": [],
   "source": [
    "## separate the train data with target == 1 and target == 0\n",
    "train0x = train_x[train_y == 0]\n",
    "train1x = train_x[train_y == 1]"
   ]
  },
  {
   "cell_type": "code",
   "execution_count": null,
   "metadata": {
    "colab": {
     "base_uri": "https://localhost:8080/",
     "height": 34
    },
    "colab_type": "code",
    "executionInfo": {
     "elapsed": 1598,
     "status": "ok",
     "timestamp": 1596332002971,
     "user": {
      "displayName": "Tanisha Bhayani",
      "photoUrl": "",
      "userId": "03093037226242090836"
     },
     "user_tz": -330
    },
    "id": "14_5lHVooauI",
    "outputId": "d7e314bb-1185-4c7b-b5a9-84d1be24be46"
   },
   "outputs": [
    {
     "data": {
      "text/plain": [
       "((40353,), (1827,))"
      ]
     },
     "execution_count": 43,
     "metadata": {
      "tags": []
     },
     "output_type": "execute_result"
    }
   ],
   "source": [
    "train0x.shape, train1x.shape"
   ]
  },
  {
   "cell_type": "code",
   "execution_count": null,
   "metadata": {
    "colab": {},
    "colab_type": "code",
    "id": "kcBzSQ2jocu1"
   },
   "outputs": [],
   "source": [
    "## get the 3 times the data for the majority class to downsample it\n",
    "## get the data in shuffled form only\n",
    "indices = np.random.choice(np.arange(train0x.shape[0]), 3*train1x.shape[0])"
   ]
  },
  {
   "cell_type": "code",
   "execution_count": null,
   "metadata": {
    "colab": {},
    "colab_type": "code",
    "id": "MyLGcemKxSAD"
   },
   "outputs": [],
   "source": [
    "# load train vectos for summary features\n",
    "!cp /content/drive/My\\ Drive/train_vectors_cleaned_text_cbow.pkl ./"
   ]
  },
  {
   "cell_type": "code",
   "execution_count": null,
   "metadata": {
    "colab": {},
    "colab_type": "code",
    "id": "9eH-ENxjxl9A"
   },
   "outputs": [],
   "source": [
    "## load train vectors from pickled file\n",
    "with open('train_vectors_cleaned_text_cbow.pkl', 'rb') as fin:\n",
    "    train_vectors = pickle.load(fin)"
   ]
  },
  {
   "cell_type": "code",
   "execution_count": null,
   "metadata": {
    "colab": {},
    "colab_type": "code",
    "id": "gmE8ukNvx6Rs"
   },
   "outputs": [],
   "source": [
    "## get the train data feature vectors for the above downsampled shuffled indices\n",
    "train_x_vectors_0 = train_vectors[train_y == 0][indices]"
   ]
  },
  {
   "cell_type": "code",
   "execution_count": null,
   "metadata": {
    "colab": {
     "base_uri": "https://localhost:8080/",
     "height": 34
    },
    "colab_type": "code",
    "executionInfo": {
     "elapsed": 1518,
     "status": "ok",
     "timestamp": 1596331819203,
     "user": {
      "displayName": "Tanisha Bhayani",
      "photoUrl": "",
      "userId": "03093037226242090836"
     },
     "user_tz": -330
    },
    "id": "54HbIjnrygwn",
    "outputId": "348a843b-49b1-48d2-a150-3e116271097b"
   },
   "outputs": [
    {
     "data": {
      "text/plain": [
       "((5481, 100), (5481,))"
      ]
     },
     "execution_count": 31,
     "metadata": {
      "tags": []
     },
     "output_type": "execute_result"
    }
   ],
   "source": [
    "train_x_vectors_0.shape, indices.shape"
   ]
  },
  {
   "cell_type": "code",
   "execution_count": null,
   "metadata": {
    "colab": {},
    "colab_type": "code",
    "id": "o_-ARDfHykrA"
   },
   "outputs": [],
   "source": [
    "## get the train data feature vectors for the minority class\n",
    "train_x_vectors_1 = train_vectors[train_y == 1]"
   ]
  },
  {
   "cell_type": "code",
   "execution_count": null,
   "metadata": {
    "colab": {},
    "colab_type": "code",
    "id": "DaZWmDI5yuKX"
   },
   "outputs": [],
   "source": [
    "## combine the downsampled majority class and all minority class feature vectors\n",
    "train_x_vectors = np.concatenate([train_x_vectors_0, train_x_vectors_1], axis=0)"
   ]
  },
  {
   "cell_type": "code",
   "execution_count": null,
   "metadata": {
    "colab": {
     "base_uri": "https://localhost:8080/",
     "height": 34
    },
    "colab_type": "code",
    "executionInfo": {
     "elapsed": 1381,
     "status": "ok",
     "timestamp": 1596331880354,
     "user": {
      "displayName": "Tanisha Bhayani",
      "photoUrl": "",
      "userId": "03093037226242090836"
     },
     "user_tz": -330
    },
    "id": "dap59QWUy1Kj",
    "outputId": "fc9fa864-4600-49c6-8cc9-ec67894d60c0"
   },
   "outputs": [
    {
     "data": {
      "text/plain": [
       "(7308, 100)"
      ]
     },
     "execution_count": 34,
     "metadata": {
      "tags": []
     },
     "output_type": "execute_result"
    }
   ],
   "source": [
    "train_x_vectors.shape"
   ]
  },
  {
   "cell_type": "code",
   "execution_count": null,
   "metadata": {
    "colab": {},
    "colab_type": "code",
    "id": "TvxsvknPzhUj"
   },
   "outputs": [],
   "source": [
    "## get the corresponding target data values for classifier process\n",
    "sub_train_y = np.concatenate([[0]*train_x_vectors_0.shape[0], [1]*train_x_vectors_1.shape[0]])"
   ]
  },
  {
   "cell_type": "code",
   "execution_count": null,
   "metadata": {
    "colab": {
     "base_uri": "https://localhost:8080/",
     "height": 34
    },
    "colab_type": "code",
    "executionInfo": {
     "elapsed": 1369,
     "status": "ok",
     "timestamp": 1596332118581,
     "user": {
      "displayName": "Tanisha Bhayani",
      "photoUrl": "",
      "userId": "03093037226242090836"
     },
     "user_tz": -330
    },
    "id": "zLTJ2RbOzu96",
    "outputId": "5ab97fc9-6b27-4e8e-a61b-95b4880062f2"
   },
   "outputs": [
    {
     "data": {
      "text/plain": [
       "(7308,)"
      ]
     },
     "execution_count": 51,
     "metadata": {
      "tags": []
     },
     "output_type": "execute_result"
    }
   ],
   "source": [
    "sub_train_y.shape"
   ]
  },
  {
   "cell_type": "code",
   "execution_count": null,
   "metadata": {
    "colab": {},
    "colab_type": "code",
    "id": "d311Q_GEYiHG"
   },
   "outputs": [],
   "source": [
    "## we train the NaiveBayes Model, XGBoostClassifier\n",
    "## Deep Learning model on downsampled dataset\n",
    "## get the AUROC score on the test dataset for each of the model"
   ]
  },
  {
   "cell_type": "code",
   "execution_count": null,
   "metadata": {
    "colab": {},
    "colab_type": "code",
    "id": "tMwQvETJwxae"
   },
   "outputs": [],
   "source": [
    "from sklearn.naive_bayes import GaussianNB"
   ]
  },
  {
   "cell_type": "code",
   "execution_count": null,
   "metadata": {
    "colab": {},
    "colab_type": "code",
    "id": "rMryjQ9Xw9KB"
   },
   "outputs": [],
   "source": [
    "## get the Naive Bayes classifier\n",
    "nb = GaussianNB()"
   ]
  },
  {
   "cell_type": "code",
   "execution_count": null,
   "metadata": {
    "colab": {
     "base_uri": "https://localhost:8080/",
     "height": 34
    },
    "colab_type": "code",
    "executionInfo": {
     "elapsed": 1128,
     "status": "ok",
     "timestamp": 1596332035102,
     "user": {
      "displayName": "Tanisha Bhayani",
      "photoUrl": "",
      "userId": "03093037226242090836"
     },
     "user_tz": -330
    },
    "id": "4MseHEiTzlNE",
    "outputId": "9fcf0444-4f27-437c-f1b2-de866141623a"
   },
   "outputs": [
    {
     "data": {
      "text/plain": [
       "(42180, 100)"
      ]
     },
     "execution_count": 47,
     "metadata": {
      "tags": []
     },
     "output_type": "execute_result"
    }
   ],
   "source": [
    "np.array(train_vectors).shape"
   ]
  },
  {
   "cell_type": "code",
   "execution_count": null,
   "metadata": {
    "colab": {
     "base_uri": "https://localhost:8080/",
     "height": 34
    },
    "colab_type": "code",
    "executionInfo": {
     "elapsed": 1089,
     "status": "ok",
     "timestamp": 1596332126993,
     "user": {
      "displayName": "Tanisha Bhayani",
      "photoUrl": "",
      "userId": "03093037226242090836"
     },
     "user_tz": -330
    },
    "id": "AcbqStZCw_y-",
    "outputId": "5d9d0448-f816-4436-f5fd-9c584741e802"
   },
   "outputs": [
    {
     "data": {
      "text/plain": [
       "GaussianNB(priors=None, var_smoothing=1e-09)"
      ]
     },
     "execution_count": 52,
     "metadata": {
      "tags": []
     },
     "output_type": "execute_result"
    }
   ],
   "source": [
    "## train the Naive Bayes classifier on the above train data feature vectors\n",
    "nb.fit(train_x_vectors, sub_train_y)"
   ]
  },
  {
   "cell_type": "code",
   "execution_count": null,
   "metadata": {
    "colab": {},
    "colab_type": "code",
    "id": "R3r6wGiVz0Bs"
   },
   "outputs": [],
   "source": [
    "## load the test data feature vectors\n",
    "!cp /content/drive/My\\ Drive/test_vectors_cleaned_text_cbow.pkl ./"
   ]
  },
  {
   "cell_type": "code",
   "execution_count": null,
   "metadata": {
    "colab": {},
    "colab_type": "code",
    "id": "BMVieTEMz5aC"
   },
   "outputs": [],
   "source": [
    "## load the test data feature vectors from its pickled file\n",
    "with open('test_vectors_cleaned_text_cbow.pkl', 'rb') as fin:\n",
    "    test_vectors = pickle.load(fin)"
   ]
  },
  {
   "cell_type": "code",
   "execution_count": null,
   "metadata": {
    "colab": {},
    "colab_type": "code",
    "id": "PN1vjqd90YO6"
   },
   "outputs": [],
   "source": [
    "## get the probability for all the test data feature vectors\n",
    "nb_preds = nb.predict_proba(test_vectors)"
   ]
  },
  {
   "cell_type": "code",
   "execution_count": null,
   "metadata": {
    "colab": {
     "base_uri": "https://localhost:8080/",
     "height": 34
    },
    "colab_type": "code",
    "executionInfo": {
     "elapsed": 1656,
     "status": "ok",
     "timestamp": 1596332362767,
     "user": {
      "displayName": "Tanisha Bhayani",
      "photoUrl": "",
      "userId": "03093037226242090836"
     },
     "user_tz": -330
    },
    "id": "OF5rj2UY0kkz",
    "outputId": "d240ebd9-53c5-43c7-b761-0467341af77b"
   },
   "outputs": [
    {
     "data": {
      "text/plain": [
       "0.6215899128147678"
      ]
     },
     "execution_count": 60,
     "metadata": {
      "tags": []
     },
     "output_type": "execute_result"
    }
   ],
   "source": [
    "## get the auroc score\n",
    "roc_auc_score(test_y, nb_preds[:, 1])"
   ]
  },
  {
   "cell_type": "markdown",
   "metadata": {
    "colab_type": "text",
    "id": "MkQI0LYQo5fP"
   },
   "source": [
    "The AUROC score we get for the Naive Bayes classifier is *0.6215899128147678* \n",
    "\n",
    "\n",
    "---\n",
    "\n",
    "\n",
    "Lets compare the score with further classification process"
   ]
  },
  {
   "cell_type": "code",
   "execution_count": null,
   "metadata": {
    "colab": {},
    "colab_type": "code",
    "id": "DVU7axP13gSo"
   },
   "outputs": [],
   "source": [
    "from xgboost import XGBClassifier"
   ]
  },
  {
   "cell_type": "code",
   "execution_count": null,
   "metadata": {
    "colab": {},
    "colab_type": "code",
    "id": "b31GCao64-Ra"
   },
   "outputs": [],
   "source": [
    "## load the XGBoost classifier\n",
    "xgb = XGBClassifier()"
   ]
  },
  {
   "cell_type": "code",
   "execution_count": null,
   "metadata": {
    "colab": {
     "base_uri": "https://localhost:8080/",
     "height": 139
    },
    "colab_type": "code",
    "executionInfo": {
     "elapsed": 6585,
     "status": "ok",
     "timestamp": 1596332393676,
     "user": {
      "displayName": "Tanisha Bhayani",
      "photoUrl": "",
      "userId": "03093037226242090836"
     },
     "user_tz": -330
    },
    "id": "aKA_ncaI5BvG",
    "outputId": "8095a9d4-b3cd-46cb-b528-9cc6d5f955fc"
   },
   "outputs": [
    {
     "data": {
      "text/plain": [
       "XGBClassifier(base_score=0.5, booster='gbtree', colsample_bylevel=1,\n",
       "              colsample_bynode=1, colsample_bytree=1, gamma=0,\n",
       "              learning_rate=0.1, max_delta_step=0, max_depth=3,\n",
       "              min_child_weight=1, missing=None, n_estimators=100, n_jobs=1,\n",
       "              nthread=None, objective='binary:logistic', random_state=0,\n",
       "              reg_alpha=0, reg_lambda=1, scale_pos_weight=1, seed=None,\n",
       "              silent=None, subsample=1, verbosity=1)"
      ]
     },
     "execution_count": 63,
     "metadata": {
      "tags": []
     },
     "output_type": "execute_result"
    }
   ],
   "source": [
    "## train teh feature vectors on XGBoost Classifier\n",
    "xgb.fit(train_x_vectors, sub_train_y)"
   ]
  },
  {
   "cell_type": "code",
   "execution_count": null,
   "metadata": {
    "colab": {
     "base_uri": "https://localhost:8080/",
     "height": 34
    },
    "colab_type": "code",
    "executionInfo": {
     "elapsed": 1280,
     "status": "ok",
     "timestamp": 1596332433718,
     "user": {
      "displayName": "Tanisha Bhayani",
      "photoUrl": "",
      "userId": "03093037226242090836"
     },
     "user_tz": -330
    },
    "id": "HdagB_ey04O_",
    "outputId": "979a328f-5af3-42d5-a51a-3c83bef0613d"
   },
   "outputs": [
    {
     "data": {
      "text/plain": [
       "0.6690616222622702"
      ]
     },
     "execution_count": 64,
     "metadata": {
      "tags": []
     },
     "output_type": "execute_result"
    }
   ],
   "source": [
    "## get the auroc score on the test dataset for the xgboost classifier\n",
    "roc_auc_score(test_y, xgb.predict_proba(test_vectors)[:, 1])"
   ]
  },
  {
   "cell_type": "code",
   "execution_count": null,
   "metadata": {
    "colab": {
     "base_uri": "https://localhost:8080/",
     "height": 293
    },
    "colab_type": "code",
    "executionInfo": {
     "elapsed": 1339,
     "status": "ok",
     "timestamp": 1596332454038,
     "user": {
      "displayName": "Tanisha Bhayani",
      "photoUrl": "",
      "userId": "03093037226242090836"
     },
     "user_tz": -330
    },
    "id": "LfUa4N9WRmo3",
    "outputId": "dd88e5df-7838-4d00-f60b-8fa64a799b29"
   },
   "outputs": [
    {
     "data": {
      "text/plain": [
       "<matplotlib.axes._subplots.AxesSubplot at 0x7fb800d23ef0>"
      ]
     },
     "execution_count": 65,
     "metadata": {
      "tags": []
     },
     "output_type": "execute_result"
    },
    {
     "data": {
      "image/png": "[encoded data removed]",
      "text/plain": [
       "<Figure size 432x288 with 1 Axes>"
      ]
     },
     "metadata": {
      "needs_background": "light",
      "tags": []
     },
     "output_type": "display_data"
    }
   ],
   "source": [
    "## plot the length distribution for the current train dataset\n",
    "sns.distplot([len(x) for x in train_x])"
   ]
  },
  {
   "cell_type": "code",
   "execution_count": null,
   "metadata": {
    "colab": {},
    "colab_type": "code",
    "id": "JOkB8Z40Rvpc"
   },
   "outputs": [],
   "source": [
    "## get the words in the train dataset\n",
    "words_train_x = [x.split() for x in train_x]"
   ]
  },
  {
   "cell_type": "code",
   "execution_count": null,
   "metadata": {
    "colab": {},
    "colab_type": "code",
    "id": "VVwqnGf5TQAl"
   },
   "outputs": [],
   "source": [
    "## convert it to numpy array\n",
    "words_train_x = np.array(words_train_x)"
   ]
  },
  {
   "cell_type": "code",
   "execution_count": null,
   "metadata": {
    "colab": {
     "base_uri": "https://localhost:8080/",
     "height": 285
    },
    "colab_type": "code",
    "executionInfo": {
     "elapsed": 13934,
     "status": "ok",
     "timestamp": 1596332487599,
     "user": {
      "displayName": "Tanisha Bhayani",
      "photoUrl": "",
      "userId": "03093037226242090836"
     },
     "user_tz": -330
    },
    "id": "b6lHL4VsT6su",
    "outputId": "a2ac4202-1eb0-41be-b9ca-4dd195414137"
   },
   "outputs": [
    {
     "data": {
      "text/plain": [
       "<matplotlib.axes._subplots.AxesSubplot at 0x7fb6d8dd5b00>"
      ]
     },
     "execution_count": 70,
     "metadata": {
      "tags": []
     },
     "output_type": "execute_result"
    },
    {
     "data": {
      "image/png": "[encoded data removed]",
      "text/plain": [
       "<Figure size 432x288 with 1 Axes>"
      ]
     },
     "metadata": {
      "needs_background": "light",
      "tags": []
     },
     "output_type": "display_data"
    }
   ],
   "source": [
    "## plot the number of the words distribution graph for the train dataset\n",
    "sns.distplot([len(x) for x in words_train_x])"
   ]
  },
  {
   "cell_type": "code",
   "execution_count": null,
   "metadata": {
    "colab": {},
    "colab_type": "code",
    "id": "XAnuipOnahbb"
   },
   "outputs": [],
   "source": [
    "import gc"
   ]
  },
  {
   "cell_type": "code",
   "execution_count": null,
   "metadata": {
    "colab": {},
    "colab_type": "code",
    "id": "zTaE-d5IyXBY"
   },
   "outputs": [],
   "source": [
    "## prepare the train dataset for training of the Deep Learning model LSTM\n",
    "train_vectors_lstm = np.expand_dims(train_x_vectors, axis=1)"
   ]
  },
  {
   "cell_type": "code",
   "execution_count": null,
   "metadata": {
    "colab": {
     "base_uri": "https://localhost:8080/",
     "height": 34
    },
    "colab_type": "code",
    "executionInfo": {
     "elapsed": 770,
     "status": "ok",
     "timestamp": 1596332633755,
     "user": {
      "displayName": "Tanisha Bhayani",
      "photoUrl": "",
      "userId": "03093037226242090836"
     },
     "user_tz": -330
    },
    "id": "KSXLBGshyb4x",
    "outputId": "7ccb7c0a-1c74-4ea6-a71b-8ab04d2ca67f"
   },
   "outputs": [
    {
     "data": {
      "text/plain": [
       "(7308, 1, 100)"
      ]
     },
     "execution_count": 78,
     "metadata": {
      "tags": []
     },
     "output_type": "execute_result"
    }
   ],
   "source": [
    "train_vectors_lstm.shape"
   ]
  },
  {
   "cell_type": "code",
   "execution_count": null,
   "metadata": {
    "colab": {},
    "colab_type": "code",
    "id": "mKf0sK_xyeJ5"
   },
   "outputs": [],
   "source": [
    "## prepare the test dataset for testing of the Deep Learning model LSTM\n",
    "test_vectors_lstm = np.expand_dims(test_vectors, axis=1)"
   ]
  },
  {
   "cell_type": "code",
   "execution_count": null,
   "metadata": {
    "colab": {
     "base_uri": "https://localhost:8080/",
     "height": 34
    },
    "colab_type": "code",
    "executionInfo": {
     "elapsed": 763,
     "status": "ok",
     "timestamp": 1596332643348,
     "user": {
      "displayName": "Tanisha Bhayani",
      "photoUrl": "",
      "userId": "03093037226242090836"
     },
     "user_tz": -330
    },
    "id": "ADilQNa5yhtf",
    "outputId": "5b065c86-d383-43b6-8f62-49a42ec3de1e"
   },
   "outputs": [
    {
     "data": {
      "text/plain": [
       "(10546, 1, 100)"
      ]
     },
     "execution_count": 80,
     "metadata": {
      "tags": []
     },
     "output_type": "execute_result"
    }
   ],
   "source": [
    "test_vectors_lstm.shape"
   ]
  },
  {
   "cell_type": "code",
   "execution_count": null,
   "metadata": {
    "colab": {
     "base_uri": "https://localhost:8080/",
     "height": 34
    },
    "colab_type": "code",
    "executionInfo": {
     "elapsed": 677,
     "status": "ok",
     "timestamp": 1596332752608,
     "user": {
      "displayName": "Tanisha Bhayani",
      "photoUrl": "",
      "userId": "03093037226242090836"
     },
     "user_tz": -330
    },
    "id": "Tjyr3s5s2Icc",
    "outputId": "eb17f97b-31fb-4ace-cfdd-31dc28597b77"
   },
   "outputs": [
    {
     "data": {
      "text/plain": [
       "(-7.821579456329346, 9.730830192565918)"
      ]
     },
     "execution_count": 81,
     "metadata": {
      "tags": []
     },
     "output_type": "execute_result"
    }
   ],
   "source": [
    "## get the minimum and maximum values of the train vectors\n",
    "train_vectors_lstm.min(), train_vectors_lstm.max()"
   ]
  },
  {
   "cell_type": "code",
   "execution_count": null,
   "metadata": {
    "colab": {},
    "colab_type": "code",
    "id": "qLDcHP5y7U9j"
   },
   "outputs": [],
   "source": [
    "from sklearn.preprocessing import MinMaxScaler"
   ]
  },
  {
   "cell_type": "code",
   "execution_count": null,
   "metadata": {
    "colab": {},
    "colab_type": "code",
    "id": "NyuqFX777Xwr"
   },
   "outputs": [],
   "source": [
    "## get the MinMaxScaler for normalizing the train and test vectors before training and testing the Deep Learning LSTM model\n",
    "mms = MinMaxScaler(feature_range=(0,1))"
   ]
  },
  {
   "cell_type": "code",
   "execution_count": null,
   "metadata": {
    "colab": {},
    "colab_type": "code",
    "id": "vPGTaAjW7bdA"
   },
   "outputs": [],
   "source": [
    "## train the MinMaxScaler object for train dataset and get the scaled features\n",
    "scaled_train_vectors_lstm = mms.fit_transform(train_vectors_lstm[:, 0, :])"
   ]
  },
  {
   "cell_type": "code",
   "execution_count": null,
   "metadata": {
    "colab": {},
    "colab_type": "code",
    "id": "5QWx25i17iJx"
   },
   "outputs": [],
   "source": [
    "## prepare the scaled features to be input to the Deep Learning LSTM model\n",
    "scaled_train_vectors_lstm = np.expand_dims(scaled_train_vectors_lstm, axis=1)"
   ]
  },
  {
   "cell_type": "code",
   "execution_count": null,
   "metadata": {
    "colab": {},
    "colab_type": "code",
    "id": "4ueieNce7poK"
   },
   "outputs": [],
   "source": [
    "## transform and prepare the scaled test features for the Deep learning LSTM model\n",
    "scaled_test_vectors_lstm = np.expand_dims(mms.transform(test_vectors_lstm[:, 0, :]), axis=1)"
   ]
  },
  {
   "cell_type": "code",
   "execution_count": null,
   "metadata": {
    "colab": {
     "base_uri": "https://localhost:8080/",
     "height": 34
    },
    "colab_type": "code",
    "executionInfo": {
     "elapsed": 4847,
     "status": "ok",
     "timestamp": 1596332825442,
     "user": {
      "displayName": "Tanisha Bhayani",
      "photoUrl": "",
      "userId": "03093037226242090836"
     },
     "user_tz": -330
    },
    "id": "08i3Xl7fozCk",
    "outputId": "a3ee3693-0a2c-4b16-a892-2d5487353a79"
   },
   "outputs": [
    {
     "name": "stderr",
     "output_type": "stream",
     "text": [
      "Using TensorFlow backend.\n"
     ]
    }
   ],
   "source": [
    "## for preparing the Deep Learning LSTM model we use keras library\n",
    "import keras"
   ]
  },
  {
   "cell_type": "code",
   "execution_count": null,
   "metadata": {
    "colab": {},
    "colab_type": "code",
    "id": "EUrx0N8oohXg"
   },
   "outputs": [],
   "source": [
    "## create the LSTM model\n",
    "input_tensor = keras.layers.Input(shape=(1, 100))\n",
    "\n",
    "keras_model = keras.layers.LSTM(90)(input_tensor)\n",
    "\n",
    "keras_model = keras.layers.Dense(64, activation='relu')(keras_model)\n",
    "\n",
    "keras_model = keras.layers.Dense(1, activation='sigmoid')(keras_model)\n",
    "\n",
    "keras_model = keras.models.Model(inputs=[input_tensor], outputs=[keras_model])\n",
    "\n",
    "keras_model.compile(optimizer='adam', loss='binary_crossentropy', metrics=['acc'])"
   ]
  },
  {
   "cell_type": "code",
   "execution_count": null,
   "metadata": {
    "colab": {
     "base_uri": "https://localhost:8080/",
     "height": 295
    },
    "colab_type": "code",
    "executionInfo": {
     "elapsed": 1409,
     "status": "ok",
     "timestamp": 1596332843265,
     "user": {
      "displayName": "Tanisha Bhayani",
      "photoUrl": "",
      "userId": "03093037226242090836"
     },
     "user_tz": -330
    },
    "id": "iTXCaXb0ox5h",
    "outputId": "0eb2e967-98f6-44a5-a556-e3b3e2914f32"
   },
   "outputs": [
    {
     "name": "stdout",
     "output_type": "stream",
     "text": [
      "Model: \"model_1\"\n",
      "_________________________________________________________________\n",
      "Layer (type)                 Output Shape              Param #   \n",
      "=================================================================\n",
      "input_1 (InputLayer)         (None, 1, 100)            0         \n",
      "_________________________________________________________________\n",
      "lstm_1 (LSTM)                (None, 90)                68760     \n",
      "_________________________________________________________________\n",
      "dense_1 (Dense)              (None, 64)                5824      \n",
      "_________________________________________________________________\n",
      "dense_2 (Dense)              (None, 1)                 65        \n",
      "=================================================================\n",
      "Total params: 74,649\n",
      "Trainable params: 74,649\n",
      "Non-trainable params: 0\n",
      "_________________________________________________________________\n"
     ]
    }
   ],
   "source": [
    "keras_model.summary()"
   ]
  },
  {
   "cell_type": "code",
   "execution_count": null,
   "metadata": {
    "colab": {},
    "colab_type": "code",
    "id": "He998tKT27cE"
   },
   "outputs": [],
   "source": [
    "## shuffle the dataset\n",
    "## shuffling the dataset is necessary for Deep Learning based model, so that the training of the Model is proper\n",
    "## which then gives the correct metrics score\n",
    "\n",
    "train_shuffle_indices = np.random.permutation(np.arange(scaled_train_vectors_lstm.shape[0]))\n",
    "shuffled_scaled_train_vectors_lstm = scaled_train_vectors_lstm[train_shuffle_indices]\n",
    "shuffle_train_y = sub_train_y[train_shuffle_indices]\n",
    "\n",
    "test_shuffle_indices = np.random.permutation(np.arange(scaled_test_vectors_lstm.shape[0]))\n",
    "shuffled_scaled_test_vectors_lstm = scaled_test_vectors_lstm[test_shuffle_indices]\n",
    "suffle_test_y = test_y.values[test_shuffle_indices]"
   ]
  },
  {
   "cell_type": "code",
   "execution_count": null,
   "metadata": {
    "colab": {
     "base_uri": "https://localhost:8080/",
     "height": 1000
    },
    "colab_type": "code",
    "executionInfo": {
     "elapsed": 67919,
     "status": "ok",
     "timestamp": 1596333245732,
     "user": {
      "displayName": "Tanisha Bhayani",
      "photoUrl": "",
      "userId": "03093037226242090836"
     },
     "user_tz": -330
    },
    "id": "n9V9_dbXpDYE",
    "outputId": "53f9c0c8-047a-4b4c-f984-a8e6f9d7084e"
   },
   "outputs": [
    {
     "name": "stdout",
     "output_type": "stream",
     "text": [
      "Epoch 1/1\n",
      "7308/7308 [==============================] - 0s 63us/step - loss: 0.5158 - acc: 0.7556\n",
      "<keras.callbacks.callbacks.History object at 0x7fb68f279e80>\n",
      "0.6749223734839999\n",
      "Epoch 1/1\n",
      "7308/7308 [==============================] - 0s 61us/step - loss: 0.5149 - acc: 0.7527\n",
      "<keras.callbacks.callbacks.History object at 0x7fb68f279470>\n",
      "0.6708488586365334\n",
      "Epoch 1/1\n",
      "7308/7308 [==============================] - 0s 62us/step - loss: 0.5159 - acc: 0.7515\n",
      "<keras.callbacks.callbacks.History object at 0x7fb68f279cc0>\n",
      "0.6723111798418653\n",
      "Epoch 1/1\n",
      "7308/7308 [==============================] - 0s 56us/step - loss: 0.5210 - acc: 0.7544\n",
      "<keras.callbacks.callbacks.History object at 0x7fb68f279940>\n",
      "0.672800886464371\n",
      "Epoch 1/1\n",
      "7308/7308 [==============================] - 0s 61us/step - loss: 0.5162 - acc: 0.7556\n",
      "<keras.callbacks.callbacks.History object at 0x7fb68f1314e0>\n",
      "0.6642889614079521\n",
      "Epoch 1/1\n",
      "7308/7308 [==============================] - 0s 59us/step - loss: 0.5146 - acc: 0.7547\n",
      "<keras.callbacks.callbacks.History object at 0x7fb68f131588>\n",
      "0.6763063578653418\n",
      "Epoch 1/1\n",
      "7308/7308 [==============================] - 0s 60us/step - loss: 0.5150 - acc: 0.7555\n",
      "<keras.callbacks.callbacks.History object at 0x7fb68f1317f0>\n",
      "0.6716953428149303\n",
      "Epoch 1/1\n",
      "7308/7308 [==============================] - 0s 58us/step - loss: 0.5157 - acc: 0.7552\n",
      "<keras.callbacks.callbacks.History object at 0x7fb68f131be0>\n",
      "0.6622051207117692\n",
      "Epoch 1/1\n",
      "7308/7308 [==============================] - 0s 57us/step - loss: 0.5161 - acc: 0.7538\n",
      "<keras.callbacks.callbacks.History object at 0x7fb68f131b38>\n",
      "0.6715294351630867\n",
      "Epoch 1/1\n",
      "7308/7308 [==============================] - 0s 57us/step - loss: 0.5097 - acc: 0.7557\n",
      "<keras.callbacks.callbacks.History object at 0x7fb68f131cc0>\n",
      "0.6743068408747748\n",
      "Epoch 1/1\n",
      "7308/7308 [==============================] - 0s 58us/step - loss: 0.5148 - acc: 0.7527\n",
      "<keras.callbacks.callbacks.History object at 0x7fb68f131e48>\n",
      "0.6602205201889826\n",
      "Epoch 1/1\n",
      "7308/7308 [==============================] - 0s 60us/step - loss: 0.5145 - acc: 0.7570\n",
      "<keras.callbacks.callbacks.History object at 0x7fb68f131710>\n",
      "0.6747846752065981\n",
      "Epoch 1/1\n",
      "7308/7308 [==============================] - 0s 59us/step - loss: 0.5118 - acc: 0.7594\n",
      "<keras.callbacks.callbacks.History object at 0x7fb68f0df080>\n",
      "0.6757034078547887\n",
      "Epoch 1/1\n",
      "7308/7308 [==============================] - 0s 62us/step - loss: 0.5132 - acc: 0.7545\n",
      "<keras.callbacks.callbacks.History object at 0x7fb68f0df240>\n",
      "0.6749694567564496\n",
      "Epoch 1/1\n",
      "7308/7308 [==============================] - 0s 62us/step - loss: 0.5138 - acc: 0.7508\n",
      "<keras.callbacks.callbacks.History object at 0x7fb68f0df278>\n",
      "0.6700096804831718\n",
      "Epoch 1/1\n",
      "7308/7308 [==============================] - 0s 59us/step - loss: 0.5120 - acc: 0.7530\n",
      "<keras.callbacks.callbacks.History object at 0x7fb68f131fd0>\n",
      "0.6627818907992791\n",
      "Epoch 1/1\n",
      "7308/7308 [==============================] - 0s 60us/step - loss: 0.5149 - acc: 0.7542\n",
      "<keras.callbacks.callbacks.History object at 0x7fb68f131f98>\n",
      "0.6748587501826506\n",
      "Epoch 1/1\n",
      "7308/7308 [==============================] - 0s 58us/step - loss: 0.5138 - acc: 0.7601\n",
      "<keras.callbacks.callbacks.History object at 0x7fb68f131c50>\n",
      "0.6723891107755752\n",
      "Epoch 1/1\n",
      "7308/7308 [==============================] - 0s 61us/step - loss: 0.5131 - acc: 0.7575\n",
      "<keras.callbacks.callbacks.History object at 0x7fb68f131828>\n",
      "0.6649820190606076\n",
      "Epoch 1/1\n",
      "7308/7308 [==============================] - 0s 60us/step - loss: 0.5153 - acc: 0.7552\n",
      "<keras.callbacks.callbacks.History object at 0x7fb68f131898>\n",
      "0.668615751789976\n",
      "Epoch 1/1\n",
      "7308/7308 [==============================] - 0s 57us/step - loss: 0.5116 - acc: 0.7538\n",
      "<keras.callbacks.callbacks.History object at 0x7fb68f131a90>\n",
      "0.6666180613056678\n",
      "Epoch 1/1\n",
      "7308/7308 [==============================] - 0s 60us/step - loss: 0.5124 - acc: 0.7557\n",
      "<keras.callbacks.callbacks.History object at 0x7fb68f131048>\n",
      "0.6702437777020116\n",
      "Epoch 1/1\n",
      "7308/7308 [==============================] - 0s 57us/step - loss: 0.5113 - acc: 0.7578\n",
      "<keras.callbacks.callbacks.History object at 0x7fb68f1319e8>\n",
      "0.6745385027519362\n",
      "Epoch 1/1\n",
      "7308/7308 [==============================] - 0s 56us/step - loss: 0.5096 - acc: 0.7552\n",
      "<keras.callbacks.callbacks.History object at 0x7fb68f1310b8>\n",
      "0.6690045946779667\n",
      "Epoch 1/1\n",
      "7308/7308 [==============================] - 0s 58us/step - loss: 0.5138 - acc: 0.7523\n",
      "<keras.callbacks.callbacks.History object at 0x7fb68f1313c8>\n",
      "0.6703804612537139\n",
      "Epoch 1/1\n",
      "7308/7308 [==============================] - 0s 60us/step - loss: 0.5105 - acc: 0.7551\n",
      "<keras.callbacks.callbacks.History object at 0x7fb68f279470>\n",
      "0.6757160919260307\n",
      "Epoch 1/1\n",
      "7308/7308 [==============================] - 0s 59us/step - loss: 0.5101 - acc: 0.7567\n",
      "<keras.callbacks.callbacks.History object at 0x7fb68f279518>\n",
      "0.6244246505284691\n",
      "Epoch 1/1\n",
      "7308/7308 [==============================] - 0s 59us/step - loss: 0.5135 - acc: 0.7544\n",
      "<keras.callbacks.callbacks.History object at 0x7fb68f0d5048>\n",
      "0.6731746099394411\n",
      "Epoch 1/1\n",
      "7308/7308 [==============================] - 0s 60us/step - loss: 0.5094 - acc: 0.7564\n",
      "<keras.callbacks.callbacks.History object at 0x7fb68f0d5240>\n",
      "0.6746263779974997\n",
      "Epoch 1/1\n",
      "7308/7308 [==============================] - 0s 59us/step - loss: 0.5142 - acc: 0.7557\n",
      "<keras.callbacks.callbacks.History object at 0x7fb68f0d5390>\n",
      "0.6765831750361243\n",
      "Epoch 1/1\n",
      "7308/7308 [==============================] - 0s 57us/step - loss: 0.5075 - acc: 0.7560\n",
      "<keras.callbacks.callbacks.History object at 0x7fb68f0d54e0>\n",
      "0.6763989008491226\n",
      "Epoch 1/1\n",
      "7308/7308 [==============================] - 0s 59us/step - loss: 0.5075 - acc: 0.7563\n",
      "<keras.callbacks.callbacks.History object at 0x7fb68f0d5630>\n",
      "0.6682540020781583\n",
      "Epoch 1/1\n",
      "7308/7308 [==============================] - 0s 56us/step - loss: 0.5072 - acc: 0.7568\n",
      "<keras.callbacks.callbacks.History object at 0x7fb68f0d5748>\n",
      "0.6743801040702677\n",
      "Epoch 1/1\n",
      "7308/7308 [==============================] - 0s 56us/step - loss: 0.5111 - acc: 0.7553\n",
      "<keras.callbacks.callbacks.History object at 0x7fb68f2798d0>\n",
      "0.6757337481531992\n",
      "Epoch 1/1\n",
      "7308/7308 [==============================] - 0s 68us/step - loss: 0.5113 - acc: 0.7529\n",
      "<keras.callbacks.callbacks.History object at 0x7fb68f279ac8>\n",
      "0.6752294294806228\n",
      "Epoch 1/1\n",
      "7308/7308 [==============================] - 0s 59us/step - loss: 0.5069 - acc: 0.7541\n",
      "<keras.callbacks.callbacks.History object at 0x7fb68f279470>\n",
      "0.6584479973373598\n",
      "Epoch 1/1\n",
      "7308/7308 [==============================] - 0s 55us/step - loss: 0.5074 - acc: 0.7557\n",
      "<keras.callbacks.callbacks.History object at 0x7fb68f279c50>\n",
      "0.665235497540305\n",
      "Epoch 1/1\n",
      "7308/7308 [==============================] - 0s 61us/step - loss: 0.5066 - acc: 0.7563\n",
      "<keras.callbacks.callbacks.History object at 0x7fb68f1314e0>\n",
      "0.6662956829509847\n",
      "Epoch 1/1\n",
      "7308/7308 [==============================] - 0s 57us/step - loss: 0.5092 - acc: 0.7533\n",
      "<keras.callbacks.callbacks.History object at 0x7fb68f131208>\n",
      "0.6738742633091422\n",
      "Epoch 1/1\n",
      "7308/7308 [==============================] - 0s 57us/step - loss: 0.5058 - acc: 0.7575\n",
      "<keras.callbacks.callbacks.History object at 0x7fb68f1315f8>\n",
      "0.6729841459256733\n",
      "Epoch 1/1\n",
      "7308/7308 [==============================] - 0s 64us/step - loss: 0.5054 - acc: 0.7559\n",
      "<keras.callbacks.callbacks.History object at 0x7fb68f131908>\n",
      "0.6716089896579156\n",
      "Epoch 1/1\n",
      "7308/7308 [==============================] - 0s 62us/step - loss: 0.5060 - acc: 0.7586\n",
      "<keras.callbacks.callbacks.History object at 0x7fb68f131b38>\n",
      "0.674583962463267\n",
      "Epoch 1/1\n",
      "7308/7308 [==============================] - 0s 54us/step - loss: 0.5116 - acc: 0.7567\n",
      "<keras.callbacks.callbacks.History object at 0x7fb68f131c88>\n",
      "0.6752261823583849\n",
      "Epoch 1/1\n",
      "7308/7308 [==============================] - 0s 60us/step - loss: 0.5081 - acc: 0.7574\n",
      "<keras.callbacks.callbacks.History object at 0x7fb68f131e48>\n",
      "0.6756883899144382\n",
      "Epoch 1/1\n",
      "7308/7308 [==============================] - 0s 57us/step - loss: 0.5067 - acc: 0.7577\n",
      "<keras.callbacks.callbacks.History object at 0x7fb68f131ef0>\n",
      "0.6701863442274285\n",
      "Epoch 1/1\n",
      "7308/7308 [==============================] - 0s 58us/step - loss: 0.5091 - acc: 0.7603\n",
      "<keras.callbacks.callbacks.History object at 0x7fb68f131f28>\n",
      "0.6714727119964929\n",
      "Epoch 1/1\n",
      "7308/7308 [==============================] - 0s 60us/step - loss: 0.5043 - acc: 0.7585\n",
      "<keras.callbacks.callbacks.History object at 0x7fb68f0d5860>\n",
      "0.6739765476596367\n",
      "Epoch 1/1\n",
      "7308/7308 [==============================] - 0s 59us/step - loss: 0.5052 - acc: 0.7581\n",
      "<keras.callbacks.callbacks.History object at 0x7fb68f0d5518>\n",
      "0.6694742097316254\n",
      "Epoch 1/1\n",
      "7308/7308 [==============================] - 0s 62us/step - loss: 0.5064 - acc: 0.7586\n",
      "<keras.callbacks.callbacks.History object at 0x7fb68f0d5438>\n",
      "0.6723105710064455\n",
      "Epoch 1/1\n",
      "7308/7308 [==============================] - 0s 61us/step - loss: 0.5106 - acc: 0.7563\n",
      "<keras.callbacks.callbacks.History object at 0x7fb68f0d50f0>\n",
      "0.6704434757196436\n",
      "Epoch 1/1\n",
      "7308/7308 [==============================] - 0s 56us/step - loss: 0.5036 - acc: 0.7567\n",
      "<keras.callbacks.callbacks.History object at 0x7fb68f0d5160>\n",
      "0.6654058699852256\n",
      "Epoch 1/1\n",
      "7308/7308 [==============================] - 0s 60us/step - loss: 0.5051 - acc: 0.7592\n",
      "<keras.callbacks.callbacks.History object at 0x7fb68f131cf8>\n",
      "0.6672562222979884\n",
      "Epoch 1/1\n",
      "7308/7308 [==============================] - 0s 63us/step - loss: 0.5043 - acc: 0.7579\n",
      "<keras.callbacks.callbacks.History object at 0x7fb68f131dd8>\n",
      "0.675511218807332\n",
      "Epoch 1/1\n",
      "7308/7308 [==============================] - 0s 57us/step - loss: 0.5067 - acc: 0.7566\n",
      "<keras.callbacks.callbacks.History object at 0x7fb68f131f28>\n",
      "0.6620686401052067\n",
      "Epoch 1/1\n",
      "7308/7308 [==============================] - 0s 61us/step - loss: 0.5068 - acc: 0.7573\n",
      "<keras.callbacks.callbacks.History object at 0x7fb68f131da0>\n",
      "0.6565130169012713\n",
      "Epoch 1/1\n",
      "7308/7308 [==============================] - 0s 62us/step - loss: 0.5035 - acc: 0.7581\n",
      "<keras.callbacks.callbacks.History object at 0x7fb68f131898>\n",
      "0.6749677317227607\n",
      "Epoch 1/1\n",
      "7308/7308 [==============================] - 0s 55us/step - loss: 0.5022 - acc: 0.7594\n",
      "<keras.callbacks.callbacks.History object at 0x7fb68f1317b8>\n",
      "0.671246935528388\n",
      "Epoch 1/1\n",
      "7308/7308 [==============================] - 0s 61us/step - loss: 0.5002 - acc: 0.7611\n",
      "<keras.callbacks.callbacks.History object at 0x7fb68f131198>\n",
      "0.6724702888315232\n",
      "Epoch 1/1\n",
      "7308/7308 [==============================] - 0s 57us/step - loss: 0.5026 - acc: 0.7589\n",
      "<keras.callbacks.callbacks.History object at 0x7fb68f131588>\n",
      "0.6705583426688098\n",
      "Epoch 1/1\n",
      "7308/7308 [==============================] - 0s 59us/step - loss: 0.5023 - acc: 0.7620\n",
      "<keras.callbacks.callbacks.History object at 0x7fb68f131278>\n",
      "0.6739061256961018\n",
      "Epoch 1/1\n",
      "7308/7308 [==============================] - 0s 61us/step - loss: 0.5054 - acc: 0.7603\n",
      "<keras.callbacks.callbacks.History object at 0x7fb68f279d30>\n",
      "0.6724711006120825\n",
      "Epoch 1/1\n",
      "7308/7308 [==============================] - 0s 61us/step - loss: 0.5024 - acc: 0.7593\n",
      "<keras.callbacks.callbacks.History object at 0x7fb68f279c88>\n",
      "0.6625811780559479\n",
      "Epoch 1/1\n",
      "7308/7308 [==============================] - 0s 56us/step - loss: 0.5036 - acc: 0.7589\n",
      "<keras.callbacks.callbacks.History object at 0x7fb68f279940>\n",
      "0.6738931372071502\n",
      "Epoch 1/1\n",
      "7308/7308 [==============================] - 0s 62us/step - loss: 0.5053 - acc: 0.7567\n",
      "<keras.callbacks.callbacks.History object at 0x7fb68f279518>\n",
      "0.6684619193739547\n",
      "Epoch 1/1\n",
      "7308/7308 [==============================] - 0s 64us/step - loss: 0.5006 - acc: 0.7603\n",
      "<keras.callbacks.callbacks.History object at 0x7fb68f0d5048>\n",
      "0.6754056873345996\n",
      "Epoch 1/1\n",
      "7308/7308 [==============================] - 0s 56us/step - loss: 0.5003 - acc: 0.7590\n",
      "<keras.callbacks.callbacks.History object at 0x7fb68f0d52e8>\n",
      "0.6488145974380205\n",
      "Epoch 1/1\n",
      "7308/7308 [==============================] - 0s 60us/step - loss: 0.5006 - acc: 0.7593\n",
      "<keras.callbacks.callbacks.History object at 0x7fb68f0d54a8>\n",
      "0.672369120679298\n",
      "Epoch 1/1\n",
      "7308/7308 [==============================] - 0s 59us/step - loss: 0.5016 - acc: 0.7560\n",
      "<keras.callbacks.callbacks.History object at 0x7fb68f0d5358>\n",
      "0.6636854025619794\n",
      "Epoch 1/1\n",
      "7308/7308 [==============================] - 0s 57us/step - loss: 0.5005 - acc: 0.7615\n",
      "<keras.callbacks.callbacks.History object at 0x7fb68f0d57f0>\n",
      "0.6756350153426525\n",
      "Epoch 1/1\n",
      "7308/7308 [==============================] - 0s 62us/step - loss: 0.4994 - acc: 0.7593\n",
      "<keras.callbacks.callbacks.History object at 0x7fb68f0d5828>\n",
      "0.6705036489536149\n",
      "Epoch 1/1\n",
      "7308/7308 [==============================] - 0s 62us/step - loss: 0.4989 - acc: 0.7603\n",
      "<keras.callbacks.callbacks.History object at 0x7fb68f279a58>\n",
      "0.6709666682902278\n",
      "Epoch 1/1\n",
      "7308/7308 [==============================] - 0s 62us/step - loss: 0.4998 - acc: 0.7577\n",
      "<keras.callbacks.callbacks.History object at 0x7fb68f279cc0>\n",
      "0.6733886155894337\n",
      "Epoch 1/1\n",
      "7308/7308 [==============================] - 0s 63us/step - loss: 0.4979 - acc: 0.7600\n",
      "<keras.callbacks.callbacks.History object at 0x7fb68f2797b8>\n",
      "0.6748891919536312\n",
      "Epoch 1/1\n",
      "7308/7308 [==============================] - 0s 67us/step - loss: 0.5009 - acc: 0.7608\n",
      "<keras.callbacks.callbacks.History object at 0x7fb68f1312b0>\n",
      "0.6722005747406361\n",
      "Epoch 1/1\n",
      "7308/7308 [==============================] - 0s 56us/step - loss: 0.5008 - acc: 0.7589\n",
      "<keras.callbacks.callbacks.History object at 0x7fb68f1310b8>\n",
      "0.673771877486078\n",
      "Epoch 1/1\n",
      "7308/7308 [==============================] - 0s 63us/step - loss: 0.4965 - acc: 0.7633\n",
      "<keras.callbacks.callbacks.History object at 0x7fb68f131748>\n",
      "0.6680073222606465\n",
      "Epoch 1/1\n",
      "7308/7308 [==============================] - 0s 58us/step - loss: 0.4974 - acc: 0.7607\n",
      "<keras.callbacks.callbacks.History object at 0x7fb68f131550>\n",
      "0.6788608283408829\n",
      "Epoch 1/1\n",
      "7308/7308 [==============================] - 0s 58us/step - loss: 0.4982 - acc: 0.7627\n",
      "<keras.callbacks.callbacks.History object at 0x7fb68f131a58>\n",
      "0.674948350461903\n",
      "Epoch 1/1\n",
      "7308/7308 [==============================] - 0s 62us/step - loss: 0.4968 - acc: 0.7599\n",
      "<keras.callbacks.callbacks.History object at 0x7fb68f131940>\n",
      "0.6746195793353141\n",
      "Epoch 1/1\n",
      "7308/7308 [==============================] - 0s 61us/step - loss: 0.4992 - acc: 0.7575\n",
      "<keras.callbacks.callbacks.History object at 0x7fb68f131b70>\n",
      "0.6780071396100206\n",
      "Epoch 1/1\n",
      "7308/7308 [==============================] - 0s 61us/step - loss: 0.4995 - acc: 0.7592\n",
      "<keras.callbacks.callbacks.History object at 0x7fb68f131e48>\n",
      "0.6666174524702482\n",
      "Epoch 1/1\n",
      "7308/7308 [==============================] - 0s 60us/step - loss: 0.4962 - acc: 0.7608\n",
      "<keras.callbacks.callbacks.History object at 0x7fb68f131eb8>\n",
      "0.6644817592908285\n",
      "Epoch 1/1\n",
      "7308/7308 [==============================] - 0s 61us/step - loss: 0.4971 - acc: 0.7626\n",
      "<keras.callbacks.callbacks.History object at 0x7fb68f0d59b0>\n",
      "0.6600908382446057\n",
      "Epoch 1/1\n",
      "7308/7308 [==============================] - 0s 60us/step - loss: 0.4970 - acc: 0.7581\n",
      "<keras.callbacks.callbacks.History object at 0x7fb68f0d55f8>\n",
      "0.676076826912149\n",
      "Epoch 1/1\n",
      "7308/7308 [==============================] - 0s 60us/step - loss: 0.4972 - acc: 0.7571\n",
      "<keras.callbacks.callbacks.History object at 0x7fb68f0d56a0>\n",
      "0.6746467739840567\n",
      "Epoch 1/1\n",
      "7308/7308 [==============================] - 0s 63us/step - loss: 0.4936 - acc: 0.7653\n",
      "<keras.callbacks.callbacks.History object at 0x7fb68f0d5588>\n",
      "0.6699858344292371\n",
      "Epoch 1/1\n",
      "7308/7308 [==============================] - 0s 60us/step - loss: 0.4944 - acc: 0.7607\n",
      "<keras.callbacks.callbacks.History object at 0x7fb68f0d50f0>\n",
      "0.6737654847141721\n",
      "Epoch 1/1\n",
      "7308/7308 [==============================] - 0s 57us/step - loss: 0.4947 - acc: 0.7618\n",
      "<keras.callbacks.callbacks.History object at 0x7fb68f0d5470>\n",
      "0.6612694421443995\n",
      "Epoch 1/1\n",
      "7308/7308 [==============================] - 0s 65us/step - loss: 0.4977 - acc: 0.7579\n",
      "<keras.callbacks.callbacks.History object at 0x7fb68f131c18>\n",
      "0.6709110613219035\n",
      "Epoch 1/1\n",
      "7308/7308 [==============================] - 0s 58us/step - loss: 0.4937 - acc: 0.7644\n",
      "<keras.callbacks.callbacks.History object at 0x7fb68f131dd8>\n",
      "0.6676452681311188\n",
      "Epoch 1/1\n",
      "7308/7308 [==============================] - 0s 59us/step - loss: 0.4949 - acc: 0.7616\n",
      "<keras.callbacks.callbacks.History object at 0x7fb68f131c50>\n",
      "0.6543026399103795\n",
      "Epoch 1/1\n",
      "7308/7308 [==============================] - 0s 62us/step - loss: 0.4983 - acc: 0.7562\n",
      "<keras.callbacks.callbacks.History object at 0x7fb68f131940>\n",
      "0.6655796924975241\n",
      "Epoch 1/1\n",
      "7308/7308 [==============================] - 0s 61us/step - loss: 0.4973 - acc: 0.7641\n",
      "<keras.callbacks.callbacks.History object at 0x7fb68f131be0>\n",
      "0.6731913529134804\n",
      "Epoch 1/1\n",
      "7308/7308 [==============================] - 0s 57us/step - loss: 0.4954 - acc: 0.7600\n",
      "<keras.callbacks.callbacks.History object at 0x7fb68f131978>\n",
      "0.6661725967236536\n",
      "Epoch 1/1\n",
      "7308/7308 [==============================] - 0s 61us/step - loss: 0.4992 - acc: 0.7583\n",
      "<keras.callbacks.callbacks.History object at 0x7fb68f131208>\n",
      "0.6712706801097529\n",
      "Epoch 1/1\n",
      "7308/7308 [==============================] - 0s 62us/step - loss: 0.4937 - acc: 0.7625\n",
      "<keras.callbacks.callbacks.History object at 0x7fb68f131048>\n",
      "0.669106879028461\n",
      "Epoch 1/1\n",
      "7308/7308 [==============================] - 0s 64us/step - loss: 0.4952 - acc: 0.7604\n",
      "<keras.callbacks.callbacks.History object at 0x7fb68f1314a8>\n",
      "0.6587568798402417\n",
      "Epoch 1/1\n",
      "7308/7308 [==============================] - 0s 63us/step - loss: 0.4950 - acc: 0.7620\n",
      "<keras.callbacks.callbacks.History object at 0x7fb68f279c50>\n",
      "0.6754460734174338\n",
      "Epoch 1/1\n",
      "7308/7308 [==============================] - 0s 57us/step - loss: 0.4895 - acc: 0.7661\n",
      "<keras.callbacks.callbacks.History object at 0x7fb68f279358>\n",
      "0.6358861802477553\n",
      "Epoch 1/1\n",
      "7308/7308 [==============================] - 0s 56us/step - loss: 0.4959 - acc: 0.7614\n",
      "<keras.callbacks.callbacks.History object at 0x7fb68f279940>\n",
      "0.6772487336223272\n"
     ]
    }
   ],
   "source": [
    "## train for 100 epochs and test the AUROC score at the end of each epoch\n",
    "for index in range(100):\n",
    "  print(keras_model.fit(shuffled_scaled_train_vectors_lstm, shuffle_train_y, batch_size=64))\n",
    "  print(roc_auc_score(suffle_test_y, keras_model.predict(shuffled_scaled_test_vectors_lstm)[:, 0]))"
   ]
  },
  {
   "cell_type": "code",
   "execution_count": null,
   "metadata": {
    "colab": {
     "base_uri": "https://localhost:8080/",
     "height": 1000
    },
    "colab_type": "code",
    "executionInfo": {
     "elapsed": 73867,
     "status": "ok",
     "timestamp": 1596333348604,
     "user": {
      "displayName": "Tanisha Bhayani",
      "photoUrl": "",
      "userId": "03093037226242090836"
     },
     "user_tz": -330
    },
    "id": "QZ-9cBrv-end",
    "outputId": "189c9986-0fca-4b49-bdc1-b2be6c25b279"
   },
   "outputs": [
    {
     "name": "stdout",
     "output_type": "stream",
     "text": [
      "Train on 7308 samples, validate on 10546 samples\n",
      "Epoch 1/200\n",
      "7308/7308 [==============================] - 0s 54us/step - loss: 0.4858 - acc: 0.7655 - val_loss: 0.3412 - val_acc: 0.9172\n",
      "Epoch 2/200\n",
      "7308/7308 [==============================] - 0s 47us/step - loss: 0.4843 - acc: 0.7660 - val_loss: 0.3127 - val_acc: 0.9244\n",
      "Epoch 3/200\n",
      "7308/7308 [==============================] - 0s 47us/step - loss: 0.4814 - acc: 0.7674 - val_loss: 0.3091 - val_acc: 0.9295\n",
      "Epoch 4/200\n",
      "7308/7308 [==============================] - 0s 45us/step - loss: 0.4819 - acc: 0.7649 - val_loss: 0.3593 - val_acc: 0.8954\n",
      "Epoch 5/200\n",
      "7308/7308 [==============================] - 0s 48us/step - loss: 0.4813 - acc: 0.7649 - val_loss: 0.3314 - val_acc: 0.9160\n",
      "Epoch 6/200\n",
      "7308/7308 [==============================] - 0s 47us/step - loss: 0.4826 - acc: 0.7693 - val_loss: 0.3496 - val_acc: 0.9196\n",
      "Epoch 7/200\n",
      "7308/7308 [==============================] - 0s 49us/step - loss: 0.4820 - acc: 0.7689 - val_loss: 0.3480 - val_acc: 0.9036\n",
      "Epoch 8/200\n",
      "7308/7308 [==============================] - 0s 53us/step - loss: 0.4806 - acc: 0.7664 - val_loss: 0.3234 - val_acc: 0.9249\n",
      "Epoch 9/200\n",
      "7308/7308 [==============================] - 0s 49us/step - loss: 0.4829 - acc: 0.7660 - val_loss: 0.3149 - val_acc: 0.9257\n",
      "Epoch 10/200\n",
      "7308/7308 [==============================] - 0s 47us/step - loss: 0.4793 - acc: 0.7694 - val_loss: 0.3128 - val_acc: 0.9302\n",
      "Epoch 11/200\n",
      "7308/7308 [==============================] - 0s 50us/step - loss: 0.4804 - acc: 0.7693 - val_loss: 0.3263 - val_acc: 0.9148\n",
      "Epoch 12/200\n",
      "7308/7308 [==============================] - 0s 46us/step - loss: 0.4794 - acc: 0.7679 - val_loss: 0.3639 - val_acc: 0.9061\n",
      "Epoch 13/200\n",
      "7308/7308 [==============================] - 0s 49us/step - loss: 0.4804 - acc: 0.7693 - val_loss: 0.3023 - val_acc: 0.9240\n",
      "Epoch 14/200\n",
      "7308/7308 [==============================] - 0s 49us/step - loss: 0.4812 - acc: 0.7692 - val_loss: 0.3385 - val_acc: 0.9066\n",
      "Epoch 15/200\n",
      "7308/7308 [==============================] - 0s 47us/step - loss: 0.4801 - acc: 0.7689 - val_loss: 0.3338 - val_acc: 0.9181\n",
      "Epoch 16/200\n",
      "7308/7308 [==============================] - 0s 48us/step - loss: 0.4806 - acc: 0.7701 - val_loss: 0.3317 - val_acc: 0.9160\n",
      "Epoch 17/200\n",
      "7308/7308 [==============================] - 0s 49us/step - loss: 0.4796 - acc: 0.7690 - val_loss: 0.3656 - val_acc: 0.9019\n",
      "Epoch 18/200\n",
      "7308/7308 [==============================] - 0s 47us/step - loss: 0.4789 - acc: 0.7678 - val_loss: 0.3160 - val_acc: 0.9194\n",
      "Epoch 19/200\n",
      "7308/7308 [==============================] - 0s 46us/step - loss: 0.4788 - acc: 0.7701 - val_loss: 0.3664 - val_acc: 0.8969\n",
      "Epoch 20/200\n",
      "7308/7308 [==============================] - 0s 50us/step - loss: 0.4793 - acc: 0.7705 - val_loss: 0.3389 - val_acc: 0.9124\n",
      "Epoch 21/200\n",
      "7308/7308 [==============================] - 0s 49us/step - loss: 0.4782 - acc: 0.7697 - val_loss: 0.3657 - val_acc: 0.8882\n",
      "Epoch 22/200\n",
      "7308/7308 [==============================] - 0s 49us/step - loss: 0.4788 - acc: 0.7678 - val_loss: 0.3297 - val_acc: 0.9095\n",
      "Epoch 23/200\n",
      "7308/7308 [==============================] - 0s 52us/step - loss: 0.4789 - acc: 0.7697 - val_loss: 0.3356 - val_acc: 0.9130\n",
      "Epoch 24/200\n",
      "7308/7308 [==============================] - 0s 46us/step - loss: 0.4786 - acc: 0.7716 - val_loss: 0.3283 - val_acc: 0.9148\n",
      "Epoch 25/200\n",
      "7308/7308 [==============================] - 0s 48us/step - loss: 0.4767 - acc: 0.7682 - val_loss: 0.3330 - val_acc: 0.9240\n",
      "Epoch 26/200\n",
      "7308/7308 [==============================] - 0s 49us/step - loss: 0.4779 - acc: 0.7677 - val_loss: 0.3342 - val_acc: 0.9141\n",
      "Epoch 27/200\n",
      "7308/7308 [==============================] - 0s 46us/step - loss: 0.4798 - acc: 0.7700 - val_loss: 0.3327 - val_acc: 0.9295\n",
      "Epoch 28/200\n",
      "7308/7308 [==============================] - 0s 49us/step - loss: 0.4778 - acc: 0.7682 - val_loss: 0.2975 - val_acc: 0.9245\n",
      "Epoch 29/200\n",
      "7308/7308 [==============================] - 0s 47us/step - loss: 0.4808 - acc: 0.7664 - val_loss: 0.3104 - val_acc: 0.9265\n",
      "Epoch 30/200\n",
      "7308/7308 [==============================] - 0s 48us/step - loss: 0.4790 - acc: 0.7677 - val_loss: 0.3483 - val_acc: 0.8986\n",
      "Epoch 31/200\n",
      "7308/7308 [==============================] - 0s 50us/step - loss: 0.4748 - acc: 0.7722 - val_loss: 0.3223 - val_acc: 0.9199\n",
      "Epoch 32/200\n",
      "7308/7308 [==============================] - 0s 47us/step - loss: 0.4768 - acc: 0.7694 - val_loss: 0.3449 - val_acc: 0.9010\n",
      "Epoch 33/200\n",
      "7308/7308 [==============================] - 0s 48us/step - loss: 0.4754 - acc: 0.7696 - val_loss: 0.3117 - val_acc: 0.9217\n",
      "Epoch 34/200\n",
      "7308/7308 [==============================] - 0s 48us/step - loss: 0.4779 - acc: 0.7667 - val_loss: 0.3259 - val_acc: 0.9237\n",
      "Epoch 35/200\n",
      "7308/7308 [==============================] - 0s 48us/step - loss: 0.4757 - acc: 0.7703 - val_loss: 0.3042 - val_acc: 0.9141\n",
      "Epoch 36/200\n",
      "7308/7308 [==============================] - 0s 47us/step - loss: 0.4775 - acc: 0.7697 - val_loss: 0.3451 - val_acc: 0.8864\n",
      "Epoch 37/200\n",
      "7308/7308 [==============================] - 0s 49us/step - loss: 0.4765 - acc: 0.7750 - val_loss: 0.3407 - val_acc: 0.9028\n",
      "Epoch 38/200\n",
      "7308/7308 [==============================] - 0s 46us/step - loss: 0.4755 - acc: 0.7679 - val_loss: 0.3289 - val_acc: 0.9125\n",
      "Epoch 39/200\n",
      "7308/7308 [==============================] - 0s 45us/step - loss: 0.4759 - acc: 0.7715 - val_loss: 0.3458 - val_acc: 0.8969\n",
      "Epoch 40/200\n",
      "7308/7308 [==============================] - 0s 49us/step - loss: 0.4750 - acc: 0.7724 - val_loss: 0.3498 - val_acc: 0.8975\n",
      "Epoch 41/200\n",
      "7308/7308 [==============================] - 0s 46us/step - loss: 0.4780 - acc: 0.7705 - val_loss: 0.3134 - val_acc: 0.9190\n",
      "Epoch 42/200\n",
      "7308/7308 [==============================] - 0s 50us/step - loss: 0.4757 - acc: 0.7677 - val_loss: 0.3283 - val_acc: 0.9109\n",
      "Epoch 43/200\n",
      "7308/7308 [==============================] - 0s 55us/step - loss: 0.4738 - acc: 0.7731 - val_loss: 0.3253 - val_acc: 0.9183\n",
      "Epoch 44/200\n",
      "7308/7308 [==============================] - 0s 47us/step - loss: 0.4731 - acc: 0.7734 - val_loss: 0.3469 - val_acc: 0.8929\n",
      "Epoch 45/200\n",
      "7308/7308 [==============================] - 0s 48us/step - loss: 0.4751 - acc: 0.7713 - val_loss: 0.2869 - val_acc: 0.9260\n",
      "Epoch 46/200\n",
      "7308/7308 [==============================] - 0s 50us/step - loss: 0.4807 - acc: 0.7711 - val_loss: 0.3067 - val_acc: 0.9203\n",
      "Epoch 47/200\n",
      "7308/7308 [==============================] - 0s 48us/step - loss: 0.4772 - acc: 0.7696 - val_loss: 0.3077 - val_acc: 0.9220\n",
      "Epoch 48/200\n",
      "7308/7308 [==============================] - 0s 51us/step - loss: 0.4737 - acc: 0.7755 - val_loss: 0.3370 - val_acc: 0.9084\n",
      "Epoch 49/200\n",
      "7308/7308 [==============================] - 0s 49us/step - loss: 0.4740 - acc: 0.7730 - val_loss: 0.2927 - val_acc: 0.9382\n",
      "Epoch 50/200\n",
      "7308/7308 [==============================] - 0s 50us/step - loss: 0.4802 - acc: 0.7696 - val_loss: 0.3332 - val_acc: 0.9053\n",
      "Epoch 51/200\n",
      "7308/7308 [==============================] - 0s 52us/step - loss: 0.4732 - acc: 0.7703 - val_loss: 0.3593 - val_acc: 0.8821\n",
      "Epoch 52/200\n",
      "7308/7308 [==============================] - 0s 49us/step - loss: 0.4723 - acc: 0.7731 - val_loss: 0.3638 - val_acc: 0.8976\n",
      "Epoch 53/200\n",
      "7308/7308 [==============================] - 0s 51us/step - loss: 0.4730 - acc: 0.7734 - val_loss: 0.3275 - val_acc: 0.9122\n",
      "Epoch 54/200\n",
      "7308/7308 [==============================] - 0s 48us/step - loss: 0.4740 - acc: 0.7687 - val_loss: 0.3699 - val_acc: 0.8888\n",
      "Epoch 55/200\n",
      "7308/7308 [==============================] - 0s 48us/step - loss: 0.4730 - acc: 0.7718 - val_loss: 0.3231 - val_acc: 0.9159\n",
      "Epoch 56/200\n",
      "7308/7308 [==============================] - 0s 52us/step - loss: 0.4735 - acc: 0.7734 - val_loss: 0.3532 - val_acc: 0.8841\n",
      "Epoch 57/200\n",
      "7308/7308 [==============================] - 0s 49us/step - loss: 0.4750 - acc: 0.7746 - val_loss: 0.3341 - val_acc: 0.9184\n",
      "Epoch 58/200\n",
      "7308/7308 [==============================] - 0s 55us/step - loss: 0.4735 - acc: 0.7727 - val_loss: 0.3579 - val_acc: 0.8977\n",
      "Epoch 59/200\n",
      "7308/7308 [==============================] - 0s 49us/step - loss: 0.4700 - acc: 0.7737 - val_loss: 0.3225 - val_acc: 0.9117\n",
      "Epoch 60/200\n",
      "7308/7308 [==============================] - 0s 46us/step - loss: 0.4723 - acc: 0.7726 - val_loss: 0.3100 - val_acc: 0.9309\n",
      "Epoch 61/200\n",
      "7308/7308 [==============================] - 0s 47us/step - loss: 0.4737 - acc: 0.7718 - val_loss: 0.3472 - val_acc: 0.9030\n",
      "Epoch 62/200\n",
      "7308/7308 [==============================] - 0s 49us/step - loss: 0.4727 - acc: 0.7726 - val_loss: 0.3719 - val_acc: 0.8762\n",
      "Epoch 63/200\n",
      "7308/7308 [==============================] - 0s 49us/step - loss: 0.4705 - acc: 0.7771 - val_loss: 0.3349 - val_acc: 0.9133\n",
      "Epoch 64/200\n",
      "7308/7308 [==============================] - 0s 51us/step - loss: 0.4687 - acc: 0.7760 - val_loss: 0.3370 - val_acc: 0.9076\n",
      "Epoch 65/200\n",
      "7308/7308 [==============================] - 0s 50us/step - loss: 0.4737 - acc: 0.7745 - val_loss: 0.4086 - val_acc: 0.8436\n",
      "Epoch 66/200\n",
      "7308/7308 [==============================] - 0s 49us/step - loss: 0.4714 - acc: 0.7712 - val_loss: 0.3484 - val_acc: 0.9027\n",
      "Epoch 67/200\n",
      "7308/7308 [==============================] - 0s 52us/step - loss: 0.4684 - acc: 0.7746 - val_loss: 0.3390 - val_acc: 0.9098\n",
      "Epoch 68/200\n",
      "7308/7308 [==============================] - 0s 51us/step - loss: 0.4686 - acc: 0.7778 - val_loss: 0.3704 - val_acc: 0.8745\n",
      "Epoch 69/200\n",
      "7308/7308 [==============================] - 0s 46us/step - loss: 0.4671 - acc: 0.7744 - val_loss: 0.3473 - val_acc: 0.9069\n",
      "Epoch 70/200\n",
      "7308/7308 [==============================] - 0s 47us/step - loss: 0.4726 - acc: 0.7760 - val_loss: 0.3707 - val_acc: 0.8752\n",
      "Epoch 71/200\n",
      "7308/7308 [==============================] - 0s 48us/step - loss: 0.4695 - acc: 0.7739 - val_loss: 0.3215 - val_acc: 0.9119\n",
      "Epoch 72/200\n",
      "7308/7308 [==============================] - 0s 46us/step - loss: 0.4724 - acc: 0.7742 - val_loss: 0.3711 - val_acc: 0.8789\n",
      "Epoch 73/200\n",
      "7308/7308 [==============================] - 0s 49us/step - loss: 0.4691 - acc: 0.7755 - val_loss: 0.3331 - val_acc: 0.9160\n",
      "Epoch 74/200\n",
      "7308/7308 [==============================] - 0s 49us/step - loss: 0.4744 - acc: 0.7703 - val_loss: 0.3825 - val_acc: 0.8560\n",
      "Epoch 75/200\n",
      "7308/7308 [==============================] - 0s 48us/step - loss: 0.4751 - acc: 0.7715 - val_loss: 0.3287 - val_acc: 0.9177\n",
      "Epoch 76/200\n",
      "7308/7308 [==============================] - 0s 51us/step - loss: 0.4733 - acc: 0.7719 - val_loss: 0.3565 - val_acc: 0.8910\n",
      "Epoch 77/200\n",
      "7308/7308 [==============================] - 0s 47us/step - loss: 0.4713 - acc: 0.7730 - val_loss: 0.3200 - val_acc: 0.9134\n",
      "Epoch 78/200\n",
      "7308/7308 [==============================] - 0s 48us/step - loss: 0.4675 - acc: 0.7727 - val_loss: 0.3317 - val_acc: 0.9055\n",
      "Epoch 79/200\n",
      "7308/7308 [==============================] - 0s 51us/step - loss: 0.4710 - acc: 0.7738 - val_loss: 0.3269 - val_acc: 0.9185\n",
      "Epoch 80/200\n",
      "7308/7308 [==============================] - 0s 47us/step - loss: 0.4709 - acc: 0.7733 - val_loss: 0.3503 - val_acc: 0.9085\n",
      "Epoch 81/200\n",
      "7308/7308 [==============================] - 0s 49us/step - loss: 0.4659 - acc: 0.7756 - val_loss: 0.4008 - val_acc: 0.8249\n",
      "Epoch 82/200\n",
      "7308/7308 [==============================] - 0s 49us/step - loss: 0.4708 - acc: 0.7727 - val_loss: 0.3505 - val_acc: 0.9014\n",
      "Epoch 83/200\n",
      "7308/7308 [==============================] - 0s 45us/step - loss: 0.4741 - acc: 0.7742 - val_loss: 0.3200 - val_acc: 0.9198\n",
      "Epoch 84/200\n",
      "7308/7308 [==============================] - 0s 48us/step - loss: 0.4690 - acc: 0.7734 - val_loss: 0.3684 - val_acc: 0.8912\n",
      "Epoch 85/200\n",
      "7308/7308 [==============================] - 0s 50us/step - loss: 0.4678 - acc: 0.7718 - val_loss: 0.3499 - val_acc: 0.8999\n",
      "Epoch 86/200\n",
      "7308/7308 [==============================] - 0s 48us/step - loss: 0.4684 - acc: 0.7733 - val_loss: 0.3004 - val_acc: 0.9281\n",
      "Epoch 87/200\n",
      "7308/7308 [==============================] - 0s 50us/step - loss: 0.4705 - acc: 0.7745 - val_loss: 0.3577 - val_acc: 0.8915\n",
      "Epoch 88/200\n",
      "7308/7308 [==============================] - 0s 51us/step - loss: 0.4647 - acc: 0.7763 - val_loss: 0.3752 - val_acc: 0.8726\n",
      "Epoch 89/200\n",
      "7308/7308 [==============================] - 0s 49us/step - loss: 0.4688 - acc: 0.7723 - val_loss: 0.3258 - val_acc: 0.9085\n",
      "Epoch 90/200\n",
      "7308/7308 [==============================] - 0s 50us/step - loss: 0.4646 - acc: 0.7760 - val_loss: 0.4033 - val_acc: 0.8408\n",
      "Epoch 91/200\n",
      "7308/7308 [==============================] - 0s 49us/step - loss: 0.4647 - acc: 0.7760 - val_loss: 0.3568 - val_acc: 0.8806\n",
      "Epoch 92/200\n",
      "7308/7308 [==============================] - 0s 52us/step - loss: 0.4684 - acc: 0.7748 - val_loss: 0.2923 - val_acc: 0.9324\n",
      "Epoch 93/200\n",
      "7308/7308 [==============================] - 0s 49us/step - loss: 0.4701 - acc: 0.7741 - val_loss: 0.3168 - val_acc: 0.9161\n",
      "Epoch 94/200\n",
      "7308/7308 [==============================] - 0s 50us/step - loss: 0.4674 - acc: 0.7782 - val_loss: 0.3446 - val_acc: 0.9055\n",
      "Epoch 95/200\n",
      "7308/7308 [==============================] - 0s 51us/step - loss: 0.4639 - acc: 0.7756 - val_loss: 0.3084 - val_acc: 0.9179\n",
      "Epoch 96/200\n",
      "7308/7308 [==============================] - 0s 50us/step - loss: 0.4643 - acc: 0.7772 - val_loss: 0.3710 - val_acc: 0.8562\n",
      "Epoch 97/200\n",
      "7308/7308 [==============================] - 0s 48us/step - loss: 0.4629 - acc: 0.7763 - val_loss: 0.2931 - val_acc: 0.9251\n",
      "Epoch 98/200\n",
      "7308/7308 [==============================] - 0s 48us/step - loss: 0.4661 - acc: 0.7748 - val_loss: 0.3520 - val_acc: 0.8946\n",
      "Epoch 99/200\n",
      "7308/7308 [==============================] - 0s 49us/step - loss: 0.4628 - acc: 0.7763 - val_loss: 0.3190 - val_acc: 0.9143\n",
      "Epoch 100/200\n",
      "7308/7308 [==============================] - 0s 48us/step - loss: 0.4627 - acc: 0.7779 - val_loss: 0.3586 - val_acc: 0.8954\n",
      "Epoch 101/200\n",
      "7308/7308 [==============================] - 0s 49us/step - loss: 0.4632 - acc: 0.7768 - val_loss: 0.3166 - val_acc: 0.9242\n",
      "Epoch 102/200\n",
      "7308/7308 [==============================] - 0s 49us/step - loss: 0.4655 - acc: 0.7783 - val_loss: 0.3197 - val_acc: 0.9200\n",
      "Epoch 103/200\n",
      "7308/7308 [==============================] - 0s 51us/step - loss: 0.4659 - acc: 0.7716 - val_loss: 0.3905 - val_acc: 0.8544\n",
      "Epoch 104/200\n",
      "7308/7308 [==============================] - 0s 48us/step - loss: 0.4647 - acc: 0.7741 - val_loss: 0.3307 - val_acc: 0.9141\n",
      "Epoch 105/200\n",
      "7308/7308 [==============================] - 0s 48us/step - loss: 0.4681 - acc: 0.7718 - val_loss: 0.3224 - val_acc: 0.9070\n",
      "Epoch 106/200\n",
      "7308/7308 [==============================] - 0s 48us/step - loss: 0.4612 - acc: 0.7770 - val_loss: 0.3351 - val_acc: 0.9075\n",
      "Epoch 107/200\n",
      "7308/7308 [==============================] - 0s 46us/step - loss: 0.4617 - acc: 0.7802 - val_loss: 0.3309 - val_acc: 0.9055\n",
      "Epoch 108/200\n",
      "7308/7308 [==============================] - 0s 48us/step - loss: 0.4655 - acc: 0.7760 - val_loss: 0.3383 - val_acc: 0.8983\n",
      "Epoch 109/200\n",
      "7308/7308 [==============================] - 0s 48us/step - loss: 0.4620 - acc: 0.7770 - val_loss: 0.3540 - val_acc: 0.8884\n",
      "Epoch 110/200\n",
      "7308/7308 [==============================] - 0s 56us/step - loss: 0.4626 - acc: 0.7801 - val_loss: 0.3087 - val_acc: 0.9173\n",
      "Epoch 111/200\n",
      "7308/7308 [==============================] - 0s 51us/step - loss: 0.4618 - acc: 0.7787 - val_loss: 0.3594 - val_acc: 0.8903\n",
      "Epoch 112/200\n",
      "7308/7308 [==============================] - 0s 48us/step - loss: 0.4624 - acc: 0.7767 - val_loss: 0.3599 - val_acc: 0.9031\n",
      "Epoch 113/200\n",
      "7308/7308 [==============================] - 0s 48us/step - loss: 0.4656 - acc: 0.7775 - val_loss: 0.3634 - val_acc: 0.8866\n",
      "Epoch 114/200\n",
      "7308/7308 [==============================] - 0s 48us/step - loss: 0.4581 - acc: 0.7790 - val_loss: 0.3338 - val_acc: 0.9005\n",
      "Epoch 115/200\n",
      "7308/7308 [==============================] - 0s 51us/step - loss: 0.4611 - acc: 0.7785 - val_loss: 0.2993 - val_acc: 0.9317\n",
      "Epoch 116/200\n",
      "7308/7308 [==============================] - 0s 48us/step - loss: 0.4610 - acc: 0.7772 - val_loss: 0.3144 - val_acc: 0.9253\n",
      "Epoch 117/200\n",
      "7308/7308 [==============================] - 0s 50us/step - loss: 0.4589 - acc: 0.7812 - val_loss: 0.3420 - val_acc: 0.9099\n",
      "Epoch 118/200\n",
      "7308/7308 [==============================] - 0s 48us/step - loss: 0.4620 - acc: 0.7760 - val_loss: 0.2835 - val_acc: 0.9286\n",
      "Epoch 119/200\n",
      "7308/7308 [==============================] - 0s 47us/step - loss: 0.4672 - acc: 0.7786 - val_loss: 0.3143 - val_acc: 0.9170\n",
      "Epoch 120/200\n",
      "7308/7308 [==============================] - 0s 49us/step - loss: 0.4627 - acc: 0.7752 - val_loss: 0.3848 - val_acc: 0.8503\n",
      "Epoch 121/200\n",
      "7308/7308 [==============================] - 0s 46us/step - loss: 0.4597 - acc: 0.7748 - val_loss: 0.3618 - val_acc: 0.8846\n",
      "Epoch 122/200\n",
      "7308/7308 [==============================] - 0s 48us/step - loss: 0.4589 - acc: 0.7781 - val_loss: 0.3745 - val_acc: 0.8770\n",
      "Epoch 123/200\n",
      "7308/7308 [==============================] - 0s 48us/step - loss: 0.4586 - acc: 0.7761 - val_loss: 0.3545 - val_acc: 0.8786\n",
      "Epoch 124/200\n",
      "7308/7308 [==============================] - 0s 46us/step - loss: 0.4571 - acc: 0.7798 - val_loss: 0.3416 - val_acc: 0.8994\n",
      "Epoch 125/200\n",
      "7308/7308 [==============================] - 0s 47us/step - loss: 0.4607 - acc: 0.7775 - val_loss: 0.3137 - val_acc: 0.9225\n",
      "Epoch 126/200\n",
      "7308/7308 [==============================] - 0s 47us/step - loss: 0.4574 - acc: 0.7794 - val_loss: 0.3631 - val_acc: 0.8786\n",
      "Epoch 127/200\n",
      "7308/7308 [==============================] - 0s 48us/step - loss: 0.4615 - acc: 0.7796 - val_loss: 0.3433 - val_acc: 0.8918\n",
      "Epoch 128/200\n",
      "7308/7308 [==============================] - 0s 48us/step - loss: 0.4589 - acc: 0.7767 - val_loss: 0.3248 - val_acc: 0.9110\n",
      "Epoch 129/200\n",
      "7308/7308 [==============================] - 0s 50us/step - loss: 0.4594 - acc: 0.7800 - val_loss: 0.3655 - val_acc: 0.8757\n",
      "Epoch 130/200\n",
      "7308/7308 [==============================] - 0s 52us/step - loss: 0.4585 - acc: 0.7798 - val_loss: 0.3381 - val_acc: 0.8892\n",
      "Epoch 131/200\n",
      "7308/7308 [==============================] - 0s 48us/step - loss: 0.4589 - acc: 0.7820 - val_loss: 0.3677 - val_acc: 0.8786\n",
      "Epoch 132/200\n",
      "7308/7308 [==============================] - 0s 48us/step - loss: 0.4550 - acc: 0.7826 - val_loss: 0.3840 - val_acc: 0.8584\n",
      "Epoch 133/200\n",
      "7308/7308 [==============================] - 0s 49us/step - loss: 0.4577 - acc: 0.7819 - val_loss: 0.3253 - val_acc: 0.9101\n",
      "Epoch 134/200\n",
      "7308/7308 [==============================] - 0s 49us/step - loss: 0.4567 - acc: 0.7813 - val_loss: 0.3399 - val_acc: 0.8962\n",
      "Epoch 135/200\n",
      "7308/7308 [==============================] - 0s 49us/step - loss: 0.4575 - acc: 0.7805 - val_loss: 0.3662 - val_acc: 0.8843\n",
      "Epoch 136/200\n",
      "7308/7308 [==============================] - 0s 47us/step - loss: 0.4569 - acc: 0.7828 - val_loss: 0.3668 - val_acc: 0.8756\n",
      "Epoch 137/200\n",
      "7308/7308 [==============================] - 0s 49us/step - loss: 0.4602 - acc: 0.7801 - val_loss: 0.3215 - val_acc: 0.9178\n",
      "Epoch 138/200\n",
      "7308/7308 [==============================] - 0s 49us/step - loss: 0.4584 - acc: 0.7779 - val_loss: 0.3806 - val_acc: 0.8694\n",
      "Epoch 139/200\n",
      "7308/7308 [==============================] - 0s 52us/step - loss: 0.4575 - acc: 0.7797 - val_loss: 0.3534 - val_acc: 0.8816\n",
      "Epoch 140/200\n",
      "7308/7308 [==============================] - 0s 49us/step - loss: 0.4532 - acc: 0.7849 - val_loss: 0.3312 - val_acc: 0.9115\n",
      "Epoch 141/200\n",
      "7308/7308 [==============================] - 0s 47us/step - loss: 0.4512 - acc: 0.7831 - val_loss: 0.3240 - val_acc: 0.9092\n",
      "Epoch 142/200\n",
      "7308/7308 [==============================] - 0s 48us/step - loss: 0.4540 - acc: 0.7791 - val_loss: 0.3315 - val_acc: 0.9003\n",
      "Epoch 143/200\n",
      "7308/7308 [==============================] - 0s 46us/step - loss: 0.4534 - acc: 0.7770 - val_loss: 0.3102 - val_acc: 0.9185\n",
      "Epoch 144/200\n",
      "7308/7308 [==============================] - 0s 47us/step - loss: 0.4541 - acc: 0.7820 - val_loss: 0.3340 - val_acc: 0.9079\n",
      "Epoch 145/200\n",
      "7308/7308 [==============================] - 0s 53us/step - loss: 0.4574 - acc: 0.7835 - val_loss: 0.3249 - val_acc: 0.9020\n",
      "Epoch 146/200\n",
      "7308/7308 [==============================] - 0s 50us/step - loss: 0.4535 - acc: 0.7808 - val_loss: 0.4003 - val_acc: 0.8590\n",
      "Epoch 147/200\n",
      "7308/7308 [==============================] - 0s 48us/step - loss: 0.4543 - acc: 0.7833 - val_loss: 0.3723 - val_acc: 0.8677\n",
      "Epoch 148/200\n",
      "7308/7308 [==============================] - 0s 49us/step - loss: 0.4534 - acc: 0.7800 - val_loss: 0.3369 - val_acc: 0.9021\n",
      "Epoch 149/200\n",
      "7308/7308 [==============================] - 0s 48us/step - loss: 0.4532 - acc: 0.7867 - val_loss: 0.3313 - val_acc: 0.9100\n",
      "Epoch 150/200\n",
      "7308/7308 [==============================] - 0s 49us/step - loss: 0.4546 - acc: 0.7812 - val_loss: 0.3288 - val_acc: 0.8978\n",
      "Epoch 151/200\n",
      "7308/7308 [==============================] - 0s 49us/step - loss: 0.4547 - acc: 0.7793 - val_loss: 0.4227 - val_acc: 0.8286\n",
      "Epoch 152/200\n",
      "7308/7308 [==============================] - 0s 48us/step - loss: 0.4547 - acc: 0.7828 - val_loss: 0.3525 - val_acc: 0.8880\n",
      "Epoch 153/200\n",
      "7308/7308 [==============================] - 0s 49us/step - loss: 0.4552 - acc: 0.7833 - val_loss: 0.3285 - val_acc: 0.9180\n",
      "Epoch 154/200\n",
      "7308/7308 [==============================] - 0s 49us/step - loss: 0.4559 - acc: 0.7778 - val_loss: 0.4052 - val_acc: 0.8446\n",
      "Epoch 155/200\n",
      "7308/7308 [==============================] - 0s 49us/step - loss: 0.4543 - acc: 0.7804 - val_loss: 0.4093 - val_acc: 0.8349\n",
      "Epoch 156/200\n",
      "7308/7308 [==============================] - 0s 50us/step - loss: 0.4520 - acc: 0.7808 - val_loss: 0.3310 - val_acc: 0.9065\n",
      "Epoch 157/200\n",
      "7308/7308 [==============================] - 0s 49us/step - loss: 0.4514 - acc: 0.7848 - val_loss: 0.3948 - val_acc: 0.8668\n",
      "Epoch 158/200\n",
      "7308/7308 [==============================] - 0s 47us/step - loss: 0.4536 - acc: 0.7808 - val_loss: 0.3994 - val_acc: 0.8484\n",
      "Epoch 159/200\n",
      "7308/7308 [==============================] - 0s 50us/step - loss: 0.4547 - acc: 0.7830 - val_loss: 0.3824 - val_acc: 0.8700\n",
      "Epoch 160/200\n",
      "7308/7308 [==============================] - 0s 47us/step - loss: 0.4490 - acc: 0.7853 - val_loss: 0.3193 - val_acc: 0.9096\n",
      "Epoch 161/200\n",
      "7308/7308 [==============================] - 0s 45us/step - loss: 0.4554 - acc: 0.7807 - val_loss: 0.3507 - val_acc: 0.8938\n",
      "Epoch 162/200\n",
      "7308/7308 [==============================] - 0s 50us/step - loss: 0.4478 - acc: 0.7860 - val_loss: 0.4035 - val_acc: 0.8382\n",
      "Epoch 163/200\n",
      "7308/7308 [==============================] - 0s 51us/step - loss: 0.4507 - acc: 0.7815 - val_loss: 0.3380 - val_acc: 0.8924\n",
      "Epoch 164/200\n",
      "7308/7308 [==============================] - 0s 48us/step - loss: 0.4549 - acc: 0.7852 - val_loss: 0.4094 - val_acc: 0.8442\n",
      "Epoch 165/200\n",
      "7308/7308 [==============================] - 0s 49us/step - loss: 0.4572 - acc: 0.7793 - val_loss: 0.3536 - val_acc: 0.8904\n",
      "Epoch 166/200\n",
      "7308/7308 [==============================] - 0s 49us/step - loss: 0.4490 - acc: 0.7815 - val_loss: 0.3253 - val_acc: 0.9060\n",
      "Epoch 167/200\n",
      "7308/7308 [==============================] - 0s 50us/step - loss: 0.4482 - acc: 0.7837 - val_loss: 0.3484 - val_acc: 0.8895\n",
      "Epoch 168/200\n",
      "7308/7308 [==============================] - 0s 48us/step - loss: 0.4507 - acc: 0.7815 - val_loss: 0.3341 - val_acc: 0.9143\n",
      "Epoch 169/200\n",
      "7308/7308 [==============================] - 0s 45us/step - loss: 0.4478 - acc: 0.7838 - val_loss: 0.3234 - val_acc: 0.9039\n",
      "Epoch 170/200\n",
      "7308/7308 [==============================] - 0s 49us/step - loss: 0.4468 - acc: 0.7879 - val_loss: 0.3410 - val_acc: 0.8993\n",
      "Epoch 171/200\n",
      "7308/7308 [==============================] - 0s 48us/step - loss: 0.4497 - acc: 0.7819 - val_loss: 0.3484 - val_acc: 0.8826\n",
      "Epoch 172/200\n",
      "7308/7308 [==============================] - 0s 47us/step - loss: 0.4525 - acc: 0.7812 - val_loss: 0.3644 - val_acc: 0.8730\n",
      "Epoch 173/200\n",
      "7308/7308 [==============================] - 0s 48us/step - loss: 0.4475 - acc: 0.7856 - val_loss: 0.4048 - val_acc: 0.8507\n",
      "Epoch 174/200\n",
      "7308/7308 [==============================] - 0s 49us/step - loss: 0.4502 - acc: 0.7820 - val_loss: 0.3510 - val_acc: 0.8952\n",
      "Epoch 175/200\n",
      "7308/7308 [==============================] - 0s 55us/step - loss: 0.4525 - acc: 0.7822 - val_loss: 0.3635 - val_acc: 0.8870\n",
      "Epoch 176/200\n",
      "7308/7308 [==============================] - 0s 58us/step - loss: 0.4526 - acc: 0.7812 - val_loss: 0.3023 - val_acc: 0.9193\n",
      "Epoch 177/200\n",
      "7308/7308 [==============================] - 0s 54us/step - loss: 0.4482 - acc: 0.7826 - val_loss: 0.4024 - val_acc: 0.8431\n",
      "Epoch 178/200\n",
      "7308/7308 [==============================] - 0s 58us/step - loss: 0.4531 - acc: 0.7813 - val_loss: 0.3733 - val_acc: 0.8625\n",
      "Epoch 179/200\n",
      "7308/7308 [==============================] - 0s 56us/step - loss: 0.4509 - acc: 0.7820 - val_loss: 0.3499 - val_acc: 0.8962\n",
      "Epoch 180/200\n",
      "7308/7308 [==============================] - 0s 51us/step - loss: 0.4477 - acc: 0.7843 - val_loss: 0.3463 - val_acc: 0.8948\n",
      "Epoch 181/200\n",
      "7308/7308 [==============================] - 0s 55us/step - loss: 0.4554 - acc: 0.7820 - val_loss: 0.3872 - val_acc: 0.8641\n",
      "Epoch 182/200\n",
      "7308/7308 [==============================] - 0s 51us/step - loss: 0.4482 - acc: 0.7856 - val_loss: 0.3370 - val_acc: 0.8986\n",
      "Epoch 183/200\n",
      "7308/7308 [==============================] - 0s 52us/step - loss: 0.4466 - acc: 0.7846 - val_loss: 0.3770 - val_acc: 0.8776\n",
      "Epoch 184/200\n",
      "7308/7308 [==============================] - 0s 52us/step - loss: 0.4470 - acc: 0.7871 - val_loss: 0.3281 - val_acc: 0.9087\n",
      "Epoch 185/200\n",
      "7308/7308 [==============================] - 0s 51us/step - loss: 0.4497 - acc: 0.7842 - val_loss: 0.3156 - val_acc: 0.9139\n",
      "Epoch 186/200\n",
      "7308/7308 [==============================] - 0s 54us/step - loss: 0.4469 - acc: 0.7876 - val_loss: 0.3628 - val_acc: 0.8916\n",
      "Epoch 187/200\n",
      "7308/7308 [==============================] - 0s 54us/step - loss: 0.4479 - acc: 0.7839 - val_loss: 0.4371 - val_acc: 0.8485\n",
      "Epoch 188/200\n",
      "7308/7308 [==============================] - 0s 53us/step - loss: 0.4471 - acc: 0.7828 - val_loss: 0.3805 - val_acc: 0.8570\n",
      "Epoch 189/200\n",
      "7308/7308 [==============================] - 0s 55us/step - loss: 0.4455 - acc: 0.7864 - val_loss: 0.3207 - val_acc: 0.9061\n",
      "Epoch 190/200\n",
      "7308/7308 [==============================] - 0s 51us/step - loss: 0.4478 - acc: 0.7824 - val_loss: 0.3780 - val_acc: 0.8745\n",
      "Epoch 191/200\n",
      "7308/7308 [==============================] - 0s 59us/step - loss: 0.4448 - acc: 0.7891 - val_loss: 0.3790 - val_acc: 0.8737\n",
      "Epoch 192/200\n",
      "7308/7308 [==============================] - 0s 53us/step - loss: 0.4439 - acc: 0.7912 - val_loss: 0.3283 - val_acc: 0.9031\n",
      "Epoch 193/200\n",
      "7308/7308 [==============================] - 0s 53us/step - loss: 0.4441 - acc: 0.7839 - val_loss: 0.4065 - val_acc: 0.8512\n",
      "Epoch 194/200\n",
      "7308/7308 [==============================] - 0s 54us/step - loss: 0.4451 - acc: 0.7902 - val_loss: 0.3658 - val_acc: 0.8778\n",
      "Epoch 195/200\n",
      "7308/7308 [==============================] - 0s 53us/step - loss: 0.4422 - acc: 0.7891 - val_loss: 0.3667 - val_acc: 0.8745\n",
      "Epoch 196/200\n",
      "7308/7308 [==============================] - 0s 54us/step - loss: 0.4423 - acc: 0.7845 - val_loss: 0.3294 - val_acc: 0.8978\n",
      "Epoch 197/200\n",
      "7308/7308 [==============================] - 0s 52us/step - loss: 0.4437 - acc: 0.7883 - val_loss: 0.3629 - val_acc: 0.8752\n",
      "Epoch 198/200\n",
      "7308/7308 [==============================] - 0s 53us/step - loss: 0.4437 - acc: 0.7861 - val_loss: 0.4359 - val_acc: 0.8278\n",
      "Epoch 199/200\n",
      "7308/7308 [==============================] - 0s 58us/step - loss: 0.4538 - acc: 0.7774 - val_loss: 0.3481 - val_acc: 0.8825\n",
      "Epoch 200/200\n",
      "7308/7308 [==============================] - 0s 54us/step - loss: 0.4460 - acc: 0.7831 - val_loss: 0.3510 - val_acc: 0.9011\n"
     ]
    },
    {
     "data": {
      "text/plain": [
       "<keras.callbacks.callbacks.History at 0x7fb68f24f2e8>"
      ]
     },
     "execution_count": 98,
     "metadata": {
      "tags": []
     },
     "output_type": "execute_result"
    }
   ],
   "source": [
    "## train for yet another 200 epochs and test the loss and accuracy for the test dataset at the end of each epoch\n",
    "keras_model.fit(shuffled_scaled_train_vectors_lstm, shuffle_train_y, batch_size=256, epochs=200, validation_data=(shuffled_scaled_test_vectors_lstm, suffle_test_y))"
   ]
  },
  {
   "cell_type": "code",
   "execution_count": null,
   "metadata": {
    "colab": {
     "base_uri": "https://localhost:8080/",
     "height": 34
    },
    "colab_type": "code",
    "executionInfo": {
     "elapsed": 1288,
     "status": "ok",
     "timestamp": 1596333377627,
     "user": {
      "displayName": "Tanisha Bhayani",
      "photoUrl": "",
      "userId": "03093037226242090836"
     },
     "user_tz": -330
    },
    "id": "3QG0vyzl-vkJ",
    "outputId": "b1d9194e-1c6c-4686-a045-ff48cc8e26a3"
   },
   "outputs": [
    {
     "data": {
      "text/plain": [
       "0.6721115832968032"
      ]
     },
     "execution_count": 100,
     "metadata": {
      "tags": []
     },
     "output_type": "execute_result"
    }
   ],
   "source": [
    "## we obtained the the auroc score of the keras Deep Learning based LSTM model\n",
    "roc_auc_score(suffle_test_y, keras_model.predict(shuffled_scaled_test_vectors_lstm)[:, 0])"
   ]
  },
  {
   "cell_type": "code",
   "execution_count": null,
   "metadata": {
    "colab": {},
    "colab_type": "code",
    "id": "dxaWbzD6pXhn"
   },
   "outputs": [],
   "source": []
  }
 ],
 "metadata": {
  "colab": {
   "authorship_tag": "ABX9TyM3Yc21zsHOeZ73+DilPlKm",
   "collapsed_sections": [],
   "mount_file_id": "1qW1E2FnQOR-yllNQt-GKNhe5g0-Fumx3",
   "name": "ML4",
   "provenance": []
  },
  "kernelspec": {
   "display_name": "Python 3",
   "language": "python",
   "name": "python3"
  },
  "language_info": {
   "codemirror_mode": {
    "name": "ipython",
    "version": 3
   },
   "file_extension": ".py",
   "mimetype": "text/x-python",
   "name": "python",
   "nbconvert_exporter": "python",
   "pygments_lexer": "ipython3",
   "version": "3.7.4"
  }
 },
 "nbformat": 4,
 "nbformat_minor": 1
}
