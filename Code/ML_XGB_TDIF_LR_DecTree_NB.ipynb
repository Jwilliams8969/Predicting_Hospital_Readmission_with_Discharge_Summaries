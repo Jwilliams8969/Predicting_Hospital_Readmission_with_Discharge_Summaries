{
 "cells": [
  {
   "cell_type": "code",
   "execution_count": 59,
   "metadata": {
    "colab": {},
    "colab_type": "code",
    "id": "-qjbRu2HQ8y1"
   },
   "outputs": [],
   "source": [
    "# load cleaned data file (adm_ds2.csv) which is obtained after preprocessing"
   ]
  },
  {
   "cell_type": "code",
   "execution_count": 60,
   "metadata": {
    "colab": {},
    "colab_type": "code",
    "id": "2dnDtD39Q0Cc"
   },
   "outputs": [],
   "source": [
    "import pandas as pd\n",
    "import numpy as np\n",
    "import os, sys, math, csv, datetime, pickle, json, time"
   ]
  },
  {
   "cell_type": "code",
   "execution_count": 61,
   "metadata": {
    "colab": {},
    "colab_type": "code",
    "id": "WNs75DbAoY1u"
   },
   "outputs": [],
   "source": [
    "# load the libraries used for Machine Learning Analysis and training\n",
    "import gc\n",
    "from xgboost import XGBClassifier\n",
    "from sklearn.feature_extraction.text import TfidfVectorizer"
   ]
  },
  {
   "cell_type": "code",
   "execution_count": 62,
   "metadata": {
    "colab": {},
    "colab_type": "code",
    "id": "JrUtNV7Moa-v"
   },
   "outputs": [],
   "source": [
    "from sklearn.decomposition import TruncatedSVD"
   ]
  },
  {
   "cell_type": "code",
   "execution_count": 63,
   "metadata": {
    "colab": {},
    "colab_type": "code",
    "id": "3kEiAPtbodDj"
   },
   "outputs": [],
   "source": [
    "from sklearn.preprocessing import OneHotEncoder"
   ]
  },
  {
   "cell_type": "code",
   "execution_count": 64,
   "metadata": {
    "colab": {},
    "colab_type": "code",
    "id": "SsNdaR6zofIX"
   },
   "outputs": [],
   "source": [
    "from sklearn.model_selection import train_test_split"
   ]
  },
  {
   "cell_type": "code",
   "execution_count": 65,
   "metadata": {
    "colab": {},
    "colab_type": "code",
    "id": "a2u52tVRQ6tu"
   },
   "outputs": [],
   "source": [
    "from nltk.tokenize import word_tokenize"
   ]
  },
  {
   "cell_type": "code",
   "execution_count": 66,
   "metadata": {
    "colab": {},
    "colab_type": "code",
    "id": "FMKmSMkyaI2F"
   },
   "outputs": [],
   "source": [
    "import nltk"
   ]
  },
  {
   "cell_type": "code",
   "execution_count": 67,
   "metadata": {
    "colab": {},
    "colab_type": "code",
    "id": "KWC8HLhhaQ5E"
   },
   "outputs": [],
   "source": [
    "# load csv into a dataframe\n",
    "df = pd.read_csv('adm_ds2.csv')"
   ]
  },
  {
   "cell_type": "code",
   "execution_count": 68,
   "metadata": {
    "colab": {},
    "colab_type": "code",
    "id": "a3P95LLXlxl6"
   },
   "outputs": [],
   "source": [
    "# separate features and TARGET columns\n",
    "feature_df = df[df.columns[~df.columns.isin(['TARGET'])]]\n",
    "target_df = df.TARGET"
   ]
  },
  {
   "cell_type": "code",
   "execution_count": 69,
   "metadata": {
    "colab": {},
    "colab_type": "code",
    "id": "ivAv0I3Ko6V3"
   },
   "outputs": [],
   "source": [
    "# get 20% of total data into test dataset (train test split)\n",
    "train_features, test_features, train_target, test_target = train_test_split(feature_df, target_df, random_state=42, test_size=0.2)"
   ]
  },
  {
   "cell_type": "code",
   "execution_count": 70,
   "metadata": {
    "colab": {
     "base_uri": "https://localhost:8080/",
     "height": 34
    },
    "colab_type": "code",
    "executionInfo": {
     "elapsed": 27880,
     "status": "ok",
     "timestamp": 1596282203026,
     "user": {
      "displayName": "Tanisha Bhayani",
      "photoUrl": "",
      "userId": "03093037226242090836"
     },
     "user_tz": -330
    },
    "id": "lMs16U2Ko8DF",
    "outputId": "aa30f28e-a2bf-4e8a-e757-3176e799e341"
   },
   "outputs": [
    {
     "data": {
      "text/plain": [
       "((42180, 41), (10546, 41), (42180,), (10546,))"
      ]
     },
     "execution_count": 70,
     "metadata": {},
     "output_type": "execute_result"
    }
   ],
   "source": [
    "train_features.shape, test_features.shape, train_target.shape, test_target.shape"
   ]
  },
  {
   "cell_type": "code",
   "execution_count": 71,
   "metadata": {
    "colab": {},
    "colab_type": "code",
    "id": "5hC-1y69o_tv"
   },
   "outputs": [],
   "source": [
    "del feature_df, target_df"
   ]
  },
  {
   "cell_type": "code",
   "execution_count": 72,
   "metadata": {
    "colab": {},
    "colab_type": "code",
    "id": "84i34I51pCS7"
   },
   "outputs": [],
   "source": [
    "# get maximum 3000 features of summary text\n",
    "tfidf_summary = TfidfVectorizer(max_features=3000)"
   ]
  },
  {
   "cell_type": "code",
   "execution_count": 73,
   "metadata": {
    "colab": {},
    "colab_type": "code",
    "id": "N8fm41qBpEjl"
   },
   "outputs": [],
   "source": [
    "# use all the service tfidf feature\n",
    "tfidf_service = TfidfVectorizer()"
   ]
  },
  {
   "cell_type": "code",
   "execution_count": 74,
   "metadata": {
    "colab": {},
    "colab_type": "code",
    "id": "5-7BzshYpG9o"
   },
   "outputs": [],
   "source": [
    "# get maximum 2000 features of diagnosis text\n",
    "tfidf_diagnosis = TfidfVectorizer(max_features=2000)"
   ]
  },
  {
   "cell_type": "code",
   "execution_count": 75,
   "metadata": {
    "colab": {},
    "colab_type": "code",
    "id": "fUvC-L8rj36x"
   },
   "outputs": [],
   "source": [
    "# get tfidf features of processed cleaned summary and service and diagnosis"
   ]
  },
  {
   "cell_type": "code",
   "execution_count": 76,
   "metadata": {
    "colab": {},
    "colab_type": "code",
    "id": "Cxb_GES_pIZ3"
   },
   "outputs": [],
   "source": [
    "summary_features = tfidf_summary.fit_transform(train_features['cleaned_text'].fillna('')).toarray()"
   ]
  },
  {
   "cell_type": "code",
   "execution_count": 77,
   "metadata": {
    "colab": {},
    "colab_type": "code",
    "id": "1nUiS-RJpK-c"
   },
   "outputs": [],
   "source": [
    "service_features = tfidf_service.fit_transform(train_features['service1']).toarray()"
   ]
  },
  {
   "cell_type": "code",
   "execution_count": 78,
   "metadata": {
    "colab": {},
    "colab_type": "code",
    "id": "nv76OBuRsVSo"
   },
   "outputs": [],
   "source": [
    "diagnosis_features = tfidf_diagnosis.fit_transform(train_features['DIAGNOSIS']).toarray()"
   ]
  },
  {
   "cell_type": "code",
   "execution_count": 79,
   "metadata": {
    "colab": {},
    "colab_type": "code",
    "id": "gW3FO31KpMeb"
   },
   "outputs": [],
   "source": [
    "# load train vectos for summary features (train_vectors_cleaned_text_cbow.pkl)"
   ]
  },
  {
   "cell_type": "code",
   "execution_count": 80,
   "metadata": {
    "colab": {},
    "colab_type": "code",
    "id": "afIGyCNwpVd0"
   },
   "outputs": [],
   "source": [
    "import pickle\n",
    "\n",
    "# load train vectors from pickled file\n",
    "with open('train_vectors_cleaned_text_cbow.pkl', 'rb') as fin:\n",
    "  train_vectors = pickle.load(fin)"
   ]
  },
  {
   "cell_type": "code",
   "execution_count": 81,
   "metadata": {
    "colab": {
     "base_uri": "https://localhost:8080/",
     "height": 208
    },
    "colab_type": "code",
    "executionInfo": {
     "elapsed": 1236,
     "status": "ok",
     "timestamp": 1596280118600,
     "user": {
      "displayName": "Tanisha Bhayani",
      "photoUrl": "",
      "userId": "03093037226242090836"
     },
     "user_tz": -330
    },
    "id": "mCACpfD9pe84",
    "outputId": "bf610f87-2162-409b-ce46-2e284b561449"
   },
   "outputs": [
    {
     "data": {
      "text/plain": [
       "Index(['Unnamed: 0', 'ROW_ID_x', 'SUBJECT_ID', 'HADM_ID', 'CHARTDATE',\n",
       "       'CHARTTIME', 'STORETIME', 'CATEGORY', 'DESCRIPTION', 'CGID', 'ISERROR',\n",
       "       'TEXT', 'ROW_ID_y', 'ADMITTIME', 'DISCHTIME', 'DEATHTIME',\n",
       "       'ADMISSION_TYPE', 'ADMISSION_LOCATION', 'DISCHARGE_LOCATION',\n",
       "       'INSURANCE', 'LANGUAGE', 'RELIGION', 'MARITAL_STATUS', 'ETHNICITY',\n",
       "       'EDREGTIME', 'EDOUTTIME', 'DIAGNOSIS', 'HOSPITAL_EXPIRE_FLAG',\n",
       "       'HAS_CHARTEVENTS_DATA', 'NEXT_ADMITTIME', 'DAYS_IN_HOSPITAL',\n",
       "       'DAYS_WITHIN_NEXT_ADMIT', 'TIME_IN_EMERGENCY_WARD',\n",
       "       'DIFF_TIME_DEATH_DISCH', 'in_failure', 'FOLLOW_UP', 'service1',\n",
       "       'cleaned_text', 'sentiment', 'subjectivty', 'cleaned_text1'],\n",
       "      dtype='object')"
      ]
     },
     "execution_count": 81,
     "metadata": {},
     "output_type": "execute_result"
    }
   ],
   "source": [
    "train_features.columns"
   ]
  },
  {
   "cell_type": "code",
   "execution_count": 82,
   "metadata": {
    "colab": {
     "base_uri": "https://localhost:8080/",
     "height": 173
    },
    "colab_type": "code",
    "executionInfo": {
     "elapsed": 1185,
     "status": "ok",
     "timestamp": 1596282313608,
     "user": {
      "displayName": "Tanisha Bhayani",
      "photoUrl": "",
      "userId": "03093037226242090836"
     },
     "user_tz": -330
    },
    "id": "z-9OJXG7phry",
    "outputId": "5e95f11c-9f26-4321-d8c8-6c03a7881e54"
   },
   "outputs": [
    {
     "name": "stdout",
     "output_type": "stream",
     "text": [
      "(42180, 4)\n",
      "(42180, 9)\n",
      "(42180, 16)\n",
      "(42180, 5)\n",
      "(42180, 69)\n",
      "(42180, 19)\n",
      "(42180, 7)\n",
      "(42180, 41)\n",
      "(42180, 2)\n"
     ]
    }
   ],
   "source": [
    "ohe_cols = [\n",
    "    'ADMISSION_TYPE', 'ADMISSION_LOCATION', 'DISCHARGE_LOCATION',\n",
    "    'INSURANCE', 'LANGUAGE', 'RELIGION', 'MARITAL_STATUS', 'ETHNICITY', 'DESCRIPTION'\n",
    "]\n",
    "ohe_objects = {}\n",
    "ohe_features = {}\n",
    "\n",
    "# create one-hot features, get one hot feature representation of above columns\n",
    "\n",
    "for each_col in ohe_cols:\n",
    "  ohe_objects[each_col] = OneHotEncoder(handle_unknown='ignore')\n",
    "  ohe_features[each_col] = ohe_objects[each_col].fit_transform(train_features[each_col].values.reshape((-1, 1))).toarray()\n",
    "  print(ohe_features[each_col].shape)"
   ]
  },
  {
   "cell_type": "code",
   "execution_count": 83,
   "metadata": {
    "colab": {},
    "colab_type": "code",
    "id": "YxspOAylpqDs"
   },
   "outputs": [],
   "source": [
    "# use the combined one hot representation with other features obtained below\n",
    "ohe_features_array = np.concatenate(list(ohe_features.values()), axis=1)"
   ]
  },
  {
   "cell_type": "code",
   "execution_count": 84,
   "metadata": {
    "colab": {},
    "colab_type": "code",
    "id": "OAlAhZnQpsFK"
   },
   "outputs": [],
   "source": [
    "del ohe_features"
   ]
  },
  {
   "cell_type": "code",
   "execution_count": 85,
   "metadata": {
    "colab": {
     "base_uri": "https://localhost:8080/",
     "height": 34
    },
    "colab_type": "code",
    "executionInfo": {
     "elapsed": 1193,
     "status": "ok",
     "timestamp": 1596282316163,
     "user": {
      "displayName": "Tanisha Bhayani",
      "photoUrl": "",
      "userId": "03093037226242090836"
     },
     "user_tz": -330
    },
    "id": "JbbnpwKLpte2",
    "outputId": "ed87afab-20f0-46bb-a097-865aec1851df"
   },
   "outputs": [
    {
     "data": {
      "text/plain": [
       "(42180, 172)"
      ]
     },
     "execution_count": 85,
     "metadata": {},
     "output_type": "execute_result"
    }
   ],
   "source": [
    "ohe_features_array.shape"
   ]
  },
  {
   "cell_type": "code",
   "execution_count": 86,
   "metadata": {
    "colab": {},
    "colab_type": "code",
    "id": "iDwV6fYQpvFt"
   },
   "outputs": [],
   "source": [
    "# combine the float / numeric columns\n",
    "float_cols = [\n",
    "    'TIME_IN_EMERGENCY_WARD', 'in_failure', 'FOLLOW_UP', 'sentiment', 'subjectivty',\n",
    "    'HOSPITAL_EXPIRE_FLAG', 'DAYS_IN_HOSPITAL'\n",
    "]\n",
    "\n",
    "float_features = train_features[float_cols].values"
   ]
  },
  {
   "cell_type": "code",
   "execution_count": 87,
   "metadata": {
    "colab": {},
    "colab_type": "code",
    "id": "NDmJP3xOpwuA"
   },
   "outputs": [],
   "source": [
    "del train_features"
   ]
  },
  {
   "cell_type": "code",
   "execution_count": 88,
   "metadata": {
    "colab": {},
    "colab_type": "code",
    "id": "7mIbV14BpyG0"
   },
   "outputs": [],
   "source": [
    "# combine all the feature columns here to get complete training features\n",
    "all_train_features = np.concatenate(\n",
    "    [\n",
    "     summary_features,\n",
    "     service_features,\n",
    "    #  diagnosis_features,\n",
    "     ohe_features_array,\n",
    "     float_features,\n",
    "     train_vectors\n",
    "    ],\n",
    "    axis=1\n",
    ")"
   ]
  },
  {
   "cell_type": "markdown",
   "metadata": {
    "colab_type": "text",
    "id": "azzohf6AkOqD"
   },
   "source": [
    "Create an XGBoost Classifier for training the features obtained above (combination of different features)"
   ]
  },
  {
   "cell_type": "code",
   "execution_count": 89,
   "metadata": {
    "colab": {},
    "colab_type": "code",
    "id": "7erib7dMpz9n"
   },
   "outputs": [],
   "source": [
    "# create the xgboost classifier for training\n",
    "xgb = XGBClassifier()"
   ]
  },
  {
   "cell_type": "code",
   "execution_count": 90,
   "metadata": {
    "colab": {
     "base_uri": "https://localhost:8080/",
     "height": 139
    },
    "colab_type": "code",
    "executionInfo": {
     "elapsed": 419464,
     "status": "ok",
     "timestamp": 1596279628788,
     "user": {
      "displayName": "Tanisha Bhayani",
      "photoUrl": "",
      "userId": "03093037226242090836"
     },
     "user_tz": -330
    },
    "id": "VTP0E7yop6Qc",
    "outputId": "e9b3e70b-f7e6-4bc8-eceb-eb8a889dd02e"
   },
   "outputs": [
    {
     "data": {
      "text/plain": [
       "XGBClassifier()"
      ]
     },
     "execution_count": 90,
     "metadata": {},
     "output_type": "execute_result"
    }
   ],
   "source": [
    "# train the XGBOost classifier on train dataset\n",
    "xgb.fit(all_train_features, train_target)"
   ]
  },
  {
   "cell_type": "code",
   "execution_count": 91,
   "metadata": {
    "colab": {},
    "colab_type": "code",
    "id": "eUyrjqRgp7zQ"
   },
   "outputs": [],
   "source": [
    "# del all_train_features, train_target"
   ]
  },
  {
   "cell_type": "code",
   "execution_count": 92,
   "metadata": {
    "colab": {},
    "colab_type": "code",
    "id": "5kAskYE3z6Nw"
   },
   "outputs": [],
   "source": [
    "# transform test data to correct features - test data feature engineering"
   ]
  },
  {
   "cell_type": "code",
   "execution_count": 93,
   "metadata": {
    "colab": {},
    "colab_type": "code",
    "id": "TqKnDa73p9Rg"
   },
   "outputs": [],
   "source": [
    "# get test data summaries features\n",
    "test_summary_features = tfidf_summary.transform(test_features['cleaned_text'].fillna('')).toarray()"
   ]
  },
  {
   "cell_type": "code",
   "execution_count": 94,
   "metadata": {
    "colab": {},
    "colab_type": "code",
    "id": "QaeteNtKrtWN"
   },
   "outputs": [],
   "source": [
    "# get test data service features\n",
    "test_service_features = tfidf_service.transform(test_features['service1']).toarray()"
   ]
  },
  {
   "cell_type": "code",
   "execution_count": 95,
   "metadata": {
    "colab": {},
    "colab_type": "code",
    "id": "fA1n4Thes5r1"
   },
   "outputs": [],
   "source": [
    "# get test data diagnosis features\n",
    "test_diagnosis_features = tfidf_diagnosis.transform(test_features['DIAGNOSIS']).toarray()"
   ]
  },
  {
   "cell_type": "code",
   "execution_count": 96,
   "metadata": {
    "colab": {
     "base_uri": "https://localhost:8080/",
     "height": 173
    },
    "colab_type": "code",
    "executionInfo": {
     "elapsed": 929,
     "status": "ok",
     "timestamp": 1596282338374,
     "user": {
      "displayName": "Tanisha Bhayani",
      "photoUrl": "",
      "userId": "03093037226242090836"
     },
     "user_tz": -330
    },
    "id": "ciBSvpPkru3r",
    "outputId": "a6d989cd-0d08-4d92-c9e6-396ed507fce7"
   },
   "outputs": [
    {
     "name": "stdout",
     "output_type": "stream",
     "text": [
      "(10546, 4)\n",
      "(10546, 9)\n",
      "(10546, 16)\n",
      "(10546, 5)\n",
      "(10546, 69)\n",
      "(10546, 19)\n",
      "(10546, 7)\n",
      "(10546, 41)\n",
      "(10546, 2)\n"
     ]
    }
   ],
   "source": [
    "# ohe_cols = [\n",
    "#     'ADMISSION_TYPE', 'ADMISSION_LOCATION', 'DISCHARGE_LOCATION',\n",
    "#     'INSURANCE', 'LANGUAGE', 'RELIGION', 'MARITAL_STATUS', 'ETHNICITY', 'DESCRIPTION'\n",
    "# ]\n",
    "\n",
    "test_ohe_features = {}\n",
    "\n",
    "# get the test data one hot feature vectors\n",
    "\n",
    "for each_col in ohe_cols:\n",
    "  test_ohe_features[each_col] = ohe_objects[each_col].transform(test_features[each_col].values.reshape((-1, 1))).toarray()\n",
    "  print(test_ohe_features[each_col].shape)"
   ]
  },
  {
   "cell_type": "code",
   "execution_count": 97,
   "metadata": {
    "colab": {},
    "colab_type": "code",
    "id": "2du2RrLBrwoU"
   },
   "outputs": [],
   "source": [
    "# combine the test data one hot feature representations\n",
    "test_ohe_features_array = np.concatenate(list(test_ohe_features.values()), axis=1)"
   ]
  },
  {
   "cell_type": "code",
   "execution_count": 98,
   "metadata": {
    "colab": {},
    "colab_type": "code",
    "id": "46SjR7OvrzCQ"
   },
   "outputs": [],
   "source": [
    "del test_ohe_features"
   ]
  },
  {
   "cell_type": "code",
   "execution_count": 99,
   "metadata": {
    "colab": {},
    "colab_type": "code",
    "id": "i2ObP16xr0dr"
   },
   "outputs": [],
   "source": [
    "# float_cols = [\n",
    "#     'TIME_IN_EMERGENCY_WARD', 'in_failure', 'FOLLOW_UP', 'sentiment', 'subjectivty',\n",
    "#     'HOSPITAL_EXPIRE_FLAG', 'DAYS_IN_HOSPITAL'\n",
    "# ]\n",
    "\n",
    "test_float_features = test_features[float_cols].values"
   ]
  },
  {
   "cell_type": "code",
   "execution_count": 100,
   "metadata": {
    "colab": {},
    "colab_type": "code",
    "id": "VMNzjFq9r2AR"
   },
   "outputs": [],
   "source": [
    "# get the numerics test data and combine them (test_vectors_cleaned_text_cbow.pkl)"
   ]
  },
  {
   "cell_type": "code",
   "execution_count": 101,
   "metadata": {
    "colab": {},
    "colab_type": "code",
    "id": "4xwtig-er9PL"
   },
   "outputs": [],
   "source": [
    "# import pickle\n",
    "\n",
    "# load the test data feature vectors from its pickled file\n",
    "\n",
    "with open('test_vectors_cleaned_text_cbow.pkl', 'rb') as fin:\n",
    "  test_vectors = pickle.load(fin)"
   ]
  },
  {
   "cell_type": "code",
   "execution_count": 102,
   "metadata": {
    "colab": {},
    "colab_type": "code",
    "id": "zbjBHm74sCZi"
   },
   "outputs": [],
   "source": [
    "del test_features"
   ]
  },
  {
   "cell_type": "code",
   "execution_count": 103,
   "metadata": {
    "colab": {},
    "colab_type": "code",
    "id": "D5BPls1dsGCF"
   },
   "outputs": [],
   "source": [
    "# combine all the above test data feature vectors to prepare final test data features\n",
    "all_test_features = np.concatenate(\n",
    "    [\n",
    "     test_summary_features,\n",
    "     test_service_features,\n",
    "    #  diagnosis_features,\n",
    "     test_ohe_features_array,\n",
    "     test_float_features,\n",
    "     test_vectors\n",
    "    ],\n",
    "    axis=1\n",
    ")"
   ]
  },
  {
   "cell_type": "markdown",
   "metadata": {
    "colab_type": "text",
    "id": "cQlA-1UoksQ2"
   },
   "source": [
    "get predictions on test data"
   ]
  },
  {
   "cell_type": "code",
   "execution_count": 104,
   "metadata": {
    "colab": {},
    "colab_type": "code",
    "id": "9DkD5lGFsHXU"
   },
   "outputs": [],
   "source": [
    "# get predictions on test data\n",
    "# get the probability scores of the test data features\n",
    "test_pred_values = xgb.predict_proba(all_test_features)"
   ]
  },
  {
   "cell_type": "code",
   "execution_count": 105,
   "metadata": {
    "colab": {},
    "colab_type": "code",
    "id": "a2EttP7ZsQn9"
   },
   "outputs": [],
   "source": [
    "from sklearn.metrics import roc_auc_score"
   ]
  },
  {
   "cell_type": "code",
   "execution_count": 106,
   "metadata": {
    "colab": {
     "base_uri": "https://localhost:8080/",
     "height": 34
    },
    "colab_type": "code",
    "executionInfo": {
     "elapsed": 962,
     "status": "ok",
     "timestamp": 1596279825105,
     "user": {
      "displayName": "Tanisha Bhayani",
      "photoUrl": "",
      "userId": "03093037226242090836"
     },
     "user_tz": -330
    },
    "id": "6AazAVe_sLzu",
    "outputId": "e00a5e1c-eadd-41d3-b7a2-bf0b8f4702e8"
   },
   "outputs": [
    {
     "data": {
      "text/plain": [
       "0.7265264518695307"
      ]
     },
     "execution_count": 106,
     "metadata": {},
     "output_type": "execute_result"
    }
   ],
   "source": [
    "# calculate AUROC score for the test dataset\n",
    "roc_auc_score(test_target, test_pred_values[:, 1])"
   ]
  },
  {
   "cell_type": "markdown",
   "metadata": {
    "colab_type": "text",
    "id": "PzFkiUixk3Bc"
   },
   "source": [
    "We obtain an AUROC score of **0.7265264518695307** using XGBoost classfier with given feature settings"
   ]
  },
  {
   "cell_type": "code",
   "execution_count": 107,
   "metadata": {
    "colab": {},
    "colab_type": "code",
    "id": "joIM9EfbsOPw"
   },
   "outputs": [],
   "source": [
    "# use diagnosis features for training on LR, Naive Bayes\n",
    "all_train_features = np.concatenate(\n",
    "    [\n",
    "     summary_features,\n",
    "     service_features,\n",
    "     diagnosis_features,\n",
    "     ohe_features_array,\n",
    "     float_features,\n",
    "     train_vectors\n",
    "    ],\n",
    "    axis=1\n",
    ")"
   ]
  },
  {
   "cell_type": "code",
   "execution_count": 108,
   "metadata": {
    "colab": {
     "base_uri": "https://localhost:8080/",
     "height": 34
    },
    "colab_type": "code",
    "executionInfo": {
     "elapsed": 3034,
     "status": "ok",
     "timestamp": 1596282368927,
     "user": {
      "displayName": "Tanisha Bhayani",
      "photoUrl": "",
      "userId": "03093037226242090836"
     },
     "user_tz": -330
    },
    "id": "wusnErg4y8iY",
    "outputId": "79489b47-5179-4898-d873-b6f08aa5b5c4"
   },
   "outputs": [
    {
     "data": {
      "text/plain": [
       "(42180, 5566)"
      ]
     },
     "execution_count": 108,
     "metadata": {},
     "output_type": "execute_result"
    }
   ],
   "source": [
    "# train features with the diganosis features as well\n",
    "all_train_features.shape"
   ]
  },
  {
   "cell_type": "code",
   "execution_count": 109,
   "metadata": {
    "colab": {},
    "colab_type": "code",
    "id": "ts5DXAkXssgx"
   },
   "outputs": [],
   "source": [
    "from sklearn.linear_model import LogisticRegression"
   ]
  },
  {
   "cell_type": "code",
   "execution_count": 110,
   "metadata": {
    "colab": {},
    "colab_type": "code",
    "id": "jkaGGAM3xhCJ"
   },
   "outputs": [],
   "source": [
    "# get the Logistic Regression model\n",
    "lr = LogisticRegression(random_state=42)"
   ]
  },
  {
   "cell_type": "code",
   "execution_count": 111,
   "metadata": {
    "colab": {
     "base_uri": "https://localhost:8080/",
     "height": 263
    },
    "colab_type": "code",
    "executionInfo": {
     "elapsed": 40233,
     "status": "ok",
     "timestamp": 1596282419681,
     "user": {
      "displayName": "Tanisha Bhayani",
      "photoUrl": "",
      "userId": "03093037226242090836"
     },
     "user_tz": -330
    },
    "id": "_T5_MATWsxTY",
    "outputId": "270e6702-93fc-49cb-a111-47d99d9c00e5"
   },
   "outputs": [
    {
     "name": "stderr",
     "output_type": "stream",
     "text": [
      "/Users/jeradwilliams/opt/anaconda3/lib/python3.7/site-packages/sklearn/linear_model/_logistic.py:764: ConvergenceWarning: lbfgs failed to converge (status=1):\n",
      "STOP: TOTAL NO. of ITERATIONS REACHED LIMIT.\n",
      "\n",
      "Increase the number of iterations (max_iter) or scale the data as shown in:\n",
      "    https://scikit-learn.org/stable/modules/preprocessing.html\n",
      "Please also refer to the documentation for alternative solver options:\n",
      "    https://scikit-learn.org/stable/modules/linear_model.html#logistic-regression\n",
      "  extra_warning_msg=_LOGISTIC_SOLVER_CONVERGENCE_MSG)\n"
     ]
    },
    {
     "data": {
      "text/plain": [
       "LogisticRegression(random_state=42)"
      ]
     },
     "execution_count": 111,
     "metadata": {},
     "output_type": "execute_result"
    }
   ],
   "source": [
    "# train the Logistic Regression model\n",
    "lr.fit(all_train_features, train_target)"
   ]
  },
  {
   "cell_type": "code",
   "execution_count": 112,
   "metadata": {
    "colab": {},
    "colab_type": "code",
    "id": "aWTKq7OTs1p0"
   },
   "outputs": [],
   "source": [
    "# prepare the test data feature including the diagnosis features as well\n",
    "all_test_features = np.concatenate(\n",
    "    [\n",
    "     test_summary_features,\n",
    "     test_service_features,\n",
    "     test_diagnosis_features,\n",
    "     test_ohe_features_array,\n",
    "     test_float_features,\n",
    "     test_vectors\n",
    "    ],\n",
    "    axis=1\n",
    ")"
   ]
  },
  {
   "cell_type": "code",
   "execution_count": 113,
   "metadata": {
    "colab": {
     "base_uri": "https://localhost:8080/",
     "height": 34
    },
    "colab_type": "code",
    "executionInfo": {
     "elapsed": 1449,
     "status": "ok",
     "timestamp": 1596284016070,
     "user": {
      "displayName": "Tanisha Bhayani",
      "photoUrl": "",
      "userId": "03093037226242090836"
     },
     "user_tz": -330
    },
    "id": "8AMnTKKb8PfE",
    "outputId": "03ab68ab-28d1-4cfa-eb69-b4a544167015"
   },
   "outputs": [
    {
     "data": {
      "text/plain": [
       "(10546, 287)"
      ]
     },
     "execution_count": 113,
     "metadata": {},
     "output_type": "execute_result"
    }
   ],
   "source": [
    "test_service_features.shape"
   ]
  },
  {
   "cell_type": "code",
   "execution_count": 114,
   "metadata": {
    "colab": {},
    "colab_type": "code",
    "id": "lBmAX-BH2GFZ"
   },
   "outputs": [],
   "source": [
    "# do predictions on the Logistic Regression trained\n",
    "lr_preds = lr.predict_proba(all_test_features)"
   ]
  },
  {
   "cell_type": "code",
   "execution_count": 115,
   "metadata": {
    "colab": {
     "base_uri": "https://localhost:8080/",
     "height": 34
    },
    "colab_type": "code",
    "executionInfo": {
     "elapsed": 1089,
     "status": "ok",
     "timestamp": 1596282623028,
     "user": {
      "displayName": "Tanisha Bhayani",
      "photoUrl": "",
      "userId": "03093037226242090836"
     },
     "user_tz": -330
    },
    "id": "OgAhAW702Wg_",
    "outputId": "0b9ad595-d350-4d00-ee53-0189271d3ed3"
   },
   "outputs": [
    {
     "data": {
      "text/plain": [
       "0.7167985810075819"
      ]
     },
     "execution_count": 115,
     "metadata": {},
     "output_type": "execute_result"
    }
   ],
   "source": [
    "from sklearn.metrics import roc_auc_score\n",
    "\n",
    "roc_auc_score(test_target, lr_preds[:, 1])"
   ]
  },
  {
   "cell_type": "markdown",
   "metadata": {
    "colab_type": "text",
    "id": "FHcSZqyelgF8"
   },
   "source": [
    "We obtain a score of **0.7167985810075819** using Logistic Regression method using the given features"
   ]
  },
  {
   "cell_type": "code",
   "execution_count": 116,
   "metadata": {
    "colab": {},
    "colab_type": "code",
    "id": "bcJ5U5cF24Lo"
   },
   "outputs": [],
   "source": [
    "# train a decision tree classifier using the above features only\n",
    "from sklearn.tree import DecisionTreeClassifier"
   ]
  },
  {
   "cell_type": "code",
   "execution_count": 117,
   "metadata": {
    "colab": {},
    "colab_type": "code",
    "id": "pF6rLhHE3DGa"
   },
   "outputs": [],
   "source": [
    "# train a DecisionTree Classifier\n",
    "dtc = DecisionTreeClassifier(random_state=42)"
   ]
  },
  {
   "cell_type": "code",
   "execution_count": 118,
   "metadata": {
    "colab": {
     "base_uri": "https://localhost:8080/",
     "height": 121
    },
    "colab_type": "code",
    "executionInfo": {
     "elapsed": 1193063,
     "status": "ok",
     "timestamp": 1596283871148,
     "user": {
      "displayName": "Tanisha Bhayani",
      "photoUrl": "",
      "userId": "03093037226242090836"
     },
     "user_tz": -330
    },
    "id": "6a4h2Nl83HJU",
    "outputId": "9316271a-f941-4bd9-f00b-a44d5475e480"
   },
   "outputs": [
    {
     "data": {
      "text/plain": [
       "DecisionTreeClassifier(random_state=42)"
      ]
     },
     "execution_count": 118,
     "metadata": {},
     "output_type": "execute_result"
    }
   ],
   "source": [
    "dtc.fit(all_train_features, train_target)"
   ]
  },
  {
   "cell_type": "code",
   "execution_count": 119,
   "metadata": {
    "colab": {},
    "colab_type": "code",
    "id": "qtVlfR-23Koa"
   },
   "outputs": [],
   "source": [
    "# get the probability of the test features on the decision tree classifier\n",
    "dtc_preds = dtc.predict_proba(all_test_features)"
   ]
  },
  {
   "cell_type": "code",
   "execution_count": 120,
   "metadata": {
    "colab": {
     "base_uri": "https://localhost:8080/",
     "height": 34
    },
    "colab_type": "code",
    "executionInfo": {
     "elapsed": 1986,
     "status": "ok",
     "timestamp": 1596283873193,
     "user": {
      "displayName": "Tanisha Bhayani",
      "photoUrl": "",
      "userId": "03093037226242090836"
     },
     "user_tz": -330
    },
    "id": "7twB9hzz3Nsm",
    "outputId": "19236753-4989-4dec-98e0-974b525a71f9"
   },
   "outputs": [
    {
     "data": {
      "text/plain": [
       "0.5196631516568441"
      ]
     },
     "execution_count": 120,
     "metadata": {},
     "output_type": "execute_result"
    }
   ],
   "source": [
    "# check AUROC score on DecisionTreeClassifier using above features\n",
    "roc_auc_score(test_target, dtc_preds[:, 1])"
   ]
  },
  {
   "cell_type": "code",
   "execution_count": 121,
   "metadata": {
    "colab": {
     "base_uri": "https://localhost:8080/",
     "height": 52
    },
    "colab_type": "code",
    "executionInfo": {
     "elapsed": 2024,
     "status": "ok",
     "timestamp": 1596284001115,
     "user": {
      "displayName": "Tanisha Bhayani",
      "photoUrl": "",
      "userId": "03093037226242090836"
     },
     "user_tz": -330
    },
    "id": "pNyeye7H3Q2Y",
    "outputId": "3201f09a-928a-4a25-bdc9-d01b4da72a5c"
   },
   "outputs": [
    {
     "data": {
      "text/plain": [
       "array([0.        , 0.        , 0.        , ..., 0.        , 0.        ,\n",
       "       0.00028606])"
      ]
     },
     "execution_count": 121,
     "metadata": {},
     "output_type": "execute_result"
    }
   ],
   "source": [
    "dtc.feature_importances_"
   ]
  },
  {
   "cell_type": "code",
   "execution_count": 122,
   "metadata": {
    "colab": {
     "base_uri": "https://localhost:8080/",
     "height": 34
    },
    "colab_type": "code",
    "executionInfo": {
     "elapsed": 1251,
     "status": "ok",
     "timestamp": 1596286045855,
     "user": {
      "displayName": "Tanisha Bhayani",
      "photoUrl": "",
      "userId": "03093037226242090836"
     },
     "user_tz": -330
    },
    "id": "SDcShkNw8Uf5",
    "outputId": "6205cb59-0bce-4487-b762-21a3d6bc74ec"
   },
   "outputs": [
    {
     "data": {
      "text/plain": [
       "0.7100267075804069"
      ]
     },
     "execution_count": 122,
     "metadata": {},
     "output_type": "execute_result"
    }
   ],
   "source": [
    "# AUROC score of the mean of the predictions from Decision Tree and Logistic Regression\n",
    "roc_auc_score(test_target, np.mean([dtc_preds, lr_preds], axis=0)[:, 1])"
   ]
  },
  {
   "cell_type": "code",
   "execution_count": 123,
   "metadata": {
    "colab": {},
    "colab_type": "code",
    "id": "nUNhxCU9D4UV"
   },
   "outputs": [],
   "source": [
    "# train Bernoulli Naive Bayes model on the same features as of Lr, and Decision Tree\n",
    "from sklearn.naive_bayes import BernoulliNB"
   ]
  },
  {
   "cell_type": "code",
   "execution_count": 124,
   "metadata": {
    "colab": {},
    "colab_type": "code",
    "id": "ev38yNs2ESxQ"
   },
   "outputs": [],
   "source": [
    "bnb = BernoulliNB()"
   ]
  },
  {
   "cell_type": "code",
   "execution_count": 125,
   "metadata": {
    "colab": {
     "base_uri": "https://localhost:8080/",
     "height": 34
    },
    "colab_type": "code",
    "executionInfo": {
     "elapsed": 5619,
     "status": "ok",
     "timestamp": 1596286152152,
     "user": {
      "displayName": "Tanisha Bhayani",
      "photoUrl": "",
      "userId": "03093037226242090836"
     },
     "user_tz": -330
    },
    "id": "rd_QNJrfEVeD",
    "outputId": "dcecdd9b-5b17-4e82-fb3d-15d03fd7b998"
   },
   "outputs": [
    {
     "data": {
      "text/plain": [
       "BernoulliNB()"
      ]
     },
     "execution_count": 125,
     "metadata": {},
     "output_type": "execute_result"
    }
   ],
   "source": [
    "bnb.fit(all_train_features, train_target)"
   ]
  },
  {
   "cell_type": "code",
   "execution_count": 126,
   "metadata": {
    "colab": {},
    "colab_type": "code",
    "id": "GgcRdHRGEZXN"
   },
   "outputs": [],
   "source": [
    "# get the probability score of the Bernoulli Naive Bayes classifier\n",
    "bnb_preds = bnb.predict_proba(all_test_features)"
   ]
  },
  {
   "cell_type": "code",
   "execution_count": 127,
   "metadata": {
    "colab": {
     "base_uri": "https://localhost:8080/",
     "height": 34
    },
    "colab_type": "code",
    "executionInfo": {
     "elapsed": 1175,
     "status": "ok",
     "timestamp": 1596286189769,
     "user": {
      "displayName": "Tanisha Bhayani",
      "photoUrl": "",
      "userId": "03093037226242090836"
     },
     "user_tz": -330
    },
    "id": "zaPkn_A0EeBP",
    "outputId": "54fe9db5-0ce1-4246-ac94-ed2e1588ce4a"
   },
   "outputs": [
    {
     "data": {
      "text/plain": [
       "0.6423762643482214"
      ]
     },
     "execution_count": 127,
     "metadata": {},
     "output_type": "execute_result"
    }
   ],
   "source": [
    "# check AUROC score on Bernoulli Naive Bayes using above features\n",
    "roc_auc_score(test_target, bnb_preds[:, 1])"
   ]
  },
  {
   "cell_type": "code",
   "execution_count": 128,
   "metadata": {
    "colab": {
     "base_uri": "https://localhost:8080/",
     "height": 34
    },
    "colab_type": "code",
    "executionInfo": {
     "elapsed": 1167,
     "status": "ok",
     "timestamp": 1596286210130,
     "user": {
      "displayName": "Tanisha Bhayani",
      "photoUrl": "",
      "userId": "03093037226242090836"
     },
     "user_tz": -330
    },
    "id": "Bz5ymQIdEeui",
    "outputId": "63100081-72e3-466d-c3df-34d8b0733a26"
   },
   "outputs": [
    {
     "data": {
      "text/plain": [
       "0.6948504700209439"
      ]
     },
     "execution_count": 128,
     "metadata": {},
     "output_type": "execute_result"
    }
   ],
   "source": [
    "roc_auc_score(test_target, np.mean([dtc_preds, lr_preds, bnb_preds], axis=0)[:, 1])"
   ]
  },
  {
   "cell_type": "markdown",
   "metadata": {},
   "source": [
    "Hence we conclude that XGBoost works the best among different classifier tried and different feature engineering including"
   ]
  }
 ],
 "metadata": {
  "colab": {
   "authorship_tag": "ABX9TyPEVLA7pjDB+lzfentlXzus",
   "collapsed_sections": [],
   "mount_file_id": "11wGkfY2nTlLVyQUc0A5knLaG8Qry5iL5",
   "name": "ML3",
   "provenance": []
  },
  "kernelspec": {
   "display_name": "Python 3",
   "language": "python",
   "name": "python3"
  },
  "language_info": {
   "codemirror_mode": {
    "name": "ipython",
    "version": 3
   },
   "file_extension": ".py",
   "mimetype": "text/x-python",
   "name": "python",
   "nbconvert_exporter": "python",
   "pygments_lexer": "ipython3",
   "version": "3.7.4"
  }
 },
 "nbformat": 4,
 "nbformat_minor": 1
}
