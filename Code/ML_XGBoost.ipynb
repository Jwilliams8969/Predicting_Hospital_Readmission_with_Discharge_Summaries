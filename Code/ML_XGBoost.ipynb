{
 "cells": [
  {
   "cell_type": "code",
   "execution_count": 1,
   "metadata": {
    "colab": {},
    "colab_type": "code",
    "id": "e2_Sq0iJqSFA"
   },
   "outputs": [],
   "source": [
    "# load cleaned data file (adm_ds2.csv) which is obtained after preprocessing"
   ]
  },
  {
   "cell_type": "code",
   "execution_count": 2,
   "metadata": {
    "colab": {
     "base_uri": "https://localhost:8080/",
     "height": 72
    },
    "colab_type": "code",
    "executionInfo": {
     "elapsed": 2244,
     "status": "ok",
     "timestamp": 1596288988679,
     "user": {
      "displayName": "Tanisha Bhayani",
      "photoUrl": "",
      "userId": "03093037226242090836"
     },
     "user_tz": -330
    },
    "id": "mukunw1AqYaQ",
    "outputId": "88007e8e-3ae5-424c-c807-bab9c6cae112"
   },
   "outputs": [],
   "source": [
    "import pandas as pd\n",
    "import numpy as np\n",
    "\n",
    "import os, sys, math, csv, datetime, pickle, json, time\n",
    "import matplotlib.pyplot as plt\n",
    "import seaborn as sns"
   ]
  },
  {
   "cell_type": "code",
   "execution_count": 3,
   "metadata": {
    "colab": {},
    "colab_type": "code",
    "id": "2_2neCH-6p-5"
   },
   "outputs": [],
   "source": [
    "# load the libraries used for Machine Learning Analysis and training\n",
    "import gc\n",
    "from xgboost import XGBClassifier\n",
    "from sklearn.feature_extraction.text import TfidfVectorizer"
   ]
  },
  {
   "cell_type": "code",
   "execution_count": 4,
   "metadata": {
    "colab": {},
    "colab_type": "code",
    "id": "tnZQdXmeHMYm"
   },
   "outputs": [],
   "source": [
    "from sklearn.decomposition import TruncatedSVD"
   ]
  },
  {
   "cell_type": "code",
   "execution_count": 5,
   "metadata": {
    "colab": {},
    "colab_type": "code",
    "id": "47lTzZR_-4CQ"
   },
   "outputs": [],
   "source": [
    "from sklearn.preprocessing import OneHotEncoder"
   ]
  },
  {
   "cell_type": "code",
   "execution_count": 6,
   "metadata": {
    "colab": {},
    "colab_type": "code",
    "id": "naYHXpBI82Fk"
   },
   "outputs": [],
   "source": [
    "from sklearn.model_selection import train_test_split"
   ]
  },
  {
   "cell_type": "code",
   "execution_count": 7,
   "metadata": {
    "colab": {},
    "colab_type": "code",
    "id": "z7g0w8FO7SkA"
   },
   "outputs": [],
   "source": [
    "# load csv into a dataframe\n",
    "df = pd.read_csv('adm_ds2.csv')"
   ]
  },
  {
   "cell_type": "code",
   "execution_count": 8,
   "metadata": {
    "colab": {
     "base_uri": "https://localhost:8080/",
     "height": 225
    },
    "colab_type": "code",
    "executionInfo": {
     "elapsed": 20449,
     "status": "ok",
     "timestamp": 1596287799885,
     "user": {
      "displayName": "Tanisha Bhayani",
      "photoUrl": "",
      "userId": "03093037226242090836"
     },
     "user_tz": -330
    },
    "id": "4PD2pXld7W-p",
    "outputId": "4029c196-3af1-4368-ec0a-66d243e5a611"
   },
   "outputs": [
    {
     "data": {
      "text/plain": [
       "Index(['Unnamed: 0', 'ROW_ID_x', 'SUBJECT_ID', 'HADM_ID', 'CHARTDATE',\n",
       "       'CHARTTIME', 'STORETIME', 'CATEGORY', 'DESCRIPTION', 'CGID', 'ISERROR',\n",
       "       'TEXT', 'ROW_ID_y', 'ADMITTIME', 'DISCHTIME', 'DEATHTIME',\n",
       "       'ADMISSION_TYPE', 'ADMISSION_LOCATION', 'DISCHARGE_LOCATION',\n",
       "       'INSURANCE', 'LANGUAGE', 'RELIGION', 'MARITAL_STATUS', 'ETHNICITY',\n",
       "       'EDREGTIME', 'EDOUTTIME', 'DIAGNOSIS', 'HOSPITAL_EXPIRE_FLAG',\n",
       "       'HAS_CHARTEVENTS_DATA', 'NEXT_ADMITTIME', 'DAYS_IN_HOSPITAL',\n",
       "       'DAYS_WITHIN_NEXT_ADMIT', 'TIME_IN_EMERGENCY_WARD',\n",
       "       'DIFF_TIME_DEATH_DISCH', 'TARGET', 'in_failure', 'FOLLOW_UP',\n",
       "       'service1', 'cleaned_text', 'sentiment', 'subjectivty',\n",
       "       'cleaned_text1'],\n",
       "      dtype='object')"
      ]
     },
     "execution_count": 8,
     "metadata": {},
     "output_type": "execute_result"
    }
   ],
   "source": [
    "df.columns"
   ]
  },
  {
   "cell_type": "code",
   "execution_count": 9,
   "metadata": {
    "colab": {},
    "colab_type": "code",
    "id": "A_nAEVXt87k_"
   },
   "outputs": [],
   "source": [
    "# separate features and TARGET columns\n",
    "feature_df = df[df.columns[~df.columns.isin(['TARGET'])]]\n",
    "target_df = df.TARGET"
   ]
  },
  {
   "cell_type": "code",
   "execution_count": 10,
   "metadata": {
    "colab": {},
    "colab_type": "code",
    "id": "42Vhey0C9IzB"
   },
   "outputs": [],
   "source": [
    "# get 20% of total data into test dataset (train test split)\n",
    "train_features, test_features, train_target, test_target = train_test_split(feature_df, target_df, random_state=42, test_size=0.2)"
   ]
  },
  {
   "cell_type": "code",
   "execution_count": 11,
   "metadata": {
    "colab": {
     "base_uri": "https://localhost:8080/",
     "height": 34
    },
    "colab_type": "code",
    "executionInfo": {
     "elapsed": 18570,
     "status": "ok",
     "timestamp": 1596287799896,
     "user": {
      "displayName": "Tanisha Bhayani",
      "photoUrl": "",
      "userId": "03093037226242090836"
     },
     "user_tz": -330
    },
    "id": "IilGWhd-9Tv3",
    "outputId": "42e0bcd1-30c6-48d9-978d-0db8b2958371"
   },
   "outputs": [
    {
     "data": {
      "text/plain": [
       "((42180, 41), (10546, 41), (42180,), (10546,))"
      ]
     },
     "execution_count": 11,
     "metadata": {},
     "output_type": "execute_result"
    }
   ],
   "source": [
    "train_features.shape, test_features.shape, train_target.shape, test_target.shape"
   ]
  },
  {
   "cell_type": "code",
   "execution_count": 12,
   "metadata": {
    "colab": {},
    "colab_type": "code",
    "id": "DhxonESKE2tL"
   },
   "outputs": [],
   "source": [
    "del feature_df, target_df, df"
   ]
  },
  {
   "cell_type": "code",
   "execution_count": 13,
   "metadata": {
    "colab": {
     "base_uri": "https://localhost:8080/",
     "height": 34
    },
    "colab_type": "code",
    "executionInfo": {
     "elapsed": 13577,
     "status": "ok",
     "timestamp": 1596289025310,
     "user": {
      "displayName": "Tanisha Bhayani",
      "photoUrl": "",
      "userId": "03093037226242090836"
     },
     "user_tz": -330
    },
    "id": "15lzIOrICCXo",
    "outputId": "23101877-461c-4a23-ffa5-b0da2d031035"
   },
   "outputs": [
    {
     "data": {
      "text/plain": [
       "131"
      ]
     },
     "execution_count": 13,
     "metadata": {},
     "output_type": "execute_result"
    }
   ],
   "source": [
    "gc.collect()"
   ]
  },
  {
   "cell_type": "code",
   "execution_count": 14,
   "metadata": {
    "colab": {},
    "colab_type": "code",
    "id": "efbj_O7t8GzD"
   },
   "outputs": [],
   "source": [
    "# here we are using 5000 max feature for the summary text\n",
    "tfidf_summary = TfidfVectorizer(max_features=5000)"
   ]
  },
  {
   "cell_type": "code",
   "execution_count": 15,
   "metadata": {
    "colab": {},
    "colab_type": "code",
    "id": "4auJR9Qj8kS1"
   },
   "outputs": [],
   "source": [
    "# use all the service tfidf feature\n",
    "tfidf_service = TfidfVectorizer()"
   ]
  },
  {
   "cell_type": "code",
   "execution_count": 16,
   "metadata": {
    "colab": {},
    "colab_type": "code",
    "id": "lbRnjLsp8qc_"
   },
   "outputs": [],
   "source": [
    "summary_features = tfidf_summary.fit_transform(train_features['cleaned_text'].fillna('')).toarray()"
   ]
  },
  {
   "cell_type": "code",
   "execution_count": 17,
   "metadata": {
    "colab": {},
    "colab_type": "code",
    "id": "CBFqNchrFPHp"
   },
   "outputs": [],
   "source": [
    "service_features = tfidf_service.fit_transform(train_features['service1']).toarray()"
   ]
  },
  {
   "cell_type": "code",
   "execution_count": 18,
   "metadata": {
    "colab": {
     "base_uri": "https://localhost:8080/",
     "height": 52
    },
    "colab_type": "code",
    "executionInfo": {
     "elapsed": 1284,
     "status": "ok",
     "timestamp": 1596281751844,
     "user": {
      "displayName": "Tanisha Bhayani",
      "photoUrl": "",
      "userId": "03093037226242090836"
     },
     "user_tz": -330
    },
    "id": "RNBN0UvtzgOb",
    "outputId": "8eeb0823-af47-4cfe-8172-4783384332cb"
   },
   "outputs": [
    {
     "data": {
      "text/plain": [
       "False    42180\n",
       "Name: cleaned_text, dtype: int64"
      ]
     },
     "execution_count": 18,
     "metadata": {},
     "output_type": "execute_result"
    }
   ],
   "source": [
    "(train_features['cleaned_text'] == '').value_counts()"
   ]
  },
  {
   "cell_type": "code",
   "execution_count": 19,
   "metadata": {
    "colab": {},
    "colab_type": "code",
    "id": "dYTacSYMdegv"
   },
   "outputs": [],
   "source": [
    "import pickle"
   ]
  },
  {
   "cell_type": "code",
   "execution_count": 1,
   "metadata": {
    "colab": {},
    "colab_type": "code",
    "id": "Xi4T06OHlH1O"
   },
   "outputs": [],
   "source": [
    "# load train vectors for summary features (train_vectors_cleaned_text_cbow.pkl)"
   ]
  },
  {
   "cell_type": "code",
   "execution_count": 22,
   "metadata": {
    "colab": {},
    "colab_type": "code",
    "id": "zRUh86MX4LRe"
   },
   "outputs": [],
   "source": [
    "# load train vectors from pickled file\n",
    "with open('train_vectors_cleaned_text_cbow.pkl', 'rb') as fin:\n",
    "  train_feature_vectors = pickle.load(fin)"
   ]
  },
  {
   "cell_type": "code",
   "execution_count": 23,
   "metadata": {
    "colab": {
     "base_uri": "https://localhost:8080/",
     "height": 208
    },
    "colab_type": "code",
    "executionInfo": {
     "elapsed": 1290,
     "status": "ok",
     "timestamp": 1596274788558,
     "user": {
      "displayName": "Tanisha Bhayani",
      "photoUrl": "",
      "userId": "03093037226242090836"
     },
     "user_tz": -330
    },
    "id": "f5CsGbA89xZf",
    "outputId": "47833464-28c5-40e5-ed2b-6340f76fab06"
   },
   "outputs": [
    {
     "data": {
      "text/plain": [
       "Index(['Unnamed: 0', 'ROW_ID_x', 'SUBJECT_ID', 'HADM_ID', 'CHARTDATE',\n",
       "       'CHARTTIME', 'STORETIME', 'CATEGORY', 'DESCRIPTION', 'CGID', 'ISERROR',\n",
       "       'TEXT', 'ROW_ID_y', 'ADMITTIME', 'DISCHTIME', 'DEATHTIME',\n",
       "       'ADMISSION_TYPE', 'ADMISSION_LOCATION', 'DISCHARGE_LOCATION',\n",
       "       'INSURANCE', 'LANGUAGE', 'RELIGION', 'MARITAL_STATUS', 'ETHNICITY',\n",
       "       'EDREGTIME', 'EDOUTTIME', 'DIAGNOSIS', 'HOSPITAL_EXPIRE_FLAG',\n",
       "       'HAS_CHARTEVENTS_DATA', 'NEXT_ADMITTIME', 'DAYS_IN_HOSPITAL',\n",
       "       'DAYS_WITHIN_NEXT_ADMIT', 'TIME_IN_EMERGENCY_WARD',\n",
       "       'DIFF_TIME_DEATH_DISCH', 'in_failure', 'FOLLOW_UP', 'service1',\n",
       "       'cleaned_text', 'sentiment', 'subjectivty', 'cleaned_text1'],\n",
       "      dtype='object')"
      ]
     },
     "execution_count": 23,
     "metadata": {},
     "output_type": "execute_result"
    }
   ],
   "source": [
    "train_features.columns"
   ]
  },
  {
   "cell_type": "code",
   "execution_count": 24,
   "metadata": {
    "colab": {
     "base_uri": "https://localhost:8080/",
     "height": 173
    },
    "colab_type": "code",
    "executionInfo": {
     "elapsed": 1312,
     "status": "ok",
     "timestamp": 1596289263374,
     "user": {
      "displayName": "Tanisha Bhayani",
      "photoUrl": "",
      "userId": "03093037226242090836"
     },
     "user_tz": -330
    },
    "id": "56MWoSRP9-7D",
    "outputId": "461c13d2-5698-4599-9bf0-ae8f75eeb976"
   },
   "outputs": [
    {
     "name": "stdout",
     "output_type": "stream",
     "text": [
      "(42180, 4)\n",
      "(42180, 9)\n",
      "(42180, 16)\n",
      "(42180, 5)\n",
      "(42180, 69)\n",
      "(42180, 19)\n",
      "(42180, 7)\n",
      "(42180, 41)\n",
      "(42180, 2)\n"
     ]
    }
   ],
   "source": [
    "ohe_cols = [\n",
    "    'ADMISSION_TYPE', 'ADMISSION_LOCATION', 'DISCHARGE_LOCATION',\n",
    "    'INSURANCE', 'LANGUAGE', 'RELIGION', 'MARITAL_STATUS', 'ETHNICITY', 'DESCRIPTION'\n",
    "]\n",
    "ohe_objects = {}\n",
    "ohe_features = {}\n",
    "\n",
    "# get one hot features for teh above columns only. \n",
    "\n",
    "for each_col in ohe_cols:\n",
    "  ohe_objects[each_col] = OneHotEncoder(handle_unknown='ignore')\n",
    "  ohe_features[each_col] = ohe_objects[each_col].fit_transform(train_features[each_col].values.reshape((-1, 1))).toarray()\n",
    "  print(ohe_features[each_col].shape)"
   ]
  },
  {
   "cell_type": "code",
   "execution_count": 25,
   "metadata": {
    "colab": {},
    "colab_type": "code",
    "id": "lC5rlQk2_e6u"
   },
   "outputs": [],
   "source": [
    "# use the combined one hot representation with other features obtained below\n",
    "ohe_features_array = np.concatenate(list(ohe_features.values()), axis=1)"
   ]
  },
  {
   "cell_type": "code",
   "execution_count": 26,
   "metadata": {
    "colab": {},
    "colab_type": "code",
    "id": "ZYm0dNnoS__Y"
   },
   "outputs": [],
   "source": [
    "del ohe_features"
   ]
  },
  {
   "cell_type": "code",
   "execution_count": 27,
   "metadata": {
    "colab": {
     "base_uri": "https://localhost:8080/",
     "height": 34
    },
    "colab_type": "code",
    "executionInfo": {
     "elapsed": 1333,
     "status": "ok",
     "timestamp": 1596289267594,
     "user": {
      "displayName": "Tanisha Bhayani",
      "photoUrl": "",
      "userId": "03093037226242090836"
     },
     "user_tz": -330
    },
    "id": "kzFvq7ze_pTM",
    "outputId": "4015870a-2ecb-4230-a5b0-7de92b9bfc16"
   },
   "outputs": [
    {
     "data": {
      "text/plain": [
       "(42180, 172)"
      ]
     },
     "execution_count": 27,
     "metadata": {},
     "output_type": "execute_result"
    }
   ],
   "source": [
    "ohe_features_array.shape"
   ]
  },
  {
   "cell_type": "code",
   "execution_count": 28,
   "metadata": {
    "colab": {},
    "colab_type": "code",
    "id": "c9uob--tAoQb"
   },
   "outputs": [],
   "source": [
    "# combine the float / numeric columns\n",
    "float_cols = [\n",
    "    'TIME_IN_EMERGENCY_WARD', 'in_failure', 'FOLLOW_UP', 'sentiment', 'subjectivty',\n",
    "    'HOSPITAL_EXPIRE_FLAG', 'DAYS_IN_HOSPITAL'\n",
    "]\n",
    "\n",
    "float_features = train_features[float_cols].values"
   ]
  },
  {
   "cell_type": "code",
   "execution_count": 29,
   "metadata": {
    "colab": {},
    "colab_type": "code",
    "id": "lKzg0C_LTEVp"
   },
   "outputs": [],
   "source": [
    "del train_features"
   ]
  },
  {
   "cell_type": "code",
   "execution_count": 30,
   "metadata": {
    "colab": {},
    "colab_type": "code",
    "id": "VuwHH28VBF2O"
   },
   "outputs": [],
   "source": [
    "# combing all the features obtained above to get complete training features\n",
    "all_train_features = np.concatenate(\n",
    "    [\n",
    "     summary_features,\n",
    "     service_features,\n",
    "    # diagnosis_features,\n",
    "     ohe_features_array,\n",
    "     float_features,\n",
    "     train_feature_vectors\n",
    "    ],\n",
    "    axis=1\n",
    ")"
   ]
  },
  {
   "cell_type": "code",
   "execution_count": 31,
   "metadata": {
    "colab": {
     "base_uri": "https://localhost:8080/",
     "height": 34
    },
    "colab_type": "code",
    "executionInfo": {
     "elapsed": 1552,
     "status": "ok",
     "timestamp": 1596289282783,
     "user": {
      "displayName": "Tanisha Bhayani",
      "photoUrl": "",
      "userId": "03093037226242090836"
     },
     "user_tz": -330
    },
    "id": "ko_ajhtcZJ4i",
    "outputId": "0a1ece9c-b394-4473-a6e6-c493cfb2f32b"
   },
   "outputs": [
    {
     "data": {
      "text/plain": [
       "(42180, 5566)"
      ]
     },
     "execution_count": 31,
     "metadata": {},
     "output_type": "execute_result"
    }
   ],
   "source": [
    "all_train_features.shape"
   ]
  },
  {
   "cell_type": "code",
   "execution_count": 32,
   "metadata": {
    "colab": {},
    "colab_type": "code",
    "id": "k_bJgseABa_J"
   },
   "outputs": [],
   "source": [
    "# summary_features.shape, service_features.shape, diagnosis_features.shape, ohe_features_array.shape, float_features.shape"
   ]
  },
  {
   "cell_type": "code",
   "execution_count": 33,
   "metadata": {
    "colab": {},
    "colab_type": "code",
    "id": "xQLO8b2nBmPJ"
   },
   "outputs": [],
   "source": [
    "# create the xgboost classifier for training\n",
    "xgb = XGBClassifier()"
   ]
  },
  {
   "cell_type": "code",
   "execution_count": null,
   "metadata": {
    "colab": {},
    "colab_type": "code",
    "id": "FQDCjtqfH562"
   },
   "outputs": [],
   "source": [
    "# train the XGBoost classifier on train dataset\n",
    "xgb.fit(all_train_features, train_target)"
   ]
  },
  {
   "cell_type": "code",
   "execution_count": null,
   "metadata": {
    "colab": {},
    "colab_type": "code",
    "id": "xFVidVmnSegE"
   },
   "outputs": [],
   "source": [
    "del all_train_features, train_target"
   ]
  },
  {
   "cell_type": "code",
   "execution_count": null,
   "metadata": {
    "colab": {
     "base_uri": "https://localhost:8080/",
     "height": 34
    },
    "colab_type": "code",
    "executionInfo": {
     "elapsed": 2325,
     "status": "ok",
     "timestamp": 1596288767129,
     "user": {
      "displayName": "Tanisha Bhayani",
      "photoUrl": "",
      "userId": "03093037226242090836"
     },
     "user_tz": -330
    },
    "id": "9BgTzjh5_HQY",
    "outputId": "bf174e00-40ed-479c-ebeb-7d19e0ce6cb4"
   },
   "outputs": [],
   "source": [
    "# to manage memory in Notebook\n",
    "gc.collect()"
   ]
  },
  {
   "cell_type": "code",
   "execution_count": null,
   "metadata": {
    "colab": {},
    "colab_type": "code",
    "id": "t7LSOqSBm9VT"
   },
   "outputs": [],
   "source": [
    "# transform test data to correct features - test data feature engineering"
   ]
  },
  {
   "cell_type": "code",
   "execution_count": null,
   "metadata": {
    "colab": {},
    "colab_type": "code",
    "id": "ae7CZgTcIA-F"
   },
   "outputs": [],
   "source": [
    "# get test data summaries features\n",
    "test_summary_features = tfidf_summary.transform(test_features['cleaned_text'].fillna('')).toarray()"
   ]
  },
  {
   "cell_type": "code",
   "execution_count": null,
   "metadata": {
    "colab": {},
    "colab_type": "code",
    "id": "W8lNdsI7FinJ"
   },
   "outputs": [],
   "source": [
    "del tfidf_summary"
   ]
  },
  {
   "cell_type": "code",
   "execution_count": null,
   "metadata": {
    "colab": {},
    "colab_type": "code",
    "id": "LlnyZbKyIJ4F"
   },
   "outputs": [],
   "source": [
    "# get test data service features\n",
    "test_service_features = tfidf_service.transform(test_features['service1']).toarray()"
   ]
  },
  {
   "cell_type": "code",
   "execution_count": null,
   "metadata": {
    "colab": {},
    "colab_type": "code",
    "id": "4o9Er3hcFmzT"
   },
   "outputs": [],
   "source": [
    "del tfidf_service"
   ]
  },
  {
   "cell_type": "code",
   "execution_count": null,
   "metadata": {
    "colab": {
     "base_uri": "https://localhost:8080/",
     "height": 173
    },
    "colab_type": "code",
    "executionInfo": {
     "elapsed": 860,
     "status": "ok",
     "timestamp": 1596288795569,
     "user": {
      "displayName": "Tanisha Bhayani",
      "photoUrl": "",
      "userId": "03093037226242090836"
     },
     "user_tz": -330
    },
    "id": "71T-It2uIPUf",
    "outputId": "b01ec4a0-7dbb-4a95-9186-b17e27eff6bc"
   },
   "outputs": [
    {
     "name": "stdout",
     "output_type": "stream",
     "text": [
      "(10546, 4)\n",
      "(10546, 9)\n",
      "(10546, 16)\n",
      "(10546, 5)\n",
      "(10546, 69)\n",
      "(10546, 19)\n",
      "(10546, 7)\n",
      "(10546, 41)\n",
      "(10546, 2)\n"
     ]
    }
   ],
   "source": [
    "# ohe_cols = [\n",
    "#     'ADMISSION_TYPE', 'ADMISSION_LOCATION', 'DISCHARGE_LOCATION',\n",
    "#     'INSURANCE', 'LANGUAGE', 'RELIGION', 'MARITAL_STATUS', 'ETHNICITY', 'DESCRIPTION'\n",
    "# ]\n",
    "\n",
    "test_ohe_features = {}\n",
    "\n",
    "# get the test data one hot feature vectors\n",
    "\n",
    "for each_col in ohe_cols:\n",
    "  test_ohe_features[each_col] = ohe_objects[each_col].transform(test_features[each_col].values.reshape((-1, 1))).toarray()\n",
    "  print(test_ohe_features[each_col].shape)"
   ]
  },
  {
   "cell_type": "code",
   "execution_count": null,
   "metadata": {
    "colab": {},
    "colab_type": "code",
    "id": "En-drbEBIW8N"
   },
   "outputs": [],
   "source": [
    "# combine the test data one hot feature representations\n",
    "test_ohe_features_array = np.concatenate(list(test_ohe_features.values()), axis=1)"
   ]
  },
  {
   "cell_type": "code",
   "execution_count": null,
   "metadata": {
    "colab": {},
    "colab_type": "code",
    "id": "L6HdMULrTKsW"
   },
   "outputs": [],
   "source": [
    "del test_ohe_features, ohe_objects"
   ]
  },
  {
   "cell_type": "code",
   "execution_count": null,
   "metadata": {
    "colab": {
     "base_uri": "https://localhost:8080/",
     "height": 34
    },
    "colab_type": "code",
    "executionInfo": {
     "elapsed": 796,
     "status": "ok",
     "timestamp": 1596288801476,
     "user": {
      "displayName": "Tanisha Bhayani",
      "photoUrl": "",
      "userId": "03093037226242090836"
     },
     "user_tz": -330
    },
    "id": "1QZ93In2_Zql",
    "outputId": "bcdb4fb8-db92-409f-e6f1-0e65ea28422c"
   },
   "outputs": [
    {
     "data": {
      "text/plain": [
       "158"
      ]
     },
     "execution_count": 37,
     "metadata": {
      "tags": []
     },
     "output_type": "execute_result"
    }
   ],
   "source": [
    "gc.collect()"
   ]
  },
  {
   "cell_type": "code",
   "execution_count": null,
   "metadata": {
    "colab": {},
    "colab_type": "code",
    "id": "kFP4sbpTIbKR"
   },
   "outputs": [],
   "source": [
    "# float_cols = [\n",
    "#     'TIME_IN_EMERGENCY_WARD', 'in_failure', 'FOLLOW_UP', 'sentiment', 'subjectivty',\n",
    "#     'HOSPITAL_EXPIRE_FLAG', 'DAYS_IN_HOSPITAL'\n",
    "# ]\n",
    "\n",
    "# get the numerics test data and combine them\n",
    "\n",
    "test_float_features = test_features[float_cols].values"
   ]
  },
  {
   "cell_type": "code",
   "execution_count": null,
   "metadata": {
    "colab": {},
    "colab_type": "code",
    "id": "jDSZp3YXk5SS"
   },
   "outputs": [],
   "source": [
    "# load the test data feature vectors (test_vectors_cleaned_text_cbow.pkl)"
   ]
  },
  {
   "cell_type": "code",
   "execution_count": null,
   "metadata": {
    "colab": {},
    "colab_type": "code",
    "id": "8w9-Ajpe4ace"
   },
   "outputs": [],
   "source": [
    "# load the test data feature vectors from its pickled file\n",
    "with open('test_vectors_cleaned_text_cbow.pkl', 'rb') as fin:\n",
    "  test_feature_vectors = pickle.load(fin)"
   ]
  },
  {
   "cell_type": "code",
   "execution_count": null,
   "metadata": {
    "colab": {},
    "colab_type": "code",
    "id": "wedjAuvETNj_"
   },
   "outputs": [],
   "source": [
    "del test_features"
   ]
  },
  {
   "cell_type": "code",
   "execution_count": null,
   "metadata": {
    "colab": {},
    "colab_type": "code",
    "id": "4DEovGnJIipS"
   },
   "outputs": [],
   "source": [
    "# combine all the above test data feature vectors to prepare final test data features\n",
    "all_test_features = np.concatenate(\n",
    "    [\n",
    "     test_summary_features,\n",
    "     test_service_features,\n",
    "    #  diagnosis_features,\n",
    "     test_ohe_features_array,\n",
    "     test_float_features,\n",
    "     test_feature_vectors\n",
    "    ],\n",
    "    axis=1\n",
    ")"
   ]
  },
  {
   "cell_type": "code",
   "execution_count": null,
   "metadata": {
    "colab": {},
    "colab_type": "code",
    "id": "y1MPYZ12nSc5"
   },
   "outputs": [],
   "source": [
    "# get predictions on test data"
   ]
  },
  {
   "cell_type": "code",
   "execution_count": null,
   "metadata": {
    "colab": {},
    "colab_type": "code",
    "id": "SmsF0q1uTPni"
   },
   "outputs": [],
   "source": [
    "# get the probability scores of the test data features\n",
    "test_pred_values = xgb.predict_proba(all_test_features)"
   ]
  },
  {
   "cell_type": "code",
   "execution_count": null,
   "metadata": {
    "colab": {},
    "colab_type": "code",
    "id": "Sgs6C_epTUOC"
   },
   "outputs": [],
   "source": [
    "from sklearn.metrics import roc_auc_score"
   ]
  },
  {
   "cell_type": "code",
   "execution_count": null,
   "metadata": {
    "colab": {},
    "colab_type": "code",
    "id": "DwZ-IWO2naIi"
   },
   "outputs": [],
   "source": [
    "# calculate AUROC score for the test dataset"
   ]
  },
  {
   "cell_type": "code",
   "execution_count": null,
   "metadata": {
    "colab": {
     "base_uri": "https://localhost:8080/",
     "height": 34
    },
    "colab_type": "code",
    "executionInfo": {
     "elapsed": 838,
     "status": "ok",
     "timestamp": 1596288827812,
     "user": {
      "displayName": "Tanisha Bhayani",
      "photoUrl": "",
      "userId": "03093037226242090836"
     },
     "user_tz": -330
    },
    "id": "8sBnAfv6TYAt",
    "outputId": "30ee18b5-957c-4b70-835b-ccd397cedca4"
   },
   "outputs": [
    {
     "data": {
      "text/plain": [
       "0.7338059925640901"
      ]
     },
     "execution_count": 44,
     "metadata": {
      "tags": []
     },
     "output_type": "execute_result"
    }
   ],
   "source": [
    "roc_auc_score(test_target, test_pred_values[:, 1])"
   ]
  },
  {
   "cell_type": "markdown",
   "metadata": {
    "colab_type": "text",
    "id": "_3_0zGysna-E"
   },
   "source": [
    "Thus we obtain **0.7338059925640901** AUROC score which is 0.02 less than that of the State of the Art score."
   ]
  }
 ],
 "metadata": {
  "colab": {
   "authorship_tag": "ABX9TyP4p/0et6BMVwcafarDlOfP",
   "collapsed_sections": [],
   "mount_file_id": "1oOAMXFQeu63y_OWbCCG6ZE5xqPJziFOC",
   "name": "ML.ipynb",
   "provenance": []
  },
  "kernelspec": {
   "display_name": "Python 3",
   "language": "python",
   "name": "python3"
  },
  "language_info": {
   "codemirror_mode": {
    "name": "ipython",
    "version": 3
   },
   "file_extension": ".py",
   "mimetype": "text/x-python",
   "name": "python",
   "nbconvert_exporter": "python",
   "pygments_lexer": "ipython3",
   "version": "3.7.4"
  }
 },
 "nbformat": 4,
 "nbformat_minor": 1
}
