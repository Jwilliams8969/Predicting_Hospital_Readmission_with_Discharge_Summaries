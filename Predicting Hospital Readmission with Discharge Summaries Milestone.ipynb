{
 "cells": [
  {
   "cell_type": "markdown",
   "metadata": {
    "colab_type": "text",
    "id": "lMRbeZ5yc3H4"
   },
   "source": [
    "\n",
    "# Predicting Hospital Readmission with Discharge Summaries\n",
    "\n",
    "## Problem\n",
    "\n",
    "Prediction of hospital readmission at admission time, within 24 hours, lacks information that would be included in discharge summaries\n",
    "\n",
    "## Solution\n",
    "\n",
    "Build machine learning models improve hospital resource utilization and reduce cost of unplanned readmission solely on discharge summaries. "
   ]
  },
  {
   "cell_type": "code",
   "execution_count": 1,
   "metadata": {
    "colab": {
     "base_uri": "https://localhost:8080/",
     "height": 72
    },
    "colab_type": "code",
    "executionInfo": {
     "elapsed": 2915,
     "status": "ok",
     "timestamp": 1596429835134,
     "user": {
      "displayName": "Tanisha Bhayani",
      "photoUrl": "",
      "userId": "03093037226242090836"
     },
     "user_tz": -330
    },
    "id": "fptsVFQzLsZs",
    "outputId": "5f94ed70-9bab-4c96-80fa-9b6ce3d1e98c"
   },
   "outputs": [],
   "source": [
    "import os, sys, math, csv, datetime, time, pickle, json\n",
    "import numpy as np\n",
    "import pandas as pd\n",
    "import matplotlib\n",
    "import matplotlib.pyplot as plt\n",
    "import seaborn as sns"
   ]
  },
  {
   "cell_type": "markdown",
   "metadata": {
    "colab_type": "text",
    "id": "Spwufom5dNs4"
   },
   "source": [
    "Load and analyse the ADMSSION dataset"
   ]
  },
  {
   "cell_type": "code",
   "execution_count": 2,
   "metadata": {
    "colab": {},
    "colab_type": "code",
    "id": "WjgJlqPQQlxG"
   },
   "outputs": [],
   "source": [
    "admissions = pd.read_csv('ADMISSIONS.csv.gz', compression='gzip')"
   ]
  },
  {
   "cell_type": "code",
   "execution_count": 3,
   "metadata": {
    "colab": {
     "base_uri": "https://localhost:8080/",
     "height": 121
    },
    "colab_type": "code",
    "executionInfo": {
     "elapsed": 29327,
     "status": "ok",
     "timestamp": 1596429872434,
     "user": {
      "displayName": "Tanisha Bhayani",
      "photoUrl": "",
      "userId": "03093037226242090836"
     },
     "user_tz": -330
    },
    "id": "xPZzqV32Qxnt",
    "outputId": "28f615df-7022-42f3-beaa-3e231ccada8c"
   },
   "outputs": [
    {
     "data": {
      "text/plain": [
       "Index(['ROW_ID', 'SUBJECT_ID', 'HADM_ID', 'ADMITTIME', 'DISCHTIME',\n",
       "       'DEATHTIME', 'ADMISSION_TYPE', 'ADMISSION_LOCATION',\n",
       "       'DISCHARGE_LOCATION', 'INSURANCE', 'LANGUAGE', 'RELIGION',\n",
       "       'MARITAL_STATUS', 'ETHNICITY', 'EDREGTIME', 'EDOUTTIME', 'DIAGNOSIS',\n",
       "       'HOSPITAL_EXPIRE_FLAG', 'HAS_CHARTEVENTS_DATA'],\n",
       "      dtype='object')"
      ]
     },
     "execution_count": 3,
     "metadata": {},
     "output_type": "execute_result"
    }
   ],
   "source": [
    "admissions.columns"
   ]
  },
  {
   "cell_type": "markdown",
   "metadata": {
    "colab_type": "text",
    "id": "rBzELOvPJkMV"
   },
   "source": [
    "# Check for the NaN values on each column"
   ]
  },
  {
   "cell_type": "code",
   "execution_count": 4,
   "metadata": {
    "colab": {
     "base_uri": "https://localhost:8080/",
     "height": 1000
    },
    "colab_type": "code",
    "executionInfo": {
     "elapsed": 28361,
     "status": "ok",
     "timestamp": 1596429872436,
     "user": {
      "displayName": "Tanisha Bhayani",
      "photoUrl": "",
      "userId": "03093037226242090836"
     },
     "user_tz": -330
    },
    "id": "I0vYLswVZv5K",
    "outputId": "ceafb71d-d27d-4263-b4eb-4385b6e18b18"
   },
   "outputs": [
    {
     "name": "stdout",
     "output_type": "stream",
     "text": [
      "ROW_ID\n",
      "False    58976\n",
      "Name: ROW_ID, dtype: int64\n",
      "-------------------------------------------------\n",
      "SUBJECT_ID\n",
      "False    58976\n",
      "Name: SUBJECT_ID, dtype: int64\n",
      "-------------------------------------------------\n",
      "HADM_ID\n",
      "False    58976\n",
      "Name: HADM_ID, dtype: int64\n",
      "-------------------------------------------------\n",
      "ADMITTIME\n",
      "False    58976\n",
      "Name: ADMITTIME, dtype: int64\n",
      "-------------------------------------------------\n",
      "DISCHTIME\n",
      "False    58976\n",
      "Name: DISCHTIME, dtype: int64\n",
      "-------------------------------------------------\n",
      "DEATHTIME\n",
      "True     53122\n",
      "False     5854\n",
      "Name: DEATHTIME, dtype: int64\n",
      "-------------------------------------------------\n",
      "ADMISSION_TYPE\n",
      "False    58976\n",
      "Name: ADMISSION_TYPE, dtype: int64\n",
      "-------------------------------------------------\n",
      "ADMISSION_LOCATION\n",
      "False    58976\n",
      "Name: ADMISSION_LOCATION, dtype: int64\n",
      "-------------------------------------------------\n",
      "DISCHARGE_LOCATION\n",
      "False    58976\n",
      "Name: DISCHARGE_LOCATION, dtype: int64\n",
      "-------------------------------------------------\n",
      "INSURANCE\n",
      "False    58976\n",
      "Name: INSURANCE, dtype: int64\n",
      "-------------------------------------------------\n",
      "LANGUAGE\n",
      "False    33644\n",
      "True     25332\n",
      "Name: LANGUAGE, dtype: int64\n",
      "-------------------------------------------------\n",
      "RELIGION\n",
      "False    58518\n",
      "True       458\n",
      "Name: RELIGION, dtype: int64\n",
      "-------------------------------------------------\n",
      "MARITAL_STATUS\n",
      "False    48848\n",
      "True     10128\n",
      "Name: MARITAL_STATUS, dtype: int64\n",
      "-------------------------------------------------\n",
      "ETHNICITY\n",
      "False    58976\n",
      "Name: ETHNICITY, dtype: int64\n",
      "-------------------------------------------------\n",
      "EDREGTIME\n",
      "False    30877\n",
      "True     28099\n",
      "Name: EDREGTIME, dtype: int64\n",
      "-------------------------------------------------\n",
      "EDOUTTIME\n",
      "False    30877\n",
      "True     28099\n",
      "Name: EDOUTTIME, dtype: int64\n",
      "-------------------------------------------------\n",
      "DIAGNOSIS\n",
      "False    58951\n",
      "True        25\n",
      "Name: DIAGNOSIS, dtype: int64\n",
      "-------------------------------------------------\n",
      "HOSPITAL_EXPIRE_FLAG\n",
      "False    58976\n",
      "Name: HOSPITAL_EXPIRE_FLAG, dtype: int64\n",
      "-------------------------------------------------\n",
      "HAS_CHARTEVENTS_DATA\n",
      "False    58976\n",
      "Name: HAS_CHARTEVENTS_DATA, dtype: int64\n",
      "-------------------------------------------------\n"
     ]
    }
   ],
   "source": [
    "for col in admissions.columns:\n",
    "  print(col)\n",
    "  print(admissions[col].isna().value_counts())\n",
    "  print('-------------------------------------------------')"
   ]
  },
  {
   "cell_type": "code",
   "execution_count": 5,
   "metadata": {
    "colab": {
     "base_uri": "https://localhost:8080/",
     "height": 34
    },
    "colab_type": "code",
    "executionInfo": {
     "elapsed": 26844,
     "status": "ok",
     "timestamp": 1596429872439,
     "user": {
      "displayName": "Tanisha Bhayani",
      "photoUrl": "",
      "userId": "03093037226242090836"
     },
     "user_tz": -330
    },
    "id": "WPsTCaz1ROUW",
    "outputId": "a7f33230-73b9-44d9-cb65-5fa3ede68b35"
   },
   "outputs": [
    {
     "data": {
      "text/plain": [
       "(58976, 19)"
      ]
     },
     "execution_count": 5,
     "metadata": {},
     "output_type": "execute_result"
    }
   ],
   "source": [
    "admissions.shape"
   ]
  },
  {
   "cell_type": "code",
   "execution_count": 6,
   "metadata": {
    "colab": {
     "base_uri": "https://localhost:8080/",
     "height": 348
    },
    "colab_type": "code",
    "executionInfo": {
     "elapsed": 26637,
     "status": "ok",
     "timestamp": 1596429872441,
     "user": {
      "displayName": "Tanisha Bhayani",
      "photoUrl": "",
      "userId": "03093037226242090836"
     },
     "user_tz": -330
    },
    "id": "PvdStEF9Qq2S",
    "outputId": "9229a6ae-7d73-4a17-ff00-4d57fbc08b47"
   },
   "outputs": [
    {
     "data": {
      "text/html": [
       "<div>\n",
       "<style scoped>\n",
       "    .dataframe tbody tr th:only-of-type {\n",
       "        vertical-align: middle;\n",
       "    }\n",
       "\n",
       "    .dataframe tbody tr th {\n",
       "        vertical-align: top;\n",
       "    }\n",
       "\n",
       "    .dataframe thead th {\n",
       "        text-align: right;\n",
       "    }\n",
       "</style>\n",
       "<table border=\"1\" class=\"dataframe\">\n",
       "  <thead>\n",
       "    <tr style=\"text-align: right;\">\n",
       "      <th></th>\n",
       "      <th>ROW_ID</th>\n",
       "      <th>SUBJECT_ID</th>\n",
       "      <th>HADM_ID</th>\n",
       "      <th>ADMITTIME</th>\n",
       "      <th>DISCHTIME</th>\n",
       "      <th>DEATHTIME</th>\n",
       "      <th>ADMISSION_TYPE</th>\n",
       "      <th>ADMISSION_LOCATION</th>\n",
       "      <th>DISCHARGE_LOCATION</th>\n",
       "      <th>INSURANCE</th>\n",
       "      <th>LANGUAGE</th>\n",
       "      <th>RELIGION</th>\n",
       "      <th>MARITAL_STATUS</th>\n",
       "      <th>ETHNICITY</th>\n",
       "      <th>EDREGTIME</th>\n",
       "      <th>EDOUTTIME</th>\n",
       "      <th>DIAGNOSIS</th>\n",
       "      <th>HOSPITAL_EXPIRE_FLAG</th>\n",
       "      <th>HAS_CHARTEVENTS_DATA</th>\n",
       "    </tr>\n",
       "  </thead>\n",
       "  <tbody>\n",
       "    <tr>\n",
       "      <td>0</td>\n",
       "      <td>21</td>\n",
       "      <td>22</td>\n",
       "      <td>165315</td>\n",
       "      <td>2196-04-09 12:26:00</td>\n",
       "      <td>2196-04-10 15:54:00</td>\n",
       "      <td>NaN</td>\n",
       "      <td>EMERGENCY</td>\n",
       "      <td>EMERGENCY ROOM ADMIT</td>\n",
       "      <td>DISC-TRAN CANCER/CHLDRN H</td>\n",
       "      <td>Private</td>\n",
       "      <td>NaN</td>\n",
       "      <td>UNOBTAINABLE</td>\n",
       "      <td>MARRIED</td>\n",
       "      <td>WHITE</td>\n",
       "      <td>2196-04-09 10:06:00</td>\n",
       "      <td>2196-04-09 13:24:00</td>\n",
       "      <td>BENZODIAZEPINE OVERDOSE</td>\n",
       "      <td>0</td>\n",
       "      <td>1</td>\n",
       "    </tr>\n",
       "    <tr>\n",
       "      <td>1</td>\n",
       "      <td>22</td>\n",
       "      <td>23</td>\n",
       "      <td>152223</td>\n",
       "      <td>2153-09-03 07:15:00</td>\n",
       "      <td>2153-09-08 19:10:00</td>\n",
       "      <td>NaN</td>\n",
       "      <td>ELECTIVE</td>\n",
       "      <td>PHYS REFERRAL/NORMAL DELI</td>\n",
       "      <td>HOME HEALTH CARE</td>\n",
       "      <td>Medicare</td>\n",
       "      <td>NaN</td>\n",
       "      <td>CATHOLIC</td>\n",
       "      <td>MARRIED</td>\n",
       "      <td>WHITE</td>\n",
       "      <td>NaN</td>\n",
       "      <td>NaN</td>\n",
       "      <td>CORONARY ARTERY DISEASE\\CORONARY ARTERY BYPASS...</td>\n",
       "      <td>0</td>\n",
       "      <td>1</td>\n",
       "    </tr>\n",
       "    <tr>\n",
       "      <td>2</td>\n",
       "      <td>23</td>\n",
       "      <td>23</td>\n",
       "      <td>124321</td>\n",
       "      <td>2157-10-18 19:34:00</td>\n",
       "      <td>2157-10-25 14:00:00</td>\n",
       "      <td>NaN</td>\n",
       "      <td>EMERGENCY</td>\n",
       "      <td>TRANSFER FROM HOSP/EXTRAM</td>\n",
       "      <td>HOME HEALTH CARE</td>\n",
       "      <td>Medicare</td>\n",
       "      <td>ENGL</td>\n",
       "      <td>CATHOLIC</td>\n",
       "      <td>MARRIED</td>\n",
       "      <td>WHITE</td>\n",
       "      <td>NaN</td>\n",
       "      <td>NaN</td>\n",
       "      <td>BRAIN MASS</td>\n",
       "      <td>0</td>\n",
       "      <td>1</td>\n",
       "    </tr>\n",
       "    <tr>\n",
       "      <td>3</td>\n",
       "      <td>24</td>\n",
       "      <td>24</td>\n",
       "      <td>161859</td>\n",
       "      <td>2139-06-06 16:14:00</td>\n",
       "      <td>2139-06-09 12:48:00</td>\n",
       "      <td>NaN</td>\n",
       "      <td>EMERGENCY</td>\n",
       "      <td>TRANSFER FROM HOSP/EXTRAM</td>\n",
       "      <td>HOME</td>\n",
       "      <td>Private</td>\n",
       "      <td>NaN</td>\n",
       "      <td>PROTESTANT QUAKER</td>\n",
       "      <td>SINGLE</td>\n",
       "      <td>WHITE</td>\n",
       "      <td>NaN</td>\n",
       "      <td>NaN</td>\n",
       "      <td>INTERIOR MYOCARDIAL INFARCTION</td>\n",
       "      <td>0</td>\n",
       "      <td>1</td>\n",
       "    </tr>\n",
       "    <tr>\n",
       "      <td>4</td>\n",
       "      <td>25</td>\n",
       "      <td>25</td>\n",
       "      <td>129635</td>\n",
       "      <td>2160-11-02 02:06:00</td>\n",
       "      <td>2160-11-05 14:55:00</td>\n",
       "      <td>NaN</td>\n",
       "      <td>EMERGENCY</td>\n",
       "      <td>EMERGENCY ROOM ADMIT</td>\n",
       "      <td>HOME</td>\n",
       "      <td>Private</td>\n",
       "      <td>NaN</td>\n",
       "      <td>UNOBTAINABLE</td>\n",
       "      <td>MARRIED</td>\n",
       "      <td>WHITE</td>\n",
       "      <td>2160-11-02 01:01:00</td>\n",
       "      <td>2160-11-02 04:27:00</td>\n",
       "      <td>ACUTE CORONARY SYNDROME</td>\n",
       "      <td>0</td>\n",
       "      <td>1</td>\n",
       "    </tr>\n",
       "  </tbody>\n",
       "</table>\n",
       "</div>"
      ],
      "text/plain": [
       "   ROW_ID  SUBJECT_ID  HADM_ID            ADMITTIME            DISCHTIME  \\\n",
       "0      21          22   165315  2196-04-09 12:26:00  2196-04-10 15:54:00   \n",
       "1      22          23   152223  2153-09-03 07:15:00  2153-09-08 19:10:00   \n",
       "2      23          23   124321  2157-10-18 19:34:00  2157-10-25 14:00:00   \n",
       "3      24          24   161859  2139-06-06 16:14:00  2139-06-09 12:48:00   \n",
       "4      25          25   129635  2160-11-02 02:06:00  2160-11-05 14:55:00   \n",
       "\n",
       "  DEATHTIME ADMISSION_TYPE         ADMISSION_LOCATION  \\\n",
       "0       NaN      EMERGENCY       EMERGENCY ROOM ADMIT   \n",
       "1       NaN       ELECTIVE  PHYS REFERRAL/NORMAL DELI   \n",
       "2       NaN      EMERGENCY  TRANSFER FROM HOSP/EXTRAM   \n",
       "3       NaN      EMERGENCY  TRANSFER FROM HOSP/EXTRAM   \n",
       "4       NaN      EMERGENCY       EMERGENCY ROOM ADMIT   \n",
       "\n",
       "          DISCHARGE_LOCATION INSURANCE LANGUAGE           RELIGION  \\\n",
       "0  DISC-TRAN CANCER/CHLDRN H   Private      NaN       UNOBTAINABLE   \n",
       "1           HOME HEALTH CARE  Medicare      NaN           CATHOLIC   \n",
       "2           HOME HEALTH CARE  Medicare     ENGL           CATHOLIC   \n",
       "3                       HOME   Private      NaN  PROTESTANT QUAKER   \n",
       "4                       HOME   Private      NaN       UNOBTAINABLE   \n",
       "\n",
       "  MARITAL_STATUS ETHNICITY            EDREGTIME            EDOUTTIME  \\\n",
       "0        MARRIED     WHITE  2196-04-09 10:06:00  2196-04-09 13:24:00   \n",
       "1        MARRIED     WHITE                  NaN                  NaN   \n",
       "2        MARRIED     WHITE                  NaN                  NaN   \n",
       "3         SINGLE     WHITE                  NaN                  NaN   \n",
       "4        MARRIED     WHITE  2160-11-02 01:01:00  2160-11-02 04:27:00   \n",
       "\n",
       "                                           DIAGNOSIS  HOSPITAL_EXPIRE_FLAG  \\\n",
       "0                            BENZODIAZEPINE OVERDOSE                     0   \n",
       "1  CORONARY ARTERY DISEASE\\CORONARY ARTERY BYPASS...                     0   \n",
       "2                                         BRAIN MASS                     0   \n",
       "3                     INTERIOR MYOCARDIAL INFARCTION                     0   \n",
       "4                            ACUTE CORONARY SYNDROME                     0   \n",
       "\n",
       "   HAS_CHARTEVENTS_DATA  \n",
       "0                     1  \n",
       "1                     1  \n",
       "2                     1  \n",
       "3                     1  \n",
       "4                     1  "
      ]
     },
     "execution_count": 6,
     "metadata": {},
     "output_type": "execute_result"
    }
   ],
   "source": [
    "admissions.head()"
   ]
  },
  {
   "cell_type": "code",
   "execution_count": 7,
   "metadata": {
    "colab": {
     "base_uri": "https://localhost:8080/",
     "height": 34
    },
    "colab_type": "code",
    "executionInfo": {
     "elapsed": 24742,
     "status": "ok",
     "timestamp": 1596429872443,
     "user": {
      "displayName": "Tanisha Bhayani",
      "photoUrl": "",
      "userId": "03093037226242090836"
     },
     "user_tz": -330
    },
    "id": "ku8-wturhtCu",
    "outputId": "6e45e6bb-48ce-4f72-b9ab-05b41398dbf1"
   },
   "outputs": [
    {
     "data": {
      "text/plain": [
       "(46520,)"
      ]
     },
     "execution_count": 7,
     "metadata": {},
     "output_type": "execute_result"
    }
   ],
   "source": [
    "admissions.SUBJECT_ID.unique().shape"
   ]
  },
  {
   "cell_type": "code",
   "execution_count": 8,
   "metadata": {
    "colab": {
     "base_uri": "https://localhost:8080/",
     "height": 34
    },
    "colab_type": "code",
    "executionInfo": {
     "elapsed": 23584,
     "status": "ok",
     "timestamp": 1596429872446,
     "user": {
      "displayName": "Tanisha Bhayani",
      "photoUrl": "",
      "userId": "03093037226242090836"
     },
     "user_tz": -330
    },
    "id": "K0dABqOLkgxV",
    "outputId": "37c57923-e854-4854-cf67-5065fce251c2"
   },
   "outputs": [
    {
     "data": {
      "text/plain": [
       "58976"
      ]
     },
     "execution_count": 8,
     "metadata": {},
     "output_type": "execute_result"
    }
   ],
   "source": [
    "len(set(map(lambda x: tuple(x), admissions[['SUBJECT_ID', 'HADM_ID']].values.tolist())))"
   ]
  },
  {
   "cell_type": "code",
   "execution_count": 9,
   "metadata": {
    "colab": {
     "base_uri": "https://localhost:8080/",
     "height": 52
    },
    "colab_type": "code",
    "executionInfo": {
     "elapsed": 4098,
     "status": "ok",
     "timestamp": 1596429876595,
     "user": {
      "displayName": "Tanisha Bhayani",
      "photoUrl": "",
      "userId": "03093037226242090836"
     },
     "user_tz": -330
    },
    "id": "AxW3H9_3k-a9",
    "outputId": "cf62481e-94e0-42ff-be11-0b143bf41d9e"
   },
   "outputs": [
    {
     "data": {
      "text/plain": [
       "False    58976\n",
       "dtype: int64"
      ]
     },
     "execution_count": 9,
     "metadata": {},
     "output_type": "execute_result"
    }
   ],
   "source": [
    "admissions[['HADM_ID', 'SUBJECT_ID']].duplicated().value_counts()"
   ]
  },
  {
   "cell_type": "markdown",
   "metadata": {
    "colab_type": "text",
    "id": "o_o6bykiJqzi"
   },
   "source": [
    "\n",
    "## Get the next admission date if it exists\n",
    "\n",
    "We can get this with the shift() function, but we need to verify the dates are in order.\n"
   ]
  },
  {
   "cell_type": "code",
   "execution_count": 10,
   "metadata": {
    "colab": {},
    "colab_type": "code",
    "id": "8Us7GPWpsF4B"
   },
   "outputs": [],
   "source": [
    "# get the NEXTADMITTIME for each patient\n",
    "admissions.loc[:, 'NEXT_ADMITTIME'] = admissions.groupby('SUBJECT_ID')['ADMITTIME'].shift(-1)"
   ]
  },
  {
   "cell_type": "code",
   "execution_count": 11,
   "metadata": {
    "colab": {
     "base_uri": "https://localhost:8080/",
     "height": 348
    },
    "colab_type": "code",
    "executionInfo": {
     "elapsed": 4063,
     "status": "ok",
     "timestamp": 1596429876602,
     "user": {
      "displayName": "Tanisha Bhayani",
      "photoUrl": "",
      "userId": "03093037226242090836"
     },
     "user_tz": -330
    },
    "id": "D3YXmOiJmHjr",
    "outputId": "6c5b11c2-892a-4e86-dcc3-e5ca39777da5"
   },
   "outputs": [
    {
     "data": {
      "text/html": [
       "<div>\n",
       "<style scoped>\n",
       "    .dataframe tbody tr th:only-of-type {\n",
       "        vertical-align: middle;\n",
       "    }\n",
       "\n",
       "    .dataframe tbody tr th {\n",
       "        vertical-align: top;\n",
       "    }\n",
       "\n",
       "    .dataframe thead th {\n",
       "        text-align: right;\n",
       "    }\n",
       "</style>\n",
       "<table border=\"1\" class=\"dataframe\">\n",
       "  <thead>\n",
       "    <tr style=\"text-align: right;\">\n",
       "      <th></th>\n",
       "      <th>ROW_ID</th>\n",
       "      <th>SUBJECT_ID</th>\n",
       "      <th>HADM_ID</th>\n",
       "      <th>ADMITTIME</th>\n",
       "      <th>DISCHTIME</th>\n",
       "      <th>DEATHTIME</th>\n",
       "      <th>ADMISSION_TYPE</th>\n",
       "      <th>ADMISSION_LOCATION</th>\n",
       "      <th>DISCHARGE_LOCATION</th>\n",
       "      <th>INSURANCE</th>\n",
       "      <th>LANGUAGE</th>\n",
       "      <th>RELIGION</th>\n",
       "      <th>MARITAL_STATUS</th>\n",
       "      <th>ETHNICITY</th>\n",
       "      <th>EDREGTIME</th>\n",
       "      <th>EDOUTTIME</th>\n",
       "      <th>DIAGNOSIS</th>\n",
       "      <th>HOSPITAL_EXPIRE_FLAG</th>\n",
       "      <th>HAS_CHARTEVENTS_DATA</th>\n",
       "      <th>NEXT_ADMITTIME</th>\n",
       "    </tr>\n",
       "  </thead>\n",
       "  <tbody>\n",
       "    <tr>\n",
       "      <td>0</td>\n",
       "      <td>21</td>\n",
       "      <td>22</td>\n",
       "      <td>165315</td>\n",
       "      <td>2196-04-09 12:26:00</td>\n",
       "      <td>2196-04-10 15:54:00</td>\n",
       "      <td>NaN</td>\n",
       "      <td>EMERGENCY</td>\n",
       "      <td>EMERGENCY ROOM ADMIT</td>\n",
       "      <td>DISC-TRAN CANCER/CHLDRN H</td>\n",
       "      <td>Private</td>\n",
       "      <td>NaN</td>\n",
       "      <td>UNOBTAINABLE</td>\n",
       "      <td>MARRIED</td>\n",
       "      <td>WHITE</td>\n",
       "      <td>2196-04-09 10:06:00</td>\n",
       "      <td>2196-04-09 13:24:00</td>\n",
       "      <td>BENZODIAZEPINE OVERDOSE</td>\n",
       "      <td>0</td>\n",
       "      <td>1</td>\n",
       "      <td>NaN</td>\n",
       "    </tr>\n",
       "    <tr>\n",
       "      <td>1</td>\n",
       "      <td>22</td>\n",
       "      <td>23</td>\n",
       "      <td>152223</td>\n",
       "      <td>2153-09-03 07:15:00</td>\n",
       "      <td>2153-09-08 19:10:00</td>\n",
       "      <td>NaN</td>\n",
       "      <td>ELECTIVE</td>\n",
       "      <td>PHYS REFERRAL/NORMAL DELI</td>\n",
       "      <td>HOME HEALTH CARE</td>\n",
       "      <td>Medicare</td>\n",
       "      <td>NaN</td>\n",
       "      <td>CATHOLIC</td>\n",
       "      <td>MARRIED</td>\n",
       "      <td>WHITE</td>\n",
       "      <td>NaN</td>\n",
       "      <td>NaN</td>\n",
       "      <td>CORONARY ARTERY DISEASE\\CORONARY ARTERY BYPASS...</td>\n",
       "      <td>0</td>\n",
       "      <td>1</td>\n",
       "      <td>2157-10-18 19:34:00</td>\n",
       "    </tr>\n",
       "    <tr>\n",
       "      <td>2</td>\n",
       "      <td>23</td>\n",
       "      <td>23</td>\n",
       "      <td>124321</td>\n",
       "      <td>2157-10-18 19:34:00</td>\n",
       "      <td>2157-10-25 14:00:00</td>\n",
       "      <td>NaN</td>\n",
       "      <td>EMERGENCY</td>\n",
       "      <td>TRANSFER FROM HOSP/EXTRAM</td>\n",
       "      <td>HOME HEALTH CARE</td>\n",
       "      <td>Medicare</td>\n",
       "      <td>ENGL</td>\n",
       "      <td>CATHOLIC</td>\n",
       "      <td>MARRIED</td>\n",
       "      <td>WHITE</td>\n",
       "      <td>NaN</td>\n",
       "      <td>NaN</td>\n",
       "      <td>BRAIN MASS</td>\n",
       "      <td>0</td>\n",
       "      <td>1</td>\n",
       "      <td>NaN</td>\n",
       "    </tr>\n",
       "    <tr>\n",
       "      <td>3</td>\n",
       "      <td>24</td>\n",
       "      <td>24</td>\n",
       "      <td>161859</td>\n",
       "      <td>2139-06-06 16:14:00</td>\n",
       "      <td>2139-06-09 12:48:00</td>\n",
       "      <td>NaN</td>\n",
       "      <td>EMERGENCY</td>\n",
       "      <td>TRANSFER FROM HOSP/EXTRAM</td>\n",
       "      <td>HOME</td>\n",
       "      <td>Private</td>\n",
       "      <td>NaN</td>\n",
       "      <td>PROTESTANT QUAKER</td>\n",
       "      <td>SINGLE</td>\n",
       "      <td>WHITE</td>\n",
       "      <td>NaN</td>\n",
       "      <td>NaN</td>\n",
       "      <td>INTERIOR MYOCARDIAL INFARCTION</td>\n",
       "      <td>0</td>\n",
       "      <td>1</td>\n",
       "      <td>NaN</td>\n",
       "    </tr>\n",
       "    <tr>\n",
       "      <td>4</td>\n",
       "      <td>25</td>\n",
       "      <td>25</td>\n",
       "      <td>129635</td>\n",
       "      <td>2160-11-02 02:06:00</td>\n",
       "      <td>2160-11-05 14:55:00</td>\n",
       "      <td>NaN</td>\n",
       "      <td>EMERGENCY</td>\n",
       "      <td>EMERGENCY ROOM ADMIT</td>\n",
       "      <td>HOME</td>\n",
       "      <td>Private</td>\n",
       "      <td>NaN</td>\n",
       "      <td>UNOBTAINABLE</td>\n",
       "      <td>MARRIED</td>\n",
       "      <td>WHITE</td>\n",
       "      <td>2160-11-02 01:01:00</td>\n",
       "      <td>2160-11-02 04:27:00</td>\n",
       "      <td>ACUTE CORONARY SYNDROME</td>\n",
       "      <td>0</td>\n",
       "      <td>1</td>\n",
       "      <td>NaN</td>\n",
       "    </tr>\n",
       "  </tbody>\n",
       "</table>\n",
       "</div>"
      ],
      "text/plain": [
       "   ROW_ID  SUBJECT_ID  HADM_ID            ADMITTIME            DISCHTIME  \\\n",
       "0      21          22   165315  2196-04-09 12:26:00  2196-04-10 15:54:00   \n",
       "1      22          23   152223  2153-09-03 07:15:00  2153-09-08 19:10:00   \n",
       "2      23          23   124321  2157-10-18 19:34:00  2157-10-25 14:00:00   \n",
       "3      24          24   161859  2139-06-06 16:14:00  2139-06-09 12:48:00   \n",
       "4      25          25   129635  2160-11-02 02:06:00  2160-11-05 14:55:00   \n",
       "\n",
       "  DEATHTIME ADMISSION_TYPE         ADMISSION_LOCATION  \\\n",
       "0       NaN      EMERGENCY       EMERGENCY ROOM ADMIT   \n",
       "1       NaN       ELECTIVE  PHYS REFERRAL/NORMAL DELI   \n",
       "2       NaN      EMERGENCY  TRANSFER FROM HOSP/EXTRAM   \n",
       "3       NaN      EMERGENCY  TRANSFER FROM HOSP/EXTRAM   \n",
       "4       NaN      EMERGENCY       EMERGENCY ROOM ADMIT   \n",
       "\n",
       "          DISCHARGE_LOCATION INSURANCE LANGUAGE           RELIGION  \\\n",
       "0  DISC-TRAN CANCER/CHLDRN H   Private      NaN       UNOBTAINABLE   \n",
       "1           HOME HEALTH CARE  Medicare      NaN           CATHOLIC   \n",
       "2           HOME HEALTH CARE  Medicare     ENGL           CATHOLIC   \n",
       "3                       HOME   Private      NaN  PROTESTANT QUAKER   \n",
       "4                       HOME   Private      NaN       UNOBTAINABLE   \n",
       "\n",
       "  MARITAL_STATUS ETHNICITY            EDREGTIME            EDOUTTIME  \\\n",
       "0        MARRIED     WHITE  2196-04-09 10:06:00  2196-04-09 13:24:00   \n",
       "1        MARRIED     WHITE                  NaN                  NaN   \n",
       "2        MARRIED     WHITE                  NaN                  NaN   \n",
       "3         SINGLE     WHITE                  NaN                  NaN   \n",
       "4        MARRIED     WHITE  2160-11-02 01:01:00  2160-11-02 04:27:00   \n",
       "\n",
       "                                           DIAGNOSIS  HOSPITAL_EXPIRE_FLAG  \\\n",
       "0                            BENZODIAZEPINE OVERDOSE                     0   \n",
       "1  CORONARY ARTERY DISEASE\\CORONARY ARTERY BYPASS...                     0   \n",
       "2                                         BRAIN MASS                     0   \n",
       "3                     INTERIOR MYOCARDIAL INFARCTION                     0   \n",
       "4                            ACUTE CORONARY SYNDROME                     0   \n",
       "\n",
       "   HAS_CHARTEVENTS_DATA       NEXT_ADMITTIME  \n",
       "0                     1                  NaN  \n",
       "1                     1  2157-10-18 19:34:00  \n",
       "2                     1                  NaN  \n",
       "3                     1                  NaN  \n",
       "4                     1                  NaN  "
      ]
     },
     "execution_count": 11,
     "metadata": {},
     "output_type": "execute_result"
    }
   ],
   "source": [
    "admissions.head(5)"
   ]
  },
  {
   "cell_type": "code",
   "execution_count": 12,
   "metadata": {
    "colab": {
     "base_uri": "https://localhost:8080/",
     "height": 687
    },
    "colab_type": "code",
    "executionInfo": {
     "elapsed": 4033,
     "status": "ok",
     "timestamp": 1596429876605,
     "user": {
      "displayName": "Tanisha Bhayani",
      "photoUrl": "",
      "userId": "03093037226242090836"
     },
     "user_tz": -330
    },
    "id": "hfHCOIzUxejF",
    "outputId": "241baeab-e16b-4a38-da1f-2794e56c2e14"
   },
   "outputs": [
    {
     "data": {
      "text/html": [
       "<div>\n",
       "<style scoped>\n",
       "    .dataframe tbody tr th:only-of-type {\n",
       "        vertical-align: middle;\n",
       "    }\n",
       "\n",
       "    .dataframe tbody tr th {\n",
       "        vertical-align: top;\n",
       "    }\n",
       "\n",
       "    .dataframe thead th {\n",
       "        text-align: right;\n",
       "    }\n",
       "</style>\n",
       "<table border=\"1\" class=\"dataframe\">\n",
       "  <thead>\n",
       "    <tr style=\"text-align: right;\">\n",
       "      <th></th>\n",
       "      <th>ROW_ID</th>\n",
       "      <th>SUBJECT_ID</th>\n",
       "      <th>HADM_ID</th>\n",
       "      <th>ADMITTIME</th>\n",
       "      <th>DISCHTIME</th>\n",
       "      <th>DEATHTIME</th>\n",
       "      <th>ADMISSION_TYPE</th>\n",
       "      <th>ADMISSION_LOCATION</th>\n",
       "      <th>DISCHARGE_LOCATION</th>\n",
       "      <th>INSURANCE</th>\n",
       "      <th>LANGUAGE</th>\n",
       "      <th>RELIGION</th>\n",
       "      <th>MARITAL_STATUS</th>\n",
       "      <th>ETHNICITY</th>\n",
       "      <th>EDREGTIME</th>\n",
       "      <th>EDOUTTIME</th>\n",
       "      <th>DIAGNOSIS</th>\n",
       "      <th>HOSPITAL_EXPIRE_FLAG</th>\n",
       "      <th>HAS_CHARTEVENTS_DATA</th>\n",
       "      <th>NEXT_ADMITTIME</th>\n",
       "    </tr>\n",
       "  </thead>\n",
       "  <tbody>\n",
       "    <tr>\n",
       "      <td>224</td>\n",
       "      <td>14</td>\n",
       "      <td>17</td>\n",
       "      <td>194023</td>\n",
       "      <td>2134-12-27 07:15:00</td>\n",
       "      <td>2134-12-31 16:05:00</td>\n",
       "      <td>NaN</td>\n",
       "      <td>ELECTIVE</td>\n",
       "      <td>PHYS REFERRAL/NORMAL DELI</td>\n",
       "      <td>HOME HEALTH CARE</td>\n",
       "      <td>Private</td>\n",
       "      <td>ENGL</td>\n",
       "      <td>CATHOLIC</td>\n",
       "      <td>MARRIED</td>\n",
       "      <td>WHITE</td>\n",
       "      <td>NaN</td>\n",
       "      <td>NaN</td>\n",
       "      <td>PATIENT FORAMEN OVALE\\ PATENT FORAMEN OVALE MI...</td>\n",
       "      <td>0</td>\n",
       "      <td>1</td>\n",
       "      <td>2135-05-09 14:11:00</td>\n",
       "    </tr>\n",
       "    <tr>\n",
       "      <td>225</td>\n",
       "      <td>15</td>\n",
       "      <td>17</td>\n",
       "      <td>161087</td>\n",
       "      <td>2135-05-09 14:11:00</td>\n",
       "      <td>2135-05-13 14:40:00</td>\n",
       "      <td>NaN</td>\n",
       "      <td>EMERGENCY</td>\n",
       "      <td>EMERGENCY ROOM ADMIT</td>\n",
       "      <td>HOME HEALTH CARE</td>\n",
       "      <td>Private</td>\n",
       "      <td>ENGL</td>\n",
       "      <td>CATHOLIC</td>\n",
       "      <td>MARRIED</td>\n",
       "      <td>WHITE</td>\n",
       "      <td>2135-05-09 11:27:00</td>\n",
       "      <td>2135-05-09 13:45:00</td>\n",
       "      <td>PERICARDIAL EFFUSION</td>\n",
       "      <td>0</td>\n",
       "      <td>1</td>\n",
       "      <td>NaN</td>\n",
       "    </tr>\n",
       "    <tr>\n",
       "      <td>229</td>\n",
       "      <td>19</td>\n",
       "      <td>21</td>\n",
       "      <td>109451</td>\n",
       "      <td>2134-09-11 12:17:00</td>\n",
       "      <td>2134-09-24 16:15:00</td>\n",
       "      <td>NaN</td>\n",
       "      <td>EMERGENCY</td>\n",
       "      <td>EMERGENCY ROOM ADMIT</td>\n",
       "      <td>REHAB/DISTINCT PART HOSP</td>\n",
       "      <td>Medicare</td>\n",
       "      <td>NaN</td>\n",
       "      <td>JEWISH</td>\n",
       "      <td>MARRIED</td>\n",
       "      <td>WHITE</td>\n",
       "      <td>2134-09-11 09:22:00</td>\n",
       "      <td>2134-09-11 22:30:00</td>\n",
       "      <td>CONGESTIVE HEART FAILURE</td>\n",
       "      <td>0</td>\n",
       "      <td>1</td>\n",
       "      <td>2135-01-30 20:50:00</td>\n",
       "    </tr>\n",
       "    <tr>\n",
       "      <td>230</td>\n",
       "      <td>20</td>\n",
       "      <td>21</td>\n",
       "      <td>111970</td>\n",
       "      <td>2135-01-30 20:50:00</td>\n",
       "      <td>2135-02-08 02:08:00</td>\n",
       "      <td>2135-02-08 02:08:00</td>\n",
       "      <td>EMERGENCY</td>\n",
       "      <td>EMERGENCY ROOM ADMIT</td>\n",
       "      <td>DEAD/EXPIRED</td>\n",
       "      <td>Medicare</td>\n",
       "      <td>NaN</td>\n",
       "      <td>JEWISH</td>\n",
       "      <td>MARRIED</td>\n",
       "      <td>WHITE</td>\n",
       "      <td>2135-01-30 18:46:00</td>\n",
       "      <td>2135-01-30 22:05:00</td>\n",
       "      <td>SEPSIS</td>\n",
       "      <td>1</td>\n",
       "      <td>1</td>\n",
       "      <td>NaN</td>\n",
       "    </tr>\n",
       "    <tr>\n",
       "      <td>1</td>\n",
       "      <td>22</td>\n",
       "      <td>23</td>\n",
       "      <td>152223</td>\n",
       "      <td>2153-09-03 07:15:00</td>\n",
       "      <td>2153-09-08 19:10:00</td>\n",
       "      <td>NaN</td>\n",
       "      <td>ELECTIVE</td>\n",
       "      <td>PHYS REFERRAL/NORMAL DELI</td>\n",
       "      <td>HOME HEALTH CARE</td>\n",
       "      <td>Medicare</td>\n",
       "      <td>NaN</td>\n",
       "      <td>CATHOLIC</td>\n",
       "      <td>MARRIED</td>\n",
       "      <td>WHITE</td>\n",
       "      <td>NaN</td>\n",
       "      <td>NaN</td>\n",
       "      <td>CORONARY ARTERY DISEASE\\CORONARY ARTERY BYPASS...</td>\n",
       "      <td>0</td>\n",
       "      <td>1</td>\n",
       "      <td>2157-10-18 19:34:00</td>\n",
       "    </tr>\n",
       "    <tr>\n",
       "      <td>...</td>\n",
       "      <td>...</td>\n",
       "      <td>...</td>\n",
       "      <td>...</td>\n",
       "      <td>...</td>\n",
       "      <td>...</td>\n",
       "      <td>...</td>\n",
       "      <td>...</td>\n",
       "      <td>...</td>\n",
       "      <td>...</td>\n",
       "      <td>...</td>\n",
       "      <td>...</td>\n",
       "      <td>...</td>\n",
       "      <td>...</td>\n",
       "      <td>...</td>\n",
       "      <td>...</td>\n",
       "      <td>...</td>\n",
       "      <td>...</td>\n",
       "      <td>...</td>\n",
       "      <td>...</td>\n",
       "      <td>...</td>\n",
       "    </tr>\n",
       "    <tr>\n",
       "      <td>56415</td>\n",
       "      <td>58952</td>\n",
       "      <td>99923</td>\n",
       "      <td>164914</td>\n",
       "      <td>2201-02-23 20:42:00</td>\n",
       "      <td>2201-03-03 16:00:00</td>\n",
       "      <td>NaN</td>\n",
       "      <td>EMERGENCY</td>\n",
       "      <td>CLINIC REFERRAL/PREMATURE</td>\n",
       "      <td>HOME</td>\n",
       "      <td>Private</td>\n",
       "      <td>ENGL</td>\n",
       "      <td>CATHOLIC</td>\n",
       "      <td>MARRIED</td>\n",
       "      <td>WHITE</td>\n",
       "      <td>2201-02-23 15:54:00</td>\n",
       "      <td>2201-02-23 21:58:00</td>\n",
       "      <td>HYPONATREMIA</td>\n",
       "      <td>0</td>\n",
       "      <td>1</td>\n",
       "      <td>2201-05-15 13:12:00</td>\n",
       "    </tr>\n",
       "    <tr>\n",
       "      <td>56416</td>\n",
       "      <td>58953</td>\n",
       "      <td>99923</td>\n",
       "      <td>192053</td>\n",
       "      <td>2201-05-15 13:12:00</td>\n",
       "      <td>2201-05-25 14:51:00</td>\n",
       "      <td>NaN</td>\n",
       "      <td>EMERGENCY</td>\n",
       "      <td>CLINIC REFERRAL/PREMATURE</td>\n",
       "      <td>HOME HEALTH CARE</td>\n",
       "      <td>Private</td>\n",
       "      <td>ENGL</td>\n",
       "      <td>CATHOLIC</td>\n",
       "      <td>MARRIED</td>\n",
       "      <td>WHITE</td>\n",
       "      <td>NaN</td>\n",
       "      <td>NaN</td>\n",
       "      <td>END STAGE LIVER DISEASE</td>\n",
       "      <td>0</td>\n",
       "      <td>1</td>\n",
       "      <td>NaN</td>\n",
       "    </tr>\n",
       "    <tr>\n",
       "      <td>56431</td>\n",
       "      <td>58968</td>\n",
       "      <td>99982</td>\n",
       "      <td>151454</td>\n",
       "      <td>2156-11-28 11:56:00</td>\n",
       "      <td>2156-12-08 13:45:00</td>\n",
       "      <td>NaN</td>\n",
       "      <td>EMERGENCY</td>\n",
       "      <td>PHYS REFERRAL/NORMAL DELI</td>\n",
       "      <td>HOME HEALTH CARE</td>\n",
       "      <td>Medicare</td>\n",
       "      <td>ENGL</td>\n",
       "      <td>CATHOLIC</td>\n",
       "      <td>MARRIED</td>\n",
       "      <td>WHITE</td>\n",
       "      <td>NaN</td>\n",
       "      <td>NaN</td>\n",
       "      <td>TVR</td>\n",
       "      <td>0</td>\n",
       "      <td>1</td>\n",
       "      <td>2157-01-05 17:27:00</td>\n",
       "    </tr>\n",
       "    <tr>\n",
       "      <td>56432</td>\n",
       "      <td>58969</td>\n",
       "      <td>99982</td>\n",
       "      <td>112748</td>\n",
       "      <td>2157-01-05 17:27:00</td>\n",
       "      <td>2157-01-12 13:00:00</td>\n",
       "      <td>NaN</td>\n",
       "      <td>EMERGENCY</td>\n",
       "      <td>CLINIC REFERRAL/PREMATURE</td>\n",
       "      <td>HOME</td>\n",
       "      <td>Medicare</td>\n",
       "      <td>ENGL</td>\n",
       "      <td>CATHOLIC</td>\n",
       "      <td>MARRIED</td>\n",
       "      <td>WHITE</td>\n",
       "      <td>2157-01-05 14:03:00</td>\n",
       "      <td>2157-01-05 18:50:00</td>\n",
       "      <td>SHORTNESS OF BREATH</td>\n",
       "      <td>0</td>\n",
       "      <td>1</td>\n",
       "      <td>2157-02-16 17:31:00</td>\n",
       "    </tr>\n",
       "    <tr>\n",
       "      <td>56433</td>\n",
       "      <td>58970</td>\n",
       "      <td>99982</td>\n",
       "      <td>183791</td>\n",
       "      <td>2157-02-16 17:31:00</td>\n",
       "      <td>2157-02-22 20:36:00</td>\n",
       "      <td>NaN</td>\n",
       "      <td>EMERGENCY</td>\n",
       "      <td>TRANSFER FROM HOSP/EXTRAM</td>\n",
       "      <td>SHORT TERM HOSPITAL</td>\n",
       "      <td>Medicare</td>\n",
       "      <td>ENGL</td>\n",
       "      <td>CATHOLIC</td>\n",
       "      <td>MARRIED</td>\n",
       "      <td>WHITE</td>\n",
       "      <td>NaN</td>\n",
       "      <td>NaN</td>\n",
       "      <td>BIVENTRICULAR HEART FAILURE</td>\n",
       "      <td>0</td>\n",
       "      <td>1</td>\n",
       "      <td>NaN</td>\n",
       "    </tr>\n",
       "  </tbody>\n",
       "</table>\n",
       "<p>19993 rows × 20 columns</p>\n",
       "</div>"
      ],
      "text/plain": [
       "       ROW_ID  SUBJECT_ID  HADM_ID            ADMITTIME            DISCHTIME  \\\n",
       "224        14          17   194023  2134-12-27 07:15:00  2134-12-31 16:05:00   \n",
       "225        15          17   161087  2135-05-09 14:11:00  2135-05-13 14:40:00   \n",
       "229        19          21   109451  2134-09-11 12:17:00  2134-09-24 16:15:00   \n",
       "230        20          21   111970  2135-01-30 20:50:00  2135-02-08 02:08:00   \n",
       "1          22          23   152223  2153-09-03 07:15:00  2153-09-08 19:10:00   \n",
       "...       ...         ...      ...                  ...                  ...   \n",
       "56415   58952       99923   164914  2201-02-23 20:42:00  2201-03-03 16:00:00   \n",
       "56416   58953       99923   192053  2201-05-15 13:12:00  2201-05-25 14:51:00   \n",
       "56431   58968       99982   151454  2156-11-28 11:56:00  2156-12-08 13:45:00   \n",
       "56432   58969       99982   112748  2157-01-05 17:27:00  2157-01-12 13:00:00   \n",
       "56433   58970       99982   183791  2157-02-16 17:31:00  2157-02-22 20:36:00   \n",
       "\n",
       "                 DEATHTIME ADMISSION_TYPE         ADMISSION_LOCATION  \\\n",
       "224                    NaN       ELECTIVE  PHYS REFERRAL/NORMAL DELI   \n",
       "225                    NaN      EMERGENCY       EMERGENCY ROOM ADMIT   \n",
       "229                    NaN      EMERGENCY       EMERGENCY ROOM ADMIT   \n",
       "230    2135-02-08 02:08:00      EMERGENCY       EMERGENCY ROOM ADMIT   \n",
       "1                      NaN       ELECTIVE  PHYS REFERRAL/NORMAL DELI   \n",
       "...                    ...            ...                        ...   \n",
       "56415                  NaN      EMERGENCY  CLINIC REFERRAL/PREMATURE   \n",
       "56416                  NaN      EMERGENCY  CLINIC REFERRAL/PREMATURE   \n",
       "56431                  NaN      EMERGENCY  PHYS REFERRAL/NORMAL DELI   \n",
       "56432                  NaN      EMERGENCY  CLINIC REFERRAL/PREMATURE   \n",
       "56433                  NaN      EMERGENCY  TRANSFER FROM HOSP/EXTRAM   \n",
       "\n",
       "             DISCHARGE_LOCATION INSURANCE LANGUAGE  RELIGION MARITAL_STATUS  \\\n",
       "224            HOME HEALTH CARE   Private     ENGL  CATHOLIC        MARRIED   \n",
       "225            HOME HEALTH CARE   Private     ENGL  CATHOLIC        MARRIED   \n",
       "229    REHAB/DISTINCT PART HOSP  Medicare      NaN    JEWISH        MARRIED   \n",
       "230                DEAD/EXPIRED  Medicare      NaN    JEWISH        MARRIED   \n",
       "1              HOME HEALTH CARE  Medicare      NaN  CATHOLIC        MARRIED   \n",
       "...                         ...       ...      ...       ...            ...   \n",
       "56415                      HOME   Private     ENGL  CATHOLIC        MARRIED   \n",
       "56416          HOME HEALTH CARE   Private     ENGL  CATHOLIC        MARRIED   \n",
       "56431          HOME HEALTH CARE  Medicare     ENGL  CATHOLIC        MARRIED   \n",
       "56432                      HOME  Medicare     ENGL  CATHOLIC        MARRIED   \n",
       "56433       SHORT TERM HOSPITAL  Medicare     ENGL  CATHOLIC        MARRIED   \n",
       "\n",
       "      ETHNICITY            EDREGTIME            EDOUTTIME  \\\n",
       "224       WHITE                  NaN                  NaN   \n",
       "225       WHITE  2135-05-09 11:27:00  2135-05-09 13:45:00   \n",
       "229       WHITE  2134-09-11 09:22:00  2134-09-11 22:30:00   \n",
       "230       WHITE  2135-01-30 18:46:00  2135-01-30 22:05:00   \n",
       "1         WHITE                  NaN                  NaN   \n",
       "...         ...                  ...                  ...   \n",
       "56415     WHITE  2201-02-23 15:54:00  2201-02-23 21:58:00   \n",
       "56416     WHITE                  NaN                  NaN   \n",
       "56431     WHITE                  NaN                  NaN   \n",
       "56432     WHITE  2157-01-05 14:03:00  2157-01-05 18:50:00   \n",
       "56433     WHITE                  NaN                  NaN   \n",
       "\n",
       "                                               DIAGNOSIS  \\\n",
       "224    PATIENT FORAMEN OVALE\\ PATENT FORAMEN OVALE MI...   \n",
       "225                                 PERICARDIAL EFFUSION   \n",
       "229                             CONGESTIVE HEART FAILURE   \n",
       "230                                               SEPSIS   \n",
       "1      CORONARY ARTERY DISEASE\\CORONARY ARTERY BYPASS...   \n",
       "...                                                  ...   \n",
       "56415                                       HYPONATREMIA   \n",
       "56416                            END STAGE LIVER DISEASE   \n",
       "56431                                                TVR   \n",
       "56432                                SHORTNESS OF BREATH   \n",
       "56433                        BIVENTRICULAR HEART FAILURE   \n",
       "\n",
       "       HOSPITAL_EXPIRE_FLAG  HAS_CHARTEVENTS_DATA       NEXT_ADMITTIME  \n",
       "224                       0                     1  2135-05-09 14:11:00  \n",
       "225                       0                     1                  NaN  \n",
       "229                       0                     1  2135-01-30 20:50:00  \n",
       "230                       1                     1                  NaN  \n",
       "1                         0                     1  2157-10-18 19:34:00  \n",
       "...                     ...                   ...                  ...  \n",
       "56415                     0                     1  2201-05-15 13:12:00  \n",
       "56416                     0                     1                  NaN  \n",
       "56431                     0                     1  2157-01-05 17:27:00  \n",
       "56432                     0                     1  2157-02-16 17:31:00  \n",
       "56433                     0                     1                  NaN  \n",
       "\n",
       "[19993 rows x 20 columns]"
      ]
     },
     "execution_count": 12,
     "metadata": {},
     "output_type": "execute_result"
    }
   ],
   "source": [
    "# sort by subject_ID and check for duplicates\n",
    "admissions[admissions.duplicated('SUBJECT_ID', keep=False)].sort_values(['SUBJECT_ID', 'ADMITTIME'])"
   ]
  },
  {
   "cell_type": "markdown",
   "metadata": {
    "colab_type": "text",
    "id": "rsEPnYNBKFnZ"
   },
   "source": [
    "pd.to_datetime converts the date time string to date-time datatype"
   ]
  },
  {
   "cell_type": "code",
   "execution_count": 13,
   "metadata": {
    "colab": {},
    "colab_type": "code",
    "id": "ePnupsjXuvGg"
   },
   "outputs": [],
   "source": [
    "admissions['NEXT_ADMITTIME'] = pd.to_datetime(admissions['NEXT_ADMITTIME'])"
   ]
  },
  {
   "cell_type": "code",
   "execution_count": 14,
   "metadata": {
    "colab": {},
    "colab_type": "code",
    "id": "_CC6BOw6u_ye"
   },
   "outputs": [],
   "source": [
    "admissions['ADMITTIME'] = pd.to_datetime(admissions['ADMITTIME'])"
   ]
  },
  {
   "cell_type": "code",
   "execution_count": 15,
   "metadata": {
    "colab": {},
    "colab_type": "code",
    "id": "taTOa6Ep0ycW"
   },
   "outputs": [],
   "source": [
    "admissions['DISCHTIME'] = pd.to_datetime(admissions['DISCHTIME'])"
   ]
  },
  {
   "cell_type": "code",
   "execution_count": 16,
   "metadata": {
    "colab": {},
    "colab_type": "code",
    "id": "qXjsvgJS04Xi"
   },
   "outputs": [],
   "source": [
    "# get the total number of days on hospital\n",
    "admissions.loc[:, 'DAYS_IN_HOSPITAL'] = (admissions['DISCHTIME'] - admissions['ADMITTIME']).dt.days"
   ]
  },
  {
   "cell_type": "code",
   "execution_count": 17,
   "metadata": {
    "colab": {},
    "colab_type": "code",
    "id": "phgu4t49xwww"
   },
   "outputs": [],
   "source": [
    "# sort by subject_ID and admission date\n",
    "adm = admissions.sort_values(['SUBJECT_ID', 'ADMITTIME'])"
   ]
  },
  {
   "cell_type": "code",
   "execution_count": 18,
   "metadata": {
    "colab": {},
    "colab_type": "code",
    "id": "oCzNui5KvEFi"
   },
   "outputs": [],
   "source": [
    "# get the days within next admit\n",
    "adm['DAYS_WITHIN_NEXT_ADMIT'] = (adm['NEXT_ADMITTIME'] - adm['ADMITTIME']).dt.days"
   ]
  },
  {
   "cell_type": "code",
   "execution_count": 19,
   "metadata": {
    "colab": {
     "base_uri": "https://localhost:8080/",
     "height": 52
    },
    "colab_type": "code",
    "executionInfo": {
     "elapsed": 2104,
     "status": "ok",
     "timestamp": 1596429885918,
     "user": {
      "displayName": "Tanisha Bhayani",
      "photoUrl": "",
      "userId": "03093037226242090836"
     },
     "user_tz": -330
    },
    "id": "h0kBp7JuZeFo",
    "outputId": "43fcf426-1f84-45a4-98b3-e07d79d71c92"
   },
   "outputs": [
    {
     "data": {
      "text/plain": [
       "False    58976\n",
       "Name: DAYS_IN_HOSPITAL, dtype: int64"
      ]
     },
     "execution_count": 19,
     "metadata": {},
     "output_type": "execute_result"
    }
   ],
   "source": [
    "adm.DAYS_IN_HOSPITAL.isna().value_counts()"
   ]
  },
  {
   "cell_type": "code",
   "execution_count": 20,
   "metadata": {
    "colab": {},
    "colab_type": "code",
    "id": "nx-9Oz09941s"
   },
   "outputs": [],
   "source": [
    "# filling the negative values with \n",
    "adm.loc[adm['DAYS_WITHIN_NEXT_ADMIT'] < 0, 'DAYS_WITHIN_NEXT_ADMIT'] = pd.NaT"
   ]
  },
  {
   "cell_type": "code",
   "execution_count": 21,
   "metadata": {
    "colab": {
     "base_uri": "https://localhost:8080/",
     "height": 69
    },
    "colab_type": "code",
    "executionInfo": {
     "elapsed": 3830,
     "status": "ok",
     "timestamp": 1596429892826,
     "user": {
      "displayName": "Tanisha Bhayani",
      "photoUrl": "",
      "userId": "03093037226242090836"
     },
     "user_tz": -330
    },
    "id": "zCzXvpJCAcgQ",
    "outputId": "e86409ea-844c-48e2-d426-2eb4b2e4885c"
   },
   "outputs": [
    {
     "data": {
      "text/plain": [
       "True     46622\n",
       "False    12354\n",
       "Name: DAYS_WITHIN_NEXT_ADMIT, dtype: int64"
      ]
     },
     "execution_count": 21,
     "metadata": {},
     "output_type": "execute_result"
    }
   ],
   "source": [
    "adm['DAYS_WITHIN_NEXT_ADMIT'].isna().value_counts()"
   ]
  },
  {
   "cell_type": "code",
   "execution_count": 22,
   "metadata": {
    "colab": {
     "base_uri": "https://localhost:8080/",
     "height": 69
    },
    "colab_type": "code",
    "executionInfo": {
     "elapsed": 3639,
     "status": "ok",
     "timestamp": 1596429892828,
     "user": {
      "displayName": "Tanisha Bhayani",
      "photoUrl": "",
      "userId": "03093037226242090836"
     },
     "user_tz": -330
    },
    "id": "qHcNTI3aDdo7",
    "outputId": "544cc94d-56ef-4fd0-9920-81863fce6810"
   },
   "outputs": [
    {
     "data": {
      "text/plain": [
       "False    56449\n",
       "True      2527\n",
       "Name: DAYS_WITHIN_NEXT_ADMIT, dtype: int64"
      ]
     },
     "execution_count": 22,
     "metadata": {},
     "output_type": "execute_result"
    }
   ],
   "source": [
    "# gine the counts of the patient admits within 30 days.\n",
    "(adm.DAYS_WITHIN_NEXT_ADMIT <= 30).value_counts()"
   ]
  },
  {
   "cell_type": "code",
   "execution_count": 23,
   "metadata": {
    "colab": {
     "base_uri": "https://localhost:8080/",
     "height": 424
    },
    "colab_type": "code",
    "executionInfo": {
     "elapsed": 1590,
     "status": "ok",
     "timestamp": 1596429894274,
     "user": {
      "displayName": "Tanisha Bhayani",
      "photoUrl": "",
      "userId": "03093037226242090836"
     },
     "user_tz": -330
    },
    "id": "Tw86o5FIvLUN",
    "outputId": "ca668192-d4fc-410a-c245-4c2064ef0a37"
   },
   "outputs": [
    {
     "data": {
      "text/html": [
       "<div>\n",
       "<style scoped>\n",
       "    .dataframe tbody tr th:only-of-type {\n",
       "        vertical-align: middle;\n",
       "    }\n",
       "\n",
       "    .dataframe tbody tr th {\n",
       "        vertical-align: top;\n",
       "    }\n",
       "\n",
       "    .dataframe thead th {\n",
       "        text-align: right;\n",
       "    }\n",
       "</style>\n",
       "<table border=\"1\" class=\"dataframe\">\n",
       "  <thead>\n",
       "    <tr style=\"text-align: right;\">\n",
       "      <th></th>\n",
       "      <th>ADMITTIME</th>\n",
       "      <th>SUBJECT_ID</th>\n",
       "      <th>HADM_ID</th>\n",
       "      <th>DAYS_WITHIN_NEXT_ADMIT</th>\n",
       "    </tr>\n",
       "  </thead>\n",
       "  <tbody>\n",
       "    <tr>\n",
       "      <td>211</td>\n",
       "      <td>2138-07-17 19:04:00</td>\n",
       "      <td>2</td>\n",
       "      <td>163353</td>\n",
       "      <td>NaN</td>\n",
       "    </tr>\n",
       "    <tr>\n",
       "      <td>212</td>\n",
       "      <td>2101-10-20 19:08:00</td>\n",
       "      <td>3</td>\n",
       "      <td>145834</td>\n",
       "      <td>NaN</td>\n",
       "    </tr>\n",
       "    <tr>\n",
       "      <td>213</td>\n",
       "      <td>2191-03-16 00:28:00</td>\n",
       "      <td>4</td>\n",
       "      <td>185777</td>\n",
       "      <td>NaN</td>\n",
       "    </tr>\n",
       "    <tr>\n",
       "      <td>214</td>\n",
       "      <td>2103-02-02 04:31:00</td>\n",
       "      <td>5</td>\n",
       "      <td>178980</td>\n",
       "      <td>NaN</td>\n",
       "    </tr>\n",
       "    <tr>\n",
       "      <td>215</td>\n",
       "      <td>2175-05-30 07:15:00</td>\n",
       "      <td>6</td>\n",
       "      <td>107064</td>\n",
       "      <td>NaN</td>\n",
       "    </tr>\n",
       "    <tr>\n",
       "      <td>...</td>\n",
       "      <td>...</td>\n",
       "      <td>...</td>\n",
       "      <td>...</td>\n",
       "      <td>...</td>\n",
       "    </tr>\n",
       "    <tr>\n",
       "      <td>56435</td>\n",
       "      <td>2181-01-27 02:47:00</td>\n",
       "      <td>99985</td>\n",
       "      <td>176670</td>\n",
       "      <td>NaN</td>\n",
       "    </tr>\n",
       "    <tr>\n",
       "      <td>56436</td>\n",
       "      <td>2184-12-24 08:30:00</td>\n",
       "      <td>99991</td>\n",
       "      <td>151118</td>\n",
       "      <td>NaN</td>\n",
       "    </tr>\n",
       "    <tr>\n",
       "      <td>56437</td>\n",
       "      <td>2144-07-25 18:03:00</td>\n",
       "      <td>99992</td>\n",
       "      <td>197084</td>\n",
       "      <td>NaN</td>\n",
       "    </tr>\n",
       "    <tr>\n",
       "      <td>56565</td>\n",
       "      <td>2147-02-08 08:00:00</td>\n",
       "      <td>99995</td>\n",
       "      <td>137810</td>\n",
       "      <td>NaN</td>\n",
       "    </tr>\n",
       "    <tr>\n",
       "      <td>56566</td>\n",
       "      <td>2117-12-30 07:15:00</td>\n",
       "      <td>99999</td>\n",
       "      <td>113369</td>\n",
       "      <td>NaN</td>\n",
       "    </tr>\n",
       "  </tbody>\n",
       "</table>\n",
       "<p>58976 rows × 4 columns</p>\n",
       "</div>"
      ],
      "text/plain": [
       "                ADMITTIME  SUBJECT_ID  HADM_ID DAYS_WITHIN_NEXT_ADMIT\n",
       "211   2138-07-17 19:04:00           2   163353                    NaN\n",
       "212   2101-10-20 19:08:00           3   145834                    NaN\n",
       "213   2191-03-16 00:28:00           4   185777                    NaN\n",
       "214   2103-02-02 04:31:00           5   178980                    NaN\n",
       "215   2175-05-30 07:15:00           6   107064                    NaN\n",
       "...                   ...         ...      ...                    ...\n",
       "56435 2181-01-27 02:47:00       99985   176670                    NaN\n",
       "56436 2184-12-24 08:30:00       99991   151118                    NaN\n",
       "56437 2144-07-25 18:03:00       99992   197084                    NaN\n",
       "56565 2147-02-08 08:00:00       99995   137810                    NaN\n",
       "56566 2117-12-30 07:15:00       99999   113369                    NaN\n",
       "\n",
       "[58976 rows x 4 columns]"
      ]
     },
     "execution_count": 23,
     "metadata": {},
     "output_type": "execute_result"
    }
   ],
   "source": [
    "adm[['ADMITTIME', 'SUBJECT_ID', 'HADM_ID', 'DAYS_WITHIN_NEXT_ADMIT']]"
   ]
  },
  {
   "cell_type": "code",
   "execution_count": 24,
   "metadata": {
    "colab": {
     "base_uri": "https://localhost:8080/",
     "height": 365
    },
    "colab_type": "code",
    "executionInfo": {
     "elapsed": 1610,
     "status": "ok",
     "timestamp": 1596429895873,
     "user": {
      "displayName": "Tanisha Bhayani",
      "photoUrl": "",
      "userId": "03093037226242090836"
     },
     "user_tz": -330
    },
    "id": "IgVz0DaHvePl",
    "outputId": "2c9800fc-2368-4043-bb18-5c6961c605d3"
   },
   "outputs": [
    {
     "data": {
      "text/html": [
       "<div>\n",
       "<style scoped>\n",
       "    .dataframe tbody tr th:only-of-type {\n",
       "        vertical-align: middle;\n",
       "    }\n",
       "\n",
       "    .dataframe tbody tr th {\n",
       "        vertical-align: top;\n",
       "    }\n",
       "\n",
       "    .dataframe thead th {\n",
       "        text-align: right;\n",
       "    }\n",
       "</style>\n",
       "<table border=\"1\" class=\"dataframe\">\n",
       "  <thead>\n",
       "    <tr style=\"text-align: right;\">\n",
       "      <th></th>\n",
       "      <th>ROW_ID</th>\n",
       "      <th>SUBJECT_ID</th>\n",
       "      <th>HADM_ID</th>\n",
       "      <th>ADMITTIME</th>\n",
       "      <th>DISCHTIME</th>\n",
       "      <th>DEATHTIME</th>\n",
       "      <th>ADMISSION_TYPE</th>\n",
       "      <th>ADMISSION_LOCATION</th>\n",
       "      <th>DISCHARGE_LOCATION</th>\n",
       "      <th>INSURANCE</th>\n",
       "      <th>...</th>\n",
       "      <th>MARITAL_STATUS</th>\n",
       "      <th>ETHNICITY</th>\n",
       "      <th>EDREGTIME</th>\n",
       "      <th>EDOUTTIME</th>\n",
       "      <th>DIAGNOSIS</th>\n",
       "      <th>HOSPITAL_EXPIRE_FLAG</th>\n",
       "      <th>HAS_CHARTEVENTS_DATA</th>\n",
       "      <th>NEXT_ADMITTIME</th>\n",
       "      <th>DAYS_IN_HOSPITAL</th>\n",
       "      <th>DAYS_WITHIN_NEXT_ADMIT</th>\n",
       "    </tr>\n",
       "  </thead>\n",
       "  <tbody>\n",
       "    <tr>\n",
       "      <td>211</td>\n",
       "      <td>1</td>\n",
       "      <td>2</td>\n",
       "      <td>163353</td>\n",
       "      <td>2138-07-17 19:04:00</td>\n",
       "      <td>2138-07-21 15:48:00</td>\n",
       "      <td>NaN</td>\n",
       "      <td>NEWBORN</td>\n",
       "      <td>PHYS REFERRAL/NORMAL DELI</td>\n",
       "      <td>HOME</td>\n",
       "      <td>Private</td>\n",
       "      <td>...</td>\n",
       "      <td>NaN</td>\n",
       "      <td>ASIAN</td>\n",
       "      <td>NaN</td>\n",
       "      <td>NaN</td>\n",
       "      <td>NEWBORN</td>\n",
       "      <td>0</td>\n",
       "      <td>1</td>\n",
       "      <td>NaT</td>\n",
       "      <td>3</td>\n",
       "      <td>NaN</td>\n",
       "    </tr>\n",
       "    <tr>\n",
       "      <td>212</td>\n",
       "      <td>2</td>\n",
       "      <td>3</td>\n",
       "      <td>145834</td>\n",
       "      <td>2101-10-20 19:08:00</td>\n",
       "      <td>2101-10-31 13:58:00</td>\n",
       "      <td>NaN</td>\n",
       "      <td>EMERGENCY</td>\n",
       "      <td>EMERGENCY ROOM ADMIT</td>\n",
       "      <td>SNF</td>\n",
       "      <td>Medicare</td>\n",
       "      <td>...</td>\n",
       "      <td>MARRIED</td>\n",
       "      <td>WHITE</td>\n",
       "      <td>2101-10-20 17:09:00</td>\n",
       "      <td>2101-10-20 19:24:00</td>\n",
       "      <td>HYPOTENSION</td>\n",
       "      <td>0</td>\n",
       "      <td>1</td>\n",
       "      <td>NaT</td>\n",
       "      <td>10</td>\n",
       "      <td>NaN</td>\n",
       "    </tr>\n",
       "    <tr>\n",
       "      <td>213</td>\n",
       "      <td>3</td>\n",
       "      <td>4</td>\n",
       "      <td>185777</td>\n",
       "      <td>2191-03-16 00:28:00</td>\n",
       "      <td>2191-03-23 18:41:00</td>\n",
       "      <td>NaN</td>\n",
       "      <td>EMERGENCY</td>\n",
       "      <td>EMERGENCY ROOM ADMIT</td>\n",
       "      <td>HOME WITH HOME IV PROVIDR</td>\n",
       "      <td>Private</td>\n",
       "      <td>...</td>\n",
       "      <td>SINGLE</td>\n",
       "      <td>WHITE</td>\n",
       "      <td>2191-03-15 13:10:00</td>\n",
       "      <td>2191-03-16 01:10:00</td>\n",
       "      <td>FEVER,DEHYDRATION,FAILURE TO THRIVE</td>\n",
       "      <td>0</td>\n",
       "      <td>1</td>\n",
       "      <td>NaT</td>\n",
       "      <td>7</td>\n",
       "      <td>NaN</td>\n",
       "    </tr>\n",
       "    <tr>\n",
       "      <td>214</td>\n",
       "      <td>4</td>\n",
       "      <td>5</td>\n",
       "      <td>178980</td>\n",
       "      <td>2103-02-02 04:31:00</td>\n",
       "      <td>2103-02-04 12:15:00</td>\n",
       "      <td>NaN</td>\n",
       "      <td>NEWBORN</td>\n",
       "      <td>PHYS REFERRAL/NORMAL DELI</td>\n",
       "      <td>HOME</td>\n",
       "      <td>Private</td>\n",
       "      <td>...</td>\n",
       "      <td>NaN</td>\n",
       "      <td>ASIAN</td>\n",
       "      <td>NaN</td>\n",
       "      <td>NaN</td>\n",
       "      <td>NEWBORN</td>\n",
       "      <td>0</td>\n",
       "      <td>1</td>\n",
       "      <td>NaT</td>\n",
       "      <td>2</td>\n",
       "      <td>NaN</td>\n",
       "    </tr>\n",
       "    <tr>\n",
       "      <td>215</td>\n",
       "      <td>5</td>\n",
       "      <td>6</td>\n",
       "      <td>107064</td>\n",
       "      <td>2175-05-30 07:15:00</td>\n",
       "      <td>2175-06-15 16:00:00</td>\n",
       "      <td>NaN</td>\n",
       "      <td>ELECTIVE</td>\n",
       "      <td>PHYS REFERRAL/NORMAL DELI</td>\n",
       "      <td>HOME HEALTH CARE</td>\n",
       "      <td>Medicare</td>\n",
       "      <td>...</td>\n",
       "      <td>MARRIED</td>\n",
       "      <td>WHITE</td>\n",
       "      <td>NaN</td>\n",
       "      <td>NaN</td>\n",
       "      <td>CHRONIC RENAL FAILURE/SDA</td>\n",
       "      <td>0</td>\n",
       "      <td>1</td>\n",
       "      <td>NaT</td>\n",
       "      <td>16</td>\n",
       "      <td>NaN</td>\n",
       "    </tr>\n",
       "  </tbody>\n",
       "</table>\n",
       "<p>5 rows × 22 columns</p>\n",
       "</div>"
      ],
      "text/plain": [
       "     ROW_ID  SUBJECT_ID  HADM_ID           ADMITTIME           DISCHTIME  \\\n",
       "211       1           2   163353 2138-07-17 19:04:00 2138-07-21 15:48:00   \n",
       "212       2           3   145834 2101-10-20 19:08:00 2101-10-31 13:58:00   \n",
       "213       3           4   185777 2191-03-16 00:28:00 2191-03-23 18:41:00   \n",
       "214       4           5   178980 2103-02-02 04:31:00 2103-02-04 12:15:00   \n",
       "215       5           6   107064 2175-05-30 07:15:00 2175-06-15 16:00:00   \n",
       "\n",
       "    DEATHTIME ADMISSION_TYPE         ADMISSION_LOCATION  \\\n",
       "211       NaN        NEWBORN  PHYS REFERRAL/NORMAL DELI   \n",
       "212       NaN      EMERGENCY       EMERGENCY ROOM ADMIT   \n",
       "213       NaN      EMERGENCY       EMERGENCY ROOM ADMIT   \n",
       "214       NaN        NEWBORN  PHYS REFERRAL/NORMAL DELI   \n",
       "215       NaN       ELECTIVE  PHYS REFERRAL/NORMAL DELI   \n",
       "\n",
       "            DISCHARGE_LOCATION INSURANCE  ... MARITAL_STATUS ETHNICITY  \\\n",
       "211                       HOME   Private  ...            NaN     ASIAN   \n",
       "212                        SNF  Medicare  ...        MARRIED     WHITE   \n",
       "213  HOME WITH HOME IV PROVIDR   Private  ...         SINGLE     WHITE   \n",
       "214                       HOME   Private  ...            NaN     ASIAN   \n",
       "215           HOME HEALTH CARE  Medicare  ...        MARRIED     WHITE   \n",
       "\n",
       "               EDREGTIME            EDOUTTIME  \\\n",
       "211                  NaN                  NaN   \n",
       "212  2101-10-20 17:09:00  2101-10-20 19:24:00   \n",
       "213  2191-03-15 13:10:00  2191-03-16 01:10:00   \n",
       "214                  NaN                  NaN   \n",
       "215                  NaN                  NaN   \n",
       "\n",
       "                               DIAGNOSIS HOSPITAL_EXPIRE_FLAG  \\\n",
       "211                              NEWBORN                    0   \n",
       "212                          HYPOTENSION                    0   \n",
       "213  FEVER,DEHYDRATION,FAILURE TO THRIVE                    0   \n",
       "214                              NEWBORN                    0   \n",
       "215            CHRONIC RENAL FAILURE/SDA                    0   \n",
       "\n",
       "    HAS_CHARTEVENTS_DATA  NEXT_ADMITTIME  DAYS_IN_HOSPITAL  \\\n",
       "211                    1             NaT                 3   \n",
       "212                    1             NaT                10   \n",
       "213                    1             NaT                 7   \n",
       "214                    1             NaT                 2   \n",
       "215                    1             NaT                16   \n",
       "\n",
       "    DAYS_WITHIN_NEXT_ADMIT  \n",
       "211                    NaN  \n",
       "212                    NaN  \n",
       "213                    NaN  \n",
       "214                    NaN  \n",
       "215                    NaN  \n",
       "\n",
       "[5 rows x 22 columns]"
      ]
     },
     "execution_count": 24,
     "metadata": {},
     "output_type": "execute_result"
    }
   ],
   "source": [
    "adm.head(5)"
   ]
  },
  {
   "cell_type": "code",
   "execution_count": 25,
   "metadata": {
    "colab": {
     "base_uri": "https://localhost:8080/",
     "height": 69
    },
    "colab_type": "code",
    "executionInfo": {
     "elapsed": 1971,
     "status": "ok",
     "timestamp": 1596429897689,
     "user": {
      "displayName": "Tanisha Bhayani",
      "photoUrl": "",
      "userId": "03093037226242090836"
     },
     "user_tz": -330
    },
    "id": "ziH9vDLqLNiF",
    "outputId": "a01ae41b-529f-442e-e1f0-ea1142fb8804"
   },
   "outputs": [
    {
     "data": {
      "text/plain": [
       "0    53122\n",
       "1     5854\n",
       "Name: HOSPITAL_EXPIRE_FLAG, dtype: int64"
      ]
     },
     "execution_count": 25,
     "metadata": {},
     "output_type": "execute_result"
    }
   ],
   "source": [
    "adm['HOSPITAL_EXPIRE_FLAG'].value_counts()"
   ]
  },
  {
   "cell_type": "code",
   "execution_count": 26,
   "metadata": {
    "colab": {
     "base_uri": "https://localhost:8080/",
     "height": 34
    },
    "colab_type": "code",
    "executionInfo": {
     "elapsed": 1136,
     "status": "ok",
     "timestamp": 1596429898595,
     "user": {
      "displayName": "Tanisha Bhayani",
      "photoUrl": "",
      "userId": "03093037226242090836"
     },
     "user_tz": -330
    },
    "id": "uN5t-e-ZMIQa",
    "outputId": "791ab526-3068-4b79-9d26-6cdd6bdbd611"
   },
   "outputs": [
    {
     "data": {
      "text/plain": [
       "((58976, 22), (58976, 21))"
      ]
     },
     "execution_count": 26,
     "metadata": {},
     "output_type": "execute_result"
    }
   ],
   "source": [
    "adm.shape, admissions.shape"
   ]
  },
  {
   "cell_type": "code",
   "execution_count": 27,
   "metadata": {
    "colab": {},
    "colab_type": "code",
    "id": "HMd__g2zLeNB"
   },
   "outputs": [],
   "source": [
    "cols = [\n",
    "        'HOSPITAL_EXPIRE_FLAG',\n",
    "        'HAS_CHARTEVENTS_DATA',\n",
    "        'DAYS_IN_HOSPITAL',\n",
    "        'DAYS_WITHIN_NEXT_ADMIT'\n",
    "]"
   ]
  },
  {
   "cell_type": "code",
   "execution_count": 28,
   "metadata": {
    "colab": {
     "base_uri": "https://localhost:8080/",
     "height": 364
    },
    "colab_type": "code",
    "executionInfo": {
     "elapsed": 2383,
     "status": "ok",
     "timestamp": 1596429901606,
     "user": {
      "displayName": "Tanisha Bhayani",
      "photoUrl": "",
      "userId": "03093037226242090836"
     },
     "user_tz": -330
    },
    "id": "JpOf6JgnLr6x",
    "outputId": "e26477bb-e533-4d1f-e07c-49cb3f37f71f"
   },
   "outputs": [
    {
     "name": "stdout",
     "output_type": "stream",
     "text": [
      "HOSPITAL_EXPIRE_FLAG\n",
      "[0 1]\n",
      "--------------------------------------------\n",
      "HAS_CHARTEVENTS_DATA\n",
      "[1 0]\n",
      "--------------------------------------------\n",
      "DAYS_IN_HOSPITAL\n",
      "[  3  10   7   2  16   4   8  25  12   6   5  13   1  19   9  27  32  29\n",
      "   0  15  14  18  58  17  80  91  22  28  33  24  20  11  31  75  70 107\n",
      "  26  89  35  -1  76  23  61  21  49  30  54  47  59  85  60  56  81  46\n",
      "  71  38 117  74  36  72  62  53  44  63  52  45  55  51  34  41  65  66\n",
      "  97  87  37 145  64  50  42 108  39  43 113  84  48  69  40  86 137  95\n",
      "  90  96 106 128  83 135 126 150  79 164  78  57 112 129  68  88 119  67\n",
      "  82  99  73 101  94 123 100  93 173 155 191  77 151 138 140 131 125 202\n",
      " 181 134 111 124 102 133 105  98 153 114 148 294 127 142 104  92 109 171\n",
      " 118 120 132 144 167 166 115 116 103 110 163 161 122 121 141 169 136 206]\n",
      "--------------------------------------------\n",
      "DAYS_WITHIN_NEXT_ADMIT\n",
      "[nan 133.0 141.0 ... 3045.0 721.0 1627.0]\n",
      "--------------------------------------------\n"
     ]
    }
   ],
   "source": [
    "for col in cols:\n",
    "  print(col)\n",
    "  print(adm[col].unique())\n",
    "  print('--------------------------------------------')"
   ]
  },
  {
   "cell_type": "code",
   "execution_count": 29,
   "metadata": {
    "colab": {
     "base_uri": "https://localhost:8080/",
     "height": 722
    },
    "colab_type": "code",
    "executionInfo": {
     "elapsed": 2134,
     "status": "ok",
     "timestamp": 1596429903539,
     "user": {
      "displayName": "Tanisha Bhayani",
      "photoUrl": "",
      "userId": "03093037226242090836"
     },
     "user_tz": -330
    },
    "id": "OScwtVSWMPz0",
    "outputId": "2d990277-3fd6-4fff-a8d8-e11e7aa247c4"
   },
   "outputs": [
    {
     "data": {
      "text/html": [
       "<div>\n",
       "<style scoped>\n",
       "    .dataframe tbody tr th:only-of-type {\n",
       "        vertical-align: middle;\n",
       "    }\n",
       "\n",
       "    .dataframe tbody tr th {\n",
       "        vertical-align: top;\n",
       "    }\n",
       "\n",
       "    .dataframe thead th {\n",
       "        text-align: right;\n",
       "    }\n",
       "</style>\n",
       "<table border=\"1\" class=\"dataframe\">\n",
       "  <thead>\n",
       "    <tr style=\"text-align: right;\">\n",
       "      <th></th>\n",
       "      <th>ROW_ID</th>\n",
       "      <th>SUBJECT_ID</th>\n",
       "      <th>HADM_ID</th>\n",
       "      <th>ADMITTIME</th>\n",
       "      <th>DISCHTIME</th>\n",
       "      <th>DEATHTIME</th>\n",
       "      <th>ADMISSION_TYPE</th>\n",
       "      <th>ADMISSION_LOCATION</th>\n",
       "      <th>DISCHARGE_LOCATION</th>\n",
       "      <th>INSURANCE</th>\n",
       "      <th>...</th>\n",
       "      <th>MARITAL_STATUS</th>\n",
       "      <th>ETHNICITY</th>\n",
       "      <th>EDREGTIME</th>\n",
       "      <th>EDOUTTIME</th>\n",
       "      <th>DIAGNOSIS</th>\n",
       "      <th>HOSPITAL_EXPIRE_FLAG</th>\n",
       "      <th>HAS_CHARTEVENTS_DATA</th>\n",
       "      <th>NEXT_ADMITTIME</th>\n",
       "      <th>DAYS_IN_HOSPITAL</th>\n",
       "      <th>DAYS_WITHIN_NEXT_ADMIT</th>\n",
       "    </tr>\n",
       "  </thead>\n",
       "  <tbody>\n",
       "    <tr>\n",
       "      <td>211</td>\n",
       "      <td>1</td>\n",
       "      <td>2</td>\n",
       "      <td>163353</td>\n",
       "      <td>2138-07-17 19:04:00</td>\n",
       "      <td>2138-07-21 15:48:00</td>\n",
       "      <td>NaN</td>\n",
       "      <td>NEWBORN</td>\n",
       "      <td>PHYS REFERRAL/NORMAL DELI</td>\n",
       "      <td>HOME</td>\n",
       "      <td>Private</td>\n",
       "      <td>...</td>\n",
       "      <td>NaN</td>\n",
       "      <td>ASIAN</td>\n",
       "      <td>NaN</td>\n",
       "      <td>NaN</td>\n",
       "      <td>NEWBORN</td>\n",
       "      <td>0</td>\n",
       "      <td>1</td>\n",
       "      <td>NaT</td>\n",
       "      <td>3</td>\n",
       "      <td>NaN</td>\n",
       "    </tr>\n",
       "    <tr>\n",
       "      <td>212</td>\n",
       "      <td>2</td>\n",
       "      <td>3</td>\n",
       "      <td>145834</td>\n",
       "      <td>2101-10-20 19:08:00</td>\n",
       "      <td>2101-10-31 13:58:00</td>\n",
       "      <td>NaN</td>\n",
       "      <td>EMERGENCY</td>\n",
       "      <td>EMERGENCY ROOM ADMIT</td>\n",
       "      <td>SNF</td>\n",
       "      <td>Medicare</td>\n",
       "      <td>...</td>\n",
       "      <td>MARRIED</td>\n",
       "      <td>WHITE</td>\n",
       "      <td>2101-10-20 17:09:00</td>\n",
       "      <td>2101-10-20 19:24:00</td>\n",
       "      <td>HYPOTENSION</td>\n",
       "      <td>0</td>\n",
       "      <td>1</td>\n",
       "      <td>NaT</td>\n",
       "      <td>10</td>\n",
       "      <td>NaN</td>\n",
       "    </tr>\n",
       "    <tr>\n",
       "      <td>213</td>\n",
       "      <td>3</td>\n",
       "      <td>4</td>\n",
       "      <td>185777</td>\n",
       "      <td>2191-03-16 00:28:00</td>\n",
       "      <td>2191-03-23 18:41:00</td>\n",
       "      <td>NaN</td>\n",
       "      <td>EMERGENCY</td>\n",
       "      <td>EMERGENCY ROOM ADMIT</td>\n",
       "      <td>HOME WITH HOME IV PROVIDR</td>\n",
       "      <td>Private</td>\n",
       "      <td>...</td>\n",
       "      <td>SINGLE</td>\n",
       "      <td>WHITE</td>\n",
       "      <td>2191-03-15 13:10:00</td>\n",
       "      <td>2191-03-16 01:10:00</td>\n",
       "      <td>FEVER,DEHYDRATION,FAILURE TO THRIVE</td>\n",
       "      <td>0</td>\n",
       "      <td>1</td>\n",
       "      <td>NaT</td>\n",
       "      <td>7</td>\n",
       "      <td>NaN</td>\n",
       "    </tr>\n",
       "    <tr>\n",
       "      <td>214</td>\n",
       "      <td>4</td>\n",
       "      <td>5</td>\n",
       "      <td>178980</td>\n",
       "      <td>2103-02-02 04:31:00</td>\n",
       "      <td>2103-02-04 12:15:00</td>\n",
       "      <td>NaN</td>\n",
       "      <td>NEWBORN</td>\n",
       "      <td>PHYS REFERRAL/NORMAL DELI</td>\n",
       "      <td>HOME</td>\n",
       "      <td>Private</td>\n",
       "      <td>...</td>\n",
       "      <td>NaN</td>\n",
       "      <td>ASIAN</td>\n",
       "      <td>NaN</td>\n",
       "      <td>NaN</td>\n",
       "      <td>NEWBORN</td>\n",
       "      <td>0</td>\n",
       "      <td>1</td>\n",
       "      <td>NaT</td>\n",
       "      <td>2</td>\n",
       "      <td>NaN</td>\n",
       "    </tr>\n",
       "    <tr>\n",
       "      <td>215</td>\n",
       "      <td>5</td>\n",
       "      <td>6</td>\n",
       "      <td>107064</td>\n",
       "      <td>2175-05-30 07:15:00</td>\n",
       "      <td>2175-06-15 16:00:00</td>\n",
       "      <td>NaN</td>\n",
       "      <td>ELECTIVE</td>\n",
       "      <td>PHYS REFERRAL/NORMAL DELI</td>\n",
       "      <td>HOME HEALTH CARE</td>\n",
       "      <td>Medicare</td>\n",
       "      <td>...</td>\n",
       "      <td>MARRIED</td>\n",
       "      <td>WHITE</td>\n",
       "      <td>NaN</td>\n",
       "      <td>NaN</td>\n",
       "      <td>CHRONIC RENAL FAILURE/SDA</td>\n",
       "      <td>0</td>\n",
       "      <td>1</td>\n",
       "      <td>NaT</td>\n",
       "      <td>16</td>\n",
       "      <td>NaN</td>\n",
       "    </tr>\n",
       "    <tr>\n",
       "      <td>...</td>\n",
       "      <td>...</td>\n",
       "      <td>...</td>\n",
       "      <td>...</td>\n",
       "      <td>...</td>\n",
       "      <td>...</td>\n",
       "      <td>...</td>\n",
       "      <td>...</td>\n",
       "      <td>...</td>\n",
       "      <td>...</td>\n",
       "      <td>...</td>\n",
       "      <td>...</td>\n",
       "      <td>...</td>\n",
       "      <td>...</td>\n",
       "      <td>...</td>\n",
       "      <td>...</td>\n",
       "      <td>...</td>\n",
       "      <td>...</td>\n",
       "      <td>...</td>\n",
       "      <td>...</td>\n",
       "      <td>...</td>\n",
       "      <td>...</td>\n",
       "    </tr>\n",
       "    <tr>\n",
       "      <td>56435</td>\n",
       "      <td>58972</td>\n",
       "      <td>99985</td>\n",
       "      <td>176670</td>\n",
       "      <td>2181-01-27 02:47:00</td>\n",
       "      <td>2181-02-12 17:05:00</td>\n",
       "      <td>NaN</td>\n",
       "      <td>EMERGENCY</td>\n",
       "      <td>EMERGENCY ROOM ADMIT</td>\n",
       "      <td>HOME HEALTH CARE</td>\n",
       "      <td>Private</td>\n",
       "      <td>...</td>\n",
       "      <td>MARRIED</td>\n",
       "      <td>WHITE</td>\n",
       "      <td>2181-01-26 23:35:00</td>\n",
       "      <td>2181-01-27 04:18:00</td>\n",
       "      <td>FEVER</td>\n",
       "      <td>0</td>\n",
       "      <td>1</td>\n",
       "      <td>NaT</td>\n",
       "      <td>16</td>\n",
       "      <td>NaN</td>\n",
       "    </tr>\n",
       "    <tr>\n",
       "      <td>56436</td>\n",
       "      <td>58973</td>\n",
       "      <td>99991</td>\n",
       "      <td>151118</td>\n",
       "      <td>2184-12-24 08:30:00</td>\n",
       "      <td>2185-01-05 12:15:00</td>\n",
       "      <td>NaN</td>\n",
       "      <td>ELECTIVE</td>\n",
       "      <td>PHYS REFERRAL/NORMAL DELI</td>\n",
       "      <td>HOME</td>\n",
       "      <td>Private</td>\n",
       "      <td>...</td>\n",
       "      <td>MARRIED</td>\n",
       "      <td>WHITE</td>\n",
       "      <td>NaN</td>\n",
       "      <td>NaN</td>\n",
       "      <td>DIVERTICULITIS/SDA</td>\n",
       "      <td>0</td>\n",
       "      <td>1</td>\n",
       "      <td>NaT</td>\n",
       "      <td>12</td>\n",
       "      <td>NaN</td>\n",
       "    </tr>\n",
       "    <tr>\n",
       "      <td>56437</td>\n",
       "      <td>58974</td>\n",
       "      <td>99992</td>\n",
       "      <td>197084</td>\n",
       "      <td>2144-07-25 18:03:00</td>\n",
       "      <td>2144-07-28 17:56:00</td>\n",
       "      <td>NaN</td>\n",
       "      <td>EMERGENCY</td>\n",
       "      <td>CLINIC REFERRAL/PREMATURE</td>\n",
       "      <td>SNF</td>\n",
       "      <td>Medicare</td>\n",
       "      <td>...</td>\n",
       "      <td>WIDOWED</td>\n",
       "      <td>WHITE</td>\n",
       "      <td>2144-07-25 13:40:00</td>\n",
       "      <td>2144-07-25 18:50:00</td>\n",
       "      <td>RETROPERITONEAL HEMORRHAGE</td>\n",
       "      <td>0</td>\n",
       "      <td>1</td>\n",
       "      <td>NaT</td>\n",
       "      <td>2</td>\n",
       "      <td>NaN</td>\n",
       "    </tr>\n",
       "    <tr>\n",
       "      <td>56565</td>\n",
       "      <td>58975</td>\n",
       "      <td>99995</td>\n",
       "      <td>137810</td>\n",
       "      <td>2147-02-08 08:00:00</td>\n",
       "      <td>2147-02-11 13:15:00</td>\n",
       "      <td>NaN</td>\n",
       "      <td>ELECTIVE</td>\n",
       "      <td>PHYS REFERRAL/NORMAL DELI</td>\n",
       "      <td>HOME</td>\n",
       "      <td>Medicare</td>\n",
       "      <td>...</td>\n",
       "      <td>MARRIED</td>\n",
       "      <td>WHITE</td>\n",
       "      <td>NaN</td>\n",
       "      <td>NaN</td>\n",
       "      <td>ABDOMINAL AORTIC ANEURYSM/SDA</td>\n",
       "      <td>0</td>\n",
       "      <td>1</td>\n",
       "      <td>NaT</td>\n",
       "      <td>3</td>\n",
       "      <td>NaN</td>\n",
       "    </tr>\n",
       "    <tr>\n",
       "      <td>56566</td>\n",
       "      <td>58976</td>\n",
       "      <td>99999</td>\n",
       "      <td>113369</td>\n",
       "      <td>2117-12-30 07:15:00</td>\n",
       "      <td>2118-01-04 16:30:00</td>\n",
       "      <td>NaN</td>\n",
       "      <td>ELECTIVE</td>\n",
       "      <td>PHYS REFERRAL/NORMAL DELI</td>\n",
       "      <td>SNF</td>\n",
       "      <td>Medicare</td>\n",
       "      <td>...</td>\n",
       "      <td>SEPARATED</td>\n",
       "      <td>HISPANIC OR LATINO</td>\n",
       "      <td>NaN</td>\n",
       "      <td>NaN</td>\n",
       "      <td>SPONDYLOLISTHESIS/SDA</td>\n",
       "      <td>0</td>\n",
       "      <td>1</td>\n",
       "      <td>NaT</td>\n",
       "      <td>5</td>\n",
       "      <td>NaN</td>\n",
       "    </tr>\n",
       "  </tbody>\n",
       "</table>\n",
       "<p>46622 rows × 22 columns</p>\n",
       "</div>"
      ],
      "text/plain": [
       "       ROW_ID  SUBJECT_ID  HADM_ID           ADMITTIME           DISCHTIME  \\\n",
       "211         1           2   163353 2138-07-17 19:04:00 2138-07-21 15:48:00   \n",
       "212         2           3   145834 2101-10-20 19:08:00 2101-10-31 13:58:00   \n",
       "213         3           4   185777 2191-03-16 00:28:00 2191-03-23 18:41:00   \n",
       "214         4           5   178980 2103-02-02 04:31:00 2103-02-04 12:15:00   \n",
       "215         5           6   107064 2175-05-30 07:15:00 2175-06-15 16:00:00   \n",
       "...       ...         ...      ...                 ...                 ...   \n",
       "56435   58972       99985   176670 2181-01-27 02:47:00 2181-02-12 17:05:00   \n",
       "56436   58973       99991   151118 2184-12-24 08:30:00 2185-01-05 12:15:00   \n",
       "56437   58974       99992   197084 2144-07-25 18:03:00 2144-07-28 17:56:00   \n",
       "56565   58975       99995   137810 2147-02-08 08:00:00 2147-02-11 13:15:00   \n",
       "56566   58976       99999   113369 2117-12-30 07:15:00 2118-01-04 16:30:00   \n",
       "\n",
       "      DEATHTIME ADMISSION_TYPE         ADMISSION_LOCATION  \\\n",
       "211         NaN        NEWBORN  PHYS REFERRAL/NORMAL DELI   \n",
       "212         NaN      EMERGENCY       EMERGENCY ROOM ADMIT   \n",
       "213         NaN      EMERGENCY       EMERGENCY ROOM ADMIT   \n",
       "214         NaN        NEWBORN  PHYS REFERRAL/NORMAL DELI   \n",
       "215         NaN       ELECTIVE  PHYS REFERRAL/NORMAL DELI   \n",
       "...         ...            ...                        ...   \n",
       "56435       NaN      EMERGENCY       EMERGENCY ROOM ADMIT   \n",
       "56436       NaN       ELECTIVE  PHYS REFERRAL/NORMAL DELI   \n",
       "56437       NaN      EMERGENCY  CLINIC REFERRAL/PREMATURE   \n",
       "56565       NaN       ELECTIVE  PHYS REFERRAL/NORMAL DELI   \n",
       "56566       NaN       ELECTIVE  PHYS REFERRAL/NORMAL DELI   \n",
       "\n",
       "              DISCHARGE_LOCATION INSURANCE  ... MARITAL_STATUS  \\\n",
       "211                         HOME   Private  ...            NaN   \n",
       "212                          SNF  Medicare  ...        MARRIED   \n",
       "213    HOME WITH HOME IV PROVIDR   Private  ...         SINGLE   \n",
       "214                         HOME   Private  ...            NaN   \n",
       "215             HOME HEALTH CARE  Medicare  ...        MARRIED   \n",
       "...                          ...       ...  ...            ...   \n",
       "56435           HOME HEALTH CARE   Private  ...        MARRIED   \n",
       "56436                       HOME   Private  ...        MARRIED   \n",
       "56437                        SNF  Medicare  ...        WIDOWED   \n",
       "56565                       HOME  Medicare  ...        MARRIED   \n",
       "56566                        SNF  Medicare  ...      SEPARATED   \n",
       "\n",
       "                ETHNICITY            EDREGTIME            EDOUTTIME  \\\n",
       "211                 ASIAN                  NaN                  NaN   \n",
       "212                 WHITE  2101-10-20 17:09:00  2101-10-20 19:24:00   \n",
       "213                 WHITE  2191-03-15 13:10:00  2191-03-16 01:10:00   \n",
       "214                 ASIAN                  NaN                  NaN   \n",
       "215                 WHITE                  NaN                  NaN   \n",
       "...                   ...                  ...                  ...   \n",
       "56435               WHITE  2181-01-26 23:35:00  2181-01-27 04:18:00   \n",
       "56436               WHITE                  NaN                  NaN   \n",
       "56437               WHITE  2144-07-25 13:40:00  2144-07-25 18:50:00   \n",
       "56565               WHITE                  NaN                  NaN   \n",
       "56566  HISPANIC OR LATINO                  NaN                  NaN   \n",
       "\n",
       "                                 DIAGNOSIS HOSPITAL_EXPIRE_FLAG  \\\n",
       "211                                NEWBORN                    0   \n",
       "212                            HYPOTENSION                    0   \n",
       "213    FEVER,DEHYDRATION,FAILURE TO THRIVE                    0   \n",
       "214                                NEWBORN                    0   \n",
       "215              CHRONIC RENAL FAILURE/SDA                    0   \n",
       "...                                    ...                  ...   \n",
       "56435                                FEVER                    0   \n",
       "56436                   DIVERTICULITIS/SDA                    0   \n",
       "56437           RETROPERITONEAL HEMORRHAGE                    0   \n",
       "56565        ABDOMINAL AORTIC ANEURYSM/SDA                    0   \n",
       "56566                SPONDYLOLISTHESIS/SDA                    0   \n",
       "\n",
       "      HAS_CHARTEVENTS_DATA  NEXT_ADMITTIME  DAYS_IN_HOSPITAL  \\\n",
       "211                      1             NaT                 3   \n",
       "212                      1             NaT                10   \n",
       "213                      1             NaT                 7   \n",
       "214                      1             NaT                 2   \n",
       "215                      1             NaT                16   \n",
       "...                    ...             ...               ...   \n",
       "56435                    1             NaT                16   \n",
       "56436                    1             NaT                12   \n",
       "56437                    1             NaT                 2   \n",
       "56565                    1             NaT                 3   \n",
       "56566                    1             NaT                 5   \n",
       "\n",
       "      DAYS_WITHIN_NEXT_ADMIT  \n",
       "211                      NaN  \n",
       "212                      NaN  \n",
       "213                      NaN  \n",
       "214                      NaN  \n",
       "215                      NaN  \n",
       "...                      ...  \n",
       "56435                    NaN  \n",
       "56436                    NaN  \n",
       "56437                    NaN  \n",
       "56565                    NaN  \n",
       "56566                    NaN  \n",
       "\n",
       "[46622 rows x 22 columns]"
      ]
     },
     "execution_count": 29,
     "metadata": {},
     "output_type": "execute_result"
    }
   ],
   "source": [
    "adm[adm.DAYS_WITHIN_NEXT_ADMIT.isna()].sort_values(['SUBJECT_ID', 'HADM_ID'])"
   ]
  },
  {
   "cell_type": "code",
   "execution_count": 30,
   "metadata": {
    "colab": {
     "base_uri": "https://localhost:8080/",
     "height": 34
    },
    "colab_type": "code",
    "executionInfo": {
     "elapsed": 1921,
     "status": "ok",
     "timestamp": 1596429905274,
     "user": {
      "displayName": "Tanisha Bhayani",
      "photoUrl": "",
      "userId": "03093037226242090836"
     },
     "user_tz": -330
    },
    "id": "TiLiVCCXMqLk",
    "outputId": "c27aca65-231e-4b8b-cfbd-3f8b494112de"
   },
   "outputs": [
    {
     "data": {
      "text/plain": [
       "(4121.0, 11.0)"
      ]
     },
     "execution_count": 30,
     "metadata": {},
     "output_type": "execute_result"
    }
   ],
   "source": [
    "# get the max days between admits\n",
    "adm['DAYS_WITHIN_NEXT_ADMIT'].max(), adm['DAYS_WITHIN_NEXT_ADMIT'].max() // 365"
   ]
  },
  {
   "cell_type": "code",
   "execution_count": 31,
   "metadata": {
    "colab": {},
    "colab_type": "code",
    "id": "YIZL5ReSM0Fh"
   },
   "outputs": [],
   "source": [
    "# fill the DAYS_WITHIN_NEXT_ADMIT NaN values with the 2 times the MAXIMUM vlaue in the same column - this means that the NaN means the patient takes around 22 years to get admit again which is of less importance\n",
    "adm.loc[adm.DAYS_WITHIN_NEXT_ADMIT.isna(), 'DAYS_WITHIN_NEXT_ADMIT'] = 2*adm['DAYS_WITHIN_NEXT_ADMIT'].max()"
   ]
  },
  {
   "cell_type": "code",
   "execution_count": 32,
   "metadata": {
    "colab": {
     "base_uri": "https://localhost:8080/",
     "height": 364
    },
    "colab_type": "code",
    "executionInfo": {
     "elapsed": 2015,
     "status": "ok",
     "timestamp": 1596429908144,
     "user": {
      "displayName": "Tanisha Bhayani",
      "photoUrl": "",
      "userId": "03093037226242090836"
     },
     "user_tz": -330
    },
    "id": "k4ZKWShSNN78",
    "outputId": "81f446f5-fd51-4e07-c694-e10e963ff8a8"
   },
   "outputs": [
    {
     "name": "stdout",
     "output_type": "stream",
     "text": [
      "HOSPITAL_EXPIRE_FLAG\n",
      "[0 1]\n",
      "--------------------------------------------\n",
      "HAS_CHARTEVENTS_DATA\n",
      "[1 0]\n",
      "--------------------------------------------\n",
      "DAYS_IN_HOSPITAL\n",
      "[  3  10   7   2  16   4   8  25  12   6   5  13   1  19   9  27  32  29\n",
      "   0  15  14  18  58  17  80  91  22  28  33  24  20  11  31  75  70 107\n",
      "  26  89  35  -1  76  23  61  21  49  30  54  47  59  85  60  56  81  46\n",
      "  71  38 117  74  36  72  62  53  44  63  52  45  55  51  34  41  65  66\n",
      "  97  87  37 145  64  50  42 108  39  43 113  84  48  69  40  86 137  95\n",
      "  90  96 106 128  83 135 126 150  79 164  78  57 112 129  68  88 119  67\n",
      "  82  99  73 101  94 123 100  93 173 155 191  77 151 138 140 131 125 202\n",
      " 181 134 111 124 102 133 105  98 153 114 148 294 127 142 104  92 109 171\n",
      " 118 120 132 144 167 166 115 116 103 110 163 161 122 121 141 169 136 206]\n",
      "--------------------------------------------\n",
      "DAYS_WITHIN_NEXT_ADMIT\n",
      "[8242  133  141 ... 3045  721 1627]\n",
      "--------------------------------------------\n"
     ]
    }
   ],
   "source": [
    "for col in cols:\n",
    "  print(col)\n",
    "  print(adm[col].unique())\n",
    "  adm[col] = adm[col].astype(float)\n",
    "  print('--------------------------------------------')"
   ]
  },
  {
   "cell_type": "code",
   "execution_count": 33,
   "metadata": {
    "colab": {
     "base_uri": "https://localhost:8080/",
     "height": 416
    },
    "colab_type": "code",
    "executionInfo": {
     "elapsed": 1040,
     "status": "ok",
     "timestamp": 1596429910109,
     "user": {
      "displayName": "Tanisha Bhayani",
      "photoUrl": "",
      "userId": "03093037226242090836"
     },
     "user_tz": -330
    },
    "id": "SdNZ6_ZILTlc",
    "outputId": "0fe2513a-8cad-469b-c6fa-74b1499b15be"
   },
   "outputs": [
    {
     "data": {
      "text/plain": [
       "ROW_ID                             int64\n",
       "SUBJECT_ID                         int64\n",
       "HADM_ID                            int64\n",
       "ADMITTIME                 datetime64[ns]\n",
       "DISCHTIME                 datetime64[ns]\n",
       "DEATHTIME                         object\n",
       "ADMISSION_TYPE                    object\n",
       "ADMISSION_LOCATION                object\n",
       "DISCHARGE_LOCATION                object\n",
       "INSURANCE                         object\n",
       "LANGUAGE                          object\n",
       "RELIGION                          object\n",
       "MARITAL_STATUS                    object\n",
       "ETHNICITY                         object\n",
       "EDREGTIME                         object\n",
       "EDOUTTIME                         object\n",
       "DIAGNOSIS                         object\n",
       "HOSPITAL_EXPIRE_FLAG             float64\n",
       "HAS_CHARTEVENTS_DATA             float64\n",
       "NEXT_ADMITTIME            datetime64[ns]\n",
       "DAYS_IN_HOSPITAL                 float64\n",
       "DAYS_WITHIN_NEXT_ADMIT           float64\n",
       "dtype: object"
      ]
     },
     "execution_count": 33,
     "metadata": {},
     "output_type": "execute_result"
    }
   ],
   "source": [
    "adm.dtypes"
   ]
  },
  {
   "cell_type": "markdown",
   "metadata": {
    "colab_type": "text",
    "id": "zXmAkoKqKfGB"
   },
   "source": [
    "convert the time of the EMERGENCY IN AND OUT TIME to datetime datatype"
   ]
  },
  {
   "cell_type": "code",
   "execution_count": 34,
   "metadata": {
    "colab": {},
    "colab_type": "code",
    "id": "hGAPXKGWxLN8"
   },
   "outputs": [],
   "source": [
    "adm['EDOUTTIME'] = pd.to_datetime(adm['EDOUTTIME'])"
   ]
  },
  {
   "cell_type": "code",
   "execution_count": 35,
   "metadata": {
    "colab": {},
    "colab_type": "code",
    "id": "nTHY6T8BxRKr"
   },
   "outputs": [],
   "source": [
    "adm['EDREGTIME'] = pd.to_datetime(adm['EDREGTIME'])"
   ]
  },
  {
   "cell_type": "code",
   "execution_count": 36,
   "metadata": {
    "colab": {
     "base_uri": "https://localhost:8080/",
     "height": 225
    },
    "colab_type": "code",
    "executionInfo": {
     "elapsed": 2142,
     "status": "ok",
     "timestamp": 1596429913496,
     "user": {
      "displayName": "Tanisha Bhayani",
      "photoUrl": "",
      "userId": "03093037226242090836"
     },
     "user_tz": -330
    },
    "id": "_xDNw2p3x6Ym",
    "outputId": "23874eb0-0c69-419a-c042-9af986ce7ead"
   },
   "outputs": [
    {
     "data": {
      "text/plain": [
       "211           NaN\n",
       "212      0.093750\n",
       "213      0.500000\n",
       "214           NaN\n",
       "215           NaN\n",
       "           ...   \n",
       "56435    0.196528\n",
       "56436         NaN\n",
       "56437    0.215278\n",
       "56565         NaN\n",
       "56566         NaN\n",
       "Length: 58976, dtype: float64"
      ]
     },
     "execution_count": 36,
     "metadata": {},
     "output_type": "execute_result"
    }
   ],
   "source": [
    "(adm['EDOUTTIME'] - adm['EDREGTIME']).dt.total_seconds() / 86400"
   ]
  },
  {
   "cell_type": "code",
   "execution_count": 37,
   "metadata": {
    "colab": {},
    "colab_type": "code",
    "id": "2dH8VzulxXUy"
   },
   "outputs": [],
   "source": [
    "# get the TIME_IN_EMERGENCY_WARD IN DAYS, since all the columns are in date unit\n",
    "adm['TIME_IN_EMERGENCY_WARD'] = (adm['EDOUTTIME'] - adm['EDREGTIME']).dt.total_seconds() / 86400"
   ]
  },
  {
   "cell_type": "markdown",
   "metadata": {
    "colab_type": "text",
    "id": "WYXdmQWnKisz"
   },
   "source": [
    "fill NaN values and negative values with 0 - means the patient stayed 0 days in the EMERGENCY WARD, means the patient did not stayed in emergency ward"
   ]
  },
  {
   "cell_type": "code",
   "execution_count": 38,
   "metadata": {
    "colab": {},
    "colab_type": "code",
    "id": "kS41GIIQ1h6v"
   },
   "outputs": [],
   "source": [
    "adm.loc[adm['TIME_IN_EMERGENCY_WARD'] < 0, 'TIME_IN_EMERGENCY_WARD'] = 0"
   ]
  },
  {
   "cell_type": "code",
   "execution_count": 39,
   "metadata": {
    "colab": {},
    "colab_type": "code",
    "id": "p5rARfed520U"
   },
   "outputs": [],
   "source": [
    "adm.loc[adm['TIME_IN_EMERGENCY_WARD'].isna(), 'TIME_IN_EMERGENCY_WARD'] = 0"
   ]
  },
  {
   "cell_type": "code",
   "execution_count": 40,
   "metadata": {
    "colab": {
     "base_uri": "https://localhost:8080/",
     "height": 297
    },
    "colab_type": "code",
    "executionInfo": {
     "elapsed": 1548,
     "status": "ok",
     "timestamp": 1596429917841,
     "user": {
      "displayName": "Tanisha Bhayani",
      "photoUrl": "",
      "userId": "03093037226242090836"
     },
     "user_tz": -330
    },
    "id": "133WykocxfOI",
    "outputId": "7bac6ce6-28dc-4b77-9dff-9bb83214d741"
   },
   "outputs": [
    {
     "data": {
      "text/plain": [
       "<AxesSubplot:xlabel='TIME_IN_EMERGENCY_WARD'>"
      ]
     },
     "execution_count": 40,
     "metadata": {},
     "output_type": "execute_result"
    },
    {
     "data": {
      "image/png": "[encoded data removed]",
      "text/plain": [
       "<Figure size 432x288 with 1 Axes>"
      ]
     },
     "metadata": {
      "needs_background": "light"
     },
     "output_type": "display_data"
    }
   ],
   "source": [
    "sns.distplot(adm['TIME_IN_EMERGENCY_WARD'])"
   ]
  },
  {
   "cell_type": "code",
   "execution_count": 41,
   "metadata": {
    "colab": {},
    "colab_type": "code",
    "id": "pRpYL5Ei66kV"
   },
   "outputs": [],
   "source": [
    "# convert date string to pd.datetime\n",
    "adm['DEATHTIME'] = pd.to_datetime(adm['DEATHTIME'])"
   ]
  },
  {
   "cell_type": "code",
   "execution_count": 42,
   "metadata": {
    "colab": {
     "base_uri": "https://localhost:8080/",
     "height": 434
    },
    "colab_type": "code",
    "executionInfo": {
     "elapsed": 2830,
     "status": "ok",
     "timestamp": 1596429920657,
     "user": {
      "displayName": "Tanisha Bhayani",
      "photoUrl": "",
      "userId": "03093037226242090836"
     },
     "user_tz": -330
    },
    "id": "uN6UW2Ki6_Ua",
    "outputId": "d853a595-6849-48ea-fa47-461a8df72672"
   },
   "outputs": [
    {
     "data": {
      "text/plain": [
       "0 days 00:00:00       5789\n",
       "1 days 00:00:00         29\n",
       "-1 days +00:00:00       13\n",
       "2 days 00:00:00          3\n",
       "-7 days +00:00:00        2\n",
       "-30 days +00:00:00       1\n",
       "33 days 00:00:00         1\n",
       "20 days 00:00:00         1\n",
       "-1 days +06:53:00        1\n",
       "-31 days +00:00:00       1\n",
       "54 days 00:00:00         1\n",
       "-4 days +00:00:00        1\n",
       "65 days 00:00:00         1\n",
       "-1 days +04:35:00        1\n",
       "3 days 00:00:00          1\n",
       "-10 days +00:00:00       1\n",
       "-1 days +12:23:00        1\n",
       "-3 days +00:00:00        1\n",
       "-1 days +08:10:00        1\n",
       "-9 days +00:00:00        1\n",
       "-1 days +13:30:00        1\n",
       "12 days 00:00:00         1\n",
       "-1 days +12:00:00        1\n",
       "dtype: int64"
      ]
     },
     "execution_count": 42,
     "metadata": {},
     "output_type": "execute_result"
    }
   ],
   "source": [
    "(adm['DEATHTIME'] - adm['DISCHTIME']).value_counts()"
   ]
  },
  {
   "cell_type": "markdown",
   "metadata": {
    "colab_type": "text",
    "id": "D2ZnaXlXLNyJ"
   },
   "source": [
    "# Obtain the difference between the death time and discharge time"
   ]
  },
  {
   "cell_type": "code",
   "execution_count": 43,
   "metadata": {
    "colab": {},
    "colab_type": "code",
    "id": "aotbl0ze7lu1"
   },
   "outputs": [],
   "source": [
    "# get the difference between the death time and discharge time\n",
    "adm['DIFF_TIME_DEATH_DISCH'] = (adm['DISCHTIME'] - adm['DEATHTIME']).dt.days"
   ]
  },
  {
   "cell_type": "code",
   "execution_count": 44,
   "metadata": {
    "colab": {
     "base_uri": "https://localhost:8080/",
     "height": 69
    },
    "colab_type": "code",
    "executionInfo": {
     "elapsed": 1775,
     "status": "ok",
     "timestamp": 1596429922284,
     "user": {
      "displayName": "Tanisha Bhayani",
      "photoUrl": "",
      "userId": "03093037226242090836"
     },
     "user_tz": -330
    },
    "id": "AyNv9OVH7031",
    "outputId": "76ab30cb-842d-4a71-e0b7-8742fa2bfc6c"
   },
   "outputs": [
    {
     "data": {
      "text/plain": [
       "True     53122\n",
       "False     5854\n",
       "Name: DIFF_TIME_DEATH_DISCH, dtype: int64"
      ]
     },
     "execution_count": 44,
     "metadata": {},
     "output_type": "execute_result"
    }
   ],
   "source": [
    "adm['DIFF_TIME_DEATH_DISCH'].isna().value_counts()"
   ]
  },
  {
   "cell_type": "code",
   "execution_count": 45,
   "metadata": {
    "colab": {
     "base_uri": "https://localhost:8080/",
     "height": 330
    },
    "colab_type": "code",
    "executionInfo": {
     "elapsed": 2451,
     "status": "ok",
     "timestamp": 1596429924623,
     "user": {
      "displayName": "Tanisha Bhayani",
      "photoUrl": "",
      "userId": "03093037226242090836"
     },
     "user_tz": -330
    },
    "id": "flUd8cwx79Xa",
    "outputId": "d8726332-81cb-4f15-bf90-80ae6ddb1263"
   },
   "outputs": [
    {
     "data": {
      "text/plain": [
       " 0.0     5795\n",
       "-1.0       29\n",
       " 1.0       13\n",
       "-2.0        3\n",
       " 7.0        2\n",
       "-54.0       1\n",
       " 4.0        1\n",
       "-65.0       1\n",
       " 9.0        1\n",
       " 30.0       1\n",
       "-20.0       1\n",
       " 31.0       1\n",
       "-3.0        1\n",
       " 10.0       1\n",
       " 3.0        1\n",
       "-12.0       1\n",
       "-33.0       1\n",
       "Name: DIFF_TIME_DEATH_DISCH, dtype: int64"
      ]
     },
     "execution_count": 45,
     "metadata": {},
     "output_type": "execute_result"
    }
   ],
   "source": [
    "adm['DIFF_TIME_DEATH_DISCH'].value_counts()"
   ]
  },
  {
   "cell_type": "markdown",
   "metadata": {
    "colab_type": "text",
    "id": "UvFmOFGqLSnN"
   },
   "source": [
    "## Plot correlation value of the columns"
   ]
  },
  {
   "cell_type": "code",
   "execution_count": 46,
   "metadata": {
    "colab": {
     "base_uri": "https://localhost:8080/",
     "height": 352
    },
    "colab_type": "code",
    "executionInfo": {
     "elapsed": 1687,
     "status": "ok",
     "timestamp": 1596429926086,
     "user": {
      "displayName": "Tanisha Bhayani",
      "photoUrl": "",
      "userId": "03093037226242090836"
     },
     "user_tz": -330
    },
    "id": "7smNzTDENbap",
    "outputId": "20c8663b-ddbf-4684-ef8b-1bc6c16e5a4c"
   },
   "outputs": [
    {
     "data": {
      "text/html": [
       "<div>\n",
       "<style scoped>\n",
       "    .dataframe tbody tr th:only-of-type {\n",
       "        vertical-align: middle;\n",
       "    }\n",
       "\n",
       "    .dataframe tbody tr th {\n",
       "        vertical-align: top;\n",
       "    }\n",
       "\n",
       "    .dataframe thead th {\n",
       "        text-align: right;\n",
       "    }\n",
       "</style>\n",
       "<table border=\"1\" class=\"dataframe\">\n",
       "  <thead>\n",
       "    <tr style=\"text-align: right;\">\n",
       "      <th></th>\n",
       "      <th>ROW_ID</th>\n",
       "      <th>SUBJECT_ID</th>\n",
       "      <th>HADM_ID</th>\n",
       "      <th>HOSPITAL_EXPIRE_FLAG</th>\n",
       "      <th>HAS_CHARTEVENTS_DATA</th>\n",
       "      <th>DAYS_IN_HOSPITAL</th>\n",
       "      <th>DAYS_WITHIN_NEXT_ADMIT</th>\n",
       "      <th>TIME_IN_EMERGENCY_WARD</th>\n",
       "      <th>DIFF_TIME_DEATH_DISCH</th>\n",
       "    </tr>\n",
       "  </thead>\n",
       "  <tbody>\n",
       "    <tr>\n",
       "      <td>ROW_ID</td>\n",
       "      <td>1.000000</td>\n",
       "      <td>0.943991</td>\n",
       "      <td>0.007482</td>\n",
       "      <td>0.004480</td>\n",
       "      <td>0.023013</td>\n",
       "      <td>-0.062274</td>\n",
       "      <td>0.037872</td>\n",
       "      <td>0.026858</td>\n",
       "      <td>0.001039</td>\n",
       "    </tr>\n",
       "    <tr>\n",
       "      <td>SUBJECT_ID</td>\n",
       "      <td>0.943991</td>\n",
       "      <td>1.000000</td>\n",
       "      <td>0.007082</td>\n",
       "      <td>0.004339</td>\n",
       "      <td>0.023264</td>\n",
       "      <td>-0.062315</td>\n",
       "      <td>0.040350</td>\n",
       "      <td>0.029537</td>\n",
       "      <td>0.003959</td>\n",
       "    </tr>\n",
       "    <tr>\n",
       "      <td>HADM_ID</td>\n",
       "      <td>0.007482</td>\n",
       "      <td>0.007082</td>\n",
       "      <td>1.000000</td>\n",
       "      <td>-0.003120</td>\n",
       "      <td>-0.002019</td>\n",
       "      <td>0.000280</td>\n",
       "      <td>-0.001477</td>\n",
       "      <td>-0.001514</td>\n",
       "      <td>-0.006720</td>\n",
       "    </tr>\n",
       "    <tr>\n",
       "      <td>HOSPITAL_EXPIRE_FLAG</td>\n",
       "      <td>0.004480</td>\n",
       "      <td>0.004339</td>\n",
       "      <td>-0.003120</td>\n",
       "      <td>1.000000</td>\n",
       "      <td>0.045495</td>\n",
       "      <td>0.000269</td>\n",
       "      <td>0.163618</td>\n",
       "      <td>0.069405</td>\n",
       "      <td>NaN</td>\n",
       "    </tr>\n",
       "    <tr>\n",
       "      <td>HAS_CHARTEVENTS_DATA</td>\n",
       "      <td>0.023013</td>\n",
       "      <td>0.023264</td>\n",
       "      <td>-0.002019</td>\n",
       "      <td>0.045495</td>\n",
       "      <td>1.000000</td>\n",
       "      <td>0.043179</td>\n",
       "      <td>0.182468</td>\n",
       "      <td>0.027330</td>\n",
       "      <td>-0.000933</td>\n",
       "    </tr>\n",
       "    <tr>\n",
       "      <td>DAYS_IN_HOSPITAL</td>\n",
       "      <td>-0.062274</td>\n",
       "      <td>-0.062315</td>\n",
       "      <td>0.000280</td>\n",
       "      <td>0.000269</td>\n",
       "      <td>0.043179</td>\n",
       "      <td>1.000000</td>\n",
       "      <td>-0.040691</td>\n",
       "      <td>-0.024758</td>\n",
       "      <td>0.000278</td>\n",
       "    </tr>\n",
       "    <tr>\n",
       "      <td>DAYS_WITHIN_NEXT_ADMIT</td>\n",
       "      <td>0.037872</td>\n",
       "      <td>0.040350</td>\n",
       "      <td>-0.001477</td>\n",
       "      <td>0.163618</td>\n",
       "      <td>0.182468</td>\n",
       "      <td>-0.040691</td>\n",
       "      <td>1.000000</td>\n",
       "      <td>-0.134968</td>\n",
       "      <td>0.014509</td>\n",
       "    </tr>\n",
       "    <tr>\n",
       "      <td>TIME_IN_EMERGENCY_WARD</td>\n",
       "      <td>0.026858</td>\n",
       "      <td>0.029537</td>\n",
       "      <td>-0.001514</td>\n",
       "      <td>0.069405</td>\n",
       "      <td>0.027330</td>\n",
       "      <td>-0.024758</td>\n",
       "      <td>-0.134968</td>\n",
       "      <td>1.000000</td>\n",
       "      <td>0.005892</td>\n",
       "    </tr>\n",
       "    <tr>\n",
       "      <td>DIFF_TIME_DEATH_DISCH</td>\n",
       "      <td>0.001039</td>\n",
       "      <td>0.003959</td>\n",
       "      <td>-0.006720</td>\n",
       "      <td>NaN</td>\n",
       "      <td>-0.000933</td>\n",
       "      <td>0.000278</td>\n",
       "      <td>0.014509</td>\n",
       "      <td>0.005892</td>\n",
       "      <td>1.000000</td>\n",
       "    </tr>\n",
       "  </tbody>\n",
       "</table>\n",
       "</div>"
      ],
      "text/plain": [
       "                          ROW_ID  SUBJECT_ID   HADM_ID  HOSPITAL_EXPIRE_FLAG  \\\n",
       "ROW_ID                  1.000000    0.943991  0.007482              0.004480   \n",
       "SUBJECT_ID              0.943991    1.000000  0.007082              0.004339   \n",
       "HADM_ID                 0.007482    0.007082  1.000000             -0.003120   \n",
       "HOSPITAL_EXPIRE_FLAG    0.004480    0.004339 -0.003120              1.000000   \n",
       "HAS_CHARTEVENTS_DATA    0.023013    0.023264 -0.002019              0.045495   \n",
       "DAYS_IN_HOSPITAL       -0.062274   -0.062315  0.000280              0.000269   \n",
       "DAYS_WITHIN_NEXT_ADMIT  0.037872    0.040350 -0.001477              0.163618   \n",
       "TIME_IN_EMERGENCY_WARD  0.026858    0.029537 -0.001514              0.069405   \n",
       "DIFF_TIME_DEATH_DISCH   0.001039    0.003959 -0.006720                   NaN   \n",
       "\n",
       "                        HAS_CHARTEVENTS_DATA  DAYS_IN_HOSPITAL  \\\n",
       "ROW_ID                              0.023013         -0.062274   \n",
       "SUBJECT_ID                          0.023264         -0.062315   \n",
       "HADM_ID                            -0.002019          0.000280   \n",
       "HOSPITAL_EXPIRE_FLAG                0.045495          0.000269   \n",
       "HAS_CHARTEVENTS_DATA                1.000000          0.043179   \n",
       "DAYS_IN_HOSPITAL                    0.043179          1.000000   \n",
       "DAYS_WITHIN_NEXT_ADMIT              0.182468         -0.040691   \n",
       "TIME_IN_EMERGENCY_WARD              0.027330         -0.024758   \n",
       "DIFF_TIME_DEATH_DISCH              -0.000933          0.000278   \n",
       "\n",
       "                        DAYS_WITHIN_NEXT_ADMIT  TIME_IN_EMERGENCY_WARD  \\\n",
       "ROW_ID                                0.037872                0.026858   \n",
       "SUBJECT_ID                            0.040350                0.029537   \n",
       "HADM_ID                              -0.001477               -0.001514   \n",
       "HOSPITAL_EXPIRE_FLAG                  0.163618                0.069405   \n",
       "HAS_CHARTEVENTS_DATA                  0.182468                0.027330   \n",
       "DAYS_IN_HOSPITAL                     -0.040691               -0.024758   \n",
       "DAYS_WITHIN_NEXT_ADMIT                1.000000               -0.134968   \n",
       "TIME_IN_EMERGENCY_WARD               -0.134968                1.000000   \n",
       "DIFF_TIME_DEATH_DISCH                 0.014509                0.005892   \n",
       "\n",
       "                        DIFF_TIME_DEATH_DISCH  \n",
       "ROW_ID                               0.001039  \n",
       "SUBJECT_ID                           0.003959  \n",
       "HADM_ID                             -0.006720  \n",
       "HOSPITAL_EXPIRE_FLAG                      NaN  \n",
       "HAS_CHARTEVENTS_DATA                -0.000933  \n",
       "DAYS_IN_HOSPITAL                     0.000278  \n",
       "DAYS_WITHIN_NEXT_ADMIT               0.014509  \n",
       "TIME_IN_EMERGENCY_WARD               0.005892  \n",
       "DIFF_TIME_DEATH_DISCH                1.000000  "
      ]
     },
     "execution_count": 46,
     "metadata": {},
     "output_type": "execute_result"
    }
   ],
   "source": [
    "adm.corr()"
   ]
  },
  {
   "cell_type": "code",
   "execution_count": 47,
   "metadata": {
    "colab": {
     "base_uri": "https://localhost:8080/",
     "height": 69
    },
    "colab_type": "code",
    "executionInfo": {
     "elapsed": 881,
     "status": "ok",
     "timestamp": 1596429926836,
     "user": {
      "displayName": "Tanisha Bhayani",
      "photoUrl": "",
      "userId": "03093037226242090836"
     },
     "user_tz": -330
    },
    "id": "QmBm0MSdvpDM",
    "outputId": "22d1cc5e-cb16-4e66-d583-98aa98167d90"
   },
   "outputs": [
    {
     "data": {
      "text/plain": [
       "False    56449\n",
       "True      2527\n",
       "Name: DAYS_WITHIN_NEXT_ADMIT, dtype: int64"
      ]
     },
     "execution_count": 47,
     "metadata": {},
     "output_type": "execute_result"
    }
   ],
   "source": [
    "# get the value counts of the rows that have DAYS_WITHIN_NEXT\n",
    "(adm['DAYS_WITHIN_NEXT_ADMIT'] <= 30).value_counts()"
   ]
  },
  {
   "cell_type": "markdown",
   "metadata": {
    "colab_type": "text",
    "id": "lX5DzsKzNYWm"
   },
   "source": [
    "# get the target values - The readmissions within next 30 days"
   ]
  },
  {
   "cell_type": "code",
   "execution_count": 48,
   "metadata": {
    "colab": {},
    "colab_type": "code",
    "id": "_eDCH6HQjYrj"
   },
   "outputs": [],
   "source": [
    "adm.loc[:, 'TARGET'] = (adm['DAYS_WITHIN_NEXT_ADMIT'] <= 30).astype(int)"
   ]
  },
  {
   "cell_type": "code",
   "execution_count": 49,
   "metadata": {
    "colab": {
     "base_uri": "https://localhost:8080/",
     "height": 69
    },
    "colab_type": "code",
    "executionInfo": {
     "elapsed": 1826,
     "status": "ok",
     "timestamp": 1596429929620,
     "user": {
      "displayName": "Tanisha Bhayani",
      "photoUrl": "",
      "userId": "03093037226242090836"
     },
     "user_tz": -330
    },
    "id": "2lcVaqLzihDJ",
    "outputId": "8f6c6d1e-3165-40bc-efb6-34d716b21aa2"
   },
   "outputs": [
    {
     "data": {
      "text/plain": [
       "0    56449\n",
       "1     2527\n",
       "Name: TARGET, dtype: int64"
      ]
     },
     "execution_count": 49,
     "metadata": {},
     "output_type": "execute_result"
    }
   ],
   "source": [
    "# count the value of the TARGET variable\n",
    "adm.TARGET.value_counts()"
   ]
  },
  {
   "cell_type": "code",
   "execution_count": 50,
   "metadata": {
    "colab": {
     "base_uri": "https://localhost:8080/",
     "height": 52
    },
    "colab_type": "code",
    "executionInfo": {
     "elapsed": 1143,
     "status": "ok",
     "timestamp": 1596429930479,
     "user": {
      "displayName": "Tanisha Bhayani",
      "photoUrl": "",
      "userId": "03093037226242090836"
     },
     "user_tz": -330
    },
    "id": "1iRDvMDnijAV",
    "outputId": "349e9736-18f8-451e-dcfe-30691847a9c5"
   },
   "outputs": [
    {
     "data": {
      "text/plain": [
       "False    58976\n",
       "Name: TARGET, dtype: int64"
      ]
     },
     "execution_count": 50,
     "metadata": {},
     "output_type": "execute_result"
    }
   ],
   "source": [
    "# verify for NaN values\n",
    "adm.TARGET.isna().value_counts()"
   ]
  },
  {
   "cell_type": "code",
   "execution_count": 51,
   "metadata": {
    "colab": {},
    "colab_type": "code",
    "id": "HD9-0aq_eqzS"
   },
   "outputs": [],
   "source": [
    "cols = [\n",
    "        'ADMISSION_TYPE',\n",
    "        'ADMISSION_LOCATION',\n",
    "        'DISCHARGE_LOCATION',\n",
    "        'INSURANCE',\n",
    "        'LANGUAGE',\n",
    "        'RELIGION',\n",
    "        'ETHNICITY',\n",
    "        'DIAGNOSIS'\n",
    "      ]"
   ]
  },
  {
   "cell_type": "code",
   "execution_count": 52,
   "metadata": {
    "colab": {
     "base_uri": "https://localhost:8080/",
     "height": 625
    },
    "colab_type": "code",
    "executionInfo": {
     "elapsed": 1478,
     "status": "ok",
     "timestamp": 1596429932949,
     "user": {
      "displayName": "Tanisha Bhayani",
      "photoUrl": "",
      "userId": "03093037226242090836"
     },
     "user_tz": -330
    },
    "id": "6QnQsiMjXoEV",
    "outputId": "f0e98a35-ae4a-446c-da47-21eb17b838f4"
   },
   "outputs": [
    {
     "name": "stdout",
     "output_type": "stream",
     "text": [
      "ADMISSION_TYPE\n",
      "False    58976\n",
      "Name: ADMISSION_TYPE, dtype: int64\n",
      "-----------------------------------------\n",
      "ADMISSION_LOCATION\n",
      "False    58976\n",
      "Name: ADMISSION_LOCATION, dtype: int64\n",
      "-----------------------------------------\n",
      "DISCHARGE_LOCATION\n",
      "False    58976\n",
      "Name: DISCHARGE_LOCATION, dtype: int64\n",
      "-----------------------------------------\n",
      "INSURANCE\n",
      "False    58976\n",
      "Name: INSURANCE, dtype: int64\n",
      "-----------------------------------------\n",
      "LANGUAGE\n",
      "False    33644\n",
      "True     25332\n",
      "Name: LANGUAGE, dtype: int64\n",
      "-----------------------------------------\n",
      "RELIGION\n",
      "False    58518\n",
      "True       458\n",
      "Name: RELIGION, dtype: int64\n",
      "-----------------------------------------\n",
      "ETHNICITY\n",
      "False    58976\n",
      "Name: ETHNICITY, dtype: int64\n",
      "-----------------------------------------\n",
      "DIAGNOSIS\n",
      "False    58951\n",
      "True        25\n",
      "Name: DIAGNOSIS, dtype: int64\n",
      "-----------------------------------------\n"
     ]
    }
   ],
   "source": [
    "# verfiy NaN values for each of the above columns\n",
    "for col in cols:\n",
    "  print(col)\n",
    "  print(adm[col].isna().value_counts())\n",
    "  print('-----------------------------------------')"
   ]
  },
  {
   "cell_type": "markdown",
   "metadata": {
    "colab_type": "text",
    "id": "mKVForHgNpFx"
   },
   "source": [
    "## Now we plot and visualize the columns above and decide how the NaN values needs to be filled up "
   ]
  },
  {
   "cell_type": "code",
   "execution_count": 53,
   "metadata": {
    "colab": {
     "base_uri": "https://localhost:8080/",
     "height": 295
    },
    "colab_type": "code",
    "executionInfo": {
     "elapsed": 3220,
     "status": "ok",
     "timestamp": 1596429936416,
     "user": {
      "displayName": "Tanisha Bhayani",
      "photoUrl": "",
      "userId": "03093037226242090836"
     },
     "user_tz": -330
    },
    "id": "KLiOWtogRujA",
    "outputId": "180da3e1-1cbd-4143-c0cf-66a47bc9fb68"
   },
   "outputs": [
    {
     "data": {
      "text/plain": [
       "<AxesSubplot:>"
      ]
     },
     "execution_count": 53,
     "metadata": {},
     "output_type": "execute_result"
    },
    {
     "data": {
      "image/png": "[encoded data removed]",
      "text/plain": [
       "<Figure size 432x288 with 1 Axes>"
      ]
     },
     "metadata": {
      "needs_background": "light"
     },
     "output_type": "display_data"
    }
   ],
   "source": [
    "# plot the top 90 values (90 DAYS Readmission days) and its counts as bar plot\n",
    "adm['DAYS_WITHIN_NEXT_ADMIT'].value_counts().sort_index()[:90].plot.bar()"
   ]
  },
  {
   "cell_type": "code",
   "execution_count": 54,
   "metadata": {
    "colab": {
     "base_uri": "https://localhost:8080/",
     "height": 295
    },
    "colab_type": "code",
    "executionInfo": {
     "elapsed": 2811,
     "status": "ok",
     "timestamp": 1596429937958,
     "user": {
      "displayName": "Tanisha Bhayani",
      "photoUrl": "",
      "userId": "03093037226242090836"
     },
     "user_tz": -330
    },
    "id": "l0LO3TzbSCLt",
    "outputId": "5307b74d-021b-462e-a37c-824de66c4e59"
   },
   "outputs": [
    {
     "data": {
      "text/plain": [
       "<AxesSubplot:>"
      ]
     },
     "execution_count": 54,
     "metadata": {},
     "output_type": "execute_result"
    },
    {
     "data": {
      "image/png": "[encoded data removed]",
      "text/plain": [
       "<Figure size 432x288 with 1 Axes>"
      ]
     },
     "metadata": {
      "needs_background": "light"
     },
     "output_type": "display_data"
    }
   ],
   "source": [
    "# plot the top 90 values (60 DAYS Readmission days) and its counts as bar plot\n",
    "adm['DAYS_WITHIN_NEXT_ADMIT'].value_counts().sort_index()[:60].plot.bar()"
   ]
  },
  {
   "cell_type": "code",
   "execution_count": 55,
   "metadata": {
    "colab": {
     "base_uri": "https://localhost:8080/",
     "height": 295
    },
    "colab_type": "code",
    "executionInfo": {
     "elapsed": 2654,
     "status": "ok",
     "timestamp": 1596429974935,
     "user": {
      "displayName": "Tanisha Bhayani",
      "photoUrl": "",
      "userId": "03093037226242090836"
     },
     "user_tz": -330
    },
    "id": "ZgrXOvQtSFfd",
    "outputId": "650c698d-2443-4e1f-e5d3-504bec25f87b"
   },
   "outputs": [
    {
     "data": {
      "text/plain": [
       "<AxesSubplot:>"
      ]
     },
     "execution_count": 55,
     "metadata": {},
     "output_type": "execute_result"
    },
    {
     "data": {
      "image/png": "[encoded data removed]",
      "text/plain": [
       "<Figure size 432x288 with 1 Axes>"
      ]
     },
     "metadata": {
      "needs_background": "light"
     },
     "output_type": "display_data"
    }
   ],
   "source": [
    "# plot the top 30 values (30 DAYS Readmission days) and its counts as bar plot\n",
    "adm['DAYS_WITHIN_NEXT_ADMIT'].value_counts().sort_index()[:30].plot.bar()"
   ]
  },
  {
   "cell_type": "code",
   "execution_count": 56,
   "metadata": {
    "colab": {
     "base_uri": "https://localhost:8080/",
     "height": 295
    },
    "colab_type": "code",
    "executionInfo": {
     "elapsed": 1214,
     "status": "ok",
     "timestamp": 1596429974940,
     "user": {
      "displayName": "Tanisha Bhayani",
      "photoUrl": "",
      "userId": "03093037226242090836"
     },
     "user_tz": -330
    },
    "id": "pft6gvl8L3kj",
    "outputId": "847ad6ad-fa7d-47db-ea53-dff42a8d6a9e"
   },
   "outputs": [
    {
     "data": {
      "text/plain": [
       "<AxesSubplot:>"
      ]
     },
     "execution_count": 56,
     "metadata": {},
     "output_type": "execute_result"
    },
    {
     "data": {
      "image/png": "[encoded data removed]",
      "text/plain": [
       "<Figure size 432x288 with 1 Axes>"
      ]
     },
     "metadata": {
      "needs_background": "light"
     },
     "output_type": "display_data"
    }
   ],
   "source": [
    "# plot years unit for the next readmission and its counts as bar plot\n",
    "(adm['DAYS_WITHIN_NEXT_ADMIT'] // 365).value_counts().plot.bar()"
   ]
  },
  {
   "cell_type": "code",
   "execution_count": 57,
   "metadata": {
    "colab": {
     "base_uri": "https://localhost:8080/",
     "height": 294
    },
    "colab_type": "code",
    "executionInfo": {
     "elapsed": 2009,
     "status": "ok",
     "timestamp": 1596429978822,
     "user": {
      "displayName": "Tanisha Bhayani",
      "photoUrl": "",
      "userId": "03093037226242090836"
     },
     "user_tz": -330
    },
    "id": "XilysHsH2Qpm",
    "outputId": "f492e12e-e002-48c6-ecf5-59a9c93f9a13"
   },
   "outputs": [
    {
     "data": {
      "text/plain": [
       "<AxesSubplot:>"
      ]
     },
     "execution_count": 57,
     "metadata": {},
     "output_type": "execute_result"
    },
    {
     "data": {
      "image/png": "[encoded data removed]",
      "text/plain": [
       "<Figure size 432x288 with 1 Axes>"
      ]
     },
     "metadata": {
      "needs_background": "light"
     },
     "output_type": "display_data"
    }
   ],
   "source": [
    "# plot the sorted top 10 days in hospital ant its value counts as bar plot \n",
    "adm['DAYS_IN_HOSPITAL'].value_counts().sort_index()[:10].plot.bar()"
   ]
  },
  {
   "cell_type": "code",
   "execution_count": 58,
   "metadata": {
    "colab": {
     "base_uri": "https://localhost:8080/",
     "height": 297
    },
    "colab_type": "code",
    "executionInfo": {
     "elapsed": 1920,
     "status": "ok",
     "timestamp": 1596429980408,
     "user": {
      "displayName": "Tanisha Bhayani",
      "photoUrl": "",
      "userId": "03093037226242090836"
     },
     "user_tz": -330
    },
    "id": "D3Qz1QJ33Pt7",
    "outputId": "5d161c44-9a49-496c-fba8-8911bba5dfcf"
   },
   "outputs": [
    {
     "data": {
      "text/plain": [
       "<AxesSubplot:xlabel='DAYS_IN_HOSPITAL'>"
      ]
     },
     "execution_count": 58,
     "metadata": {},
     "output_type": "execute_result"
    },
    {
     "data": {
      "image/png": "[encoded data removed]",
      "text/plain": [
       "<Figure size 432x288 with 1 Axes>"
      ]
     },
     "metadata": {
      "needs_background": "light"
     },
     "output_type": "display_data"
    }
   ],
   "source": [
    "# get the distribution plot of the DAYS IN HOSPITAL values\n",
    "sns.distplot(adm.DAYS_IN_HOSPITAL)"
   ]
  },
  {
   "cell_type": "code",
   "execution_count": 59,
   "metadata": {
    "colab": {
     "base_uri": "https://localhost:8080/",
     "height": 282
    },
    "colab_type": "code",
    "executionInfo": {
     "elapsed": 2046,
     "status": "ok",
     "timestamp": 1596429982299,
     "user": {
      "displayName": "Tanisha Bhayani",
      "photoUrl": "",
      "userId": "03093037226242090836"
     },
     "user_tz": -330
    },
    "id": "YhxwFmjf3eRZ",
    "outputId": "c6127595-583a-4dc2-cfbd-66be793b7285"
   },
   "outputs": [
    {
     "data": {
      "text/plain": [
       "<matplotlib.collections.PathCollection at 0x12ac7ef50>"
      ]
     },
     "execution_count": 59,
     "metadata": {},
     "output_type": "execute_result"
    },
    {
     "data": {
      "image/png": "[encoded data removed]",
      "text/plain": [
       "<Figure size 432x288 with 1 Axes>"
      ]
     },
     "metadata": {
      "needs_background": "light"
     },
     "output_type": "display_data"
    }
   ],
   "source": [
    "# get the scatter plot of the TARGET values and the DAYS IN HOSPITAL\n",
    "plt.scatter(adm.DAYS_IN_HOSPITAL, adm.TARGET, c='r', marker='1')"
   ]
  },
  {
   "cell_type": "code",
   "execution_count": 60,
   "metadata": {
    "colab": {
     "base_uri": "https://localhost:8080/",
     "height": 208
    },
    "colab_type": "code",
    "executionInfo": {
     "elapsed": 1825,
     "status": "ok",
     "timestamp": 1596429983911,
     "user": {
      "displayName": "Tanisha Bhayani",
      "photoUrl": "",
      "userId": "03093037226242090836"
     },
     "user_tz": -330
    },
    "id": "sDjJf3jj3ygr",
    "outputId": "503bef2c-f373-42cd-f688-dde255b2bc93"
   },
   "outputs": [
    {
     "data": {
      "text/plain": [
       "ROW_ID                    0.003362\n",
       "SUBJECT_ID                0.006839\n",
       "HADM_ID                  -0.001086\n",
       "HOSPITAL_EXPIRE_FLAG     -0.057916\n",
       "HAS_CHARTEVENTS_DATA     -0.061368\n",
       "DAYS_IN_HOSPITAL         -0.045178\n",
       "DAYS_WITHIN_NEXT_ADMIT   -0.435745\n",
       "TIME_IN_EMERGENCY_WARD    0.042624\n",
       "DIFF_TIME_DEATH_DISCH    -0.014700\n",
       "TARGET                    1.000000\n",
       "Name: TARGET, dtype: float64"
      ]
     },
     "execution_count": 60,
     "metadata": {},
     "output_type": "execute_result"
    }
   ],
   "source": [
    "# get the correlation of the TARGET variables\n",
    "adm.corr()['TARGET']"
   ]
  },
  {
   "cell_type": "code",
   "execution_count": 61,
   "metadata": {
    "colab": {
     "base_uri": "https://localhost:8080/",
     "height": 297
    },
    "colab_type": "code",
    "executionInfo": {
     "elapsed": 2393,
     "status": "ok",
     "timestamp": 1596429987213,
     "user": {
      "displayName": "Tanisha Bhayani",
      "photoUrl": "",
      "userId": "03093037226242090836"
     },
     "user_tz": -330
    },
    "id": "VPQR0stP4EqC",
    "outputId": "c97a005c-6fcd-4086-9c6f-3d30c3ac1442"
   },
   "outputs": [
    {
     "data": {
      "text/plain": [
       "<AxesSubplot:xlabel='DAYS_IN_HOSPITAL'>"
      ]
     },
     "execution_count": 61,
     "metadata": {},
     "output_type": "execute_result"
    },
    {
     "data": {
      "image/png": "[encoded data removed]",
      "text/plain": [
       "<Figure size 432x288 with 1 Axes>"
      ]
     },
     "metadata": {
      "needs_background": "light"
     },
     "output_type": "display_data"
    }
   ],
   "source": [
    "# the distribution plot of the TARGET variable with the DAYS IN HOSPITAL\n",
    "sns.distplot(adm.loc[adm.TARGET == 1, 'DAYS_IN_HOSPITAL'])"
   ]
  },
  {
   "cell_type": "code",
   "execution_count": 62,
   "metadata": {
    "colab": {
     "base_uri": "https://localhost:8080/",
     "height": 297
    },
    "colab_type": "code",
    "executionInfo": {
     "elapsed": 3456,
     "status": "ok",
     "timestamp": 1596429990863,
     "user": {
      "displayName": "Tanisha Bhayani",
      "photoUrl": "",
      "userId": "03093037226242090836"
     },
     "user_tz": -330
    },
    "id": "Iu4PgKdc4MEE",
    "outputId": "76aed06e-bf00-441f-cfbd-aa71b2ad9b92"
   },
   "outputs": [
    {
     "data": {
      "text/plain": [
       "<AxesSubplot:xlabel='DAYS_IN_HOSPITAL'>"
      ]
     },
     "execution_count": 62,
     "metadata": {},
     "output_type": "execute_result"
    },
    {
     "data": {
      "image/png": "[encoded data removed]",
      "text/plain": [
       "<Figure size 432x288 with 1 Axes>"
      ]
     },
     "metadata": {
      "needs_background": "light"
     },
     "output_type": "display_data"
    }
   ],
   "source": [
    "## the distribution plot of the TARGET variable with the DAYS IN HOSPITAL\n",
    "sns.distplot(adm.loc[adm.TARGET == 0, 'DAYS_IN_HOSPITAL'].fillna(-1))"
   ]
  },
  {
   "cell_type": "markdown",
   "metadata": {
    "colab_type": "text",
    "id": "-V2Fum19PKwZ"
   },
   "source": [
    "Now we check the different columns and the corresponding value counts of them and decide for them what NaN values needs to be filled and consequently make hypothesis and test them using correlation analysis, regression analayis, chi-square test"
   ]
  },
  {
   "cell_type": "code",
   "execution_count": 63,
   "metadata": {
    "colab": {
     "base_uri": "https://localhost:8080/",
     "height": 334
    },
    "colab_type": "code",
    "executionInfo": {
     "elapsed": 1840,
     "status": "ok",
     "timestamp": 1596429990866,
     "user": {
      "displayName": "Tanisha Bhayani",
      "photoUrl": "",
      "userId": "03093037226242090836"
     },
     "user_tz": -330
    },
    "id": "DRroXMRqSKP8",
    "outputId": "ef574b4b-752e-4784-bd39-2b3db6840de7"
   },
   "outputs": [
    {
     "data": {
      "text/plain": [
       "<AxesSubplot:>"
      ]
     },
     "execution_count": 63,
     "metadata": {},
     "output_type": "execute_result"
    },
    {
     "data": {
      "image/png": "[encoded data removed]",
      "text/plain": [
       "<Figure size 432x288 with 1 Axes>"
      ]
     },
     "metadata": {
      "needs_background": "light"
     },
     "output_type": "display_data"
    }
   ],
   "source": [
    "## get insurance plots\n",
    "adm.INSURANCE.value_counts().plot.bar()"
   ]
  },
  {
   "cell_type": "code",
   "execution_count": 64,
   "metadata": {
    "colab": {
     "base_uri": "https://localhost:8080/",
     "height": 334
    },
    "colab_type": "code",
    "executionInfo": {
     "elapsed": 1922,
     "status": "ok",
     "timestamp": 1596429992660,
     "user": {
      "displayName": "Tanisha Bhayani",
      "photoUrl": "",
      "userId": "03093037226242090836"
     },
     "user_tz": -330
    },
    "id": "NMv6P9k3ScFG",
    "outputId": "b054decf-6633-44c8-b5ca-05a5b1e1242a"
   },
   "outputs": [
    {
     "data": {
      "text/plain": [
       "<AxesSubplot:>"
      ]
     },
     "execution_count": 64,
     "metadata": {},
     "output_type": "execute_result"
    },
    {
     "data": {
      "image/png": "[encoded data removed]",
      "text/plain": [
       "<Figure size 432x288 with 1 Axes>"
      ]
     },
     "metadata": {
      "needs_background": "light"
     },
     "output_type": "display_data"
    }
   ],
   "source": [
    "## get insurance plot when TARGET == 1\n",
    "## there is a high chance that the TARGET == 1 when INSURANCE is MEdicare\n",
    "adm.loc[adm.TARGET == 1, 'INSURANCE'].value_counts().plot.bar()"
   ]
  },
  {
   "cell_type": "code",
   "execution_count": 65,
   "metadata": {
    "colab": {
     "base_uri": "https://localhost:8080/",
     "height": 334
    },
    "colab_type": "code",
    "executionInfo": {
     "elapsed": 1897,
     "status": "ok",
     "timestamp": 1596429993984,
     "user": {
      "displayName": "Tanisha Bhayani",
      "photoUrl": "",
      "userId": "03093037226242090836"
     },
     "user_tz": -330
    },
    "id": "gSk2fUU8SjOb",
    "outputId": "328389b2-eeff-4d03-dcce-78b37d433152"
   },
   "outputs": [
    {
     "data": {
      "text/plain": [
       "<AxesSubplot:>"
      ]
     },
     "execution_count": 65,
     "metadata": {},
     "output_type": "execute_result"
    },
    {
     "data": {
      "image/png": "[encoded data removed]",
      "text/plain": [
       "<Figure size 432x288 with 1 Axes>"
      ]
     },
     "metadata": {
      "needs_background": "light"
     },
     "output_type": "display_data"
    }
   ],
   "source": [
    "## get insurance plot when TARGET == 0\n",
    "adm.loc[adm.TARGET == 0, 'INSURANCE'].value_counts().plot.bar()"
   ]
  },
  {
   "cell_type": "code",
   "execution_count": 66,
   "metadata": {
    "colab": {
     "base_uri": "https://localhost:8080/",
     "height": 335
    },
    "colab_type": "code",
    "executionInfo": {
     "elapsed": 7331,
     "status": "ok",
     "timestamp": 1596430003089,
     "user": {
      "displayName": "Tanisha Bhayani",
      "photoUrl": "",
      "userId": "03093037226242090836"
     },
     "user_tz": -330
    },
    "id": "g-Ce53IjS3b9",
    "outputId": "a07834aa-c68e-4c00-8550-449acb7b724c"
   },
   "outputs": [
    {
     "data": {
      "text/plain": [
       "<AxesSubplot:>"
      ]
     },
     "execution_count": 66,
     "metadata": {},
     "output_type": "execute_result"
    },
    {
     "data": {
      "image/png": "[encoded data removed]",
      "text/plain": [
       "<Figure size 432x288 with 1 Axes>"
      ]
     },
     "metadata": {
      "needs_background": "light"
     },
     "output_type": "display_data"
    }
   ],
   "source": [
    "## get the ADMISSION TYPES when TARGET == 1\n",
    "## most of the ADMISSIONS are EMERGENCY\n",
    "adm.loc[adm.TARGET == 1].ADMISSION_TYPE.value_counts().plot.bar()"
   ]
  },
  {
   "cell_type": "code",
   "execution_count": 67,
   "metadata": {
    "colab": {
     "base_uri": "https://localhost:8080/",
     "height": 335
    },
    "colab_type": "code",
    "executionInfo": {
     "elapsed": 5789,
     "status": "ok",
     "timestamp": 1596430003091,
     "user": {
      "displayName": "Tanisha Bhayani",
      "photoUrl": "",
      "userId": "03093037226242090836"
     },
     "user_tz": -330
    },
    "id": "Xg7o_8lgTPyF",
    "outputId": "d072d12f-c750-497b-80f4-7f19e35bd50d"
   },
   "outputs": [
    {
     "data": {
      "text/plain": [
       "<AxesSubplot:>"
      ]
     },
     "execution_count": 67,
     "metadata": {},
     "output_type": "execute_result"
    },
    {
     "data": {
      "image/png": "[encoded data removed]",
      "text/plain": [
       "<Figure size 432x288 with 1 Axes>"
      ]
     },
     "metadata": {
      "needs_background": "light"
     },
     "output_type": "display_data"
    }
   ],
   "source": [
    "## get the ADMISSION TYPE plot when TARGET == 0\n",
    "adm.loc[adm.TARGET == 0].ADMISSION_TYPE.value_counts().plot.bar()"
   ]
  },
  {
   "cell_type": "code",
   "execution_count": 68,
   "metadata": {
    "colab": {
     "base_uri": "https://localhost:8080/",
     "height": 156
    },
    "colab_type": "code",
    "executionInfo": {
     "elapsed": 3854,
     "status": "ok",
     "timestamp": 1596430003093,
     "user": {
      "displayName": "Tanisha Bhayani",
      "photoUrl": "",
      "userId": "03093037226242090836"
     },
     "user_tz": -330
    },
    "id": "fAuSghFaTkGA",
    "outputId": "3d5ad7f0-46d1-4148-f2ba-da5e3479d396"
   },
   "outputs": [
    {
     "data": {
      "text/plain": [
       "Index(['ROW_ID', 'SUBJECT_ID', 'HADM_ID', 'ADMITTIME', 'DISCHTIME',\n",
       "       'DEATHTIME', 'ADMISSION_TYPE', 'ADMISSION_LOCATION',\n",
       "       'DISCHARGE_LOCATION', 'INSURANCE', 'LANGUAGE', 'RELIGION',\n",
       "       'MARITAL_STATUS', 'ETHNICITY', 'EDREGTIME', 'EDOUTTIME', 'DIAGNOSIS',\n",
       "       'HOSPITAL_EXPIRE_FLAG', 'HAS_CHARTEVENTS_DATA', 'NEXT_ADMITTIME',\n",
       "       'DAYS_IN_HOSPITAL', 'DAYS_WITHIN_NEXT_ADMIT', 'TIME_IN_EMERGENCY_WARD',\n",
       "       'DIFF_TIME_DEATH_DISCH', 'TARGET'],\n",
       "      dtype='object')"
      ]
     },
     "execution_count": 68,
     "metadata": {},
     "output_type": "execute_result"
    }
   ],
   "source": [
    "adm.columns"
   ]
  },
  {
   "cell_type": "code",
   "execution_count": 69,
   "metadata": {
    "colab": {
     "base_uri": "https://localhost:8080/",
     "height": 225
    },
    "colab_type": "code",
    "executionInfo": {
     "elapsed": 2200,
     "status": "ok",
     "timestamp": 1596430003096,
     "user": {
      "displayName": "Tanisha Bhayani",
      "photoUrl": "",
      "userId": "03093037226242090836"
     },
     "user_tz": -330
    },
    "id": "BxKXymAeGMyK",
    "outputId": "9c45ea34-2d74-4b13-8894-4a43297837bc"
   },
   "outputs": [
    {
     "data": {
      "text/plain": [
       "211      0\n",
       "212      0\n",
       "213      0\n",
       "214      0\n",
       "215      0\n",
       "        ..\n",
       "56435    0\n",
       "56436    0\n",
       "56437    0\n",
       "56565    0\n",
       "56566    0\n",
       "Name: TARGET, Length: 58976, dtype: int64"
      ]
     },
     "execution_count": 69,
     "metadata": {},
     "output_type": "execute_result"
    }
   ],
   "source": [
    "adm.TARGET"
   ]
  },
  {
   "cell_type": "code",
   "execution_count": 70,
   "metadata": {
    "colab": {
     "base_uri": "https://localhost:8080/",
     "height": 156
    },
    "colab_type": "code",
    "executionInfo": {
     "elapsed": 1231,
     "status": "ok",
     "timestamp": 1596430004151,
     "user": {
      "displayName": "Tanisha Bhayani",
      "photoUrl": "",
      "userId": "03093037226242090836"
     },
     "user_tz": -330
    },
    "id": "wsLdQFgNGQJt",
    "outputId": "48709b68-26c8-41dc-aa11-2029d6e15dc1"
   },
   "outputs": [
    {
     "data": {
      "text/plain": [
       "Index(['ROW_ID', 'SUBJECT_ID', 'HADM_ID', 'ADMITTIME', 'DISCHTIME',\n",
       "       'DEATHTIME', 'ADMISSION_TYPE', 'ADMISSION_LOCATION',\n",
       "       'DISCHARGE_LOCATION', 'INSURANCE', 'LANGUAGE', 'RELIGION',\n",
       "       'MARITAL_STATUS', 'ETHNICITY', 'EDREGTIME', 'EDOUTTIME', 'DIAGNOSIS',\n",
       "       'HOSPITAL_EXPIRE_FLAG', 'HAS_CHARTEVENTS_DATA', 'NEXT_ADMITTIME',\n",
       "       'DAYS_IN_HOSPITAL', 'DAYS_WITHIN_NEXT_ADMIT', 'TIME_IN_EMERGENCY_WARD',\n",
       "       'DIFF_TIME_DEATH_DISCH', 'TARGET'],\n",
       "      dtype='object')"
      ]
     },
     "execution_count": 70,
     "metadata": {},
     "output_type": "execute_result"
    }
   ],
   "source": [
    "adm.columns"
   ]
  },
  {
   "cell_type": "code",
   "execution_count": 71,
   "metadata": {
    "colab": {
     "base_uri": "https://localhost:8080/",
     "height": 297
    },
    "colab_type": "code",
    "executionInfo": {
     "elapsed": 10243,
     "status": "ok",
     "timestamp": 1596430015096,
     "user": {
      "displayName": "Tanisha Bhayani",
      "photoUrl": "",
      "userId": "03093037226242090836"
     },
     "user_tz": -330
    },
    "id": "CEGi12-SUAKW",
    "outputId": "81a55546-eecd-4862-dcc0-2cc271e5cd4a"
   },
   "outputs": [
    {
     "name": "stderr",
     "output_type": "stream",
     "text": [
      "/Users/jeradwilliams/opt/anaconda3/lib/python3.7/site-packages/seaborn/distributions.py:369: UserWarning: Default bandwidth for data is 0; skipping density estimation.\n",
      "  warnings.warn(msg, UserWarning)\n"
     ]
    },
    {
     "data": {
      "text/plain": [
       "<AxesSubplot:xlabel='DAYS_WITHIN_NEXT_ADMIT'>"
      ]
     },
     "execution_count": 71,
     "metadata": {},
     "output_type": "execute_result"
    },
    {
     "data": {
      "image/png": "[encoded data removed]",
      "text/plain": [
       "<Figure size 432x288 with 1 Axes>"
      ]
     },
     "metadata": {
      "needs_background": "light"
     },
     "output_type": "display_data"
    }
   ],
   "source": [
    "## get the distribution plot for the DAYS_WITHIN_NEXT_ADMIT\n",
    "sns.distplot(adm.DAYS_WITHIN_NEXT_ADMIT)"
   ]
  },
  {
   "cell_type": "code",
   "execution_count": 72,
   "metadata": {
    "colab": {
     "base_uri": "https://localhost:8080/",
     "height": 297
    },
    "colab_type": "code",
    "executionInfo": {
     "elapsed": 2423,
     "status": "ok",
     "timestamp": 1596430044538,
     "user": {
      "displayName": "Tanisha Bhayani",
      "photoUrl": "",
      "userId": "03093037226242090836"
     },
     "user_tz": -330
    },
    "id": "HJWdMPkjUSly",
    "outputId": "58540fc9-0ccd-447c-db22-a307f394ddb3"
   },
   "outputs": [
    {
     "name": "stderr",
     "output_type": "stream",
     "text": [
      "/Users/jeradwilliams/opt/anaconda3/lib/python3.7/site-packages/seaborn/distributions.py:369: UserWarning: Default bandwidth for data is 0; skipping density estimation.\n",
      "  warnings.warn(msg, UserWarning)\n"
     ]
    },
    {
     "data": {
      "text/plain": [
       "<AxesSubplot:xlabel='DAYS_WITHIN_NEXT_ADMIT'>"
      ]
     },
     "execution_count": 72,
     "metadata": {},
     "output_type": "execute_result"
    },
    {
     "data": {
      "image/png": "[encoded data removed]",
      "text/plain": [
       "<Figure size 432x288 with 1 Axes>"
      ]
     },
     "metadata": {
      "needs_background": "light"
     },
     "output_type": "display_data"
    }
   ],
   "source": [
    "## get the DAYS_WITHIN_NEXT_ADMIT for when DAYS_WITHIN_NEXT_ADMIT is not NaN\n",
    "sns.distplot(adm.loc[adm.DAYS_WITHIN_NEXT_ADMIT.notna()].DAYS_WITHIN_NEXT_ADMIT)"
   ]
  },
  {
   "cell_type": "code",
   "execution_count": 73,
   "metadata": {
    "colab": {
     "base_uri": "https://localhost:8080/",
     "height": 296
    },
    "colab_type": "code",
    "executionInfo": {
     "elapsed": 2143,
     "status": "ok",
     "timestamp": 1596430135428,
     "user": {
      "displayName": "Tanisha Bhayani",
      "photoUrl": "",
      "userId": "03093037226242090836"
     },
     "user_tz": -330
    },
    "id": "EaDRlDxsUaH2",
    "outputId": "76721709-f3c5-4c9e-95a3-75e191d0c06f"
   },
   "outputs": [
    {
     "data": {
      "text/plain": [
       "<AxesSubplot:xlabel='INSURANCE', ylabel='DAYS_WITHIN_NEXT_ADMIT'>"
      ]
     },
     "execution_count": 73,
     "metadata": {},
     "output_type": "execute_result"
    },
    {
     "data": {
      "image/png": "[encoded data removed]",
      "text/plain": [
       "<Figure size 432x288 with 1 Axes>"
      ]
     },
     "metadata": {
      "needs_background": "light"
     },
     "output_type": "display_data"
    }
   ],
   "source": [
    "# box plot of the INSURANCE for DAYS WITHIN NEXT ADMIT\n",
    "\n",
    "sns.boxplot(x='INSURANCE', y='DAYS_WITHIN_NEXT_ADMIT', data=adm.loc[adm.TARGET == 1])"
   ]
  },
  {
   "cell_type": "code",
   "execution_count": 74,
   "metadata": {
    "colab": {
     "base_uri": "https://localhost:8080/",
     "height": 121
    },
    "colab_type": "code",
    "executionInfo": {
     "elapsed": 1521,
     "status": "ok",
     "timestamp": 1596430135435,
     "user": {
      "displayName": "Tanisha Bhayani",
      "photoUrl": "",
      "userId": "03093037226242090836"
     },
     "user_tz": -330
    },
    "id": "jlMr_xNbfQEc",
    "outputId": "ee05acb1-854c-4b3d-ecee-6ade3cee8ce8"
   },
   "outputs": [
    {
     "data": {
      "text/plain": [
       "Government   -0.010463\n",
       "Medicaid      0.012702\n",
       "Medicare      0.038558\n",
       "Private      -0.041441\n",
       "Self Pay     -0.010898\n",
       "dtype: float64"
      ]
     },
     "execution_count": 74,
     "metadata": {},
     "output_type": "execute_result"
    }
   ],
   "source": [
    "# get spearman correlation for the INSURANCE One hot encoded values with the TARGET values\n",
    "pd.get_dummies(adm.INSURANCE).corrwith(adm.TARGET, method='spearman')"
   ]
  },
  {
   "cell_type": "code",
   "execution_count": 75,
   "metadata": {
    "colab": {
     "base_uri": "https://localhost:8080/",
     "height": 121
    },
    "colab_type": "code",
    "executionInfo": {
     "elapsed": 1265,
     "status": "ok",
     "timestamp": 1596430136459,
     "user": {
      "displayName": "Tanisha Bhayani",
      "photoUrl": "",
      "userId": "03093037226242090836"
     },
     "user_tz": -330
    },
    "id": "WfOvg6li3yL2",
    "outputId": "94b9eeba-0697-457c-ff0e-21eb002cc69d"
   },
   "outputs": [
    {
     "data": {
      "text/plain": [
       "Government   -0.023306\n",
       "Medicaid     -0.007343\n",
       "Medicare      0.097673\n",
       "Private      -0.077255\n",
       "Self Pay     -0.050004\n",
       "dtype: float64"
      ]
     },
     "execution_count": 75,
     "metadata": {},
     "output_type": "execute_result"
    }
   ],
   "source": [
    "# get the INSRUANCE correlation one hot representation for the DAYS IN HOSPITAL\n",
    "pd.get_dummies(adm.INSURANCE).corrwith(adm.DAYS_IN_HOSPITAL, method='spearman')"
   ]
  },
  {
   "cell_type": "code",
   "execution_count": 76,
   "metadata": {
    "colab": {
     "base_uri": "https://localhost:8080/",
     "height": 121
    },
    "colab_type": "code",
    "executionInfo": {
     "elapsed": 1231,
     "status": "ok",
     "timestamp": 1596430137065,
     "user": {
      "displayName": "Tanisha Bhayani",
      "photoUrl": "",
      "userId": "03093037226242090836"
     },
     "user_tz": -330
    },
    "id": "cBtSsSq438jA",
    "outputId": "96bcdb19-8d8a-4fb7-b68c-3a01a04196b0"
   },
   "outputs": [
    {
     "data": {
      "text/plain": [
       "Government   -0.002078\n",
       "Medicaid      0.028020\n",
       "Medicare      0.195138\n",
       "Private      -0.222653\n",
       "Self Pay      0.027396\n",
       "dtype: float64"
      ]
     },
     "execution_count": 76,
     "metadata": {},
     "output_type": "execute_result"
    }
   ],
   "source": [
    "# get the INSURANCE correlation with the TIME IN EMERGENCY WARD\n",
    "pd.get_dummies(adm.INSURANCE).corrwith(adm.TIME_IN_EMERGENCY_WARD, method='spearman')"
   ]
  },
  {
   "cell_type": "code",
   "execution_count": 77,
   "metadata": {
    "colab": {
     "base_uri": "https://localhost:8080/",
     "height": 297
    },
    "colab_type": "code",
    "executionInfo": {
     "elapsed": 2824,
     "status": "ok",
     "timestamp": 1596430140114,
     "user": {
      "displayName": "Tanisha Bhayani",
      "photoUrl": "",
      "userId": "03093037226242090836"
     },
     "user_tz": -330
    },
    "id": "Ci82FCbpVizq",
    "outputId": "2d2f4ae2-6d67-4851-d6a5-83c2e3389fcf"
   },
   "outputs": [
    {
     "data": {
      "text/plain": [
       "<AxesSubplot:xlabel='ADMISSION_TYPE', ylabel='DAYS_WITHIN_NEXT_ADMIT'>"
      ]
     },
     "execution_count": 77,
     "metadata": {},
     "output_type": "execute_result"
    },
    {
     "data": {
      "image/png": "[encoded data removed]",
      "text/plain": [
       "<Figure size 432x288 with 1 Axes>"
      ]
     },
     "metadata": {
      "needs_background": "light"
     },
     "output_type": "display_data"
    }
   ],
   "source": [
    "## the boxplot of the ADMISSION TYPE with the DAYS WITHIN NEXT ADMIT\n",
    "sns.boxplot(x='ADMISSION_TYPE', y='DAYS_WITHIN_NEXT_ADMIT', data=adm.loc[adm.TARGET == 1])"
   ]
  },
  {
   "cell_type": "code",
   "execution_count": 78,
   "metadata": {
    "colab": {
     "base_uri": "https://localhost:8080/",
     "height": 104
    },
    "colab_type": "code",
    "executionInfo": {
     "elapsed": 2496,
     "status": "ok",
     "timestamp": 1596430141425,
     "user": {
      "displayName": "Tanisha Bhayani",
      "photoUrl": "",
      "userId": "03093037226242090836"
     },
     "user_tz": -330
    },
    "id": "KIq0luLHgYWf",
    "outputId": "e700c93c-d328-48e1-a7fc-568f27bc714e"
   },
   "outputs": [
    {
     "data": {
      "text/plain": [
       "ELECTIVE    -0.015946\n",
       "EMERGENCY    0.043021\n",
       "NEWBORN     -0.035694\n",
       "URGENT      -0.013080\n",
       "dtype: float64"
      ]
     },
     "execution_count": 78,
     "metadata": {},
     "output_type": "execute_result"
    }
   ],
   "source": [
    "# the ADMISSION TYPE correlation with the TARGET correlation\n",
    "pd.get_dummies(adm.ADMISSION_TYPE).corrwith(adm.TARGET, method='spearman')"
   ]
  },
  {
   "cell_type": "code",
   "execution_count": 79,
   "metadata": {
    "colab": {
     "base_uri": "https://localhost:8080/",
     "height": 295
    },
    "colab_type": "code",
    "executionInfo": {
     "elapsed": 2192,
     "status": "ok",
     "timestamp": 1596430141427,
     "user": {
      "displayName": "Tanisha Bhayani",
      "photoUrl": "",
      "userId": "03093037226242090836"
     },
     "user_tz": -330
    },
    "id": "eTGFGcIbVvbC",
    "outputId": "0ce04fd9-45cb-429a-ce2f-b9226afa7ca3"
   },
   "outputs": [
    {
     "data": {
      "text/plain": [
       "<AxesSubplot:>"
      ]
     },
     "execution_count": 79,
     "metadata": {},
     "output_type": "execute_result"
    },
    {
     "data": {
      "image/png": "[encoded data removed]",
      "text/plain": [
       "<Figure size 432x288 with 1 Axes>"
      ]
     },
     "metadata": {
      "needs_background": "light"
     },
     "output_type": "display_data"
    }
   ],
   "source": [
    "# plot the TARGET == 1 and ADMISSION TYPE == NEWBORN with the DAYS WITHIN NEXT ADMIT bar plot to see the value count distribution\n",
    "adm.loc[(adm.TARGET == 1) & (adm.ADMISSION_TYPE == 'NEWBORN'), 'DAYS_WITHIN_NEXT_ADMIT'].value_counts().sort_index().plot.bar()"
   ]
  },
  {
   "cell_type": "code",
   "execution_count": 80,
   "metadata": {
    "colab": {
     "base_uri": "https://localhost:8080/",
     "height": 446
    },
    "colab_type": "code",
    "executionInfo": {
     "elapsed": 2345,
     "status": "ok",
     "timestamp": 1596430143203,
     "user": {
      "displayName": "Tanisha Bhayani",
      "photoUrl": "",
      "userId": "03093037226242090836"
     },
     "user_tz": -330
    },
    "id": "kjHmTJNmWFjg",
    "outputId": "f51eb61c-d00a-46a3-9068-98bfff99c351"
   },
   "outputs": [
    {
     "data": {
      "text/plain": [
       "(array([0, 1, 2, 3, 4, 5, 6, 7]),\n",
       " [Text(0, 0, 'CLINIC REFERRAL/PREMATURE'),\n",
       "  Text(1, 0, 'EMERGENCY ROOM ADMIT'),\n",
       "  Text(2, 0, 'TRANSFER FROM HOSP/EXTRAM'),\n",
       "  Text(3, 0, 'PHYS REFERRAL/NORMAL DELI'),\n",
       "  Text(4, 0, 'TRANSFER FROM OTHER HEALT'),\n",
       "  Text(5, 0, 'HMO REFERRAL/SICK'),\n",
       "  Text(6, 0, 'TRANSFER FROM SKILLED NUR'),\n",
       "  Text(7, 0, '** INFO NOT AVAILABLE **')])"
      ]
     },
     "execution_count": 80,
     "metadata": {},
     "output_type": "execute_result"
    },
    {
     "data": {
      "image/png": "[encoded data removed]",
      "text/plain": [
       "<Figure size 432x288 with 1 Axes>"
      ]
     },
     "metadata": {
      "needs_background": "light"
     },
     "output_type": "display_data"
    }
   ],
   "source": [
    "# boxplot for the ADMISSION LOCATION AND THE DAYS WITHIN NEXT ADMIT\n",
    "sns.boxplot(x='ADMISSION_LOCATION', y='DAYS_WITHIN_NEXT_ADMIT', data=adm.loc[adm.TARGET == 1])\n",
    "plt.xticks(rotation=90)"
   ]
  },
  {
   "cell_type": "code",
   "execution_count": 82,
   "metadata": {
    "colab": {
     "base_uri": "https://localhost:8080/",
     "height": 330
    },
    "colab_type": "code",
    "executionInfo": {
     "elapsed": 1928,
     "status": "ok",
     "timestamp": 1596430144496,
     "user": {
      "displayName": "Tanisha Bhayani",
      "photoUrl": "",
      "userId": "03093037226242090836"
     },
     "user_tz": -330
    },
    "id": "z-nxxVtPhI7p",
    "outputId": "44ea2531-df09-4b3d-c014-88413bdc7d6b"
   },
   "outputs": [
    {
     "data": {
      "text/plain": [
       "DEAD/EXPIRED                -0.057916\n",
       "DISC-TRAN CANCER/CHLDRN H   -0.010013\n",
       "DISC-TRAN TO FEDERAL HC     -0.002890\n",
       "DISCH-TRAN TO PSYCH HOSP    -0.011704\n",
       "HOME                        -0.017296\n",
       "HOME HEALTH CARE             0.003489\n",
       "HOME WITH HOME IV PROVIDR    0.000321\n",
       "HOSPICE-HOME                -0.010405\n",
       "HOSPICE-MEDICAL FACILITY    -0.010791\n",
       "ICF                          0.005893\n",
       "LEFT AGAINST MEDICAL ADVI    0.023872\n",
       "LONG TERM CARE HOSPITAL      0.047627\n",
       "OTHER FACILITY               0.000770\n",
       "REHAB/DISTINCT PART HOSP     0.009277\n",
       "SHORT TERM HOSPITAL          0.004351\n",
       "SNF                          0.037230\n",
       "SNF-MEDICAID ONLY CERTIF    -0.000871\n",
       "dtype: float64"
      ]
     },
     "execution_count": 82,
     "metadata": {},
     "output_type": "execute_result"
    }
   ],
   "source": [
    "# the DISCHARGE LOCATION and the TARGET correlation\n",
    "pd.get_dummies(adm.DISCHARGE_LOCATION).corrwith(adm.TARGET, method='spearman')"
   ]
  },
  {
   "cell_type": "code",
   "execution_count": 83,
   "metadata": {
    "colab": {
     "base_uri": "https://localhost:8080/",
     "height": 459
    },
    "colab_type": "code",
    "executionInfo": {
     "elapsed": 2454,
     "status": "ok",
     "timestamp": 1596430146479,
     "user": {
      "displayName": "Tanisha Bhayani",
      "photoUrl": "",
      "userId": "03093037226242090836"
     },
     "user_tz": -330
    },
    "id": "nTucf-SkW_8K",
    "outputId": "b78915b2-6749-499d-aaea-f385bd1fdf4f"
   },
   "outputs": [
    {
     "data": {
      "text/plain": [
       "(array([ 0,  1,  2,  3,  4,  5,  6,  7,  8,  9, 10, 11, 12, 13]),\n",
       " [Text(0, 0, 'HOME HEALTH CARE'),\n",
       "  Text(1, 0, 'SNF'),\n",
       "  Text(2, 0, 'HOME'),\n",
       "  Text(3, 0, 'DEAD/EXPIRED'),\n",
       "  Text(4, 0, 'SHORT TERM HOSPITAL'),\n",
       "  Text(5, 0, 'REHAB/DISTINCT PART HOSP'),\n",
       "  Text(6, 0, 'LONG TERM CARE HOSPITAL'),\n",
       "  Text(7, 0, 'DISC-TRAN CANCER/CHLDRN H'),\n",
       "  Text(8, 0, 'LEFT AGAINST MEDICAL ADVI'),\n",
       "  Text(9, 0, 'HOME WITH HOME IV PROVIDR'),\n",
       "  Text(10, 0, 'DISCH-TRAN TO PSYCH HOSP'),\n",
       "  Text(11, 0, 'HOSPICE-HOME'),\n",
       "  Text(12, 0, 'OTHER FACILITY'),\n",
       "  Text(13, 0, 'ICF')])"
      ]
     },
     "execution_count": 83,
     "metadata": {},
     "output_type": "execute_result"
    },
    {
     "data": {
      "image/png": "[encoded data removed]",
      "text/plain": [
       "<Figure size 432x288 with 1 Axes>"
      ]
     },
     "metadata": {
      "needs_background": "light"
     },
     "output_type": "display_data"
    }
   ],
   "source": [
    "# the DISCHARGE LOCATION box plot with the DAYS WITHIN NEXT ADMIT when for the patient who are admitted again\n",
    "sns.boxplot(x='DISCHARGE_LOCATION', y='DAYS_WITHIN_NEXT_ADMIT', data=adm.loc[adm.TARGET == 1])\n",
    "plt.xticks(rotation=90)"
   ]
  },
  {
   "cell_type": "code",
   "execution_count": 84,
   "metadata": {
    "colab": {
     "base_uri": "https://localhost:8080/",
     "height": 352
    },
    "colab_type": "code",
    "executionInfo": {
     "elapsed": 3293,
     "status": "ok",
     "timestamp": 1596430147561,
     "user": {
      "displayName": "Tanisha Bhayani",
      "photoUrl": "",
      "userId": "03093037226242090836"
     },
     "user_tz": -330
    },
    "id": "tc0GoB0EYcc3",
    "outputId": "3f324429-567d-4d36-fee9-5e70e935018d"
   },
   "outputs": [
    {
     "data": {
      "text/plain": [
       "(array([ 0,  1,  2,  3,  4,  5,  6,  7,  8,  9, 10, 11, 12, 13, 14, 15, 16,\n",
       "        17, 18, 19, 20, 21, 22, 23, 24, 25, 26]),\n",
       " [Text(0, 0, 'ENGL'),\n",
       "  Text(1, 0, 'PTUN'),\n",
       "  Text(2, 0, '*CHI'),\n",
       "  Text(3, 0, 'RUSS'),\n",
       "  Text(4, 0, 'SPAN'),\n",
       "  Text(5, 0, 'PORT'),\n",
       "  Text(6, 0, 'VIET'),\n",
       "  Text(7, 0, 'HAIT'),\n",
       "  Text(8, 0, 'GREE'),\n",
       "  Text(9, 0, 'CAMB'),\n",
       "  Text(10, 0, 'CANT'),\n",
       "  Text(11, 0, '*HUN'),\n",
       "  Text(12, 0, 'ITAL'),\n",
       "  Text(13, 0, 'POLI'),\n",
       "  Text(14, 0, 'CAPE'),\n",
       "  Text(15, 0, 'ARAB'),\n",
       "  Text(16, 0, 'MAND'),\n",
       "  Text(17, 0, 'SOMA'),\n",
       "  Text(18, 0, 'PERS'),\n",
       "  Text(19, 0, 'ETHI'),\n",
       "  Text(20, 0, 'KORE'),\n",
       "  Text(21, 0, '*YID'),\n",
       "  Text(22, 0, 'HIND'),\n",
       "  Text(23, 0, 'AMER'),\n",
       "  Text(24, 0, '*ARM'),\n",
       "  Text(25, 0, '*MOR'),\n",
       "  Text(26, 0, 'ALBA')])"
      ]
     },
     "execution_count": 84,
     "metadata": {},
     "output_type": "execute_result"
    },
    {
     "data": {
      "image/png": "[encoded data removed]",
      "text/plain": [
       "<Figure size 432x288 with 1 Axes>"
      ]
     },
     "metadata": {
      "needs_background": "light"
     },
     "output_type": "display_data"
    }
   ],
   "source": [
    "# boxplot for the LANGUAGE and the DAYS WITHIN NEXT ADMIT for the patient who are admitted again\n",
    "sns.boxplot(x='LANGUAGE', y='DAYS_WITHIN_NEXT_ADMIT', data=adm.loc[adm.TARGET == 1])\n",
    "plt.xticks(rotation=90)"
   ]
  },
  {
   "cell_type": "code",
   "execution_count": 85,
   "metadata": {
    "colab": {},
    "colab_type": "code",
    "id": "1WEO6dsfdoyN"
   },
   "outputs": [],
   "source": [
    "# fill the language column with the maximum value occuring in the dataset\n",
    "adm.loc[adm.LANGUAGE.isna(), 'LANGUAGE'] = adm.LANGUAGE.value_counts().nlargest(1).index[0]"
   ]
  },
  {
   "cell_type": "code",
   "execution_count": 86,
   "metadata": {
    "colab": {
     "base_uri": "https://localhost:8080/",
     "height": 352
    },
    "colab_type": "code",
    "executionInfo": {
     "elapsed": 2642,
     "status": "ok",
     "timestamp": 1596430150107,
     "user": {
      "displayName": "Tanisha Bhayani",
      "photoUrl": "",
      "userId": "03093037226242090836"
     },
     "user_tz": -330
    },
    "id": "3jxtYK1-dqEb",
    "outputId": "274b58a0-c586-4acf-8790-10c24f918ba8"
   },
   "outputs": [
    {
     "data": {
      "text/plain": [
       "(array([ 0,  1,  2,  3,  4,  5,  6,  7,  8,  9, 10, 11, 12, 13, 14, 15, 16,\n",
       "        17, 18, 19, 20, 21, 22, 23, 24, 25, 26]),\n",
       " [Text(0, 0, 'ENGL'),\n",
       "  Text(1, 0, 'PTUN'),\n",
       "  Text(2, 0, '*CHI'),\n",
       "  Text(3, 0, 'RUSS'),\n",
       "  Text(4, 0, 'SPAN'),\n",
       "  Text(5, 0, 'PORT'),\n",
       "  Text(6, 0, 'VIET'),\n",
       "  Text(7, 0, 'HAIT'),\n",
       "  Text(8, 0, 'GREE'),\n",
       "  Text(9, 0, 'CAMB'),\n",
       "  Text(10, 0, 'CANT'),\n",
       "  Text(11, 0, '*HUN'),\n",
       "  Text(12, 0, 'ITAL'),\n",
       "  Text(13, 0, 'POLI'),\n",
       "  Text(14, 0, 'CAPE'),\n",
       "  Text(15, 0, 'ARAB'),\n",
       "  Text(16, 0, 'MAND'),\n",
       "  Text(17, 0, 'SOMA'),\n",
       "  Text(18, 0, 'PERS'),\n",
       "  Text(19, 0, 'ETHI'),\n",
       "  Text(20, 0, 'KORE'),\n",
       "  Text(21, 0, '*YID'),\n",
       "  Text(22, 0, 'HIND'),\n",
       "  Text(23, 0, 'AMER'),\n",
       "  Text(24, 0, '*ARM'),\n",
       "  Text(25, 0, '*MOR'),\n",
       "  Text(26, 0, 'ALBA')])"
      ]
     },
     "execution_count": 86,
     "metadata": {},
     "output_type": "execute_result"
    },
    {
     "data": {
      "image/png": "[encoded data removed]",
      "text/plain": [
       "<Figure size 432x288 with 1 Axes>"
      ]
     },
     "metadata": {
      "needs_background": "light"
     },
     "output_type": "display_data"
    }
   ],
   "source": [
    "# the BOXPLOT for the LANGUAGE and the DAYS WITHIN NEXT ADMIT for the patient who are admitted again\n",
    "sns.boxplot(x='LANGUAGE', y='DAYS_WITHIN_NEXT_ADMIT', data=adm.loc[adm.TARGET == 1])\n",
    "plt.xticks(rotation=90)"
   ]
  },
  {
   "cell_type": "code",
   "execution_count": 87,
   "metadata": {
    "colab": {
     "base_uri": "https://localhost:8080/",
     "height": 434
    },
    "colab_type": "code",
    "executionInfo": {
     "elapsed": 2983,
     "status": "ok",
     "timestamp": 1596430151565,
     "user": {
      "displayName": "Tanisha Bhayani",
      "photoUrl": "",
      "userId": "03093037226242090836"
     },
     "user_tz": -330
    },
    "id": "fMRKpjvJYl_E",
    "outputId": "e53c5d8d-1711-487d-8e7e-791e137dc6d2"
   },
   "outputs": [
    {
     "data": {
      "text/plain": [
       "(array([ 0,  1,  2,  3,  4,  5,  6,  7,  8,  9, 10, 11, 12, 13, 14, 15, 16]),\n",
       " [Text(0, 0, 'NOT SPECIFIED'),\n",
       "  Text(1, 0, 'PROTESTANT QUAKER'),\n",
       "  Text(2, 0, 'CATHOLIC'),\n",
       "  Text(3, 0, 'JEWISH'),\n",
       "  Text(4, 0, 'UNOBTAINABLE'),\n",
       "  Text(5, 0, 'OTHER'),\n",
       "  Text(6, 0, 'EPISCOPALIAN'),\n",
       "  Text(7, 0, 'CHRISTIAN SCIENTIST'),\n",
       "  Text(8, 0, 'GREEK ORTHODOX'),\n",
       "  Text(9, 0, 'BUDDHIST'),\n",
       "  Text(10, 0, 'MUSLIM'),\n",
       "  Text(11, 0, \"JEHOVAH'S WITNESS\"),\n",
       "  Text(12, 0, 'UNITARIAN-UNIVERSALIST'),\n",
       "  Text(13, 0, 'HINDU'),\n",
       "  Text(14, 0, 'ROMANIAN EAST. ORTH'),\n",
       "  Text(15, 0, 'HEBREW'),\n",
       "  Text(16, 0, '7TH DAY ADVENTIST')])"
      ]
     },
     "execution_count": 87,
     "metadata": {},
     "output_type": "execute_result"
    },
    {
     "data": {
      "image/png": "[encoded data removed]",
      "text/plain": [
       "<Figure size 432x288 with 1 Axes>"
      ]
     },
     "metadata": {
      "needs_background": "light"
     },
     "output_type": "display_data"
    }
   ],
   "source": [
    "# the boxplot for the RELIGION and the DAYS WITHIN NEXT ADMIT for the patient who are admiited again\n",
    "sns.boxplot(x='RELIGION', y='DAYS_WITHIN_NEXT_ADMIT', data=adm.loc[adm.TARGET == 1])\n",
    "plt.xticks(rotation=90)"
   ]
  },
  {
   "cell_type": "code",
   "execution_count": 88,
   "metadata": {
    "colab": {
     "base_uri": "https://localhost:8080/",
     "height": 382
    },
    "colab_type": "code",
    "executionInfo": {
     "elapsed": 1781,
     "status": "ok",
     "timestamp": 1596430159372,
     "user": {
      "displayName": "Tanisha Bhayani",
      "photoUrl": "",
      "userId": "03093037226242090836"
     },
     "user_tz": -330
    },
    "id": "6cTEyZx_X96I",
    "outputId": "dba2c028-1931-4002-aebc-c251ba930ad4"
   },
   "outputs": [
    {
     "data": {
      "text/plain": [
       "CATHOLIC                  20606\n",
       "NOT SPECIFIED             11753\n",
       "UNOBTAINABLE               8269\n",
       "PROTESTANT QUAKER          7134\n",
       "JEWISH                     5314\n",
       "OTHER                      2696\n",
       "EPISCOPALIAN                774\n",
       "GREEK ORTHODOX              459\n",
       "CHRISTIAN SCIENTIST         429\n",
       "BUDDHIST                    267\n",
       "MUSLIM                      225\n",
       "JEHOVAH'S WITNESS           139\n",
       "UNITARIAN-UNIVERSALIST      124\n",
       "HINDU                       113\n",
       "ROMANIAN EAST. ORTH          83\n",
       "7TH DAY ADVENTIST            81\n",
       "BAPTIST                      28\n",
       "HEBREW                       16\n",
       "METHODIST                     7\n",
       "LUTHERAN                      1\n",
       "Name: RELIGION, dtype: int64"
      ]
     },
     "execution_count": 88,
     "metadata": {},
     "output_type": "execute_result"
    }
   ],
   "source": [
    "adm.RELIGION.value_counts()"
   ]
  },
  {
   "cell_type": "code",
   "execution_count": 89,
   "metadata": {
    "colab": {},
    "colab_type": "code",
    "id": "uH3hVQeGYMZj"
   },
   "outputs": [],
   "source": [
    "# fill RELIGION column value with 'NOT SPECIFIED'\n",
    "adm.loc[adm.RELIGION.isna(), 'RELIGION'] = 'NOT SPECIFIED'"
   ]
  },
  {
   "cell_type": "code",
   "execution_count": 90,
   "metadata": {
    "colab": {
     "base_uri": "https://localhost:8080/",
     "height": 434
    },
    "colab_type": "code",
    "executionInfo": {
     "elapsed": 2983,
     "status": "ok",
     "timestamp": 1596430171874,
     "user": {
      "displayName": "Tanisha Bhayani",
      "photoUrl": "",
      "userId": "03093037226242090836"
     },
     "user_tz": -330
    },
    "id": "RgcfdM8kd-gj",
    "outputId": "f66f6e3c-4524-48a7-d5c2-7fdb195f648a"
   },
   "outputs": [
    {
     "data": {
      "text/plain": [
       "(array([ 0,  1,  2,  3,  4,  5,  6,  7,  8,  9, 10, 11, 12, 13, 14, 15, 16]),\n",
       " [Text(0, 0, 'NOT SPECIFIED'),\n",
       "  Text(1, 0, 'PROTESTANT QUAKER'),\n",
       "  Text(2, 0, 'CATHOLIC'),\n",
       "  Text(3, 0, 'JEWISH'),\n",
       "  Text(4, 0, 'UNOBTAINABLE'),\n",
       "  Text(5, 0, 'OTHER'),\n",
       "  Text(6, 0, 'EPISCOPALIAN'),\n",
       "  Text(7, 0, 'CHRISTIAN SCIENTIST'),\n",
       "  Text(8, 0, 'GREEK ORTHODOX'),\n",
       "  Text(9, 0, 'BUDDHIST'),\n",
       "  Text(10, 0, 'MUSLIM'),\n",
       "  Text(11, 0, \"JEHOVAH'S WITNESS\"),\n",
       "  Text(12, 0, 'UNITARIAN-UNIVERSALIST'),\n",
       "  Text(13, 0, 'HINDU'),\n",
       "  Text(14, 0, 'ROMANIAN EAST. ORTH'),\n",
       "  Text(15, 0, 'HEBREW'),\n",
       "  Text(16, 0, '7TH DAY ADVENTIST')])"
      ]
     },
     "execution_count": 90,
     "metadata": {},
     "output_type": "execute_result"
    },
    {
     "data": {
      "image/png": "[encoded data removed]",
      "text/plain": [
       "<Figure size 432x288 with 1 Axes>"
      ]
     },
     "metadata": {
      "needs_background": "light"
     },
     "output_type": "display_data"
    }
   ],
   "source": [
    "# plot the box plot again after filling NaN values\n",
    "sns.boxplot(x='RELIGION', y='DAYS_WITHIN_NEXT_ADMIT', data=adm.loc[adm.TARGET == 1])\n",
    "plt.xticks(rotation=90)"
   ]
  },
  {
   "cell_type": "code",
   "execution_count": 91,
   "metadata": {
    "colab": {
     "base_uri": "https://localhost:8080/",
     "height": 395
    },
    "colab_type": "code",
    "executionInfo": {
     "elapsed": 1503,
     "status": "ok",
     "timestamp": 1596430171879,
     "user": {
      "displayName": "Tanisha Bhayani",
      "photoUrl": "",
      "userId": "03093037226242090836"
     },
     "user_tz": -330
    },
    "id": "zLb6hOJOY0lM",
    "outputId": "ca90471f-78bf-4876-dee2-d86c94797c81"
   },
   "outputs": [
    {
     "data": {
      "text/plain": [
       "(array([0, 1, 2, 3, 4, 5]),\n",
       " [Text(0, 0, 'MARRIED'),\n",
       "  Text(1, 0, 'SINGLE'),\n",
       "  Text(2, 0, 'WIDOWED'),\n",
       "  Text(3, 0, 'DIVORCED'),\n",
       "  Text(4, 0, 'SEPARATED'),\n",
       "  Text(5, 0, 'UNKNOWN (DEFAULT)')])"
      ]
     },
     "execution_count": 91,
     "metadata": {},
     "output_type": "execute_result"
    },
    {
     "data": {
      "image/png": "[encoded data removed]",
      "text/plain": [
       "<Figure size 432x288 with 1 Axes>"
      ]
     },
     "metadata": {
      "needs_background": "light"
     },
     "output_type": "display_data"
    }
   ],
   "source": [
    "# boxplot of the MARITAL STATUS and the DAYS WITHIN NEXT ADMIT for the patient who are admitted again\n",
    "sns.boxplot(x='MARITAL_STATUS', y='DAYS_WITHIN_NEXT_ADMIT', data=adm.loc[adm.TARGET == 1])\n",
    "plt.xticks(rotation=90)"
   ]
  },
  {
   "cell_type": "code",
   "execution_count": 92,
   "metadata": {
    "colab": {
     "base_uri": "https://localhost:8080/",
     "height": 69
    },
    "colab_type": "code",
    "executionInfo": {
     "elapsed": 1408,
     "status": "ok",
     "timestamp": 1596430173208,
     "user": {
      "displayName": "Tanisha Bhayani",
      "photoUrl": "",
      "userId": "03093037226242090836"
     },
     "user_tz": -330
    },
    "id": "8w7ecunDeun-",
    "outputId": "95e52092-1bb1-4c1b-a482-abba72936d9f"
   },
   "outputs": [
    {
     "data": {
      "text/plain": [
       "False    48848\n",
       "True     10128\n",
       "Name: MARITAL_STATUS, dtype: int64"
      ]
     },
     "execution_count": 92,
     "metadata": {},
     "output_type": "execute_result"
    }
   ],
   "source": [
    "# check the NaN values\n",
    "adm.MARITAL_STATUS.isna().value_counts()"
   ]
  },
  {
   "cell_type": "code",
   "execution_count": 93,
   "metadata": {
    "colab": {},
    "colab_type": "code",
    "id": "dUxpynFye7Rl"
   },
   "outputs": [],
   "source": [
    "# fill the NaN values with the 'UNKNOWN (DEFAULT)' values as analysed above\n",
    "adm.loc[adm.MARITAL_STATUS.isna(), 'MARITAL_STATUS'] = 'UNKNOWN (DEFAULT)'"
   ]
  },
  {
   "cell_type": "code",
   "execution_count": 94,
   "metadata": {
    "colab": {
     "base_uri": "https://localhost:8080/",
     "height": 395
    },
    "colab_type": "code",
    "executionInfo": {
     "elapsed": 1888,
     "status": "ok",
     "timestamp": 1596430175981,
     "user": {
      "displayName": "Tanisha Bhayani",
      "photoUrl": "",
      "userId": "03093037226242090836"
     },
     "user_tz": -330
    },
    "id": "uEjbLt_LfBGb",
    "outputId": "f5df4f15-fe37-471c-90ec-558a3295275e"
   },
   "outputs": [
    {
     "data": {
      "text/plain": [
       "(array([0, 1, 2, 3, 4, 5]),\n",
       " [Text(0, 0, 'MARRIED'),\n",
       "  Text(1, 0, 'SINGLE'),\n",
       "  Text(2, 0, 'WIDOWED'),\n",
       "  Text(3, 0, 'UNKNOWN (DEFAULT)'),\n",
       "  Text(4, 0, 'DIVORCED'),\n",
       "  Text(5, 0, 'SEPARATED')])"
      ]
     },
     "execution_count": 94,
     "metadata": {},
     "output_type": "execute_result"
    },
    {
     "data": {
      "image/png": "[encoded data removed]",
      "text/plain": [
       "<Figure size 432x288 with 1 Axes>"
      ]
     },
     "metadata": {
      "needs_background": "light"
     },
     "output_type": "display_data"
    }
   ],
   "source": [
    "# plot it again after filling NaN values\n",
    "sns.boxplot(x='MARITAL_STATUS', y='DAYS_WITHIN_NEXT_ADMIT', data=adm.loc[adm.TARGET == 1])\n",
    "plt.xticks(rotation=90)"
   ]
  },
  {
   "cell_type": "code",
   "execution_count": 95,
   "metadata": {
    "colab": {
     "base_uri": "https://localhost:8080/",
     "height": 563
    },
    "colab_type": "code",
    "executionInfo": {
     "elapsed": 2082,
     "status": "ok",
     "timestamp": 1596430177908,
     "user": {
      "displayName": "Tanisha Bhayani",
      "photoUrl": "",
      "userId": "03093037226242090836"
     },
     "user_tz": -330
    },
    "id": "8nnh1xt4Y7qn",
    "outputId": "1f85cb2a-a98d-4f96-a353-0ee5f7ed0036"
   },
   "outputs": [
    {
     "data": {
      "text/plain": [
       "(array([ 0,  1,  2,  3,  4,  5,  6,  7,  8,  9, 10, 11, 12, 13, 14, 15, 16,\n",
       "        17, 18, 19, 20, 21, 22, 23, 24, 25]),\n",
       " [Text(0, 0, 'WHITE'),\n",
       "  Text(1, 0, 'BLACK/AFRICAN AMERICAN'),\n",
       "  Text(2, 0, 'UNKNOWN/NOT SPECIFIED'),\n",
       "  Text(3, 0, 'ASIAN'),\n",
       "  Text(4, 0, 'OTHER'),\n",
       "  Text(5, 0, 'BLACK/AFRICAN'),\n",
       "  Text(6, 0, 'HISPANIC OR LATINO'),\n",
       "  Text(7, 0, 'PATIENT DECLINED TO ANSWER'),\n",
       "  Text(8, 0, 'HISPANIC/LATINO - PUERTO RICAN'),\n",
       "  Text(9, 0, 'AMERICAN INDIAN/ALASKA NATIVE'),\n",
       "  Text(10, 0, 'WHITE - RUSSIAN'),\n",
       "  Text(11, 0, 'ASIAN - CHINESE'),\n",
       "  Text(12, 0, 'MIDDLE EASTERN'),\n",
       "  Text(13, 0, 'MULTI RACE ETHNICITY'),\n",
       "  Text(14, 0, 'BLACK/HAITIAN'),\n",
       "  Text(15, 0, 'HISPANIC/LATINO - DOMINICAN'),\n",
       "  Text(16, 0, 'ASIAN - VIETNAMESE'),\n",
       "  Text(17, 0, 'WHITE - OTHER EUROPEAN'),\n",
       "  Text(18, 0, 'ASIAN - ASIAN INDIAN'),\n",
       "  Text(19, 0, 'UNABLE TO OBTAIN'),\n",
       "  Text(20, 0, 'PORTUGUESE'),\n",
       "  Text(21, 0, 'BLACK/CAPE VERDEAN'),\n",
       "  Text(22, 0, 'ASIAN - FILIPINO'),\n",
       "  Text(23, 0, 'HISPANIC/LATINO - CENTRAL AMERICAN (OTHER)'),\n",
       "  Text(24, 0, 'HISPANIC/LATINO - CUBAN'),\n",
       "  Text(25, 0, 'HISPANIC/LATINO - MEXICAN')])"
      ]
     },
     "execution_count": 95,
     "metadata": {},
     "output_type": "execute_result"
    },
    {
     "data": {
      "image/png": "[encoded data removed]",
      "text/plain": [
       "<Figure size 432x288 with 1 Axes>"
      ]
     },
     "metadata": {
      "needs_background": "light"
     },
     "output_type": "display_data"
    }
   ],
   "source": [
    "# bxoplot for the ETHINICY and DAYS WITHIN NEXT ADMIT for patient readmitted again\n",
    "sns.boxplot(x='ETHNICITY', y='DAYS_WITHIN_NEXT_ADMIT', data=adm.loc[adm.TARGET == 1])\n",
    "plt.xticks(rotation=90)"
   ]
  },
  {
   "cell_type": "code",
   "execution_count": 96,
   "metadata": {
    "colab": {
     "base_uri": "https://localhost:8080/",
     "height": 427
    },
    "colab_type": "code",
    "executionInfo": {
     "elapsed": 4849,
     "status": "ok",
     "timestamp": 1596430181935,
     "user": {
      "displayName": "Tanisha Bhayani",
      "photoUrl": "",
      "userId": "03093037226242090836"
     },
     "user_tz": -330
    },
    "id": "KE3XuYdXZg8n",
    "outputId": "807901cd-47b1-48f9-c41e-80a5ee64cebf"
   },
   "outputs": [
    {
     "data": {
      "text/plain": [
       "<AxesSubplot:>"
      ]
     },
     "execution_count": 96,
     "metadata": {},
     "output_type": "execute_result"
    },
    {
     "data": {
      "image/png": "[encoded data removed]",
      "text/plain": [
       "<Figure size 432x288 with 1 Axes>"
      ]
     },
     "metadata": {
      "needs_background": "light"
     },
     "output_type": "display_data"
    }
   ],
   "source": [
    "# do analysis on DIAGNOSIS value counts\n",
    "adm.loc[adm.TARGET == 1]['DIAGNOSIS'].value_counts().nlargest(20).plot.bar()"
   ]
  },
  {
   "cell_type": "code",
   "execution_count": 97,
   "metadata": {
    "colab": {
     "base_uri": "https://localhost:8080/",
     "height": 296
    },
    "colab_type": "code",
    "executionInfo": {
     "elapsed": 3479,
     "status": "ok",
     "timestamp": 1596430181938,
     "user": {
      "displayName": "Tanisha Bhayani",
      "photoUrl": "",
      "userId": "03093037226242090836"
     },
     "user_tz": -330
    },
    "id": "oxahiILwFMZa",
    "outputId": "ab9ed880-1713-42b8-93b1-4bd41d47c095"
   },
   "outputs": [
    {
     "name": "stderr",
     "output_type": "stream",
     "text": [
      "/Users/jeradwilliams/opt/anaconda3/lib/python3.7/site-packages/seaborn/distributions.py:369: UserWarning: Default bandwidth for data is 0; skipping density estimation.\n",
      "  warnings.warn(msg, UserWarning)\n"
     ]
    },
    {
     "data": {
      "text/plain": [
       "<AxesSubplot:xlabel='DIAGNOSIS'>"
      ]
     },
     "execution_count": 97,
     "metadata": {},
     "output_type": "execute_result"
    },
    {
     "data": {
      "image/png": "[encoded data removed]",
      "text/plain": [
       "<Figure size 432x288 with 1 Axes>"
      ]
     },
     "metadata": {
      "needs_background": "light"
     },
     "output_type": "display_data"
    }
   ],
   "source": [
    "# plot distribution graph for the DIAGNOSIS value counts\n",
    "sns.distplot(adm.loc[adm.TARGET == 1]['DIAGNOSIS'].value_counts())"
   ]
  },
  {
   "cell_type": "markdown",
   "metadata": {
    "colab_type": "text",
    "id": "eW1mIUWbSI1F"
   },
   "source": [
    "Clean the DIAGNOSIS column for further use as a feature"
   ]
  },
  {
   "cell_type": "code",
   "execution_count": 98,
   "metadata": {
    "colab": {},
    "colab_type": "code",
    "id": "WM980MbzZGkS"
   },
   "outputs": [],
   "source": [
    "import re, string"
   ]
  },
  {
   "cell_type": "code",
   "execution_count": 99,
   "metadata": {
    "colab": {},
    "colab_type": "code",
    "id": "o9h7gCmaZTjD"
   },
   "outputs": [],
   "source": [
    "# remove the extra punctuations / sysmbols\n",
    "diagnosis_re = re.compile(r\"[\\\"#$%&\\'\\(\\)\\*+,.:<=>?@\\[\\\\\\]^_`\\{|\\}~]\")"
   ]
  },
  {
   "cell_type": "code",
   "execution_count": 100,
   "metadata": {
    "colab": {},
    "colab_type": "code",
    "id": "io-pdSEocX2c"
   },
   "outputs": [],
   "source": [
    "# remove the extra -;/ etc which occurs in DIAGNOSIS column\n",
    "diagnosis_re1 = re.compile(r\"[-;/]\")"
   ]
  },
  {
   "cell_type": "code",
   "execution_count": 101,
   "metadata": {
    "colab": {
     "base_uri": "https://localhost:8080/",
     "height": 69
    },
    "colab_type": "code",
    "executionInfo": {
     "elapsed": 3570,
     "status": "ok",
     "timestamp": 1596430185205,
     "user": {
      "displayName": "Tanisha Bhayani",
      "photoUrl": "",
      "userId": "03093037226242090836"
     },
     "user_tz": -330
    },
    "id": "ALHbFw0ZZu6e",
    "outputId": "2f19b523-5040-4b39-c2c9-2ff8873ab7fe"
   },
   "outputs": [
    {
     "data": {
      "text/plain": [
       "False    58951\n",
       "True        25\n",
       "Name: DIAGNOSIS, dtype: int64"
      ]
     },
     "execution_count": 101,
     "metadata": {},
     "output_type": "execute_result"
    }
   ],
   "source": [
    "# check the DIAGNOSIS NaN values\n",
    "adm.DIAGNOSIS.isna().value_counts()"
   ]
  },
  {
   "cell_type": "code",
   "execution_count": 102,
   "metadata": {
    "colab": {},
    "colab_type": "code",
    "id": "aeMod85ybnpy"
   },
   "outputs": [],
   "source": [
    "# fill the DIAGNOSIS vlaues with UNKNOWN default value\n",
    "adm.loc[adm.DIAGNOSIS.isna(), 'DIAGNOSIS'] = 'UNKNOWN'"
   ]
  },
  {
   "cell_type": "code",
   "execution_count": 103,
   "metadata": {
    "colab": {},
    "colab_type": "code",
    "id": "ERAX9uqecb82"
   },
   "outputs": [],
   "source": [
    "# remove extra spaces and extra punctuation characters\n",
    "adm.DIAGNOSIS = adm.DIAGNOSIS.apply(lambda x: diagnosis_re1.sub(' ', x)).apply(lambda x: diagnosis_re.sub('', x))"
   ]
  },
  {
   "cell_type": "code",
   "execution_count": 104,
   "metadata": {
    "colab": {
     "base_uri": "https://localhost:8080/",
     "height": 429
    },
    "colab_type": "code",
    "executionInfo": {
     "elapsed": 6043,
     "status": "ok",
     "timestamp": 1596430190544,
     "user": {
      "displayName": "Tanisha Bhayani",
      "photoUrl": "",
      "userId": "03093037226242090836"
     },
     "user_tz": -330
    },
    "id": "A3CPWZZ6ehHD",
    "outputId": "a864ad5c-5606-4b4f-e758-31029f1ede54"
   },
   "outputs": [
    {
     "data": {
      "text/plain": [
       "<AxesSubplot:>"
      ]
     },
     "execution_count": 104,
     "metadata": {},
     "output_type": "execute_result"
    },
    {
     "data": {
      "image/png": "[encoded data removed]",
      "text/plain": [
       "<Figure size 432x288 with 1 Axes>"
      ]
     },
     "metadata": {
      "needs_background": "light"
     },
     "output_type": "display_data"
    }
   ],
   "source": [
    "# plot the largest occuring DIAGNOSIS vlaues\n",
    "adm.loc[adm.TARGET == 1]['DIAGNOSIS'].value_counts().nlargest(20).plot.bar()"
   ]
  },
  {
   "cell_type": "code",
   "execution_count": 105,
   "metadata": {
    "colab": {
     "base_uri": "https://localhost:8080/",
     "height": 296
    },
    "colab_type": "code",
    "executionInfo": {
     "elapsed": 4497,
     "status": "ok",
     "timestamp": 1596430196558,
     "user": {
      "displayName": "Tanisha Bhayani",
      "photoUrl": "",
      "userId": "03093037226242090836"
     },
     "user_tz": -330
    },
    "id": "622ik7wOekU2",
    "outputId": "8953ac3e-8572-40dd-9729-23af2fd77521"
   },
   "outputs": [
    {
     "name": "stderr",
     "output_type": "stream",
     "text": [
      "/Users/jeradwilliams/opt/anaconda3/lib/python3.7/site-packages/seaborn/distributions.py:369: UserWarning: Default bandwidth for data is 0; skipping density estimation.\n",
      "  warnings.warn(msg, UserWarning)\n"
     ]
    },
    {
     "data": {
      "text/plain": [
       "<AxesSubplot:xlabel='DIAGNOSIS'>"
      ]
     },
     "execution_count": 105,
     "metadata": {},
     "output_type": "execute_result"
    },
    {
     "data": {
      "image/png": "[encoded data removed]",
      "text/plain": [
       "<Figure size 432x288 with 1 Axes>"
      ]
     },
     "metadata": {
      "needs_background": "light"
     },
     "output_type": "display_data"
    }
   ],
   "source": [
    "# plot the distribution graph of the DIAGNOSIS values\n",
    "sns.distplot(adm.loc[adm.TARGET == 1]['DIAGNOSIS'].value_counts())"
   ]
  },
  {
   "cell_type": "markdown",
   "metadata": {
    "colab_type": "text",
    "id": "29iSNu9hSmPB"
   },
   "source": [
    "Do feature engineering on the DIAGNOSIS values"
   ]
  },
  {
   "cell_type": "code",
   "execution_count": 106,
   "metadata": {
    "colab": {},
    "colab_type": "code",
    "id": "b7Cu3wfz5Nm9"
   },
   "outputs": [],
   "source": [
    "# import TfidfVectorizer\n",
    "from sklearn.feature_extraction.text import TfidfVectorizer"
   ]
  },
  {
   "cell_type": "code",
   "execution_count": 107,
   "metadata": {
    "colab": {},
    "colab_type": "code",
    "id": "8USi-n1W5nl5"
   },
   "outputs": [],
   "source": [
    "tfidf = TfidfVectorizer()"
   ]
  },
  {
   "cell_type": "code",
   "execution_count": 108,
   "metadata": {
    "colab": {},
    "colab_type": "code",
    "id": "-vXKHxhV5ph1"
   },
   "outputs": [],
   "source": [
    "# train the TfidfVectorizer object\n",
    "diagnosis_features = tfidf.fit_transform(adm.DIAGNOSIS.fillna('UNKNOWN').values).toarray()"
   ]
  },
  {
   "cell_type": "code",
   "execution_count": 109,
   "metadata": {
    "colab": {},
    "colab_type": "code",
    "id": "6A6f--ee5vdj"
   },
   "outputs": [],
   "source": [
    "# get it into a dataframe for further analysis with TARGET columns\n",
    "tfidf_df = pd.DataFrame(diagnosis_features, columns=tfidf.get_feature_names())"
   ]
  },
  {
   "cell_type": "code",
   "execution_count": 110,
   "metadata": {
    "colab": {},
    "colab_type": "code",
    "id": "lEFGVhNw6DqN"
   },
   "outputs": [],
   "source": [
    "del tfidf, diagnosis_features"
   ]
  },
  {
   "cell_type": "code",
   "execution_count": 111,
   "metadata": {
    "colab": {},
    "colab_type": "code",
    "id": "Nuybh5gR5xpT"
   },
   "outputs": [],
   "source": [
    "# copy the TARGET column\n",
    "tfidf_df.loc[:, 'TARGET'] = adm.TARGET"
   ]
  },
  {
   "cell_type": "code",
   "execution_count": 112,
   "metadata": {
    "colab": {
     "base_uri": "https://localhost:8080/",
     "height": 34
    },
    "colab_type": "code",
    "executionInfo": {
     "elapsed": 11019,
     "status": "ok",
     "timestamp": 1596083305279,
     "user": {
      "displayName": "Tanisha Bhayani",
      "photoUrl": "",
      "userId": "03093037226242090836"
     },
     "user_tz": -330
    },
    "id": "_QdXVfTa50uT",
    "outputId": "bf070091-f6a9-42cd-f631-70173940a70a"
   },
   "outputs": [
    {
     "data": {
      "text/plain": [
       "75"
      ]
     },
     "execution_count": 112,
     "metadata": {},
     "output_type": "execute_result"
    }
   ],
   "source": [
    "import gc\n",
    "gc.collect()"
   ]
  },
  {
   "cell_type": "code",
   "execution_count": 113,
   "metadata": {
    "colab": {},
    "colab_type": "code",
    "id": "sD6BQmn053X7"
   },
   "outputs": [],
   "source": [
    "# get the correlation of each diagnosis feature with the Target column\n",
    "corr = []\n",
    "\n",
    "for col in tfidf_df.columns:\n",
    "  corr.append(tfidf_df[col].corr(tfidf_df['TARGET'], method='spearman'))"
   ]
  },
  {
   "cell_type": "code",
   "execution_count": 114,
   "metadata": {
    "colab": {
     "base_uri": "https://localhost:8080/",
     "height": 225
    },
    "colab_type": "code",
    "executionInfo": {
     "elapsed": 274433,
     "status": "ok",
     "timestamp": 1596083573165,
     "user": {
      "displayName": "Tanisha Bhayani",
      "photoUrl": "",
      "userId": "03093037226242090836"
     },
     "user_tz": -330
    },
    "id": "0v_Em43Z6BTI",
    "outputId": "43c913c3-2a43-48fa-c057-936b34c1adb9"
   },
   "outputs": [
    {
     "data": {
      "text/plain": [
       "TARGET                   1.000000\n",
       "ft                       0.019462\n",
       "obstructivepulmonary     0.019462\n",
       "cellulitiscolonoscopy    0.019462\n",
       "aniogram                 0.019462\n",
       "                           ...   \n",
       "embolis                 -0.007362\n",
       "fibrillation            -0.007768\n",
       "gangrene                -0.007991\n",
       "stemi                   -0.008557\n",
       "airway                  -0.009025\n",
       "Length: 6294, dtype: float64"
      ]
     },
     "execution_count": 114,
     "metadata": {},
     "output_type": "execute_result"
    }
   ],
   "source": [
    "# plot the most correlation wise diagnosis feature with the TARGET column\n",
    "pd.Series(corr, index=tfidf_df.columns).sort_values(ascending=False)"
   ]
  },
  {
   "cell_type": "code",
   "execution_count": 115,
   "metadata": {
    "colab": {
     "base_uri": "https://localhost:8080/",
     "height": 225
    },
    "colab_type": "code",
    "executionInfo": {
     "elapsed": 273503,
     "status": "ok",
     "timestamp": 1596083573171,
     "user": {
      "displayName": "Tanisha Bhayani",
      "photoUrl": "",
      "userId": "03093037226242090836"
     },
     "user_tz": -330
    },
    "id": "PGLBXqFz6gFM",
    "outputId": "8aef1904-d3f9-4d7a-b52b-82b14fd58e54"
   },
   "outputs": [
    {
     "data": {
      "text/plain": [
       "airway                  -0.009025\n",
       "stemi                   -0.008557\n",
       "gangrene                -0.007991\n",
       "fibrillation            -0.007768\n",
       "embolis                 -0.007362\n",
       "                           ...   \n",
       "aniogram                 0.019462\n",
       "cellulitiscolonoscopy    0.019462\n",
       "obstructivepulmonary     0.019462\n",
       "ft                       0.019462\n",
       "TARGET                   1.000000\n",
       "Length: 6294, dtype: float64"
      ]
     },
     "execution_count": 115,
     "metadata": {},
     "output_type": "execute_result"
    }
   ],
   "source": [
    "# plot the least correlated features wise DIAGNOSIS feature with the TARGET columns\n",
    "pd.Series(corr, index=tfidf_df.columns).sort_values()"
   ]
  },
  {
   "cell_type": "code",
   "execution_count": 116,
   "metadata": {
    "colab": {},
    "colab_type": "code",
    "id": "1ixOClQ16mej"
   },
   "outputs": [],
   "source": [
    "# get the bool value whether there is any failure word in the diagnosis column\n",
    "adm.loc[:, 'in_failure'] = adm.DIAGNOSIS.apply(lambda x: int('failure' in x.lower()))"
   ]
  },
  {
   "cell_type": "code",
   "execution_count": 117,
   "metadata": {
    "colab": {
     "base_uri": "https://localhost:8080/",
     "height": 34
    },
    "colab_type": "code",
    "executionInfo": {
     "elapsed": 1547,
     "status": "ok",
     "timestamp": 1596087244427,
     "user": {
      "displayName": "Tanisha Bhayani",
      "photoUrl": "",
      "userId": "03093037226242090836"
     },
     "user_tz": -330
    },
    "id": "zMoN_ISK7A_8",
    "outputId": "917e2c84-d88d-4962-fa2b-07d50ee3969f"
   },
   "outputs": [
    {
     "data": {
      "text/plain": [
       "0.03032207780279582"
      ]
     },
     "execution_count": 117,
     "metadata": {},
     "output_type": "execute_result"
    }
   ],
   "source": [
    "# corelation of in_failure with the targte col\n",
    "adm.in_failure.corr(adm.TARGET)"
   ]
  },
  {
   "cell_type": "code",
   "execution_count": 118,
   "metadata": {
    "colab": {
     "base_uri": "https://localhost:8080/",
     "height": 34
    },
    "colab_type": "code",
    "executionInfo": {
     "elapsed": 4609,
     "status": "ok",
     "timestamp": 1596083616598,
     "user": {
      "displayName": "Tanisha Bhayani",
      "photoUrl": "",
      "userId": "03093037226242090836"
     },
     "user_tz": -330
    },
    "id": "zQs7EpZJ7Hdx",
    "outputId": "1f5e5826-be96-453e-8199-94f5cd077da2"
   },
   "outputs": [
    {
     "data": {
      "text/plain": [
       "0.062478071812382394"
      ]
     },
     "execution_count": 118,
     "metadata": {},
     "output_type": "execute_result"
    }
   ],
   "source": [
    "# correlation fo in_failure feature with HOSPITAL_EXPIRE_FLAG\n",
    "adm.in_failure.corr(adm.HOSPITAL_EXPIRE_FLAG)"
   ]
  },
  {
   "cell_type": "code",
   "execution_count": 119,
   "metadata": {
    "colab": {
     "base_uri": "https://localhost:8080/",
     "height": 34
    },
    "colab_type": "code",
    "executionInfo": {
     "elapsed": 4256,
     "status": "ok",
     "timestamp": 1596083616602,
     "user": {
      "displayName": "Tanisha Bhayani",
      "photoUrl": "",
      "userId": "03093037226242090836"
     },
     "user_tz": -330
    },
    "id": "6gsu3oU4cuN_",
    "outputId": "a7edc105-92ad-471d-9918-dff36571213e"
   },
   "outputs": [
    {
     "data": {
      "text/plain": [
       "-0.057915975095876454"
      ]
     },
     "execution_count": 119,
     "metadata": {},
     "output_type": "execute_result"
    }
   ],
   "source": [
    "# correlation of HOSPITAL_EXPIRE_FLAG with the TARGET columns\n",
    "adm['HOSPITAL_EXPIRE_FLAG'].astype(int).corr(adm.TARGET)"
   ]
  },
  {
   "cell_type": "code",
   "execution_count": 120,
   "metadata": {
    "colab": {},
    "colab_type": "code",
    "id": "KaPcHYS47Q25"
   },
   "outputs": [],
   "source": [
    "del tfidf_df"
   ]
  },
  {
   "cell_type": "code",
   "execution_count": 121,
   "metadata": {
    "colab": {
     "base_uri": "https://localhost:8080/",
     "height": 34
    },
    "colab_type": "code",
    "executionInfo": {
     "elapsed": 1982,
     "status": "ok",
     "timestamp": 1596083619881,
     "user": {
      "displayName": "Tanisha Bhayani",
      "photoUrl": "",
      "userId": "03093037226242090836"
     },
     "user_tz": -330
    },
    "id": "izSWymhJ7TRk",
    "outputId": "7c8c05b1-63a9-4128-8e60-23cf31ed01b9"
   },
   "outputs": [
    {
     "data": {
      "text/plain": [
       "100"
      ]
     },
     "execution_count": 121,
     "metadata": {},
     "output_type": "execute_result"
    }
   ],
   "source": [
    "gc.collect()"
   ]
  },
  {
   "cell_type": "code",
   "execution_count": 122,
   "metadata": {
    "colab": {},
    "colab_type": "code",
    "id": "ngpDXDFYeid3"
   },
   "outputs": [],
   "source": [
    "# check the correlation of the columns by doing LabelEncoding them\n",
    "from sklearn.preprocessing import LabelEncoder"
   ]
  },
  {
   "cell_type": "code",
   "execution_count": 123,
   "metadata": {
    "colab": {},
    "colab_type": "code",
    "id": "DD3LTCuQhY9I"
   },
   "outputs": [],
   "source": [
    "le = LabelEncoder()"
   ]
  },
  {
   "cell_type": "code",
   "execution_count": 124,
   "metadata": {
    "colab": {},
    "colab_type": "code",
    "id": "TOGHEwmIhKX2"
   },
   "outputs": [],
   "source": [
    "new_adm = adm.copy()"
   ]
  },
  {
   "cell_type": "code",
   "execution_count": 125,
   "metadata": {
    "colab": {
     "base_uri": "https://localhost:8080/",
     "height": 1000
    },
    "colab_type": "code",
    "executionInfo": {
     "elapsed": 1792,
     "status": "ok",
     "timestamp": 1596083627227,
     "user": {
      "displayName": "Tanisha Bhayani",
      "photoUrl": "",
      "userId": "03093037226242090836"
     },
     "user_tz": -330
    },
    "id": "kprSlC41dt5s",
    "outputId": "82e0cb8d-7df6-48fe-c8a9-e93930730489"
   },
   "outputs": [
    {
     "name": "stdout",
     "output_type": "stream",
     "text": [
      "ROW_ID\n",
      "Index([False], dtype='object')\n",
      "----------------------------------------------\n",
      "SUBJECT_ID\n",
      "Index([False], dtype='object')\n",
      "----------------------------------------------\n",
      "HADM_ID\n",
      "Index([False], dtype='object')\n",
      "----------------------------------------------\n",
      "ADMITTIME\n",
      "Index([False], dtype='object')\n",
      "----------------------------------------------\n",
      "DISCHTIME\n",
      "Index([False], dtype='object')\n",
      "----------------------------------------------\n",
      "DEATHTIME\n",
      "Index([True, False], dtype='object')\n",
      "----------------------------------------------\n",
      "ADMISSION_TYPE\n",
      "Index([False], dtype='object')\n",
      "----------------------------------------------\n",
      "ADMISSION_LOCATION\n",
      "Index([False], dtype='object')\n",
      "----------------------------------------------\n",
      "DISCHARGE_LOCATION\n",
      "Index([False], dtype='object')\n",
      "----------------------------------------------\n",
      "INSURANCE\n",
      "Index([False], dtype='object')\n",
      "----------------------------------------------\n",
      "LANGUAGE\n",
      "Index([False], dtype='object')\n",
      "----------------------------------------------\n",
      "RELIGION\n",
      "Index([False], dtype='object')\n",
      "----------------------------------------------\n",
      "MARITAL_STATUS\n",
      "Index([False], dtype='object')\n",
      "----------------------------------------------\n",
      "ETHNICITY\n",
      "Index([False], dtype='object')\n",
      "----------------------------------------------\n",
      "EDREGTIME\n",
      "Index([False, True], dtype='object')\n",
      "----------------------------------------------\n",
      "EDOUTTIME\n",
      "Index([False, True], dtype='object')\n",
      "----------------------------------------------\n",
      "DIAGNOSIS\n",
      "Index([False], dtype='object')\n",
      "----------------------------------------------\n",
      "HOSPITAL_EXPIRE_FLAG\n",
      "Index([False], dtype='object')\n",
      "----------------------------------------------\n",
      "HAS_CHARTEVENTS_DATA\n",
      "Index([False], dtype='object')\n",
      "----------------------------------------------\n",
      "NEXT_ADMITTIME\n",
      "Index([True, False], dtype='object')\n",
      "----------------------------------------------\n",
      "DAYS_IN_HOSPITAL\n",
      "Index([False], dtype='object')\n",
      "----------------------------------------------\n",
      "DAYS_WITHIN_NEXT_ADMIT\n",
      "Index([False], dtype='object')\n",
      "----------------------------------------------\n",
      "TIME_IN_EMERGENCY_WARD\n",
      "Index([False], dtype='object')\n",
      "----------------------------------------------\n",
      "DIFF_TIME_DEATH_DISCH\n",
      "Index([True, False], dtype='object')\n",
      "----------------------------------------------\n",
      "TARGET\n",
      "Index([False], dtype='object')\n",
      "----------------------------------------------\n",
      "in_failure\n",
      "Index([False], dtype='object')\n",
      "----------------------------------------------\n"
     ]
    }
   ],
   "source": [
    "# verifyu the NaN values in the columns\n",
    "for col in new_adm.columns:\n",
    "  print(col)\n",
    "  print(new_adm[col].isna().value_counts().index)\n",
    "  print('----------------------------------------------')"
   ]
  },
  {
   "cell_type": "code",
   "execution_count": 126,
   "metadata": {
    "colab": {},
    "colab_type": "code",
    "id": "rom6V8y9fwbB"
   },
   "outputs": [],
   "source": [
    "cols = [\n",
    "        'ADMISSION_TYPE',\n",
    "        'ADMISSION_LOCATION',\n",
    "        'DISCHARGE_LOCATION',\n",
    "        'INSURANCE',\n",
    "        'LANGUAGE',\n",
    "        'RELIGION',\n",
    "        'ETHNICITY',\n",
    "        'DIAGNOSIS'\n",
    "]"
   ]
  },
  {
   "cell_type": "code",
   "execution_count": 127,
   "metadata": {
    "colab": {},
    "colab_type": "code",
    "id": "Hlx7wHIlhalD"
   },
   "outputs": [],
   "source": [
    "# LabelEncode only the above columns\n",
    "for col in cols:\n",
    "  new_adm[col + '_le'] = le.fit_transform(new_adm[col])"
   ]
  },
  {
   "cell_type": "code",
   "execution_count": 128,
   "metadata": {
    "colab": {
     "base_uri": "https://localhost:8080/",
     "height": 191
    },
    "colab_type": "code",
    "executionInfo": {
     "elapsed": 1185,
     "status": "ok",
     "timestamp": 1596083635319,
     "user": {
      "displayName": "Tanisha Bhayani",
      "photoUrl": "",
      "userId": "03093037226242090836"
     },
     "user_tz": -330
    },
    "id": "-SKnhHovhhIs",
    "outputId": "862cf998-c682-410b-b4c4-bb4457afb0cb"
   },
   "outputs": [
    {
     "data": {
      "text/plain": [
       "Index(['ROW_ID', 'SUBJECT_ID', 'HADM_ID', 'ADMITTIME', 'DISCHTIME',\n",
       "       'DEATHTIME', 'ADMISSION_TYPE', 'ADMISSION_LOCATION',\n",
       "       'DISCHARGE_LOCATION', 'INSURANCE', 'LANGUAGE', 'RELIGION',\n",
       "       'MARITAL_STATUS', 'ETHNICITY', 'EDREGTIME', 'EDOUTTIME', 'DIAGNOSIS',\n",
       "       'HOSPITAL_EXPIRE_FLAG', 'HAS_CHARTEVENTS_DATA', 'NEXT_ADMITTIME',\n",
       "       'DAYS_IN_HOSPITAL', 'DAYS_WITHIN_NEXT_ADMIT', 'TIME_IN_EMERGENCY_WARD',\n",
       "       'DIFF_TIME_DEATH_DISCH', 'TARGET', 'in_failure', 'ADMISSION_TYPE_le',\n",
       "       'ADMISSION_LOCATION_le', 'DISCHARGE_LOCATION_le', 'INSURANCE_le',\n",
       "       'LANGUAGE_le', 'RELIGION_le', 'ETHNICITY_le', 'DIAGNOSIS_le'],\n",
       "      dtype='object')"
      ]
     },
     "execution_count": 128,
     "metadata": {},
     "output_type": "execute_result"
    }
   ],
   "source": [
    "new_adm.columns"
   ]
  },
  {
   "cell_type": "code",
   "execution_count": 129,
   "metadata": {
    "colab": {
     "base_uri": "https://localhost:8080/",
     "height": 173
    },
    "colab_type": "code",
    "executionInfo": {
     "elapsed": 1672,
     "status": "ok",
     "timestamp": 1596083638024,
     "user": {
      "displayName": "Tanisha Bhayani",
      "photoUrl": "",
      "userId": "03093037226242090836"
     },
     "user_tz": -330
    },
    "id": "jSZGF6HbDY2O",
    "outputId": "cd88f91c-b9b0-4956-8fbe-24d87da4c701"
   },
   "outputs": [
    {
     "data": {
      "text/plain": [
       "ADMISSION_TYPE_le       -0.016746\n",
       "ADMISSION_LOCATION_le   -0.028276\n",
       "DISCHARGE_LOCATION_le    0.068068\n",
       "INSURANCE_le            -0.037283\n",
       "LANGUAGE_le              0.003980\n",
       "RELIGION_le             -0.014266\n",
       "ETHNICITY_le            -0.009986\n",
       "DIAGNOSIS_le            -0.014893\n",
       "Name: TARGET, dtype: float64"
      ]
     },
     "execution_count": 129,
     "metadata": {},
     "output_type": "execute_result"
    }
   ],
   "source": [
    "# check the correlation of the above label encoded column with the TARGET columns\n",
    "new_adm.corr(method=\"spearman\")['TARGET'].filter(like='le')"
   ]
  },
  {
   "cell_type": "code",
   "execution_count": 130,
   "metadata": {
    "colab": {
     "base_uri": "https://localhost:8080/",
     "height": 1000
    },
    "colab_type": "code",
    "executionInfo": {
     "elapsed": 4863,
     "status": "ok",
     "timestamp": 1596083648880,
     "user": {
      "displayName": "Tanisha Bhayani",
      "photoUrl": "",
      "userId": "03093037226242090836"
     },
     "user_tz": -330
    },
    "id": "s5RS1rm2hjjT",
    "outputId": "743f1d77-a054-4289-feb7-05de71d4a23e"
   },
   "outputs": [
    {
     "data": {
      "text/plain": [
       "<AxesSubplot:>"
      ]
     },
     "execution_count": 130,
     "metadata": {},
     "output_type": "execute_result"
    },
    {
     "data": {
      "image/png": "[encoded data removed]",
      "text/plain": [
       "<Figure size 1440x1440 with 2 Axes>"
      ]
     },
     "metadata": {
      "needs_background": "light"
     },
     "output_type": "display_data"
    }
   ],
   "source": [
    "# plot the heatmap to get a sense of correlation distribution\n",
    "plt.figure(figsize=(20, 20))\n",
    "sns.heatmap(new_adm.corr(method=\"spearman\"), vmin=-1, vmax=1, annot=True)"
   ]
  },
  {
   "cell_type": "code",
   "execution_count": 131,
   "metadata": {
    "colab": {},
    "colab_type": "code",
    "id": "91nou190zBpV"
   },
   "outputs": [],
   "source": [
    "cols = [\n",
    "        'ADMISSION_TYPE',\n",
    "        'ADMISSION_LOCATION',\n",
    "        'DISCHARGE_LOCATION',\n",
    "        'INSURANCE',\n",
    "        'LANGUAGE',\n",
    "        'RELIGION',\n",
    "        'ETHNICITY',\n",
    "        # 'DIAGNOSIS'\n",
    "]"
   ]
  },
  {
   "cell_type": "code",
   "execution_count": 132,
   "metadata": {
    "colab": {},
    "colab_type": "code",
    "id": "8NB5Z9DNzCpz"
   },
   "outputs": [],
   "source": [
    "# check the correlation by doing One hot encoding the above cols only\n",
    "from sklearn.preprocessing import OneHotEncoder"
   ]
  },
  {
   "cell_type": "code",
   "execution_count": 133,
   "metadata": {
    "colab": {},
    "colab_type": "code",
    "id": "yyta956v3dIy"
   },
   "outputs": [],
   "source": [
    "ohe = OneHotEncoder()"
   ]
  },
  {
   "cell_type": "code",
   "execution_count": 134,
   "metadata": {
    "colab": {},
    "colab_type": "code",
    "id": "08s_Bjqr6ZH1"
   },
   "outputs": [],
   "source": [
    "new_adm1 = adm.copy()"
   ]
  },
  {
   "cell_type": "code",
   "execution_count": 135,
   "metadata": {
    "colab": {},
    "colab_type": "code",
    "id": "wg3q1lzC3LQ4"
   },
   "outputs": [],
   "source": [
    "# verify for NaN values and change the representation to the One Hot encoding\n",
    "for index, col in enumerate(cols):\n",
    "  # print(col, new_adm1[col].isna().value_counts().index)\n",
    "  sp_mat = ohe.fit_transform(new_adm1[col].values.reshape((-1, 1)))\n",
    "  new_adm1 = pd.concat([new_adm1, pd.DataFrame(sp_mat.toarray(), columns=[col + 'ohe_{}'.format(i) for i in range(sp_mat[0].shape[1])])], axis=1)\n",
    "  # print(new_adm[col].isna().value_counts().index)\n",
    "  # print(new_adm[cols[index + 1:index + 2]].value_counts().index)\n",
    "  # print('-----------------------')"
   ]
  },
  {
   "cell_type": "code",
   "execution_count": 136,
   "metadata": {
    "colab": {
     "base_uri": "https://localhost:8080/",
     "height": 52
    },
    "colab_type": "code",
    "executionInfo": {
     "elapsed": 1402,
     "status": "ok",
     "timestamp": 1596083737294,
     "user": {
      "displayName": "Tanisha Bhayani",
      "photoUrl": "",
      "userId": "03093037226242090836"
     },
     "user_tz": -330
    },
    "id": "JpC-kMObAIgc",
    "outputId": "bc422723-bd09-40f2-ece4-bc9a9863714c"
   },
   "outputs": [
    {
     "data": {
      "text/plain": [
       "False    58976\n",
       "Name: DAYS_WITHIN_NEXT_ADMIT, dtype: int64"
      ]
     },
     "execution_count": 136,
     "metadata": {},
     "output_type": "execute_result"
    }
   ],
   "source": [
    "new_adm1.DAYS_WITHIN_NEXT_ADMIT.isna().value_counts()"
   ]
  },
  {
   "cell_type": "code",
   "execution_count": 137,
   "metadata": {
    "colab": {
     "base_uri": "https://localhost:8080/",
     "height": 52
    },
    "colab_type": "code",
    "executionInfo": {
     "elapsed": 649,
     "status": "ok",
     "timestamp": 1596083757156,
     "user": {
      "displayName": "Tanisha Bhayani",
      "photoUrl": "",
      "userId": "03093037226242090836"
     },
     "user_tz": -330
    },
    "id": "HyErAu97ASpA",
    "outputId": "39152e5a-0c63-4a7a-b529-c6c5d787294f"
   },
   "outputs": [
    {
     "data": {
      "text/plain": [
       "False    58976\n",
       "Name: TARGET, dtype: int64"
      ]
     },
     "execution_count": 137,
     "metadata": {},
     "output_type": "execute_result"
    }
   ],
   "source": [
    "new_adm1.TARGET.isna().value_counts()"
   ]
  },
  {
   "cell_type": "code",
   "execution_count": 138,
   "metadata": {
    "colab": {},
    "colab_type": "code",
    "id": "gzPjZHAbDwy6"
   },
   "outputs": [],
   "source": [
    "# import for chisquare tests\n",
    "from scipy.stats import chisquare"
   ]
  },
  {
   "cell_type": "code",
   "execution_count": 139,
   "metadata": {
    "colab": {
     "base_uri": "https://localhost:8080/",
     "height": 34
    },
    "colab_type": "code",
    "executionInfo": {
     "elapsed": 1358,
     "status": "ok",
     "timestamp": 1596083778537,
     "user": {
      "displayName": "Tanisha Bhayani",
      "photoUrl": "",
      "userId": "03093037226242090836"
     },
     "user_tz": -330
    },
    "id": "CpLQ6-KxD0tC",
    "outputId": "77a2f5aa-e066-410f-9b5f-f321ff325a88"
   },
   "outputs": [
    {
     "data": {
      "text/plain": [
       "Power_divergenceResult(statistic=array([9.13548875e+07, 5.64490000e+04]), pvalue=array([0., 1.]))"
      ]
     },
     "execution_count": 139,
     "metadata": {},
     "output_type": "execute_result"
    }
   ],
   "source": [
    "# do chisquare test for the DAYS_WITHIN_NEXT_ADMIT and TARGET values\n",
    "chisquare(new_adm1[['DAYS_WITHIN_NEXT_ADMIT', 'TARGET']].astype(float))"
   ]
  },
  {
   "cell_type": "code",
   "execution_count": 140,
   "metadata": {
    "colab": {
     "base_uri": "https://localhost:8080/",
     "height": 1000
    },
    "colab_type": "code",
    "executionInfo": {
     "elapsed": 2947,
     "status": "ok",
     "timestamp": 1596083786042,
     "user": {
      "displayName": "Tanisha Bhayani",
      "photoUrl": "",
      "userId": "03093037226242090836"
     },
     "user_tz": -330
    },
    "id": "cc7Z45lSBtlu",
    "outputId": "6bd7329a-b090-48af-a449-7dace0f11fac"
   },
   "outputs": [
    {
     "name": "stdout",
     "output_type": "stream",
     "text": [
      "ROW_ID Power_divergenceResult(statistic=array([5.79684933e+08, 5.64490000e+04]), pvalue=array([0., 1.]))\n",
      "SUBJECT_ID Power_divergenceResult(statistic=array([1.37882804e+09, 5.64490000e+04]), pvalue=array([0., 1.]))\n",
      "HADM_ID Power_divergenceResult(statistic=array([3.28056523e+08, 5.64490000e+04]), pvalue=array([0., 1.]))\n",
      "HOSPITAL_EXPIRE_FLAG Power_divergenceResult(statistic=array([53122., 56449.]), pvalue=array([1., 1.]))\n",
      "HAS_CHARTEVENTS_DATA Power_divergenceResult(statistic=array([ 1592., 56449.]), pvalue=array([1., 1.]))\n",
      "DAYS_IN_HOSPITAL Power_divergenceResult(statistic=array([951547.56210755,  56449.        ]), pvalue=array([0., 1.]))\n",
      "DAYS_WITHIN_NEXT_ADMIT Power_divergenceResult(statistic=array([9.13548875e+07, 5.64490000e+04]), pvalue=array([0., 1.]))\n",
      "TIME_IN_EMERGENCY_WARD Power_divergenceResult(statistic=array([13480.02120254, 56449.        ]), pvalue=array([1., 1.]))\n",
      "DIFF_TIME_DEATH_DISCH Power_divergenceResult(statistic=array([   nan, 56449.]), pvalue=array([nan,  1.]))\n",
      "TARGET Power_divergenceResult(statistic=array([56449., 56449.]), pvalue=array([1., 1.]))\n",
      "in_failure Power_divergenceResult(statistic=array([55541., 56449.]), pvalue=array([1., 1.]))\n",
      "ADMISSION_TYPEohe_0 Power_divergenceResult(statistic=array([51270., 56449.]), pvalue=array([1., 1.]))\n",
      "ADMISSION_TYPEohe_1 Power_divergenceResult(statistic=array([16905., 56449.]), pvalue=array([1., 1.]))\n",
      "ADMISSION_TYPEohe_2 Power_divergenceResult(statistic=array([51113., 56449.]), pvalue=array([1., 1.]))\n",
      "ADMISSION_TYPEohe_3 Power_divergenceResult(statistic=array([57640., 56449.]), pvalue=array([0.99995479, 1.        ]))\n",
      "ADMISSION_LOCATIONohe_0 Power_divergenceResult(statistic=array([58772., 56449.]), pvalue=array([0.72234398, 1.        ]))\n",
      "ADMISSION_LOCATIONohe_1 Power_divergenceResult(statistic=array([46944., 56449.]), pvalue=array([1., 1.]))\n",
      "ADMISSION_LOCATIONohe_2 Power_divergenceResult(statistic=array([36222., 56449.]), pvalue=array([1., 1.]))\n",
      "ADMISSION_LOCATIONohe_3 Power_divergenceResult(statistic=array([58874., 56449.]), pvalue=array([0.61497569, 1.        ]))\n",
      "ADMISSION_LOCATIONohe_4 Power_divergenceResult(statistic=array([43897., 56449.]), pvalue=array([1., 1.]))\n",
      "ADMISSION_LOCATIONohe_5 Power_divergenceResult(statistic=array([50520., 56449.]), pvalue=array([1., 1.]))\n",
      "ADMISSION_LOCATIONohe_6 Power_divergenceResult(statistic=array([58905., 56449.]), pvalue=array([0.58002617, 1.        ]))\n",
      "ADMISSION_LOCATIONohe_7 Power_divergenceResult(statistic=array([58703., 56449.]), pvalue=array([0.7856066, 1.       ]))\n",
      "ADMISSION_LOCATIONohe_8 Power_divergenceResult(statistic=array([58971., 56449.]), pvalue=array([0.50387208, 1.        ]))\n",
      "DISCHARGE_LOCATIONohe_0 Power_divergenceResult(statistic=array([53122., 56449.]), pvalue=array([1., 1.]))\n",
      "DISCHARGE_LOCATIONohe_1 Power_divergenceResult(statistic=array([58307., 56449.]), pvalue=array([0.97444083, 1.        ]))\n",
      "DISCHARGE_LOCATIONohe_2 Power_divergenceResult(statistic=array([58965., 56449.]), pvalue=array([0.51084102, 1.        ]))\n",
      "DISCHARGE_LOCATIONohe_3 Power_divergenceResult(statistic=array([58530., 56449.]), pvalue=array([0.90269312, 1.        ]))\n",
      "DISCHARGE_LOCATIONohe_4 Power_divergenceResult(statistic=array([40014., 56449.]), pvalue=array([1., 1.]))\n",
      "DISCHARGE_LOCATIONohe_5 Power_divergenceResult(statistic=array([45013., 56449.]), pvalue=array([1., 1.]))\n",
      "DISCHARGE_LOCATIONohe_6 Power_divergenceResult(statistic=array([58909., 56449.]), pvalue=array([0.57546475, 1.        ]))\n",
      "DISCHARGE_LOCATIONohe_7 Power_divergenceResult(statistic=array([58574., 56449.]), pvalue=array([0.87866078, 1.        ]))\n",
      "DISCHARGE_LOCATIONohe_8 Power_divergenceResult(statistic=array([58823., 56449.]), pvalue=array([0.67040151, 1.        ]))\n",
      "DISCHARGE_LOCATIONohe_9 Power_divergenceResult(statistic=array([58929., 56449.]), pvalue=array([0.55252095, 1.        ]))\n",
      "DISCHARGE_LOCATIONohe_10 Power_divergenceResult(statistic=array([58611., 56449.]), pvalue=array([0.85545404, 1.        ]))\n",
      "DISCHARGE_LOCATIONohe_11 Power_divergenceResult(statistic=array([56671., 56449.]), pvalue=array([1., 1.]))\n",
      "DISCHARGE_LOCATIONohe_12 Power_divergenceResult(statistic=array([58913., 56449.]), pvalue=array([0.57089342, 1.        ]))\n",
      "DISCHARGE_LOCATIONohe_13 Power_divergenceResult(statistic=array([52547., 56449.]), pvalue=array([1., 1.]))\n",
      "DISCHARGE_LOCATIONohe_14 Power_divergenceResult(statistic=array([57442., 56449.]), pvalue=array([0.99999662, 1.        ]))\n",
      "DISCHARGE_LOCATIONohe_15 Power_divergenceResult(statistic=array([51271., 56449.]), pvalue=array([1., 1.]))\n",
      "DISCHARGE_LOCATIONohe_16 Power_divergenceResult(statistic=array([58975., 56449.]), pvalue=array([0.49922559, 1.        ]))\n",
      "INSURANCEohe_0 Power_divergenceResult(statistic=array([57193., 56449.]), pvalue=array([0.99999992, 1.        ]))\n",
      "INSURANCEohe_1 Power_divergenceResult(statistic=array([53191., 56449.]), pvalue=array([1., 1.]))\n",
      "INSURANCEohe_2 Power_divergenceResult(statistic=array([30761., 56449.]), pvalue=array([1., 1.]))\n",
      "INSURANCEohe_3 Power_divergenceResult(statistic=array([36394., 56449.]), pvalue=array([1., 1.]))\n",
      "INSURANCEohe_4 Power_divergenceResult(statistic=array([58365., 56449.]), pvalue=array([0.96249255, 1.        ]))\n",
      "LANGUAGEohe_0 Power_divergenceResult(statistic=array([58974., 56449.]), pvalue=array([0.50038721, 1.        ]))\n",
      "LANGUAGEohe_1 Power_divergenceResult(statistic=array([58975., 56449.]), pvalue=array([0.49922559, 1.        ]))\n",
      "LANGUAGEohe_2 Power_divergenceResult(statistic=array([58975., 56449.]), pvalue=array([0.49922559, 1.        ]))\n",
      "LANGUAGEohe_3 Power_divergenceResult(statistic=array([58974., 56449.]), pvalue=array([0.50038721, 1.        ]))\n",
      "LANGUAGEohe_4 Power_divergenceResult(statistic=array([58973., 56449.]), pvalue=array([0.50154884, 1.        ]))\n",
      "LANGUAGEohe_5 Power_divergenceResult(statistic=array([58974., 56449.]), pvalue=array([0.50038721, 1.        ]))\n",
      "LANGUAGEohe_6 Power_divergenceResult(statistic=array([58975., 56449.]), pvalue=array([0.49922559, 1.        ]))\n",
      "LANGUAGEohe_7 Power_divergenceResult(statistic=array([58967., 56449.]), pvalue=array([0.50851825, 1.        ]))\n",
      "LANGUAGEohe_8 Power_divergenceResult(statistic=array([58969., 56449.]), pvalue=array([0.50619524, 1.        ]))\n",
      "LANGUAGEohe_9 Power_divergenceResult(statistic=array([58975., 56449.]), pvalue=array([0.49922559, 1.        ]))\n",
      "LANGUAGEohe_10 Power_divergenceResult(statistic=array([58971., 56449.]), pvalue=array([0.50387208, 1.        ]))\n",
      "LANGUAGEohe_11 Power_divergenceResult(statistic=array([58972., 56449.]), pvalue=array([0.50271046, 1.        ]))\n",
      "LANGUAGEohe_12 Power_divergenceResult(statistic=array([58974., 56449.]), pvalue=array([0.50038721, 1.        ]))\n",
      "LANGUAGEohe_13 Power_divergenceResult(statistic=array([58972., 56449.]), pvalue=array([0.50271046, 1.        ]))\n",
      "LANGUAGEohe_14 Power_divergenceResult(statistic=array([58969., 56449.]), pvalue=array([0.50619524, 1.        ]))\n",
      "LANGUAGEohe_15 Power_divergenceResult(statistic=array([58975., 56449.]), pvalue=array([0.49922559, 1.        ]))\n",
      "LANGUAGEohe_16 Power_divergenceResult(statistic=array([58975., 56449.]), pvalue=array([0.49922559, 1.        ]))\n",
      "LANGUAGEohe_17 Power_divergenceResult(statistic=array([58974., 56449.]), pvalue=array([0.50038721, 1.        ]))\n",
      "LANGUAGEohe_18 Power_divergenceResult(statistic=array([58975., 56449.]), pvalue=array([0.49922559, 1.        ]))\n",
      "LANGUAGEohe_19 Power_divergenceResult(statistic=array([58975., 56449.]), pvalue=array([0.49922559, 1.        ]))\n",
      "LANGUAGEohe_20 Power_divergenceResult(statistic=array([58974., 56449.]), pvalue=array([0.50038721, 1.        ]))\n",
      "LANGUAGEohe_21 Power_divergenceResult(statistic=array([58969., 56449.]), pvalue=array([0.50619524, 1.        ]))\n",
      "LANGUAGEohe_22 Power_divergenceResult(statistic=array([58969., 56449.]), pvalue=array([0.50619524, 1.        ]))\n",
      "LANGUAGEohe_23 Power_divergenceResult(statistic=array([58972., 56449.]), pvalue=array([0.50271046, 1.        ]))\n",
      "LANGUAGEohe_24 Power_divergenceResult(statistic=array([58974., 56449.]), pvalue=array([0.50038721, 1.        ]))\n",
      "LANGUAGEohe_25 Power_divergenceResult(statistic=array([58974., 56449.]), pvalue=array([0.50038721, 1.        ]))\n",
      "LANGUAGEohe_26 Power_divergenceResult(statistic=array([58975., 56449.]), pvalue=array([0.49922559, 1.        ]))\n"
     ]
    },
    {
     "name": "stderr",
     "output_type": "stream",
     "text": [
      "/Users/jeradwilliams/opt/anaconda3/lib/python3.7/site-packages/scipy/stats/_distn_infrastructure.py:903: RuntimeWarning: invalid value encountered in greater\n",
      "  return (a < x) & (x < b)\n",
      "/Users/jeradwilliams/opt/anaconda3/lib/python3.7/site-packages/scipy/stats/_distn_infrastructure.py:903: RuntimeWarning: invalid value encountered in less\n",
      "  return (a < x) & (x < b)\n",
      "/Users/jeradwilliams/opt/anaconda3/lib/python3.7/site-packages/scipy/stats/_distn_infrastructure.py:1912: RuntimeWarning: invalid value encountered in less_equal\n",
      "  cond2 = cond0 & (x <= _a)\n"
     ]
    },
    {
     "name": "stdout",
     "output_type": "stream",
     "text": [
      "LANGUAGEohe_27 Power_divergenceResult(statistic=array([58973., 56449.]), pvalue=array([0.50154884, 1.        ]))\n",
      "LANGUAGEohe_28 Power_divergenceResult(statistic=array([58974., 56449.]), pvalue=array([0.50038721, 1.        ]))\n",
      "LANGUAGEohe_29 Power_divergenceResult(statistic=array([58975., 56449.]), pvalue=array([0.49922559, 1.        ]))\n",
      "LANGUAGEohe_30 Power_divergenceResult(statistic=array([58975., 56449.]), pvalue=array([0.49922559, 1.        ]))\n",
      "LANGUAGEohe_31 Power_divergenceResult(statistic=array([58975., 56449.]), pvalue=array([0.49922559, 1.        ]))\n",
      "LANGUAGEohe_32 Power_divergenceResult(statistic=array([58975., 56449.]), pvalue=array([0.49922559, 1.        ]))\n",
      "LANGUAGEohe_33 Power_divergenceResult(statistic=array([58975., 56449.]), pvalue=array([0.49922559, 1.        ]))\n",
      "LANGUAGEohe_34 Power_divergenceResult(statistic=array([58975., 56449.]), pvalue=array([0.49922559, 1.        ]))\n",
      "LANGUAGEohe_35 Power_divergenceResult(statistic=array([58975., 56449.]), pvalue=array([0.49922559, 1.        ]))\n",
      "LANGUAGEohe_36 Power_divergenceResult(statistic=array([58975., 56449.]), pvalue=array([0.49922559, 1.        ]))\n",
      "LANGUAGEohe_37 Power_divergenceResult(statistic=array([58973., 56449.]), pvalue=array([0.50154884, 1.        ]))\n",
      "LANGUAGEohe_38 Power_divergenceResult(statistic=array([58974., 56449.]), pvalue=array([0.50038721, 1.        ]))\n",
      "LANGUAGEohe_39 Power_divergenceResult(statistic=array([58974., 56449.]), pvalue=array([0.50038721, 1.        ]))\n",
      "LANGUAGEohe_40 Power_divergenceResult(statistic=array([58972., 56449.]), pvalue=array([0.50271046, 1.        ]))\n",
      "LANGUAGEohe_41 Power_divergenceResult(statistic=array([58969., 56449.]), pvalue=array([0.50619524, 1.        ]))\n",
      "LANGUAGEohe_42 Power_divergenceResult(statistic=array([58975., 56449.]), pvalue=array([0.49922559, 1.        ]))\n",
      "LANGUAGEohe_43 Power_divergenceResult(statistic=array([58959., 56449.]), pvalue=array([0.51780713, 1.        ]))\n",
      "LANGUAGEohe_44 Power_divergenceResult(statistic=array([58945., 56449.]), pvalue=array([0.53403843, 1.        ]))\n",
      "LANGUAGEohe_45 Power_divergenceResult(statistic=array([58929., 56449.]), pvalue=array([0.55252095, 1.        ]))\n",
      "LANGUAGEohe_46 Power_divergenceResult(statistic=array([58974., 56449.]), pvalue=array([0.50038721, 1.        ]))\n",
      "LANGUAGEohe_47 Power_divergenceResult(statistic=array([58939., 56449.]), pvalue=array([0.54097976, 1.        ]))\n",
      "LANGUAGEohe_48 Power_divergenceResult(statistic=array([58563., 56449.]), pvalue=array([0.88502647, 1.        ]))\n",
      "LANGUAGEohe_49 Power_divergenceResult(statistic=array([58720., 56449.]), pvalue=array([0.77084181, 1.        ]))\n",
      "LANGUAGEohe_50 Power_divergenceResult(statistic=array([ 4558., 56449.]), pvalue=array([1., 1.]))\n",
      "LANGUAGEohe_51 Power_divergenceResult(statistic=array([58965., 56449.]), pvalue=array([0.51084102, 1.        ]))\n",
      "LANGUAGEohe_52 Power_divergenceResult(statistic=array([58960., 56449.]), pvalue=array([0.5166464, 1.       ]))\n",
      "LANGUAGEohe_53 Power_divergenceResult(statistic=array([58975., 56449.]), pvalue=array([0.49922559, 1.        ]))\n",
      "LANGUAGEohe_54 Power_divergenceResult(statistic=array([58901., 56449.]), pvalue=array([0.58457706, 1.        ]))\n",
      "LANGUAGEohe_55 Power_divergenceResult(statistic=array([58826., 56449.]), pvalue=array([0.66722815, 1.        ]))\n",
      "LANGUAGEohe_56 Power_divergenceResult(statistic=array([58952., 56449.]), pvalue=array([0.52592784, 1.        ]))\n",
      "LANGUAGEohe_57 Power_divergenceResult(statistic=array([58852., 56449.]), pvalue=array([0.6392484, 1.       ]))\n",
      "LANGUAGEohe_58 Power_divergenceResult(statistic=array([58973., 56449.]), pvalue=array([0.50154884, 1.        ]))\n",
      "LANGUAGEohe_59 Power_divergenceResult(statistic=array([58953., 56449.]), pvalue=array([0.52476828, 1.        ]))\n",
      "LANGUAGEohe_60 Power_divergenceResult(statistic=array([58969., 56449.]), pvalue=array([0.50619524, 1.        ]))\n",
      "LANGUAGEohe_61 Power_divergenceResult(statistic=array([58820., 56449.]), pvalue=array([0.67356275, 1.        ]))\n",
      "LANGUAGEohe_62 Power_divergenceResult(statistic=array([58932., 56449.]), pvalue=array([0.54906267, 1.        ]))\n",
      "LANGUAGEohe_63 Power_divergenceResult(statistic=array([58942., 56449.]), pvalue=array([0.53751046, 1.        ]))\n",
      "LANGUAGEohe_64 Power_divergenceResult(statistic=array([58634., 56449.]), pvalue=array([0.83961525, 1.        ]))\n",
      "LANGUAGEohe_65 Power_divergenceResult(statistic=array([58348., 56449.]), pvalue=array([0.96639161, 1.        ]))\n",
      "LANGUAGEohe_66 Power_divergenceResult(statistic=array([58186., 56449.]), pvalue=array([0.98943734, 1.        ]))\n",
      "LANGUAGEohe_67 Power_divergenceResult(statistic=array([58975., 56449.]), pvalue=array([0.49922559, 1.        ]))\n",
      "LANGUAGEohe_68 Power_divergenceResult(statistic=array([58963., 56449.]), pvalue=array([0.51316348, 1.        ]))\n",
      "LANGUAGEohe_69 Power_divergenceResult(statistic=array([57893., 56449.]), pvalue=array([0.9992326, 1.       ]))\n",
      "LANGUAGEohe_70 Power_divergenceResult(statistic=array([58973., 56449.]), pvalue=array([0.50154884, 1.        ]))\n",
      "LANGUAGEohe_71 Power_divergenceResult(statistic=array([58964., 56449.]), pvalue=array([0.51200229, 1.        ]))\n",
      "LANGUAGEohe_72 Power_divergenceResult(statistic=array([58974., 56449.]), pvalue=array([0.50038721, 1.        ]))\n",
      "LANGUAGEohe_73 Power_divergenceResult(statistic=array([58971., 56449.]), pvalue=array([0.50387208, 1.        ]))\n",
      "LANGUAGEohe_74 Power_divergenceResult(statistic=array([58882., 56449.]), pvalue=array([0.60603204, 1.        ]))\n",
      "RELIGIONohe_0 Power_divergenceResult(statistic=array([58895., 56449.]), pvalue=array([0.59138237, 1.        ]))\n",
      "RELIGIONohe_1 Power_divergenceResult(statistic=array([58948., 56449.]), pvalue=array([0.53056391, 1.        ]))\n",
      "RELIGIONohe_2 Power_divergenceResult(statistic=array([58709., 56449.]), pvalue=array([0.7804594, 1.       ]))\n",
      "RELIGIONohe_3 Power_divergenceResult(statistic=array([38370., 56449.]), pvalue=array([1., 1.]))\n",
      "RELIGIONohe_4 Power_divergenceResult(statistic=array([58547., 56449.]), pvalue=array([0.89385724, 1.        ]))\n",
      "RELIGIONohe_5 Power_divergenceResult(statistic=array([58202., 56449.]), pvalue=array([0.98805001, 1.        ]))\n",
      "RELIGIONohe_6 Power_divergenceResult(statistic=array([58517., 56449.]), pvalue=array([0.9090778, 1.       ]))\n",
      "RELIGIONohe_7 Power_divergenceResult(statistic=array([58960., 56449.]), pvalue=array([0.5166464, 1.       ]))\n",
      "RELIGIONohe_8 Power_divergenceResult(statistic=array([58863., 56449.]), pvalue=array([0.62717441, 1.        ]))\n",
      "RELIGIONohe_9 Power_divergenceResult(statistic=array([58837., 56449.]), pvalue=array([0.65549207, 1.        ]))\n",
      "RELIGIONohe_10 Power_divergenceResult(statistic=array([53662., 56449.]), pvalue=array([1., 1.]))\n",
      "RELIGIONohe_11 Power_divergenceResult(statistic=array([58975., 56449.]), pvalue=array([0.49922559, 1.        ]))\n",
      "RELIGIONohe_12 Power_divergenceResult(statistic=array([58969., 56449.]), pvalue=array([0.50619524, 1.        ]))\n",
      "RELIGIONohe_13 Power_divergenceResult(statistic=array([58751., 56449.]), pvalue=array([0.74251331, 1.        ]))\n",
      "RELIGIONohe_14 Power_divergenceResult(statistic=array([46765., 56449.]), pvalue=array([1., 1.]))\n",
      "RELIGIONohe_15 Power_divergenceResult(statistic=array([56280., 56449.]), pvalue=array([1., 1.]))\n",
      "RELIGIONohe_16 Power_divergenceResult(statistic=array([51842., 56449.]), pvalue=array([1., 1.]))\n",
      "RELIGIONohe_17 Power_divergenceResult(statistic=array([58893., 56449.]), pvalue=array([0.59364491, 1.        ]))\n",
      "RELIGIONohe_18 Power_divergenceResult(statistic=array([58852., 56449.]), pvalue=array([0.6392484, 1.       ]))\n",
      "RELIGIONohe_19 Power_divergenceResult(statistic=array([50707., 56449.]), pvalue=array([1., 1.]))\n",
      "ETHNICITYohe_0 Power_divergenceResult(statistic=array([58925., 56449.]), pvalue=array([0.55712592, 1.        ]))\n",
      "ETHNICITYohe_1 Power_divergenceResult(statistic=array([58973., 56449.]), pvalue=array([0.50154884, 1.        ]))\n",
      "ETHNICITYohe_2 Power_divergenceResult(statistic=array([57467., 56449.]), pvalue=array([0.99999522, 1.        ]))\n",
      "ETHNICITYohe_3 Power_divergenceResult(statistic=array([58891., 56449.]), pvalue=array([0.59590438, 1.        ]))\n",
      "ETHNICITYohe_4 Power_divergenceResult(statistic=array([58959., 56449.]), pvalue=array([0.51780713, 1.        ]))\n",
      "ETHNICITYohe_5 Power_divergenceResult(statistic=array([58699., 56449.]), pvalue=array([0.78899891, 1.        ]))\n",
      "ETHNICITYohe_6 Power_divergenceResult(statistic=array([58951., 56449.]), pvalue=array([0.52708719, 1.        ]))\n",
      "ETHNICITYohe_7 Power_divergenceResult(statistic=array([58969., 56449.]), pvalue=array([0.50619524, 1.        ]))\n",
      "ETHNICITYohe_8 Power_divergenceResult(statistic=array([58963., 56449.]), pvalue=array([0.51316348, 1.        ]))\n",
      "ETHNICITYohe_9 Power_divergenceResult(statistic=array([58959., 56449.]), pvalue=array([0.51780713, 1.        ]))\n",
      "ETHNICITYohe_10 Power_divergenceResult(statistic=array([58972., 56449.]), pvalue=array([0.50271046, 1.        ]))\n",
      "ETHNICITYohe_11 Power_divergenceResult(statistic=array([58923., 56449.]), pvalue=array([0.55942564, 1.        ]))\n",
      "ETHNICITYohe_12 Power_divergenceResult(statistic=array([58932., 56449.]), pvalue=array([0.54906267, 1.        ]))\n",
      "ETHNICITYohe_13 Power_divergenceResult(statistic=array([53536., 56449.]), pvalue=array([1., 1.]))\n",
      "ETHNICITYohe_14 Power_divergenceResult(statistic=array([58776., 56449.]), pvalue=array([0.71841705, 1.        ]))\n",
      "ETHNICITYohe_15 Power_divergenceResult(statistic=array([58875., 56449.]), pvalue=array([0.61386092, 1.        ]))\n",
      "ETHNICITYohe_16 Power_divergenceResult(statistic=array([58967., 56449.]), pvalue=array([0.50851825, 1.        ]))\n",
      "ETHNICITYohe_17 Power_divergenceResult(statistic=array([57280., 56449.]), pvalue=array([0.99999968, 1.        ]))\n",
      "ETHNICITYohe_18 Power_divergenceResult(statistic=array([58963., 56449.]), pvalue=array([0.51316348, 1.        ]))\n",
      "ETHNICITYohe_19 Power_divergenceResult(statistic=array([58967., 56449.]), pvalue=array([0.50851825, 1.        ]))\n",
      "ETHNICITYohe_20 Power_divergenceResult(statistic=array([58952., 56449.]), pvalue=array([0.52592784, 1.        ]))\n",
      "ETHNICITYohe_21 Power_divergenceResult(statistic=array([58898., 56449.]), pvalue=array([0.58798296, 1.        ]))\n",
      "ETHNICITYohe_22 Power_divergenceResult(statistic=array([58936., 56449.]), pvalue=array([0.54444606, 1.        ]))\n",
      "ETHNICITYohe_23 Power_divergenceResult(statistic=array([58972., 56449.]), pvalue=array([0.50271046, 1.        ]))\n",
      "ETHNICITYohe_24 Power_divergenceResult(statistic=array([58963., 56449.]), pvalue=array([0.51316348, 1.        ]))\n",
      "ETHNICITYohe_25 Power_divergenceResult(statistic=array([58744., 56449.]), pvalue=array([0.74906423, 1.        ]))\n",
      "ETHNICITYohe_26 Power_divergenceResult(statistic=array([58957., 56449.]), pvalue=array([0.52012817, 1.        ]))\n",
      "ETHNICITYohe_27 Power_divergenceResult(statistic=array([58933., 56449.]), pvalue=array([0.5479091, 1.       ]))\n",
      "ETHNICITYohe_28 Power_divergenceResult(statistic=array([58846., 56449.]), pvalue=array([0.64577769, 1.        ]))\n",
      "ETHNICITYohe_29 Power_divergenceResult(statistic=array([58958., 56449.]), pvalue=array([0.51896772, 1.        ]))\n",
      "ETHNICITYohe_30 Power_divergenceResult(statistic=array([57464., 56449.]), pvalue=array([0.99999541, 1.        ]))\n",
      "ETHNICITYohe_31 Power_divergenceResult(statistic=array([58417., 56449.]), pvalue=array([0.9482328, 1.       ]))\n",
      "ETHNICITYohe_32 Power_divergenceResult(statistic=array([58915., 56449.]), pvalue=array([0.56860422, 1.        ]))\n",
      "ETHNICITYohe_33 Power_divergenceResult(statistic=array([58968., 56449.]), pvalue=array([0.50735677, 1.        ]))\n",
      "ETHNICITYohe_34 Power_divergenceResult(statistic=array([58162., 56449.]), pvalue=array([0.99125541, 1.        ]))\n",
      "ETHNICITYohe_35 Power_divergenceResult(statistic=array([54453., 56449.]), pvalue=array([1., 1.]))\n",
      "ETHNICITYohe_36 Power_divergenceResult(statistic=array([17980., 56449.]), pvalue=array([1., 1.]))\n",
      "ETHNICITYohe_37 Power_divergenceResult(statistic=array([58917., 56449.]), pvalue=array([0.56631277, 1.        ]))\n",
      "ETHNICITYohe_38 Power_divergenceResult(statistic=array([58951., 56449.]), pvalue=array([0.52708719, 1.        ]))\n",
      "ETHNICITYohe_39 Power_divergenceResult(statistic=array([58895., 56449.]), pvalue=array([0.59138237, 1.        ]))\n",
      "ETHNICITYohe_40 Power_divergenceResult(statistic=array([58812., 56449.]), pvalue=array([0.68193203, 1.        ]))\n"
     ]
    }
   ],
   "source": [
    "# do the chisquare test for the numeric columns with the TARGET columns\n",
    "for each_col in new_adm1.columns:\n",
    "  if pd.api.types.is_numeric_dtype(new_adm1[each_col]):\n",
    "    print(each_col, chisquare(new_adm1[[each_col, 'TARGET']]))"
   ]
  }
 ],
 "metadata": {
  "colab": {
   "authorship_tag": "ABX9TyPs4s3e9Id+kMi8xhZM9TV1",
   "collapsed_sections": [],
   "mount_file_id": "1iqPbdnipZbNUirMo5Kw2zLRPvfIhnmxI",
   "name": "Data Wrangling and EDA and Training",
   "provenance": [
    {
     "file_id": "1Bedv1dcY9XB2JL3vLUUrqY5wcsYNMEvX",
     "timestamp": 1595400083493
    }
   ]
  },
  "kernelspec": {
   "display_name": "Python 3",
   "language": "python",
   "name": "python3"
  },
  "language_info": {
   "codemirror_mode": {
    "name": "ipython",
    "version": 3
   },
   "file_extension": ".py",
   "mimetype": "text/x-python",
   "name": "python",
   "nbconvert_exporter": "python",
   "pygments_lexer": "ipython3",
   "version": "3.7.4"
  }
 },
 "nbformat": 4,
 "nbformat_minor": 1
}
